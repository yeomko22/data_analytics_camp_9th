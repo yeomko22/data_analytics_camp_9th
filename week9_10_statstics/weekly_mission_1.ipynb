{
 "cells": [
  {
   "cell_type": "markdown",
   "id": "9913e6b6-a76c-45ff-915d-5d04c4bf0996",
   "metadata": {},
   "source": [
    "## 주간 미션: 넷플릭스 데이터 분석 \n",
    "데이터 셋: https://www.kaggle.com/datasets/shivamb/netflix-shows\n",
    "\n",
    "위 데이터 셋은 2021년 넷플릭에서 볼 수 있는 8000여개의 컨텐츠들의 메타 데이터와 평점, 조회 수 등을 포함합니다. 넷플릭스의 데이터 분석가가 되었다고 생각하고, 데이터를 기반으로 앞으로 어떤 컨텐츠들을 제작해야하는지 제시해보세요."
   ]
  },
  {
   "cell_type": "markdown",
   "id": "d799dca4-2bbe-4700-9302-a757c7deab50",
   "metadata": {},
   "source": [
    "### 요구사항\n",
    "- 기본적인 EDA와 전처리를 진행하세요 \n",
    "- 특정 장르가 그 외의 장르들과 평점이 통계적으로 유의하게 다른지 같은지를 t-test를 이용해서 검증해보세요\n",
    "- 그 외에 자유롭게 데이터 분석을 진행하세요.\n",
    "- 인사이트를 도출하고 액션 아이템을 제시해보세요.\n",
    "- 결과를 블로그 포스팅으로 정리하세요."
   ]
  },
  {
   "cell_type": "code",
   "execution_count": null,
   "id": "ac440657-dce0-4aab-b05a-a6c563e1ef48",
   "metadata": {},
   "outputs": [],
   "source": []
  }
 ],
 "metadata": {
  "kernelspec": {
   "display_name": "Python 3 (ipykernel)",
   "language": "python",
   "name": "python3"
  },
  "language_info": {
   "codemirror_mode": {
    "name": "ipython",
    "version": 3
   },
   "file_extension": ".py",
   "mimetype": "text/x-python",
   "name": "python",
   "nbconvert_exporter": "python",
   "pygments_lexer": "ipython3",
   "version": "3.10.8"
  }
 },
 "nbformat": 4,
 "nbformat_minor": 5
}
