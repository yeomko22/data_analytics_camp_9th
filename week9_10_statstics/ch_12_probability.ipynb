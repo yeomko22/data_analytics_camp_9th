{
 "cells": [
  {
   "cell_type": "markdown",
   "id": "e0b0a71b-4fef-4dca-9813-4f2e0b61dcce",
   "metadata": {},
   "source": [
    "## ch12. 확률 기초\n",
    "\n",
    "이전 챕터들에서는 두 집단의 평균이 같은지, 다른지를 검정하는 t-test를 배워봤습니다. 다음으로 살펴볼 기법은 카이 제곱 검정입니다. 이는 두 범주형 변수가 서로 독립인지 아닌지를 검정할 수 있는 기법입니다. 이는 독립 사건의 개념을 알아야만 이해할 수 있어서, 확률론 기초 개념을 짚고 넘어가겠습니다.\n",
    "\n",
    "## 확률\n",
    "어떤 사건이 일어날 확률을 정의하려면 먼저 일어날 수 있는 사건이 어떤 것인지 정의해야합니다. 일어날 수 있는 단순 사건을 모아 집합으로 표시한 것이 표본 공간(sample sapce)입니다. 표본 값에서 일어날 수 있는 사건을 전부 포함해야하고, 그 사건들은 서로 상호 배반적이어야 합니다."
   ]
  },
  {
   "cell_type": "markdown",
   "id": "efe0b994-7884-482d-9262-e5279d3ec16a",
   "metadata": {},
   "source": [
    "## 확률 할당의 기본 조건\n",
    "\n",
    "$$ 1.\\;0<=P(E_{i})<=1\\;for\\;all\\;i$$\n",
    "$$2.\\;P(E_{1}+E_{2}+...+E_{n})=1$$\n",
    "\n",
    "특정 사건이 일어날 확률은 0부터 1 사이이고, 모든 사건이 일어날 확률을 합하면 1이 되어야 합니다. \n",
    "\n",
    "ex) 주사위를 던져서 1이 나올 확률: 1/6, 1, 2, 3, 4, 5, 6 각 숫자가 나올 확률의 합은 1"
   ]
  },
  {
   "cell_type": "markdown",
   "id": "e37de48c-31d5-41ca-b332-58a7667009ae",
   "metadata": {},
   "source": [
    "## 여집합 규칙\n",
    "특정 사건이 일어나지 않을 확률은 1에서 그 사건의 확률값을 빼준 값이 됩니다.\n",
    "\n",
    "$$ P(A)=1-P(A^c) $$\n",
    "\n",
    "ex) 주사위를 던져서 5가 나올 확률 = 1 - 주사위를 던져서 5가 나오지 않을 확률"
   ]
  },
  {
   "cell_type": "markdown",
   "id": "98af22fb-fbe5-4868-8be4-ef9b2c270866",
   "metadata": {},
   "source": [
    "## 합규칙과 결합확률\n",
    "\n",
    "$$\n",
    "P(A \\cup B)=P(A)+P(B)-P(A \\cap B)\n",
    "$$\n",
    "\n",
    "A 사건 혹은 B 사건이 일어날 확률은 각 사건이 일어날 확률의 합에서 두 사건이 동시에 일어날 확률을 빼주면 됩니다. 이런 합집합의 확률을 결합 확률(joint probability)라고 부릅니다.\n",
    "\n",
    "ex) 주사위를 던져서 홀수가 나올 사건과 주사위를 던져 2가 나올 사건. 이 둘은 교집합이 없다."
   ]
  },
  {
   "cell_type": "markdown",
   "id": "bec3bef8-2c09-4c63-9da2-15fede9ed5ed",
   "metadata": {},
   "source": [
    "## 상호 배반 사건\n",
    "\n",
    "A와 B가 서로 겹치는 부분이 없을 때 상호 배반(mutually exclusive)이라고 합니다. 이 때에는 A 사건과 B 사건이 동시에 일어날 확률이 없으므로, 두 사건의 확률의 합이 곧 결합 확률이 됩니다.\n",
    "\n",
    "$$\n",
    "P(A \\cup B) = P(A) + P(B)\n",
    "$$\n",
    "ex) 주사위를 던져서 홀수가 나올 사건과 주사위를 던져 2가 나올 사건"
   ]
  },
  {
   "cell_type": "markdown",
   "id": "9a1be6cb-069b-41b5-b246-3ba7b8dffd28",
   "metadata": {},
   "source": [
    "## 조건부 확률\n",
    "\n",
    "어떤 상황이 조건으로 걸려 있는 확률을 조건 확률(conditional probability)이라고 부른다.\n",
    "\n",
    "$$\n",
    "P(A|B)=\\frac{P(A \\cap B)}{P(B)}\\newline\n",
    "$$\n",
    "\n",
    "예제)\n",
    "\n",
    "아래 표를 보고 여학생 중 전문직으로 취업할 확률을 구하라\n",
    "\n",
    "|  | 일반직 | 전문직 | 대학원 | 미결정 | 합 |\n",
    "| --- | --- | --- | --- | --- | --- |\n",
    "| 남학생 | 0.35 | 0.08 | 0.09 | 0.06 | 0.58 |\n",
    "| 여학생 | 0.25 | 0.07 | 0.08 | 0.02 | 0.42 |\n",
    "| 합|0.6 | 0.15 | 0.17 | 0.08 |  1|\n",
    "\n",
    "$$\n",
    "P(전문직|여학생)=\\frac{P(\\text{전문직} \\cap \\text{여학생})}{P(\\text{여학생})}\\;=\\;\\frac{0.07}{0.42}=0.167\n",
    "$$"
   ]
  },
  {
   "cell_type": "markdown",
   "id": "8f8fa294-0330-49cd-a4e5-414bd943e74d",
   "metadata": {},
   "source": [
    "### 연습문제\n",
    "1. 남학생 중 대학원에 갈 확률을 구하시오\n",
    "2. 아직 결정하지 못한 학생 중 여학생의 확률을 구하시오"
   ]
  },
  {
   "cell_type": "code",
   "execution_count": 1,
   "id": "2c4a9084-3117-4bb2-bf38-033bff2dab06",
   "metadata": {},
   "outputs": [
    {
     "data": {
      "text/plain": [
       "0.15517241379310345"
      ]
     },
     "execution_count": 1,
     "metadata": {},
     "output_type": "execute_result"
    }
   ],
   "source": [
    "0.09 / 0.58"
   ]
  },
  {
   "cell_type": "code",
   "execution_count": 2,
   "id": "0f1cc6e3-a3e9-4f9b-a344-dd399c778989",
   "metadata": {},
   "outputs": [
    {
     "data": {
      "text/plain": [
       "0.25"
      ]
     },
     "execution_count": 2,
     "metadata": {},
     "output_type": "execute_result"
    }
   ],
   "source": [
    "0.02 / 0.08"
   ]
  },
  {
   "cell_type": "markdown",
   "id": "20ca67be-ccd4-42fa-b64a-46f855c56f42",
   "metadata": {
    "tags": []
   },
   "source": [
    "## 독립사건과 종속 사건\n",
    "\n",
    "어떤 사건이 다른 사건과 일어나는 확률이 무관할 때, 두 사건을 독립 사건(independent events)이라고 부른다.\n",
    "\n",
    "ex) 동전의 앞뒷면이 나오는 것과 주사위를 던져서 특정 값이 나오는 것\n",
    "\n",
    "$$\n",
    "P(A|B) = P(A)\\newline\n",
    "$$\n",
    "\n",
    "독립 사건과 달리, 서로 일어날 확률이 연관되어 있는 사건을 종속 사건이라고 부른다. (dependent events)\n",
    "\n",
    "예제) \n",
    "\n",
    "졸업생의 취업 형태는 남학생과 여학생이 다른 형태를 보여준다. 즉, 졸업생의 성별과 직장의 형태는 독립이 아니다.\n",
    "\n",
    "$$\n",
    "P(전문직|여학생)=0.167 \\neq P(전문직)=0.15\n",
    "$$"
   ]
  },
  {
   "cell_type": "markdown",
   "id": "296fcfdc-c898-4ba0-8755-cdc959d0dc61",
   "metadata": {},
   "source": [
    "### 연습문제\n",
    "\n",
    "다음과 같이 어떤 직장의 승진이 이루어졌다.\n",
    "\n",
    "|  | 승진 | 미승진 | 합계 |\n",
    "| --- | --- | --- | --- |\n",
    "| 남성 | 46 | 184 | 230 |\n",
    "| 여성 | 16 | 64 | 80 |\n",
    "| 합계 | 62 | 228 | 310 |\n",
    "\n",
    "사건 A를 남성, B를 승진으로 표기했을 때 아래 값들을 구하시오. 그리고 이 둘이 독립 사건인지 판별하시오.\n",
    "\n",
    "P(A)=?\n",
    "\n",
    "P(A|B)=?"
   ]
  },
  {
   "cell_type": "markdown",
   "id": "1b52003a-e1e4-4629-81d8-93c22f0e4d6c",
   "metadata": {},
   "source": [
    "P(A) = 230 / 310 = 0.7419...  \n",
    "P(A|B) = 46 / 62 = 0.7419...\n",
    "\n",
    "값이 같으므로 독립이다."
   ]
  },
  {
   "cell_type": "markdown",
   "id": "6853ab2e-e29c-4700-848f-54dddde11bd7",
   "metadata": {},
   "source": [
    "## 곱셈 규칙\n",
    "\n",
    "조건 확률의 정의를 이용하면 곱셈 규칙으로 바꾸어 쓸 수 있다.\n",
    "\n",
    "$$\n",
    "P(A \\cap B)=P(B)P(A|B)\\newline\n",
    "or\\;P(A \\cap B)=P(A)P(B|A)\n",
    "$$\n",
    "\n",
    "두 사건이 독립 사건일  경우, 곱셉 규칙은 아래처럼 표현될 수 있다. 즉, 두 사건이 독립일 경우, 두 사건이 동시에 일어날 확률은 각 사건이 일어날 확률의 곱으로 표현된다.\n",
    "\n",
    "$$\n",
    "P(A \\cap B)=P(A)P(B)\n",
    "$$"
   ]
  },
  {
   "cell_type": "markdown",
   "id": "261cce11-bac6-485f-adf1-2bfc03d9dc7c",
   "metadata": {},
   "source": [
    "### 연습 문제\n",
    "\n",
    "A: 주사위를 던져서 짝수가 나올 사건  \n",
    "B: 주사위를 던져 5보다 크거나 같은 수가 나올 사건\n",
    "\n",
    "사건 A와 B가 독립 사건임을 보이시오."
   ]
  },
  {
   "cell_type": "markdown",
   "id": "db26987e-4774-464e-b92e-ab76566c4f60",
   "metadata": {},
   "source": [
    "P(A) = 1/2   \n",
    "P(B) = 2/6 = 1/3  \n",
    "P(A & B) = 1/6 = P(A)*P(B)"
   ]
  }
 ],
 "metadata": {
  "kernelspec": {
   "display_name": "Python 3 (ipykernel)",
   "language": "python",
   "name": "python3"
  },
  "language_info": {
   "codemirror_mode": {
    "name": "ipython",
    "version": 3
   },
   "file_extension": ".py",
   "mimetype": "text/x-python",
   "name": "python",
   "nbconvert_exporter": "python",
   "pygments_lexer": "ipython3",
   "version": "3.10.8"
  }
 },
 "nbformat": 4,
 "nbformat_minor": 5
}
