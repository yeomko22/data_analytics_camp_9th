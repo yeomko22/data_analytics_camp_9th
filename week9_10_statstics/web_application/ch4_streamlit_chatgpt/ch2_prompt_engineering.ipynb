{
 "cells": [
  {
   "cell_type": "markdown",
   "id": "12b3c648-aa08-4abe-819f-2744413087a7",
   "metadata": {},
   "source": [
    "# ch2. 마케팅 문구 생성 프롬프트 엔지니어링\n",
    "\n",
    "이번 챕터에서는 마케팅 문구를 생성하기 위한 프롬프트를 작성해보겠습니다."
   ]
  },
  {
   "cell_type": "markdown",
   "id": "1991dfb8-1c40-4bdd-b20f-c13242f8d7bc",
   "metadata": {},
   "source": [
    "## chatGPT API 사용 설정"
   ]
  },
  {
   "cell_type": "code",
   "execution_count": 3,
   "id": "a80e7168-1130-4b34-bdad-12122f142e46",
   "metadata": {},
   "outputs": [],
   "source": [
    "import os\n",
    "from openai import OpenAI\n",
    "\n",
    "client = OpenAI(\n",
    "    api_key=os.environ.get(\"OPENAI_API_KEY\"),\n",
    ")"
   ]
  },
  {
   "cell_type": "code",
   "execution_count": 10,
   "id": "d3461137-595b-491c-9d49-47f691ff2472",
   "metadata": {},
   "outputs": [],
   "source": [
    "def print_streaming_response(response):\n",
    "    for chunk in response:\n",
    "        delta = chunk.choices[0].delta\n",
    "        if delta.content:\n",
    "            print(delta.content, end=\"\")"
   ]
  },
  {
   "cell_type": "code",
   "execution_count": 12,
   "id": "e0f41265-9a44-4d9d-a83d-0a7a6716ad71",
   "metadata": {},
   "outputs": [
    {
     "name": "stdout",
     "output_type": "stream",
     "text": [
      "안녕하세요! 저는 AI 어시스턴트입니다. 도움이 필요하신 것이 있나요?"
     ]
    }
   ],
   "source": [
    "messages = [{\"role\": \"user\", \"content\": \"안녕하세요\"}]\n",
    "response = client.chat.completions.create(\n",
    "    model=\"gpt-3.5-turbo\",\n",
    "    messages=messages,\n",
    "    stream=True\n",
    ")\n",
    "print_streaming_response(response)"
   ]
  },
  {
   "cell_type": "markdown",
   "id": "577805f6-bb4e-45d3-9eed-847330fc8e03",
   "metadata": {},
   "source": [
    "## 프롬프트 엔지니어링"
   ]
  },
  {
   "cell_type": "markdown",
   "id": "8aa783b0-c650-4d34-8f6c-69501ae6326b",
   "metadata": {},
   "source": [
    "### AI에게 역할부여\n",
    "\n",
    "광고 문구를 생성하기 위해서 먼저 system message를 이용해서 AI에게 \"전문 카피라이터\" 라는 역할을 부여하겠습니다.  \n",
    "그 다음, 유저로부터 프롬프트만 전달받아서 응답을 리턴하도록 함수화 하겠습니다."
   ]
  },
  {
   "cell_type": "code",
   "execution_count": 14,
   "id": "4da8b13d-e9e0-4252-9cba-456a8d90c400",
   "metadata": {},
   "outputs": [],
   "source": [
    "def request_chat_completion(prompt):\n",
    "    response = client.chat.completions.create(\n",
    "        model=\"gpt-3.5-turbo\",\n",
    "        messages=[\n",
    "            {\"role\": \"system\", \"content\": \"당신은 전문 카피라이터입니다.\"},\n",
    "            {\"role\": \"user\", \"content\": prompt}\n",
    "        ],\n",
    "        stream=True\n",
    "    )\n",
    "    return response"
   ]
  },
  {
   "cell_type": "markdown",
   "id": "52a0608d-b6ab-4c55-aaca-cd2e9ea2a3c1",
   "metadata": {},
   "source": [
    "\"카누\" 라는 커피 브랜드의 광고 문구를 작성해달라는 간단한 프롬프트를 넣어서 텍스트를 생성해보겠습니다."
   ]
  },
  {
   "cell_type": "code",
   "execution_count": 15,
   "id": "085bdac7-600a-4d0e-bac7-0d0932c9a160",
   "metadata": {},
   "outputs": [
    {
     "name": "stdout",
     "output_type": "stream",
     "text": [
      "1. 매일 아침, 당신의 일상에 커피의 활력을 불어넣어 보세요! 카누 커피믹스는 신선한 원두와 풍부한 향기로 당신의 하루를 시작합니다. 커피 한 잔으로 피로를 씻어내고, 새로운 에너지로 가득 찬 하루를 보내보세요! ☕️✨ #카누커피믹스 #매일아침에한잔\n",
      "\n",
      "2. 비몽사몽한 아침, 카누 커피믹스의 아로마가 당신을 깨워줄 거에요. 커피잔 한 모금, 입 안에서 퍼지는 풍미는 마치 작은 즐거움의 파티예요. 지금 바로 카누와 함께 하루를 환기해 보세요! 💫☕️ #카누커피믹스 #하루의시작은카누와함께\n",
      "\n",
      "3. 바쁜 일상에 지친 당신을 위해 카누 커피믹스가 여유를 선물합니다. 한 잔의 아로마 커피로 몸과 마음을 달래며, 마치 휴가지에서 즐기는 듯한 로맨틱한 순간을 만나보세요. 카누와 함께하는 한 때, 힐링의 시간을 즐겨보세요. 🌴☕️ #카누와여유로운시간 #힐링의순간 #카누커피믹스"
     ]
    }
   ],
   "source": [
    "prompt = \"'카누'라는 커피믹스 브랜드의 SNS 마케팅을 위한 카피를 3개 생성해줘\"\n",
    "response = request_chat_completion(prompt)\n",
    "print_streaming_response(response)"
   ]
  },
  {
   "cell_type": "markdown",
   "id": "880f6b17-6fd3-4023-afca-69f0db6f5f20",
   "metadata": {},
   "source": [
    "결과를 보면 마케팅 문구를 만들어주긴 하지만 지나치게 길고, 재치가 느껴지지 않습니다.  \n",
    "프롬프트 엔지니어링을 이용해서 우리가 원하는 대로 텍스트를 생성하도록 제어해보겠습니다."
   ]
  },
  {
   "cell_type": "markdown",
   "id": "402ac2db-8a3a-455c-abfd-6a62c95d8b9f",
   "metadata": {},
   "source": [
    "### 프롬프트 생성\n",
    "\n",
    "마케팅 문구를 생성하고자 하는 제품명과 제품에 대한 설명을 파라미터로 전달받아서 프롬프트를 생성해보겠습니다.  \n",
    "이처럼 파라미터를 전달받는 경우, AI에게 먼저 수행해야할 지시를 알려주고 구분자를 사용해서 그 사이에 파라미터를 지정해주는 것이 좋습니다.  \n",
    "지시 다음 부분에 최대 길이나 어떤 느낌이 나면 좋겠다는 걸 적어주세요."
   ]
  },
  {
   "cell_type": "code",
   "execution_count": 16,
   "id": "7684be45-b2f8-4e61-a390-880f436442d6",
   "metadata": {},
   "outputs": [],
   "source": [
    "def generate_prompt(product_name, product_desc):\n",
    "    prompt = f\"\"\"\n",
    "제품 혹은 브랜드를 SNS에 광고하기 위한 문구를 생성해주세요.\n",
    "자극적이고 창의적으로 작성하세요.\n",
    "명사 위주로 간결하게 작성하세요.\n",
    "---\n",
    "제품명: {product_name}\n",
    "제품설명: {product_desc}\n",
    "---\n",
    "\"\"\".strip()\n",
    "    return prompt"
   ]
  },
  {
   "cell_type": "code",
   "execution_count": 17,
   "id": "5e56ecfd-4d8f-43fa-9331-b4630699ef20",
   "metadata": {},
   "outputs": [],
   "source": [
    "prompt = generate_prompt(\n",
    "    product_name=\"카누\",\n",
    "    product_desc=\"집에서도 카페 느낌의 아메리카노 맛을 내는 커피 믹스\"\n",
    ")"
   ]
  },
  {
   "cell_type": "code",
   "execution_count": 18,
   "id": "bbd6ca9a-1f9f-4150-bc36-209ecdf3a056",
   "metadata": {},
   "outputs": [
    {
     "name": "stdout",
     "output_type": "stream",
     "text": [
      "제품 혹은 브랜드를 SNS에 광고하기 위한 문구를 생성해주세요.\n",
      "자극적이고 창의적으로 작성하세요.\n",
      "명사 위주로 간결하게 작성하세요.\n",
      "---\n",
      "제품명: 카누\n",
      "제품설명: 집에서도 카페 느낌의 아메리카노 맛을 내는 커피 믹스\n",
      "---\n"
     ]
    }
   ],
   "source": [
    "print(prompt)"
   ]
  },
  {
   "cell_type": "code",
   "execution_count": 20,
   "id": "00ae8582-ffac-4449-badf-61b6319facc3",
   "metadata": {},
   "outputs": [
    {
     "name": "stdout",
     "output_type": "stream",
     "text": [
      "\"카페의 향기, 집에서 즐기다! 카누로 진정한 아메리카노를 느껴보세요.\""
     ]
    }
   ],
   "source": [
    "response = request_chat_completion(prompt)\n",
    "print_streaming_response(response)"
   ]
  },
  {
   "cell_type": "markdown",
   "id": "f6402a6c-50f5-425a-9827-074de52fe51b",
   "metadata": {},
   "source": [
    "### 생성하는 텍스트 길이, 개수 조정\n",
    "\n",
    "이번에는 생성하는 텍스트의 길이와 개수를 프롬프트로 조정해보겠습니다.  \n",
    "generate_prompt 함수에 파라미터를 추가해보겠습니다.  \n",
    "개수의 경우 문구를 n개 생성해달라고 적어주면 잘 반영됩니다.  \n",
    "텍스트 길이 조정의 경우엔 몇 자 이내로 적어달라는 것 보다는, 몇 단어 이내로 적어달라는 것이 좋으며, 앞에 \"반드시\"를 붙여주세요."
   ]
  },
  {
   "cell_type": "code",
   "execution_count": 21,
   "id": "342f3be6-9686-495c-b4a3-52faf4937d48",
   "metadata": {},
   "outputs": [],
   "source": [
    "def generate_prompt(product_name, product_desc, num, max_length):\n",
    "    prompt = f\"\"\"\n",
    "제품 혹은 브랜드를 SNS에 광고하기 위한 문구를 {num}개 생성해주세요.\n",
    "자극적이고 창의적으로 작성하세요.\n",
    "명사 위주로 간결하게 작성하세요.\n",
    "반드시 {max_length} 단어 이내로 작성해주세요.\n",
    "---\n",
    "제품명: {product_name}\n",
    "제품설명: {product_desc}\n",
    "---\n",
    "\"\"\".strip()\n",
    "    return prompt"
   ]
  },
  {
   "cell_type": "code",
   "execution_count": 22,
   "id": "7f6f1820-959a-4b6d-9479-ef611e9f9853",
   "metadata": {},
   "outputs": [],
   "source": [
    "prompt = generate_prompt(\n",
    "    product_name=\"카누\",\n",
    "    product_desc=\"집에서도 카페 느낌의 아메리카노 맛을 내는 커피 믹스\",\n",
    "    num=5,\n",
    "    max_length=7\n",
    ")"
   ]
  },
  {
   "cell_type": "code",
   "execution_count": 23,
   "id": "75112eca-3310-48f1-984b-51c3df44bf9c",
   "metadata": {},
   "outputs": [
    {
     "name": "stdout",
     "output_type": "stream",
     "text": [
      "제품 혹은 브랜드를 SNS에 광고하기 위한 문구를 5개 생성해주세요.\n",
      "자극적이고 창의적으로 작성하세요.\n",
      "명사 위주로 간결하게 작성하세요.\n",
      "반드시 7 단어 이내로 작성해주세요.\n",
      "---\n",
      "제품명: 카누\n",
      "제품설명: 집에서도 카페 느낌의 아메리카노 맛을 내는 커피 믹스\n",
      "---\n"
     ]
    }
   ],
   "source": [
    "print(prompt)"
   ]
  },
  {
   "cell_type": "code",
   "execution_count": 25,
   "id": "4a8e8473-1d56-4ec4-8b86-c2291beb9130",
   "metadata": {},
   "outputs": [
    {
     "name": "stdout",
     "output_type": "stream",
     "text": [
      "1. 집에서 즐기는 푹신한 카페 아메, 카누!\n",
      "2. 모닝 루틴에 첨단 커피 믹스 카누!\n",
      "3. 프로 바리스타와 함께하는 맛있는 아메리카노, 카누!\n",
      "4. 거실에서도 완벽한 카페 맛 카누!\n",
      "5. 커피 마니아들의 선택, 카누로 맛있는 아메리카노 함께해요!"
     ]
    }
   ],
   "source": [
    "response = request_chat_completion(prompt)\n",
    "print_streaming_response(response)"
   ]
  },
  {
   "cell_type": "markdown",
   "id": "d7a0f8a6-c096-44c3-ba14-eaa2fd942ac2",
   "metadata": {},
   "source": [
    "### 키워드 포함\n",
    "\n",
    "마케팅 문구에 반드시 포함했으면 하는 키워드가 있다면 프롬프트에 포함할 수 있습니다.  \n",
    "generate_prompt에 파라미터를 추가하고, 프롬프트를 약간 수정해보겠습니다."
   ]
  },
  {
   "cell_type": "code",
   "execution_count": 26,
   "id": "e56818a9-1155-4c90-956b-1cad5dc68607",
   "metadata": {},
   "outputs": [],
   "source": [
    "def generate_prompt(product_name, product_desc, num, max_length, keywords):\n",
    "    prompt = f\"\"\"\n",
    "제품 혹은 브랜드를 SNS에 광고하기 위한 문구를 {num}개 생성해주세요.\n",
    "자극적이고 창의적으로 작성하세요.\n",
    "명사 위주로 간결하게 작성하세요.\n",
    "반드시 {max_length} 단어 이내로 작성해주세요.\n",
    "키워드가 주어질 경우, 반드시 키워드 중 하나를 포함해야 합니다.\n",
    "---\n",
    "제품명: {product_name}\n",
    "제품설명: {product_desc}\n",
    "키워드: {keywords}\n",
    "---\n",
    "\"\"\".strip()\n",
    "    return prompt"
   ]
  },
  {
   "cell_type": "code",
   "execution_count": 27,
   "id": "cc07e236-115f-48cd-847b-050763ba0e9e",
   "metadata": {},
   "outputs": [],
   "source": [
    "prompt = generate_prompt(\n",
    "    product_name=\"카누\",\n",
    "    product_desc=\"집에서도 카페 느낌의 아메리카노 맛을 내는 커피 믹스\",\n",
    "    num=5,\n",
    "    max_length=7,\n",
    "    keywords=[\"브라질\", \"풍미\", \"향기\"]\n",
    ")"
   ]
  },
  {
   "cell_type": "code",
   "execution_count": 28,
   "id": "f27aeb4a-4764-40fc-8c0c-e883bceb1104",
   "metadata": {},
   "outputs": [
    {
     "name": "stdout",
     "output_type": "stream",
     "text": [
      "1. 집에서 브라질을 닮은 향기와 풍미를 만나보세요! (아메리카노)\n",
      "2. 이제 집에서도 특별한 커피를 즐길 수 있어요. (카누)\n",
      "3. 브라질의 맛과 향기가 담긴 집에서의 아메리카노 (카누)\n",
      "4. 카페에서 느끼던 아메리카노의 향기, 집에서도! (브라질)\n",
      "5. 카페 도착 전, 제 자리에서 브라질을 만날 수 있어요. (통조림)"
     ]
    }
   ],
   "source": [
    "response = request_chat_completion(prompt)\n",
    "print_streaming_response(response)"
   ]
  },
  {
   "cell_type": "markdown",
   "id": "3c458882-c983-4ec6-80c9-5a5c931a6597",
   "metadata": {},
   "source": [
    "## 정리\n",
    "\n",
    "지금까지 마케팅 문구를 생성하기 위한 프롬프트 엔지니어링을 배워봤습니다.  \n",
    "어떤가요? 굉장히 쉽지 않나요? 내가 결과로 얻고 싶은 텍스트를 자연어로 묘사하고, 파라미터만 쏙쏙 넣어주면 됩니다.  \n",
    "이제 streamlit을 이용해서 UI를 개발하고, 여기에 마케팅 문구 생성 기능을 적용하겠습니다."
   ]
  },
  {
   "cell_type": "code",
   "execution_count": null,
   "id": "33e333c5-1999-4fd9-bf90-88174c97bbba",
   "metadata": {},
   "outputs": [],
   "source": []
  }
 ],
 "metadata": {
  "kernelspec": {
   "display_name": "Python 3 (ipykernel)",
   "language": "python",
   "name": "python3"
  },
  "language_info": {
   "codemirror_mode": {
    "name": "ipython",
    "version": 3
   },
   "file_extension": ".py",
   "mimetype": "text/x-python",
   "name": "python",
   "nbconvert_exporter": "python",
   "pygments_lexer": "ipython3",
   "version": "3.10.8"
  }
 },
 "nbformat": 4,
 "nbformat_minor": 5
}
