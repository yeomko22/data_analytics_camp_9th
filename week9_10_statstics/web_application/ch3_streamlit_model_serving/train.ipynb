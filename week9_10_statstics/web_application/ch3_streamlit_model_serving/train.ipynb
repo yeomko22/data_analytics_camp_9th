{
 "cells": [
  {
   "cell_type": "markdown",
   "id": "7e222b72-cec8-400a-a1fd-edefca036468",
   "metadata": {},
   "source": [
    "# ch 11_2 streamlit을 이용한 머신러닝 모델 서빙\n",
    "\n",
    "이번 챕터에서는 streamlit을 이용하여 미리 학습시킨 ML 모델을 서빙하는 서비스를 개발해보겠습니다. 이를 위해서 타이타닉 생존자 데이터 셋을 가지고, 생존율을 예측하는 RandomForestRegressor 모델을 학습시켜 보겠습니다. 모델을 서빙하는 서비스 개발이 목적이니, 모델 학습과 관련된 세부 내용은 생략하겠습니다."
   ]
  },
  {
   "cell_type": "markdown",
   "id": "c610f851-057b-4061-8950-401b10883158",
   "metadata": {},
   "source": [
    "## RandomForesRegressor 모델 학습\n",
    "\n",
    "decision tree 챕터에서 배웠던 모델은 탑승자의 정보를 통대로 생존 여부를 0과 1로 분류하는 classification 모델을 배웠습니다. 이번에는 생존 확률을 0과 1 사이의 값으로 예측하는 regression 모델을 학습시켜보겠습니다. 기본적인 원리는 동일하고, 최종 예측 값이 0과 1 사이 연속적인 값으로 나온다는 것만 기억하면 됩니다."
   ]
  },
  {
   "cell_type": "code",
   "execution_count": 34,
   "id": "0df836cd-b325-4d69-96a9-8d707c0453fa",
   "metadata": {},
   "outputs": [],
   "source": [
    "import pandas as pd"
   ]
  },
  {
   "cell_type": "code",
   "execution_count": 35,
   "id": "8a82d466-3320-4144-93d3-353b45738574",
   "metadata": {},
   "outputs": [],
   "source": [
    "train_df = pd.read_csv(\"./data/titanic_train.csv\")\n",
    "test_df = pd.read_csv(\"./data/titanic_train.csv\")"
   ]
  },
  {
   "cell_type": "code",
   "execution_count": 36,
   "id": "b5706254-82b7-4403-b091-9d0a5590f729",
   "metadata": {},
   "outputs": [],
   "source": [
    "train_df = train_df[[\"Survived\", \"Pclass\", \"Sex\", \"Age\"]]\n",
    "test_df = test_df[[\"Pclass\", \"Sex\", \"Age\"]]"
   ]
  },
  {
   "cell_type": "code",
   "execution_count": 37,
   "id": "26536711-b194-4a53-befa-24bd33a43980",
   "metadata": {},
   "outputs": [],
   "source": [
    "from sklearn.preprocessing import LabelEncoder\n",
    "\n",
    "label_encoder = LabelEncoder()\n",
    "\n",
    "def preprocess(df):\n",
    "    df[\"Age\"] = df[\"Age\"].fillna(0)\n",
    "    df[\"Sex\"] = label_encoder.fit_transform(df[\"Sex\"])\n",
    "    return df"
   ]
  },
  {
   "cell_type": "code",
   "execution_count": 38,
   "id": "a553e5a1-5002-435c-a6f5-5d9ce857905f",
   "metadata": {},
   "outputs": [],
   "source": [
    "train_df = preprocess(train_df)\n",
    "test_df = preprocess(test_df)"
   ]
  },
  {
   "cell_type": "code",
   "execution_count": 39,
   "id": "053d2356-3245-47dc-92a3-debdda413bd9",
   "metadata": {},
   "outputs": [],
   "source": [
    "y_train = train_df[\"Survived\"]\n",
    "x_train = train_df.drop([\"Survived\"], axis=1)\n",
    "x_test = test_df"
   ]
  },
  {
   "cell_type": "code",
   "execution_count": 40,
   "id": "72da7028-a294-4e03-93b3-4e9807fa6b22",
   "metadata": {},
   "outputs": [
    {
     "data": {
      "text/html": [
       "<style>#sk-container-id-3 {color: black;background-color: white;}#sk-container-id-3 pre{padding: 0;}#sk-container-id-3 div.sk-toggleable {background-color: white;}#sk-container-id-3 label.sk-toggleable__label {cursor: pointer;display: block;width: 100%;margin-bottom: 0;padding: 0.3em;box-sizing: border-box;text-align: center;}#sk-container-id-3 label.sk-toggleable__label-arrow:before {content: \"▸\";float: left;margin-right: 0.25em;color: #696969;}#sk-container-id-3 label.sk-toggleable__label-arrow:hover:before {color: black;}#sk-container-id-3 div.sk-estimator:hover label.sk-toggleable__label-arrow:before {color: black;}#sk-container-id-3 div.sk-toggleable__content {max-height: 0;max-width: 0;overflow: hidden;text-align: left;background-color: #f0f8ff;}#sk-container-id-3 div.sk-toggleable__content pre {margin: 0.2em;color: black;border-radius: 0.25em;background-color: #f0f8ff;}#sk-container-id-3 input.sk-toggleable__control:checked~div.sk-toggleable__content {max-height: 200px;max-width: 100%;overflow: auto;}#sk-container-id-3 input.sk-toggleable__control:checked~label.sk-toggleable__label-arrow:before {content: \"▾\";}#sk-container-id-3 div.sk-estimator input.sk-toggleable__control:checked~label.sk-toggleable__label {background-color: #d4ebff;}#sk-container-id-3 div.sk-label input.sk-toggleable__control:checked~label.sk-toggleable__label {background-color: #d4ebff;}#sk-container-id-3 input.sk-hidden--visually {border: 0;clip: rect(1px 1px 1px 1px);clip: rect(1px, 1px, 1px, 1px);height: 1px;margin: -1px;overflow: hidden;padding: 0;position: absolute;width: 1px;}#sk-container-id-3 div.sk-estimator {font-family: monospace;background-color: #f0f8ff;border: 1px dotted black;border-radius: 0.25em;box-sizing: border-box;margin-bottom: 0.5em;}#sk-container-id-3 div.sk-estimator:hover {background-color: #d4ebff;}#sk-container-id-3 div.sk-parallel-item::after {content: \"\";width: 100%;border-bottom: 1px solid gray;flex-grow: 1;}#sk-container-id-3 div.sk-label:hover label.sk-toggleable__label {background-color: #d4ebff;}#sk-container-id-3 div.sk-serial::before {content: \"\";position: absolute;border-left: 1px solid gray;box-sizing: border-box;top: 0;bottom: 0;left: 50%;z-index: 0;}#sk-container-id-3 div.sk-serial {display: flex;flex-direction: column;align-items: center;background-color: white;padding-right: 0.2em;padding-left: 0.2em;position: relative;}#sk-container-id-3 div.sk-item {position: relative;z-index: 1;}#sk-container-id-3 div.sk-parallel {display: flex;align-items: stretch;justify-content: center;background-color: white;position: relative;}#sk-container-id-3 div.sk-item::before, #sk-container-id-3 div.sk-parallel-item::before {content: \"\";position: absolute;border-left: 1px solid gray;box-sizing: border-box;top: 0;bottom: 0;left: 50%;z-index: -1;}#sk-container-id-3 div.sk-parallel-item {display: flex;flex-direction: column;z-index: 1;position: relative;background-color: white;}#sk-container-id-3 div.sk-parallel-item:first-child::after {align-self: flex-end;width: 50%;}#sk-container-id-3 div.sk-parallel-item:last-child::after {align-self: flex-start;width: 50%;}#sk-container-id-3 div.sk-parallel-item:only-child::after {width: 0;}#sk-container-id-3 div.sk-dashed-wrapped {border: 1px dashed gray;margin: 0 0.4em 0.5em 0.4em;box-sizing: border-box;padding-bottom: 0.4em;background-color: white;}#sk-container-id-3 div.sk-label label {font-family: monospace;font-weight: bold;display: inline-block;line-height: 1.2em;}#sk-container-id-3 div.sk-label-container {text-align: center;}#sk-container-id-3 div.sk-container {/* jupyter's `normalize.less` sets `[hidden] { display: none; }` but bootstrap.min.css set `[hidden] { display: none !important; }` so we also need the `!important` here to be able to override the default hidden behavior on the sphinx rendered scikit-learn.org. See: https://github.com/scikit-learn/scikit-learn/issues/21755 */display: inline-block !important;position: relative;}#sk-container-id-3 div.sk-text-repr-fallback {display: none;}</style><div id=\"sk-container-id-3\" class=\"sk-top-container\"><div class=\"sk-text-repr-fallback\"><pre>RandomForestRegressor(max_depth=10, min_samples_leaf=2, min_samples_split=5,\n",
       "                      n_estimators=50, random_state=1234)</pre><b>In a Jupyter environment, please rerun this cell to show the HTML representation or trust the notebook. <br />On GitHub, the HTML representation is unable to render, please try loading this page with nbviewer.org.</b></div><div class=\"sk-container\" hidden><div class=\"sk-item\"><div class=\"sk-estimator sk-toggleable\"><input class=\"sk-toggleable__control sk-hidden--visually\" id=\"sk-estimator-id-3\" type=\"checkbox\" checked><label for=\"sk-estimator-id-3\" class=\"sk-toggleable__label sk-toggleable__label-arrow\">RandomForestRegressor</label><div class=\"sk-toggleable__content\"><pre>RandomForestRegressor(max_depth=10, min_samples_leaf=2, min_samples_split=5,\n",
       "                      n_estimators=50, random_state=1234)</pre></div></div></div></div></div>"
      ],
      "text/plain": [
       "RandomForestRegressor(max_depth=10, min_samples_leaf=2, min_samples_split=5,\n",
       "                      n_estimators=50, random_state=1234)"
      ]
     },
     "execution_count": 40,
     "metadata": {},
     "output_type": "execute_result"
    }
   ],
   "source": [
    "from sklearn.ensemble import RandomForestRegressor\n",
    "\n",
    "model = RandomForestRegressor(\n",
    "    n_estimators=50,\n",
    "    max_depth=10,\n",
    "    min_samples_leaf=2,\n",
    "    min_samples_split=5,\n",
    "    random_state=1234\n",
    ")\n",
    "model.fit(x_train.values, y_train.values)"
   ]
  },
  {
   "cell_type": "code",
   "execution_count": 44,
   "id": "a32a841f-169e-455d-a12b-877bae670394",
   "metadata": {},
   "outputs": [
    {
     "data": {
      "text/html": [
       "<div>\n",
       "<style scoped>\n",
       "    .dataframe tbody tr th:only-of-type {\n",
       "        vertical-align: middle;\n",
       "    }\n",
       "\n",
       "    .dataframe tbody tr th {\n",
       "        vertical-align: top;\n",
       "    }\n",
       "\n",
       "    .dataframe thead th {\n",
       "        text-align: right;\n",
       "    }\n",
       "</style>\n",
       "<table border=\"1\" class=\"dataframe\">\n",
       "  <thead>\n",
       "    <tr style=\"text-align: right;\">\n",
       "      <th></th>\n",
       "      <th>Pclass</th>\n",
       "      <th>Sex</th>\n",
       "      <th>Age</th>\n",
       "    </tr>\n",
       "  </thead>\n",
       "  <tbody>\n",
       "    <tr>\n",
       "      <th>0</th>\n",
       "      <td>3</td>\n",
       "      <td>1</td>\n",
       "      <td>22.0</td>\n",
       "    </tr>\n",
       "    <tr>\n",
       "      <th>1</th>\n",
       "      <td>1</td>\n",
       "      <td>0</td>\n",
       "      <td>38.0</td>\n",
       "    </tr>\n",
       "    <tr>\n",
       "      <th>2</th>\n",
       "      <td>3</td>\n",
       "      <td>0</td>\n",
       "      <td>26.0</td>\n",
       "    </tr>\n",
       "    <tr>\n",
       "      <th>3</th>\n",
       "      <td>1</td>\n",
       "      <td>0</td>\n",
       "      <td>35.0</td>\n",
       "    </tr>\n",
       "    <tr>\n",
       "      <th>4</th>\n",
       "      <td>3</td>\n",
       "      <td>1</td>\n",
       "      <td>35.0</td>\n",
       "    </tr>\n",
       "    <tr>\n",
       "      <th>...</th>\n",
       "      <td>...</td>\n",
       "      <td>...</td>\n",
       "      <td>...</td>\n",
       "    </tr>\n",
       "    <tr>\n",
       "      <th>886</th>\n",
       "      <td>2</td>\n",
       "      <td>1</td>\n",
       "      <td>27.0</td>\n",
       "    </tr>\n",
       "    <tr>\n",
       "      <th>887</th>\n",
       "      <td>1</td>\n",
       "      <td>0</td>\n",
       "      <td>19.0</td>\n",
       "    </tr>\n",
       "    <tr>\n",
       "      <th>888</th>\n",
       "      <td>3</td>\n",
       "      <td>0</td>\n",
       "      <td>0.0</td>\n",
       "    </tr>\n",
       "    <tr>\n",
       "      <th>889</th>\n",
       "      <td>1</td>\n",
       "      <td>1</td>\n",
       "      <td>26.0</td>\n",
       "    </tr>\n",
       "    <tr>\n",
       "      <th>890</th>\n",
       "      <td>3</td>\n",
       "      <td>1</td>\n",
       "      <td>32.0</td>\n",
       "    </tr>\n",
       "  </tbody>\n",
       "</table>\n",
       "<p>891 rows × 3 columns</p>\n",
       "</div>"
      ],
      "text/plain": [
       "     Pclass  Sex   Age\n",
       "0         3    1  22.0\n",
       "1         1    0  38.0\n",
       "2         3    0  26.0\n",
       "3         1    0  35.0\n",
       "4         3    1  35.0\n",
       "..      ...  ...   ...\n",
       "886       2    1  27.0\n",
       "887       1    0  19.0\n",
       "888       3    0   0.0\n",
       "889       1    1  26.0\n",
       "890       3    1  32.0\n",
       "\n",
       "[891 rows x 3 columns]"
      ]
     },
     "execution_count": 44,
     "metadata": {},
     "output_type": "execute_result"
    }
   ],
   "source": [
    "x_train"
   ]
  },
  {
   "cell_type": "code",
   "execution_count": 52,
   "id": "05e71a54-5a56-4f15-8e5a-b2cd54bc6285",
   "metadata": {},
   "outputs": [
    {
     "data": {
      "text/plain": [
       "array([0.15178571])"
      ]
     },
     "execution_count": 52,
     "metadata": {},
     "output_type": "execute_result"
    }
   ],
   "source": [
    "model.predict([[2, 1, 70]])"
   ]
  },
  {
   "cell_type": "markdown",
   "id": "7c7f22a9-1309-4de9-a050-cbeb9450dc66",
   "metadata": {},
   "source": [
    "## 생존율 분포 시각화를 위해 inference 진행\n",
    "\n",
    "유저에게 예상 생존율만 알려주면 너무 휑하니, 전체 생존율 분포 가운데 어디에 위치해 있는지를 알려주는 플랏을 한번 그려보겠습니다. 이를 위해 먼저, 전체 탑승객들의 데이터를 가지고 생존율을 예측해보겠습니다."
   ]
  },
  {
   "cell_type": "code",
   "execution_count": 22,
   "id": "bc0f62ff-394a-4c5d-9bdd-3fc97d7c2aaf",
   "metadata": {},
   "outputs": [
    {
     "name": "stderr",
     "output_type": "stream",
     "text": [
      "/Users/user/miniconda3/lib/python3.10/site-packages/sklearn/base.py:402: UserWarning: X has feature names, but RandomForestRegressor was fitted without feature names\n",
      "  warnings.warn(\n"
     ]
    }
   ],
   "source": [
    "scores = model.predict(pd.concat([x_train, x_test]))"
   ]
  },
  {
   "cell_type": "code",
   "execution_count": 23,
   "id": "813d162c-3902-4f9b-b72e-6c9fe8a48c7c",
   "metadata": {},
   "outputs": [
    {
     "data": {
      "text/plain": [
       "array([0.08080264, 0.89338095, 0.67469015, ..., 0.61738411, 0.90476942,\n",
       "       0.43116503])"
      ]
     },
     "execution_count": 23,
     "metadata": {},
     "output_type": "execute_result"
    }
   ],
   "source": [
    "scores"
   ]
  },
  {
   "cell_type": "markdown",
   "id": "32c264ca-c8f3-49f9-90b0-10e455ab6e1f",
   "metadata": {},
   "source": [
    "### 생존율 분포 시각화\n",
    "\n",
    "seaborn을 이용하여 전체 생존률 분포에서 어디에 위치하는 지를 보여주기 위한 plot을 그립니다. 생존율이 0.5라고 가정하고 그려보겠습니다."
   ]
  },
  {
   "cell_type": "code",
   "execution_count": 24,
   "id": "20829991-6222-4f79-b7a5-2106dca9fda7",
   "metadata": {},
   "outputs": [
    {
     "data": {
      "text/plain": [
       "Text(0, 0.5, '')"
      ]
     },
     "execution_count": 24,
     "metadata": {},
     "output_type": "execute_result"
    },
    {
     "data": {
      "image/png": "[encoded data removed]",
      "text/plain": [
       "<Figure size 1200x600 with 1 Axes>"
      ]
     },
     "metadata": {},
     "output_type": "display_data"
    }
   ],
   "source": [
    "from matplotlib import pyplot as plt\n",
    "import seaborn as sns\n",
    "import numpy as np\n",
    "\n",
    "fig = plt.figure(figsize=(12, 6))\n",
    "ax = fig.add_subplot()\n",
    "sns.set_style(\"whitegrid\")\n",
    "sns.kdeplot(\n",
    "    scores, \n",
    "    fill=True,\n",
    "    alpha=0.5,\n",
    "    linewidth=0,\n",
    "    ax=ax,\n",
    ")\n",
    "plt.axvline(0.5, color=\"coral\")\n",
    "plt.xticks(np.arange(0, 1.2, 0.2))\n",
    "plt.yticks([])\n",
    "plt.ylabel(\"\")"
   ]
  },
  {
   "cell_type": "markdown",
   "id": "399011bc-e108-4819-b9a3-37db0dbad0b8",
   "metadata": {},
   "source": [
    "### scores 저장\n",
    "\n",
    "점수 분포대 plot을 그리기 위해서는 scores 데이터가 필요합니다. csv 파일 형태로 저장합니다."
   ]
  },
  {
   "cell_type": "code",
   "execution_count": 25,
   "id": "a00bb6a2-2c38-4251-b61a-a5a3b3f12cec",
   "metadata": {},
   "outputs": [],
   "source": [
    "import csv\n",
    "\n",
    "with open(\"./data/scores.csv\", \"w\") as fw:\n",
    "    writer = csv.writer(fw)\n",
    "    for score in scores:\n",
    "        writer.writerow([score])"
   ]
  },
  {
   "cell_type": "markdown",
   "id": "e60f9fc3-596e-4c00-b4e7-43cdf08ef3ab",
   "metadata": {},
   "source": [
    "## 모델 저장\n",
    "\n",
    "학습시킨 RandomForestRegressor 모델은 pickle을 이용해서 저장합니다."
   ]
  },
  {
   "cell_type": "code",
   "execution_count": 27,
   "id": "30b7c4fe-2162-428f-ab0a-1efcb8d831b8",
   "metadata": {},
   "outputs": [],
   "source": [
    "import pickle\n",
    "\n",
    "with open('./data/model.pkl', 'wb') as file:\n",
    "    pickle.dump(model, file)"
   ]
  },
  {
   "cell_type": "markdown",
   "id": "33cf05c8-79d5-4da7-93ea-827c1e1cd16b",
   "metadata": {},
   "source": [
    "잘 저장되었는지, 한번 읽어와서 인퍼런스를 해보겠습니다."
   ]
  },
  {
   "cell_type": "code",
   "execution_count": 28,
   "id": "289ff1c7-ede8-4905-bf2b-19ef9dc36a05",
   "metadata": {},
   "outputs": [],
   "source": [
    "with open(\"./data/model.pkl\", \"rb\") as fr:\n",
    "    model = pickle.load(fr)"
   ]
  },
  {
   "cell_type": "code",
   "execution_count": 29,
   "id": "e1147ce4-86a0-4da8-b0bc-4a1143f063b0",
   "metadata": {},
   "outputs": [],
   "source": [
    "sample = x_train.iloc[0]"
   ]
  },
  {
   "cell_type": "code",
   "execution_count": 30,
   "id": "d273e779-29a9-441c-8427-285f2efba127",
   "metadata": {},
   "outputs": [
    {
     "data": {
      "text/plain": [
       "Pclass     3.0\n",
       "Sex        1.0\n",
       "Age       22.0\n",
       "Name: 0, dtype: float64"
      ]
     },
     "execution_count": 30,
     "metadata": {},
     "output_type": "execute_result"
    }
   ],
   "source": [
    "sample"
   ]
  },
  {
   "cell_type": "code",
   "execution_count": 33,
   "id": "35071384-a79f-411b-8e48-e66ba4f4e9af",
   "metadata": {},
   "outputs": [
    {
     "data": {
      "text/plain": [
       "array([0.08080264])"
      ]
     },
     "execution_count": 33,
     "metadata": {},
     "output_type": "execute_result"
    }
   ],
   "source": [
    "model.predict([sample.values])"
   ]
  },
  {
   "cell_type": "markdown",
   "id": "2018ef38-5276-460d-b63e-347970752200",
   "metadata": {},
   "source": [
    "## 정리\n",
    "\n",
    "이번 챕터에서는 타이타닉호 생존율 예측 서비스를 개발하기 위해 필요한 생존율 예측 모델을 학습시켜보았습니다. RandomForestRegressor를 학습시켜봤고, 이전에 배웠던 classification 모델과 크게 다르지 않았습니다. 또한 단순히 예상 생존율 뿐만 아니라 분포 상에 어디에 위치해 있는지도 시각화 해보았습니다. 이를 바탕으로 streamlit을 사용하여 서비스 개발을 해보겠습니다."
   ]
  },
  {
   "cell_type": "code",
   "execution_count": null,
   "id": "b6d7236b-93a7-469d-bbcc-b4f518ac85ad",
   "metadata": {},
   "outputs": [],
   "source": []
  }
 ],
 "metadata": {
  "kernelspec": {
   "display_name": "Python 3 (ipykernel)",
   "language": "python",
   "name": "python3"
  },
  "language_info": {
   "codemirror_mode": {
    "name": "ipython",
    "version": 3
   },
   "file_extension": ".py",
   "mimetype": "text/x-python",
   "name": "python",
   "nbconvert_exporter": "python",
   "pygments_lexer": "ipython3",
   "version": "3.10.8"
  }
 },
 "nbformat": 4,
 "nbformat_minor": 5
}
