{
 "cells": [
  {
   "cell_type": "markdown",
   "id": "7e222b72-cec8-400a-a1fd-edefca036468",
   "metadata": {},
   "source": [
    "# ch2. streamlit을 이용한 머신러닝 모델 서빙\n",
    "\n",
    "이번 챕터에서는 streamlit을 이용하여 미리 학습시킨 ML 모델을 서빙하는 서비스를 개발해보겠습니다. 이를 위해서 타이타닉 생존자 데이터 셋을 가지고, 생존율을 예측하는 RandomForestRegressor 모델을 학습시켜 보겠습니다. 모델을 서빙하는 서비스 개발이 목적이니, 모델 학습과 관련된 세부 내용은 생략하겠습니다."
   ]
  },
  {
   "cell_type": "markdown",
   "id": "c610f851-057b-4061-8950-401b10883158",
   "metadata": {},
   "source": [
    "## RandomForesRegressor 모델 학습\n",
    "\n",
    "decision tree 챕터에서 배웠던 모델은 탑승자의 정보를 통대로 생존 여부를 0과 1로 분류하는 classification 모델을 배웠습니다. 이번에는 생존 확률을 0과 1 사이의 값으로 예측하는 regression 모델을 학습시켜보겠습니다. 기본적인 원리는 동일하고, 최종 예측 값이 0과 1 사이 연속적인 값으로 나온다는 것만 기억하면 됩니다."
   ]
  },
  {
   "cell_type": "code",
   "execution_count": null,
   "id": "81315669-4af4-4c5c-b0fe-2de6e70ba804",
   "metadata": {},
   "outputs": [],
   "source": []
  },
  {
   "cell_type": "markdown",
   "id": "7c7f22a9-1309-4de9-a050-cbeb9450dc66",
   "metadata": {},
   "source": [
    "## 생존율 분포 시각화를 위해 inference 진행\n",
    "\n",
    "유저에게 예상 생존율만 알려주면 너무 휑하니, 전체 생존율 분포 가운데 어디에 위치해 있는지를 알려주는 플랏을 한번 그려보겠습니다. 이를 위해 먼저, 전체 탑승객들의 데이터를 가지고 생존율을 예측해보겠습니다."
   ]
  },
  {
   "cell_type": "code",
   "execution_count": null,
   "id": "d016da70-294b-4379-a490-2f973e81ca11",
   "metadata": {},
   "outputs": [],
   "source": []
  },
  {
   "cell_type": "markdown",
   "id": "32c264ca-c8f3-49f9-90b0-10e455ab6e1f",
   "metadata": {},
   "source": [
    "### 생존율 분포 시각화\n",
    "\n",
    "seaborn을 이용하여 전체 생존률 분포에서 어디에 위치하는 지를 보여주기 위한 plot을 그립니다. 생존율이 0.5라고 가정하고 그려보겠습니다."
   ]
  },
  {
   "cell_type": "code",
   "execution_count": null,
   "id": "de5956c5-a485-4949-ae14-fce55a8bc0cf",
   "metadata": {},
   "outputs": [],
   "source": []
  },
  {
   "cell_type": "markdown",
   "id": "399011bc-e108-4819-b9a3-37db0dbad0b8",
   "metadata": {},
   "source": [
    "### scores 저장\n",
    "\n",
    "점수 분포대 plot을 그리기 위해서는 scores 데이터가 필요합니다. csv 파일 형태로 저장합니다."
   ]
  },
  {
   "cell_type": "code",
   "execution_count": null,
   "id": "66bf90d9-2ea8-44a0-ac74-2852572f4dbc",
   "metadata": {},
   "outputs": [],
   "source": []
  },
  {
   "cell_type": "markdown",
   "id": "e60f9fc3-596e-4c00-b4e7-43cdf08ef3ab",
   "metadata": {},
   "source": [
    "## 모델 저장\n",
    "\n",
    "학습시킨 RandomForestRegressor 모델은 pickle을 이용해서 저장합니다."
   ]
  },
  {
   "cell_type": "code",
   "execution_count": null,
   "id": "4ec2fc82-7a09-4956-b7c9-0ce56670d895",
   "metadata": {},
   "outputs": [],
   "source": []
  },
  {
   "cell_type": "markdown",
   "id": "33cf05c8-79d5-4da7-93ea-827c1e1cd16b",
   "metadata": {},
   "source": [
    "잘 저장되었는지, 한번 읽어와서 인퍼런스를 해보겠습니다."
   ]
  },
  {
   "cell_type": "code",
   "execution_count": null,
   "id": "2bc919ea-4fcd-4b03-ad18-13998d89148b",
   "metadata": {},
   "outputs": [],
   "source": []
  },
  {
   "cell_type": "markdown",
   "id": "2018ef38-5276-460d-b63e-347970752200",
   "metadata": {},
   "source": [
    "## 정리\n",
    "\n",
    "이번 챕터에서는 타이타닉호 생존율 예측 서비스를 개발하기 위해 필요한 생존율 예측 모델을 학습시켜보았습니다. RandomForestRegressor를 학습시켜봤고, 이전에 배웠던 classification 모델과 크게 다르지 않았습니다. 또한 단순히 예상 생존율 뿐만 아니라 분포 상에 어디에 위치해 있는지도 시각화 해보았습니다. 이를 바탕으로 streamlit을 사용하여 서비스 개발을 해보겠습니다."
   ]
  }
 ],
 "metadata": {
  "kernelspec": {
   "display_name": "Python 3 (ipykernel)",
   "language": "python",
   "name": "python3"
  },
  "language_info": {
   "codemirror_mode": {
    "name": "ipython",
    "version": 3
   },
   "file_extension": ".py",
   "mimetype": "text/x-python",
   "name": "python",
   "nbconvert_exporter": "python",
   "pygments_lexer": "ipython3",
   "version": "3.10.8"
  }
 },
 "nbformat": 4,
 "nbformat_minor": 5
}
