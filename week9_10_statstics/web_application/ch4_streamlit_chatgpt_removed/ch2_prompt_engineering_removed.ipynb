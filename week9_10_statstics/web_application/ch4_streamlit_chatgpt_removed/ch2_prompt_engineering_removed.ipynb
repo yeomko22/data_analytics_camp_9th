{
 "cells": [
  {
   "cell_type": "markdown",
   "id": "12b3c648-aa08-4abe-819f-2744413087a7",
   "metadata": {},
   "source": [
    "# ch2. 마케팅 문구 생성 프롬프트 엔지니어링\n",
    "\n",
    "이번 챕터에서는 마케팅 문구를 생성하기 위한 프롬프트를 작성해보겠습니다."
   ]
  },
  {
   "cell_type": "markdown",
   "id": "1991dfb8-1c40-4bdd-b20f-c13242f8d7bc",
   "metadata": {},
   "source": [
    "## chatGPT API 사용 설정"
   ]
  },
  {
   "cell_type": "code",
   "execution_count": null,
   "id": "fa4e9dcc-9b87-4e77-ac93-e2e57b17d95b",
   "metadata": {},
   "outputs": [],
   "source": []
  },
  {
   "cell_type": "markdown",
   "id": "577805f6-bb4e-45d3-9eed-847330fc8e03",
   "metadata": {},
   "source": [
    "## 프롬프트 엔지니어링"
   ]
  },
  {
   "cell_type": "markdown",
   "id": "8aa783b0-c650-4d34-8f6c-69501ae6326b",
   "metadata": {},
   "source": [
    "### AI에게 역할부여\n",
    "\n",
    "광고 문구를 생성하기 위해서 먼저 system message를 이용해서 AI에게 \"전문 카피라이터\" 라는 역할을 부여하겠습니다.  \n",
    "그 다음, 유저로부터 프롬프트만 전달받아서 응답을 리턴하도록 함수화 하겠습니다."
   ]
  },
  {
   "cell_type": "code",
   "execution_count": null,
   "id": "620a778c-8ba7-483f-b8e6-6efa18f9eedf",
   "metadata": {},
   "outputs": [],
   "source": []
  },
  {
   "cell_type": "markdown",
   "id": "52a0608d-b6ab-4c55-aaca-cd2e9ea2a3c1",
   "metadata": {},
   "source": [
    "\"카누\" 라는 커피 브랜드의 광고 문구를 작성해달라는 간단한 프롬프트를 넣어서 텍스트를 생성해보겠습니다."
   ]
  },
  {
   "cell_type": "code",
   "execution_count": null,
   "id": "beccaafc-f3b3-469e-92ef-081c5a153f8f",
   "metadata": {},
   "outputs": [],
   "source": []
  },
  {
   "cell_type": "markdown",
   "id": "880f6b17-6fd3-4023-afca-69f0db6f5f20",
   "metadata": {},
   "source": [
    "결과를 보면 마케팅 문구를 만들어주긴 하지만 지나치게 길고, 재치가 느껴지지 않습니다.  \n",
    "프롬프트 엔지니어링을 이용해서 우리가 원하는 대로 텍스트를 생성하도록 제어해보겠습니다."
   ]
  },
  {
   "cell_type": "markdown",
   "id": "402ac2db-8a3a-455c-abfd-6a62c95d8b9f",
   "metadata": {},
   "source": [
    "### 프롬프트 생성\n",
    "\n",
    "마케팅 문구를 생성하고자 하는 제품명과 제품에 대한 설명을 파라미터로 전달받아서 프롬프트를 생성해보겠습니다.  \n",
    "이처럼 파라미터를 전달받는 경우, AI에게 먼저 수행해야할 지시를 알려주고 구분자를 사용해서 그 사이에 파라미터를 지정해주는 것이 좋습니다.  \n",
    "지시 다음 부분에 최대 길이나 어떤 느낌이 나면 좋겠다는 걸 적어주세요."
   ]
  },
  {
   "cell_type": "code",
   "execution_count": null,
   "id": "13724326-0e2c-470f-a720-be9a853ebbb7",
   "metadata": {},
   "outputs": [],
   "source": []
  },
  {
   "cell_type": "markdown",
   "id": "f6402a6c-50f5-425a-9827-074de52fe51b",
   "metadata": {},
   "source": [
    "### 생성하는 텍스트 길이, 개수 조정\n",
    "\n",
    "이번에는 생성하는 텍스트의 길이와 개수를 프롬프트로 조정해보겠습니다.  \n",
    "generate_prompt 함수에 파라미터를 추가해보겠습니다.  \n",
    "개수의 경우 문구를 n개 생성해달라고 적어주면 잘 반영됩니다.  \n",
    "텍스트 길이 조정의 경우엔 몇 자 이내로 적어달라는 것 보다는, 몇 단어 이내로 적어달라는 것이 좋으며, 앞에 \"반드시\"를 붙여주세요."
   ]
  },
  {
   "cell_type": "code",
   "execution_count": null,
   "id": "c743e2ac-1162-4423-a243-17ced5c46d2d",
   "metadata": {},
   "outputs": [],
   "source": []
  },
  {
   "cell_type": "markdown",
   "id": "d7a0f8a6-c096-44c3-ba14-eaa2fd942ac2",
   "metadata": {},
   "source": [
    "### 키워드 포함\n",
    "\n",
    "마케팅 문구에 반드시 포함했으면 하는 키워드가 있다면 프롬프트에 포함할 수 있습니다.  \n",
    "generate_prompt에 파라미터를 추가하고, 프롬프트를 약간 수정해보겠습니다."
   ]
  },
  {
   "cell_type": "code",
   "execution_count": null,
   "id": "2a998e76-28e8-403a-8904-df932984fb45",
   "metadata": {},
   "outputs": [],
   "source": []
  },
  {
   "cell_type": "markdown",
   "id": "3c458882-c983-4ec6-80c9-5a5c931a6597",
   "metadata": {},
   "source": [
    "## 정리\n",
    "\n",
    "지금까지 마케팅 문구를 생성하기 위한 프롬프트 엔지니어링을 배워봤습니다.  \n",
    "어떤가요? 굉장히 쉽지 않나요? 내가 결과로 얻고 싶은 텍스트를 자연어로 묘사하고, 파라미터만 쏙쏙 넣어주면 됩니다.  \n",
    "이제 streamlit을 이용해서 UI를 개발하고, 여기에 마케팅 문구 생성 기능을 적용하겠습니다."
   ]
  },
  {
   "cell_type": "code",
   "execution_count": null,
   "id": "33e333c5-1999-4fd9-bf90-88174c97bbba",
   "metadata": {},
   "outputs": [],
   "source": []
  }
 ],
 "metadata": {
  "kernelspec": {
   "display_name": "Python 3 (ipykernel)",
   "language": "python",
   "name": "python3"
  },
  "language_info": {
   "codemirror_mode": {
    "name": "ipython",
    "version": 3
   },
   "file_extension": ".py",
   "mimetype": "text/x-python",
   "name": "python",
   "nbconvert_exporter": "python",
   "pygments_lexer": "ipython3",
   "version": "3.10.8"
  }
 },
 "nbformat": 4,
 "nbformat_minor": 5
}
