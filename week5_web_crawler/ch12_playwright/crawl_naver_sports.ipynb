{
 "cells": [
  {
   "cell_type": "markdown",
   "id": "3e01be61-84d4-4a99-b727-55ae0d34a60b",
   "metadata": {},
   "source": [
    "## Selenium driver 생성\n",
    "미리 다운로드 받아놓은 chrome driver 패스를 전달하여 selenium webdriver를 생성할 수 있습니다."
   ]
  },
  {
   "cell_type": "code",
   "execution_count": 113,
   "id": "9fe36c19-b66c-4910-ae90-a05b3e3536c4",
   "metadata": {},
   "outputs": [
    {
     "name": "stderr",
     "output_type": "stream",
     "text": [
      "/var/folders/wx/2vw1xwz972zdxff5h8gzrml00000gn/T/ipykernel_57987/1758803209.py:5: DeprecationWarning: executable_path has been deprecated, please pass in a Service object\n",
      "  driver = webdriver.Chrome(\"./driver/chromedriver\")\n"
     ]
    }
   ],
   "source": [
    "import time\n",
    "\n",
    "from selenium import webdriver\n",
    "\n",
    "driver = webdriver.Chrome(\"./driver/chromedriver\")"
   ]
  },
  {
   "cell_type": "markdown",
   "id": "157f2904-6c39-443a-84e1-2fa53c12d746",
   "metadata": {},
   "source": [
    "## Selenium 페이지 이동\n",
    "driver.get 함수를 이용하면 원하는 URL로 이동시킬 수 있습니다."
   ]
  },
  {
   "cell_type": "code",
   "execution_count": 95,
   "id": "76cff88d-d669-4d63-af00-bcd8d0f989a7",
   "metadata": {},
   "outputs": [],
   "source": [
    "url = \"https://sports.news.naver.com/kbaseball/news/index?isphoto=N\"\n",
    "driver.get(url)"
   ]
  },
  {
   "cell_type": "markdown",
   "id": "c06b2df5-5034-4cfc-b763-848daffe24e6",
   "metadata": {},
   "source": [
    "## Selenium HTML 파싱\n",
    "driver.find_element 함수와 By를 이용하여 HTML 요소들을 파싱할 수 있습니다. 이 때 주로 사용하는 방식은 아래와 같습니다. find_elements 함수를 이용하면 조건에 맞는 요소들을 모두 찾습니다.\n",
    "- By.CLASS_NAME: css class 이름으로 element를 찾음.\n",
    "- By.ID: css id 이름으로 element를 찾음.\n",
    "- By.TAG_NAME: HTML tag 종류로 element를 찾음"
   ]
  },
  {
   "cell_type": "code",
   "execution_count": 101,
   "id": "756eb55a-00ec-481a-bc8e-cc5801b45a50",
   "metadata": {},
   "outputs": [],
   "source": [
    "from selenium.webdriver.common.by import By\n",
    "\n",
    "news_list = driver.find_element(By.CLASS_NAME, \"news_list\")"
   ]
  },
  {
   "cell_type": "code",
   "execution_count": 102,
   "id": "ed55e4b6-0e27-4f46-9ba8-00a8e98f674f",
   "metadata": {},
   "outputs": [
    {
     "data": {
      "text/plain": [
       "<selenium.webdriver.remote.webelement.WebElement (session=\"02e84396ba579b2b0ac1a4ad32077c42\", element=\"3DD796078819F9A7F909759D160AA03C_element_65\")>"
      ]
     },
     "execution_count": 102,
     "metadata": {},
     "output_type": "execute_result"
    }
   ],
   "source": [
    "news_list"
   ]
  },
  {
   "cell_type": "code",
   "execution_count": 104,
   "id": "bc7dd84a-c622-4b2d-baa5-d5c3198cf915",
   "metadata": {},
   "outputs": [],
   "source": [
    "news_items = news_list.find_elements(By.TAG_NAME, \"li\")"
   ]
  },
  {
   "cell_type": "code",
   "execution_count": 105,
   "id": "40e38b76-7413-4ac4-84fe-4a46b0eb1985",
   "metadata": {},
   "outputs": [],
   "source": [
    "news_titles = [news_item.find_element(By.CLASS_NAME, \"title\") for news_item in news_items]"
   ]
  },
  {
   "cell_type": "markdown",
   "id": "3be405db-d55d-49b7-b9ca-8d3cc1ba0286",
   "metadata": {
    "tags": []
   },
   "source": [
    "## Selenium WebElement 의 속성값 파싱\n",
    "find_element 함수를 이용해서 찾아낸 element의 get_property 함수를 사용해서 속성 값들을 가져옴. 여기서는 각 뉴스별 URL 값들을 파싱함"
   ]
  },
  {
   "cell_type": "code",
   "execution_count": 81,
   "id": "bea00ea5-32b9-4b33-80ab-b3ac8567d354",
   "metadata": {},
   "outputs": [],
   "source": [
    "news_urls = [news_title.get_property(\"href\") for news_title in news_titles]"
   ]
  },
  {
   "cell_type": "code",
   "execution_count": 109,
   "id": "14e25792-18ae-47e4-8e0f-f6d3aebf17cb",
   "metadata": {},
   "outputs": [
    {
     "data": {
      "text/plain": [
       "['https://sports.news.naver.com/kbaseball/news/read?oid=477&aid=0000430929',\n",
       " 'https://sports.news.naver.com/kbaseball/news/read?oid=477&aid=0000430928',\n",
       " 'https://sports.news.naver.com/kbaseball/news/read?oid=410&aid=0000940049',\n",
       " 'https://sports.news.naver.com/kbaseball/news/read?oid=421&aid=0006830544',\n",
       " 'https://sports.news.naver.com/kbaseball/news/read?oid=144&aid=0000889609',\n",
       " 'https://sports.news.naver.com/kbaseball/news/read?oid=108&aid=0003155145',\n",
       " 'https://sports.news.naver.com/kbaseball/news/read?oid=468&aid=0000947350',\n",
       " 'https://sports.news.naver.com/kbaseball/news/read?oid=241&aid=0003278225',\n",
       " 'https://sports.news.naver.com/kbaseball/news/read?oid=410&aid=0000940048',\n",
       " 'https://sports.news.naver.com/kbaseball/news/read?oid=468&aid=0000947349',\n",
       " 'https://sports.news.naver.com/kbaseball/news/read?oid=421&aid=0006830540',\n",
       " 'https://sports.news.naver.com/kbaseball/news/read?oid=023&aid=0003765933',\n",
       " 'https://sports.news.naver.com/kbaseball/news/read?oid=425&aid=0000140560',\n",
       " 'https://sports.news.naver.com/kbaseball/news/read?oid=109&aid=0004857815',\n",
       " 'https://sports.news.naver.com/kbaseball/news/read?oid=003&aid=0011881053',\n",
       " 'https://sports.news.naver.com/kbaseball/news/read?oid=421&aid=0006830537',\n",
       " 'https://sports.news.naver.com/kbaseball/news/read?oid=109&aid=0004857814',\n",
       " 'https://sports.news.naver.com/kbaseball/news/read?oid=109&aid=0004857813',\n",
       " 'https://sports.news.naver.com/kbaseball/news/read?oid=117&aid=0003733426',\n",
       " 'https://sports.news.naver.com/kbaseball/news/read?oid=001&aid=0013965534']"
      ]
     },
     "execution_count": 109,
     "metadata": {},
     "output_type": "execute_result"
    }
   ],
   "source": [
    "news_urls"
   ]
  },
  {
   "cell_type": "markdown",
   "id": "75c928be-0c47-4ba8-a2b0-31a565b29494",
   "metadata": {},
   "source": [
    "## 반복문을 돌면서 크롤링 수행\n",
    "이제 찾아낸 url들로 driver.get으로 이동하여 뉴스 본문을 크롤링하여 결과를 파일에 써주면 완료"
   ]
  },
  {
   "cell_type": "code",
   "execution_count": 110,
   "id": "f9863a2d-f00f-4de0-b9b5-c34188f1d9ae",
   "metadata": {},
   "outputs": [],
   "source": [
    "import csv\n",
    "\n",
    "with open(\"./baseball_news.csv\", \"w\") as fw:\n",
    "    writer = csv.writer(fw)\n",
    "    for news_url in news_urls:\n",
    "        driver.get(news_url)\n",
    "        news_end_contents = driver.find_element(By.ID, \"newsEndContents\")\n",
    "        news_contents = news_end_contents.text\n",
    "        writer.writerow([news_url, news_contents])"
   ]
  },
  {
   "cell_type": "code",
   "execution_count": 114,
   "id": "9b141048-bd6c-4a10-ad06-0cc1eb7a8582",
   "metadata": {},
   "outputs": [],
   "source": [
    "# 크롤링 마쳤으면 드라이버 종료\n",
    "driver.close()"
   ]
  },
  {
   "cell_type": "code",
   "execution_count": null,
   "id": "5b76bced-dadb-4ad1-9894-cb16e292d453",
   "metadata": {},
   "outputs": [],
   "source": []
  }
 ],
 "metadata": {
  "kernelspec": {
   "display_name": "Python 3 (ipykernel)",
   "language": "python",
   "name": "python3"
  },
  "language_info": {
   "codemirror_mode": {
    "name": "ipython",
    "version": 3
   },
   "file_extension": ".py",
   "mimetype": "text/x-python",
   "name": "python",
   "nbconvert_exporter": "python",
   "pygments_lexer": "ipython3",
   "version": "3.10.8"
  }
 },
 "nbformat": 4,
 "nbformat_minor": 5
}
