{
 "cells": [
  {
   "cell_type": "markdown",
   "id": "232d6039-9bc9-41b5-8f6f-1ec464712169",
   "metadata": {},
   "source": [
    "## 정규표현식\n",
    "\n",
    "regular expression이라고도 부르는 정규표현식은 문자열의 패턴을 매칭할 때 사용합니다. 회원 가입 시에 비밀번호 포맷을 검사하거나, 복잡한 텍스트에서 내가 원하는 정보를 추출할 때 사용합니다. 모든 프로그래밍 언어에서 정규표현식을 이용할 수 있습니다. 이번 장에서는 python을 이용한 정규표현식의 사용을 알아보겠습니다."
   ]
  },
  {
   "cell_type": "code",
   "execution_count": 77,
   "id": "fd27db7b-72e0-45e7-83db-0e41ce253b1b",
   "metadata": {},
   "outputs": [],
   "source": [
    "# 필요한 라이브러리 임포트\n",
    "import re\n",
    "\n",
    "# 정규표현식 패턴 매칭 예시 함수\n",
    "def regex_matching_example(pattern, text):\n",
    "    matches = re.findall(pattern, text)\n",
    "    print(\"Pattern:\", pattern)\n",
    "    print(\"Text:\", text)\n",
    "    print(\"Matches:\", matches)\n",
    "    print()"
   ]
  },
  {
   "cell_type": "code",
   "execution_count": 14,
   "id": "906bdea9-f18d-447e-9ceb-f17ea3c8a296",
   "metadata": {},
   "outputs": [
    {
     "name": "stdout",
     "output_type": "stream",
     "text": [
      "Pattern: abc\n",
      "Text: abcdefabcdef\n",
      "Matches: ['abc', 'abc']\n",
      "\n"
     ]
    }
   ],
   "source": [
    "# 기본 패턴 매칭\n",
    "regex_matching_example(r'abc', 'abcdefabcdef')  # \"abc\" 패턴이 두 번 등장"
   ]
  },
  {
   "cell_type": "code",
   "execution_count": 80,
   "id": "1bf2b18b-73ac-4e5d-8ff2-9b8ccf6df5bc",
   "metadata": {},
   "outputs": [],
   "source": [
    "pattern = r\"abc\"\n",
    "sentence = \"abcde abcsdfd\""
   ]
  },
  {
   "cell_type": "code",
   "execution_count": 81,
   "id": "f9d0da29-18b2-414f-9609-119bbc8f45ed",
   "metadata": {},
   "outputs": [
    {
     "name": "stdout",
     "output_type": "stream",
     "text": [
      "Pattern: abc\n",
      "Text: abcde abcsdfd\n",
      "Matches: ['abc', 'abc']\n",
      "\n"
     ]
    }
   ],
   "source": [
    "regex_matching_example(pattern, sentence)\n",
    "\n"
   ]
  },
  {
   "cell_type": "code",
   "execution_count": 157,
   "id": "684d9b71-5a50-4002-a0ed-616b2fde345a",
   "metadata": {},
   "outputs": [
    {
     "name": "stdout",
     "output_type": "stream",
     "text": [
      "\\bhello\n"
     ]
    }
   ],
   "source": [
    "a = r\"\\bhello\"\n",
    "print(a)"
   ]
  },
  {
   "cell_type": "code",
   "execution_count": 151,
   "id": "a81820c1-6abe-422e-8ad3-46a924fcd520",
   "metadata": {},
   "outputs": [
    {
     "name": "stdout",
     "output_type": "stream",
     "text": [
      "Pattern: \\b\\d+\n",
      "Text: 123  a1 bc456\n",
      "Matches: ['123']\n",
      "\n"
     ]
    }
   ],
   "source": [
    "# 메타문자\n",
    "regex_matching_example(r'\\b\\d+', '123  a1 bc456')  # 숫자 패턴 매칭"
   ]
  },
  {
   "cell_type": "code",
   "execution_count": 119,
   "id": "51a7a959-b94f-4ebf-bc4b-7028a9972067",
   "metadata": {},
   "outputs": [
    {
     "data": {
      "text/plain": [
       "['123                      ', '1', '456                             ']"
      ]
     },
     "execution_count": 119,
     "metadata": {},
     "output_type": "execute_result"
    }
   ],
   "source": [
    "re.findall(r\"\\d+\\s*\",  '123                      a1bc456                             ')"
   ]
  },
  {
   "cell_type": "code",
   "execution_count": 114,
   "id": "fc6c0879-a9e7-421c-806b-526b264402e9",
   "metadata": {},
   "outputs": [
    {
     "data": {
      "text/plain": [
       "'abc'"
      ]
     },
     "execution_count": 114,
     "metadata": {},
     "output_type": "execute_result"
    }
   ],
   "source": [
    "re.sub(r\"\\d+\\s*\", \"\",  '123                      a1bc456                             ')"
   ]
  },
  {
   "cell_type": "code",
   "execution_count": null,
   "id": "7fb2882a-a670-4760-91da-529c16c3a8a2",
   "metadata": {},
   "outputs": [],
   "source": []
  },
  {
   "cell_type": "code",
   "execution_count": 26,
   "id": "28e8b26a-073f-4ada-834e-b73f8362e3f8",
   "metadata": {},
   "outputs": [
    {
     "name": "stdout",
     "output_type": "stream",
     "text": [
      "Pattern: \\d\\d*\n",
      "Text: 123a1bc456\n",
      "Matches: ['123', '1', '456']\n",
      "\n"
     ]
    }
   ],
   "source": [
    "regex_matching_example(r'\\d\\d*', '123a1bc456')  # 숫자 패턴 매칭"
   ]
  },
  {
   "cell_type": "code",
   "execution_count": 27,
   "id": "e9a81b0b-762b-41a2-9f72-fa4fcd9a98a2",
   "metadata": {},
   "outputs": [
    {
     "name": "stdout",
     "output_type": "stream",
     "text": [
      "Pattern: \\d+\n",
      "Text: 123abc456\n",
      "Matches: ['123', '456']\n",
      "\n"
     ]
    }
   ],
   "source": [
    "regex_matching_example(r'\\d+', '123abc456')  # 숫자 패턴 매칭"
   ]
  },
  {
   "cell_type": "code",
   "execution_count": 91,
   "id": "454e8b50-19b1-4b5d-921b-86545a7a7d09",
   "metadata": {},
   "outputs": [
    {
     "name": "stdout",
     "output_type": "stream",
     "text": [
      "Pattern: \\D+\n",
      "Text: 123abc456\n",
      "Matches: ['abc']\n",
      "\n"
     ]
    }
   ],
   "source": [
    "regex_matching_example(r'\\D+', '123abc456')  # 숫자가 아닌 패턴 매칭"
   ]
  },
  {
   "cell_type": "code",
   "execution_count": 95,
   "id": "ecce5a97-d241-4ead-a481-d284440de8f9",
   "metadata": {},
   "outputs": [
    {
     "name": "stdout",
     "output_type": "stream",
     "text": [
      "Pattern: \\w+\n",
      "Text: hello world\n",
      "Matches: ['hello', 'world']\n",
      "\n"
     ]
    }
   ],
   "source": [
    "regex_matching_example(r'\\w+', 'hello world')  # 알파벳이나 숫자 패턴 매칭"
   ]
  },
  {
   "cell_type": "code",
   "execution_count": 96,
   "id": "491c8cfa-0106-4731-a946-2d06aafa51b6",
   "metadata": {},
   "outputs": [
    {
     "name": "stdout",
     "output_type": "stream",
     "text": [
      "Pattern: \\w+\n",
      "Text: hello world\n",
      "Matches: ['hello', 'world']\n",
      "\n"
     ]
    }
   ],
   "source": [
    "regex_matching_example(r'\\w+', 'hello world')  # 알파벳이나 숫자 패턴 매칭"
   ]
  },
  {
   "cell_type": "code",
   "execution_count": 98,
   "id": "cbeb09e3-b9e9-4696-b8f1-99baf74eeab7",
   "metadata": {},
   "outputs": [
    {
     "name": "stdout",
     "output_type": "stream",
     "text": [
      "Pattern: \\W\n",
      "Text: hello world\n",
      "Matches: [' ']\n",
      "\n"
     ]
    }
   ],
   "source": [
    "regex_matching_example(r'\\W', 'hello world')  # 알파벳이나 숫자가 아닌 패턴 매칭"
   ]
  },
  {
   "cell_type": "code",
   "execution_count": 35,
   "id": "bff87f3f-fb25-4372-bfe5-784e1e8851c6",
   "metadata": {},
   "outputs": [
    {
     "name": "stdout",
     "output_type": "stream",
     "text": [
      "Pattern: \\s\n",
      "Text: hello world\n",
      "Matches: [' ']\n",
      "\n"
     ]
    }
   ],
   "source": [
    "regex_matching_example(r'\\s', 'hello world')  # 공백 문자 패턴 매칭"
   ]
  },
  {
   "cell_type": "code",
   "execution_count": 124,
   "id": "1b8473ad-8780-480f-9b5c-a2c76d6ed6fa",
   "metadata": {},
   "outputs": [
    {
     "name": "stdout",
     "output_type": "stream",
     "text": [
      "Pattern: .+\n",
      "Text: hello world\n",
      "Matches: ['hello world']\n",
      "\n"
     ]
    }
   ],
   "source": [
    "regex_matching_example(r'.+', 'hello world')  # 공백이 아닌 문자 패턴 매칭"
   ]
  },
  {
   "cell_type": "code",
   "execution_count": 106,
   "id": "257943ae-7d5f-478f-a41f-2b17294aa89e",
   "metadata": {},
   "outputs": [
    {
     "name": "stdout",
     "output_type": "stream",
     "text": [
      "Pattern: [a-zA-Z\\sㄱ-힣]+\n",
      "Text: Hello Everybody. 모두들 반갑습니다.\n",
      "Matches: ['Hello Everybody', ' 모두들 반갑습니다']\n",
      "\n"
     ]
    }
   ],
   "source": [
    "# 문자 종류\n",
    "sentence =  'Hello Everybody. 모두들 반갑습니다.'\n",
    "regex_matching_example(r'[a-zA-Z\\sㄱ-힣]', sentence)  "
   ]
  },
  {
   "cell_type": "code",
   "execution_count": 69,
   "id": "cff5bb52-6127-4268-ad70-1b1f2ecb6399",
   "metadata": {},
   "outputs": [
    {
     "name": "stdout",
     "output_type": "stream",
     "text": [
      "Pattern: [a-zA-Z]+\n",
      "Text: Hello Everybody. 모두들 반갑습니다.\n",
      "Matches: ['Hello', 'Everybody']\n",
      "\n"
     ]
    }
   ],
   "source": [
    "regex_matching_example(r'[a-zA-Z]+', sentence)  "
   ]
  },
  {
   "cell_type": "code",
   "execution_count": 70,
   "id": "1501949b-0d23-4d7d-a48e-415350502c3c",
   "metadata": {},
   "outputs": [
    {
     "name": "stdout",
     "output_type": "stream",
     "text": [
      "Pattern: [a-zA-Z\\.]+\n",
      "Text: Hello Everybody. 모두들 반갑습니다.\n",
      "Matches: ['Hello', 'Everybody.', '.']\n",
      "\n"
     ]
    }
   ],
   "source": [
    "regex_matching_example(r'[a-zA-Z\\.]+', sentence)  "
   ]
  },
  {
   "cell_type": "code",
   "execution_count": 66,
   "id": "7474eeda-c453-48e3-9b09-2cd398e904c3",
   "metadata": {},
   "outputs": [
    {
     "name": "stdout",
     "output_type": "stream",
     "text": [
      "Pattern: [a-zA-Z\\.ㄱ-힣 ]+\n",
      "Text: Hello everybody. 모두들 반갑습니다.\n",
      "Matches: ['Hello everybody. 모두들 반갑습니다.']\n",
      "\n"
     ]
    }
   ],
   "source": [
    "regex_matching_example(r'[a-zA-Z\\.ㄱ-힣 ]+', sentence)  "
   ]
  },
  {
   "cell_type": "markdown",
   "id": "9949aed9-b598-4bd1-897e-db335cfcbeb1",
   "metadata": {},
   "source": [
    "## 연습문제\n",
    "\n",
    "주어진 뉴스 기사에서 각 정보를 추출해보세요. https://regexr.com/ 사이트를 활용하면 편합니다."
   ]
  },
  {
   "cell_type": "code",
   "execution_count": 186,
   "id": "05243f8f-751c-4e46-b6a8-317f4904f7d3",
   "metadata": {},
   "outputs": [],
   "source": [
    "article = '[마이데일리 = 장윤호 기자]롯데 자이언츠의 거인 이대호(40)의 꿈이 무너져가고 있다. 이대호가 새해 40세 불혹(不惑)의 나이가 됐다. 불혹은 주위에서 어떤 일이 벌어져도 중심을 잃지 않고 자신만의 원칙을 지켜 나갈 수 있는 경지에 오르는 시기다. 이번 스토브리그에 롯데 구단에 걱정스러운 일이 벌어지고 있다. 그런데 이대호는 어떤 대외 활동도 하지 않고 침묵하며 조용히 개인 훈련에 집중하는 모습이다. 불혹이 돼서인가? 지난 2017년 1월24일이다. 벌써 5년의 시간이 흘렀다. 롯데의 프랜차이즈 스타 이대호가 일본프로야구 미국 메이저리그를 거쳐 고향팀 롯데로 돌아왔다. 그는 ‘조선의 4번타자’답게 단숨에 최고가 됐다. 삼성에서 FA가 된 최형우가 고향팀 KIA 타이거즈와 4년 계약을 하면서 기록한 총액 100억 원을 훨씬 넘어 150억 원에 롯데와 계약했다. 당시 인터뷰에서 이대호는 ‘메이저리그에서 열심히 노력해 꿈을 이루었다. 남은 것은 롯데로 돌아와 함께 우승을 하는 것이다. 마지막 소원이 롯데의 우승’이라고 밝혔다. 2001년 롯데에 2차 1순위로 입단해 2011시즌까지 11시즌 동안 이대호는 무려 225개의 홈런을 쏘아 올렸다. 그리고 2008~2011 시즌까지 4년 연속 롯데를 포스트시즌으로 이끌었으나 한국시리즈 우승을 못하고 일본 프로야구로 떠났다. 그 때도 롯데에 서운함이 있었으나 말 없이 덮었다. 4년의 계약 기간이 지나갔다. 여전히 롯데는 한국시리즈 근처에 가지 못했다. 이대호는 올해 1월29일 롯데와 2년 총액 26억 원(계약금 8억 원 연봉 8억 원)에 특별한 옵션을 걸었다. 남은 2억 원에 다른 인센티브 조건이 아니라 한국시리즈 우승 의지를 담았다. 그리고 ‘우승하면 받는 1억 원의 옵션을 불우이웃을 돕는데 모두 기부하겠다’고 약속했다. 이대호는 그 때 계약이 늦어져 팬들에게 죄송하다고 말했다. 롯데 팬들이 걱정한 것도 사실이다. 전격 은퇴를 선언할 가능성도 분명히 있었다. 같은 시기 FA 4년 계약을 했던 KIA 최형우는 이미 12월에 3년 총액 47억원(게약금 13억원, 연봉 9억원, 옵션 7억원)에 계약을 맺었다.  차이가 분명히 있다. 최형우와 나이는 1살차였지만 이대호는 4년 계약 기간 중 파워나 기여도에서 그에 뒤지지 않았다. 그런데 단 하나 최형우는 계약 첫 해인 2017시즌 김기태 감독을 도와 팀을 한국시리즈 우승으로 이끌었다. 2022시즌 이대호는 롯데와 17년을 동행하게 된다. 부산에서 태어나고 자란 이대호가 무려 17년이나 한국시리즈 우승을 못하고 유니폼을 벗게 되면 평생 자신은 물론 롯데 팬들의 마음 한켠에 빈 곳이 남아 있게 될 것이다. 그는 2년 재계약을 하면서 은퇴 배수진을 치고 ‘우승을 위해 할 수 있는 모든 것을 다하겠다. 후배들에게 내가 가진 모든 것을 전수해주겠다’고 밝혔다. 그런데 프랜차이즈 스타 손아섭이 NC 다이노스로 떠나고 강민호 재영입도 실패하면서 롯데의 한국시리즈 우승은 점점 멀어져 가고 있다. 이대호의 꿈이 무너져 간다. 이제는 그의 침묵이 어색하다. [사진=마이데일리 DB](장윤호 기자 changyh218@mydaily.com.kr)'"
   ]
  },
  {
   "cell_type": "markdown",
   "id": "b85d0b03-ae79-4dea-b71d-f7bcefa0f664",
   "metadata": {},
   "source": [
    "1. 정규표현식을 이용하여 주어진 기사에서 \"이대호\"가 몇 번 등장하는지 집계해보세요.\n",
    "2. 주어진 기사에서 \"이대호\" 혹은 \"최형우\"가 몇 번 등장하는지 집계해보세요. 정규표현식 패턴을 작성할 때 \"|\"를 사용하면 됩니다.\n",
    "3. 기사에서 영어 대문자로 이루어진 단어들을 중복 없이 가져오세요.\n",
    "4. 기사에서 \"[\", \"]\"로 둘러싸인 문자열을 가져와보세요. 정규표현식 패턴을 작성할 때, 괄호들를 표현하고 싶다면 앞에 역슬래쉬를 붙여주어 escape sequence로 처리하면 됩니다.  *?,+?의 사용도 검색해서 적용해보세요. \n",
    "- 예시) [ \"[마이데일리 = 장윤호 기자]\", \"[사진=마이데일리 DB]\"]\n",
    "5. 주어진 기사에 포함된 이메일을 추출해보세요. 이메일 정규표현식 패턴은 chatGPT를 이용해서 작성해보세요."
   ]
  },
  {
   "cell_type": "code",
   "execution_count": 162,
   "id": "e5cd1b2a-4da1-4fea-9bb6-53668dc38acd",
   "metadata": {},
   "outputs": [
    {
     "data": {
      "text/plain": [
       "12"
      ]
     },
     "execution_count": 162,
     "metadata": {},
     "output_type": "execute_result"
    }
   ],
   "source": [
    "len(re.findall(r\"이대호\", article))"
   ]
  },
  {
   "cell_type": "code",
   "execution_count": 174,
   "id": "a8c62c83-ac95-4941-8fc4-cc792ce7b098",
   "metadata": {},
   "outputs": [
    {
     "data": {
      "text/plain": [
       "16"
      ]
     },
     "execution_count": 174,
     "metadata": {},
     "output_type": "execute_result"
    }
   ],
   "source": [
    "len(re.findall(r\"(이대호|최형우)\", article))"
   ]
  },
  {
   "cell_type": "code",
   "execution_count": 176,
   "id": "eea928a7-a3c8-4419-8cc7-f631858b1954",
   "metadata": {},
   "outputs": [
    {
     "data": {
      "text/plain": [
       "{'DB', 'FA', 'KIA', 'NC'}"
      ]
     },
     "execution_count": 176,
     "metadata": {},
     "output_type": "execute_result"
    }
   ],
   "source": [
    "set(re.findall(r\"[A-Z]+\", article))"
   ]
  },
  {
   "cell_type": "code",
   "execution_count": 178,
   "id": "4a635527-9aec-4587-94de-526ff61c8598",
   "metadata": {},
   "outputs": [
    {
     "data": {
      "text/plain": [
       "['[마이데일리 = 장윤호 기자]', '[사진=마이데일리 DB]']"
      ]
     },
     "execution_count": 178,
     "metadata": {},
     "output_type": "execute_result"
    }
   ],
   "source": [
    "re.findall(r\"\\[.+?\\]\", article)"
   ]
  },
  {
   "cell_type": "code",
   "execution_count": 191,
   "id": "6efe4e3d-eb81-4988-9390-38977b77dbec",
   "metadata": {},
   "outputs": [
    {
     "data": {
      "text/plain": [
       "['changyh218@mydaily.com.kr']"
      ]
     },
     "execution_count": 191,
     "metadata": {},
     "output_type": "execute_result"
    }
   ],
   "source": [
    "email_pattern = r'\\b[A-Za-z0-9._%+-]+@[A-Za-z0-9.-]+\\.[A-Za-z]{2,}\\b'\n",
    "email_pattern = r'\\b[A-Za-z0-9._%+-]+@[A-Za-z0-9.-]+\\.[A-Za-z]{2,}\\b'\n",
    "re.findall(email_pattern, article)"
   ]
  },
  {
   "cell_type": "code",
   "execution_count": null,
   "id": "5e787121-dc67-4b4d-90f0-dfa47205c6a3",
   "metadata": {},
   "outputs": [],
   "source": []
  }
 ],
 "metadata": {
  "kernelspec": {
   "display_name": "Python 3 (ipykernel)",
   "language": "python",
   "name": "python3"
  },
  "language_info": {
   "codemirror_mode": {
    "name": "ipython",
    "version": 3
   },
   "file_extension": ".py",
   "mimetype": "text/x-python",
   "name": "python",
   "nbconvert_exporter": "python",
   "pygments_lexer": "ipython3",
   "version": "3.10.8"
  }
 },
 "nbformat": 4,
 "nbformat_minor": 5
}
