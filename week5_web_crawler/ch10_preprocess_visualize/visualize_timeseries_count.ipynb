{
 "cells": [
  {
   "cell_type": "markdown",
   "id": "e2fb242f-2439-4026-9d76-b0cd9810863c",
   "metadata": {},
   "source": [
    "## 선수별 언급 횟수 카운팅하기\n",
    "\n",
    "이제 선수별로 시간 흐름에 따라서 뉴스 기사에서 언급된 횟수를 카운팅하겠습니다.  \n",
    "\n",
    "### 선수 이름 데이터 가져오기\n",
    "선수들의 이름은 KBO 공식 홈페이지에서 가져왔습니다.  \n",
    "\n",
    "- KBO 전체 등록 현황: https://www.koreabaseball.com/Player/RegisterAll.aspx"
   ]
  },
  {
   "cell_type": "code",
   "execution_count": 1,
   "id": "78bb41cd-b21d-4105-8a7e-bd72421041f1",
   "metadata": {},
   "outputs": [],
   "source": [
    "import csv\n",
    "\n",
    "def load_players():\n",
    "    players = []\n",
    "    with open(\"./data/baseball_players.csv\") as fr:\n",
    "        reader = csv.reader(fr)\n",
    "        next(reader)\n",
    "        for row in reader:\n",
    "            team, pitcher_str, catcher_str, infielder_str, outfielder_str = row\n",
    "            pitchers = pitcher_str.split(\"\\n\")\n",
    "            catchers = catcher_str.split(\"\\n\")\n",
    "            infielders = infielder_str.split(\"\\n\")\n",
    "            outfielders = outfielder_str.split(\"\\n\")\n",
    "            players.extend(pitchers + catchers + infielders + outfielders)\n",
    "    return players"
   ]
  },
  {
   "cell_type": "code",
   "execution_count": 2,
   "id": "94af0f88-cb4a-4d02-9751-43879e1473bf",
   "metadata": {},
   "outputs": [
    {
     "name": "stdout",
     "output_type": "stream",
     "text": [
      "279 ['김진욱', '한현희', '최준용', '박세웅', '구승민', '김상수', '반즈', '신정락', '최이준', '김원중', '윤명준', '나균안', '스트레일리', '유강남', '정보근', '안치홍', '한동희', '김민수', '노진혁', '박승욱', '이학주', '전준우', '정훈', '안권수', '렉스', '김민석', '고승민', '윤동희', '고효준', '서진용', '김광현', '맥카티', '노경은', '박민호', '문승원', '오원석', '임준섭', '신헌민', '박종훈', '백승건', '최민준', '김민식', '조형우', '최정', '박성한', '김건웅', '최주환', '전의산', '최경모', '김성현', '추신수', '에레디아', '한유섬', '오태곤', '김정민', '최상민', '임찬규', '함덕주', '정우영', '진해수', '켈리', '이정용', '배재준', '박명근', '김진성', '플럿코', '김윤식', '이지강', '유영찬', '최성훈', '김기연', '박동원', '오지환', '서건창', '김민성', '문보경', '송찬의', '정주현', '박해민', '김현수', '오스틴', '신민재', '홍창기', '문성주', '박치국', '홍건희', '이병헌', '김동주', '최지강', '알칸타라', '김명신', '곽빈', '최원준', '김유성', '고봉재', '최승용', '정철원', '장승현', '양의지', '허경민', '강승호', '전민재', '김재호', '양석환', '이유찬', '로하스', '정수빈', '김재환', '강진성', '조수행', '양찬열', '송승환', '송명기', '페디', '김태현', '김영규', '김시훈', '임정호', '하준영', '이용준', '신민혁', '김진호', '구창모', '조민석', '이준호', '박세혁', '안중열', '도태훈', '박민우', '오영수', '서호철', '오태양', '윤형준', '김한별', '김주원', '천재환', '김성욱', '손아섭', '박건우', '한석현', '윤영철', '임기영', '이준영', '최지민', '메디나', '이의리', '장현식', '전상현', '김기훈', '양현종', '정해영', '앤더슨', '김대유', '주효상', '한승택', '박찬호', '김규성', '김선빈', '변우혁', '황대인', '홍종표', '류지혁', '이우성', '김호령', '소크라테스', '최형우', '고종욱', '이창진', '김대우', '원태인', '우규민', '이승현', '오승환', '김태훈', '백정현', '뷰캐넌', '문용익', '최충연', '이승현', '수아레즈', '이상민', '이병헌', '김태군', '강민호', '김재상', '이성규', '김영웅', '조민성', '오재일', '김지찬', '이재현', '공민규', '윤정빈', '김성윤', '구자욱', '피렐라', '최원태', '김재웅', '김성진', '양현', '안우진', '요키시', '임창민', '하영민', '정찬헌', '김동혁', '후라도', '김준형', '윤정현', '김동헌', '이지영', '전병우', '이원석', '김태진', '러셀', '김혜성', '김휘집', '김준완', '이용규', '임병욱', '이형종', '박찬혁', '이정후', '이병규', '고영표', '김민', '엄상백', '슐서', '손동현', '벤자민', '박세진', '김영현', '조이현', '박영현', '김재윤', '이선우', '장성우', '김준태', '문상준', '황재균', '오윤석', '강민성', '강백호', '박경수', '김상수', '이시원', '조용호', '문상철', '알포드', '홍현빈', '김민혁', '문동주', '남지민', '김기중', '페냐', '장민재', '이태양', '김범수', '윤대경', '김민우', '김서현', '강재민', '정우람', '박상원', '한승주', '최재훈', '박상언', '김태연', '정은원', '이성곤', '오선진', '문현빈', '노시환', '노수광', '채은성', '유로결', '이진영', '이원석', '장진혁']\n"
     ]
    }
   ],
   "source": [
    "players = load_players()\n",
    "print(len(players), players)"
   ]
  },
  {
   "cell_type": "markdown",
   "id": "9b6f1192-d32b-4eab-a636-55f5d97f1add",
   "metadata": {},
   "source": [
    "### 기사에서 선수 이름 카운팅하기\n",
    "- 선수 이름 리스트를 정규표현식으로 만들어 카운팅을 할 예정\n",
    "- \"양현\", \"양현종\" 선수처럼 이름외 외자인 선수가 존재할 경우, 이름이 세글자인 선수가 먼저 검색에 걸리도록 players 리스트의 순서를 한번 뒤집어준다."
   ]
  },
  {
   "cell_type": "code",
   "execution_count": 3,
   "id": "297dcb6c-cc57-4dc5-bbc7-60bbeb51f637",
   "metadata": {},
   "outputs": [],
   "source": [
    "import re\n",
    "\n",
    "player_pattern = \"\""
   ]
  },
  {
   "cell_type": "markdown",
   "id": "5f5e6fbf-4b4b-48d9-9361-b10f77192f6f",
   "metadata": {},
   "source": [
    "- 정규표현식의 findall 함수를 이용해서 기사에 등장한 선수 이름을 찾습니다.\n",
    "- 길이가 긴 기사와 짧은 기사 간의 형평성을 위해서 중복을 제거해줍니다."
   ]
  },
  {
   "cell_type": "code",
   "execution_count": 4,
   "id": "3ae12579-cbee-4c0e-be36-09c2e0e2d669",
   "metadata": {},
   "outputs": [],
   "source": [
    "def extract_player_names(article):\n",
    "    return re.findall(player_pattern, article)"
   ]
  },
  {
   "cell_type": "code",
   "execution_count": 5,
   "id": "0e5b58cc-1790-44fd-a778-b40883d2b15b",
   "metadata": {},
   "outputs": [
    {
     "data": {
      "text/plain": [
       "['',\n",
       " '',\n",
       " '',\n",
       " '',\n",
       " '',\n",
       " '',\n",
       " '',\n",
       " '',\n",
       " '',\n",
       " '',\n",
       " '',\n",
       " '',\n",
       " '',\n",
       " '',\n",
       " '',\n",
       " '',\n",
       " '',\n",
       " '',\n",
       " '',\n",
       " '',\n",
       " '',\n",
       " '',\n",
       " '',\n",
       " '',\n",
       " '',\n",
       " '',\n",
       " '',\n",
       " '',\n",
       " '',\n",
       " '',\n",
       " '',\n",
       " '',\n",
       " '',\n",
       " '',\n",
       " '',\n",
       " '',\n",
       " '',\n",
       " '',\n",
       " '',\n",
       " '',\n",
       " '',\n",
       " '',\n",
       " '',\n",
       " '']"
      ]
     },
     "execution_count": 5,
     "metadata": {},
     "output_type": "execute_result"
    }
   ],
   "source": [
    "extract_player_names(\"이정후가 양현종을 상대로 홈런을 쳤습니다. 이정후는 팀을 승리로 이끌었습니다.\")"
   ]
  },
  {
   "cell_type": "markdown",
   "id": "1f784b42-b2e4-4ac5-b237-3238658db023",
   "metadata": {},
   "source": [
    "## 선수별 2022년 시계열 뉴스 기사 언급 횟수 데이터 셋 만들기\n",
    "이제 각 선수별로 2022년 누적 언급 횟수를 카운팅하는 데이터 셋을 만들어줍니다.\n",
    "\n",
    "### 1. 각 일자별 기사들을 가져와서 선수 언급 횟수를 카운팅하여 딕셔너리 형태로 만듭니다. \n",
    "- key: 날짜 value: 선수 언급 횟수 Counter\n",
    "- Counter의 key: 선수 이름, value: 언급 횟수\n",
    "\n",
    "```python\n",
    "date_counter = {\n",
    "    \"20230302\": {\n",
    "        \"이정후\": 5,\n",
    "        \"김광현\": 10,\n",
    "        ...\n",
    "    },\n",
    "    \"20230731\": {\n",
    "        \"이정후\": 12,\n",
    "        \"김광현\": 8\n",
    "    },\n",
    "    ...\n",
    "}\n",
    "```\n",
    "\n"
   ]
  },
  {
   "cell_type": "code",
   "execution_count": 6,
   "id": "4188693b-db46-4ea8-a71e-3703abb6690d",
   "metadata": {},
   "outputs": [],
   "source": [
    "from collections import defaultdict, Counter\n",
    "from tqdm import tqdm\n",
    "\n",
    "def get_date_counter():\n",
    "    date_counter = defaultdict(Counter)\n",
    "    return date_counter"
   ]
  },
  {
   "cell_type": "code",
   "execution_count": 7,
   "id": "eb568355-5fa6-4902-b099-27ad9afdefeb",
   "metadata": {},
   "outputs": [],
   "source": [
    "date_counter = get_date_counter()"
   ]
  },
  {
   "cell_type": "code",
   "execution_count": 8,
   "id": "4329c372-e3b7-4068-98fd-3fc82a55ac2f",
   "metadata": {},
   "outputs": [
    {
     "name": "stdout",
     "output_type": "stream",
     "text": [
      "Counter()\n"
     ]
    }
   ],
   "source": [
    "print(date_counter[\"20220301\"])"
   ]
  },
  {
   "cell_type": "markdown",
   "id": "4f71120f-cf94-46f1-acb8-6f0cceda8938",
   "metadata": {},
   "source": [
    "### 2. 2022년 각 일자를 나타내는 리스트를 만들어 줌"
   ]
  },
  {
   "cell_type": "code",
   "execution_count": 9,
   "id": "736060c7-6e63-42e3-83b4-936f92d16820",
   "metadata": {},
   "outputs": [],
   "source": [
    "from datetime import datetime, timedelta\n",
    "\n",
    "def get_dates_between(start_datetime, end_datetime):\n",
    "    datestr_list = []\n",
    "    return datestr_list"
   ]
  },
  {
   "cell_type": "code",
   "execution_count": 10,
   "id": "9ab29de9-578c-4b76-97a9-800e6f29bb6c",
   "metadata": {},
   "outputs": [
    {
     "name": "stdout",
     "output_type": "stream",
     "text": [
      "[]\n"
     ]
    }
   ],
   "source": [
    "date_list = get_dates_between(\n",
    "    start_datetime=datetime(2022, 1, 1),\n",
    "    end_datetime=datetime(2023, 1, 1)\n",
    ")\n",
    "print(date_list)"
   ]
  },
  {
   "cell_type": "markdown",
   "id": "e2d16da3-0702-43c1-b115-6746ea398868",
   "metadata": {},
   "source": [
    "### 3. 선수별로 2022년 시간 흐름에 따른 누적 언급 횟수 집계하기\n",
    "각 선수들의 이름을 key, 2022년도 일자 흐름에 따라서 누적 언급 횟수 list를 value로 갖도록 딕셔너리를 만듬.\n",
    "- key: 선수 이름, value: 각 일자별 누적 언급 횟수\n",
    "```python\n",
    "player_count_dict = {\n",
    "    \"이정후\": [5, 7, 16, 29, 33, ...],\n",
    "    \"김광현\": [1, 1, 5, 8, 10, ...]\n",
    "}\n",
    "```"
   ]
  },
  {
   "cell_type": "code",
   "execution_count": 48,
   "id": "968adff9-a046-4592-94e2-9f1aeec1504c",
   "metadata": {},
   "outputs": [],
   "source": [
    "def get_player_count_dict(date_list, date_counter):\n",
    "    player_count_dict = {player: [0 for x in range(len(date_list))] for player in players}\n",
    "    \n",
    "    for i, date in enumerate(date_list):\n",
    "        cur_counter = date_counter[date]\n",
    "        # 이전 날짜에 언급 횟수를 가져옴\n",
    "        if i > 0:\n",
    "            for player in players:\n",
    "                player_count_dict[player][i] = player_count_dict[player][i-1]\n",
    "        # 현재 날짜에 언급된 횟수를 더해줌\n",
    "        for player in cur_counter:\n",
    "            player_count_dict[player][i] += cur_counter[player]\n",
    "    return player_count_dict"
   ]
  },
  {
   "cell_type": "code",
   "execution_count": 26,
   "id": "832d01a4-421b-4696-83df-5b1fa9a33b50",
   "metadata": {},
   "outputs": [],
   "source": [
    "player_count_dict = get_player_count_dict(date_list, date_counter)"
   ]
  },
  {
   "cell_type": "code",
   "execution_count": 30,
   "id": "ac6f19ac-9f5a-44ba-94b5-b4b8773b7a27",
   "metadata": {},
   "outputs": [
    {
     "name": "stdout",
     "output_type": "stream",
     "text": [
      "[5, 7, 16, 29, 33, 37, 41, 42, 45, 47, 50, 56, 59, 63, 65, 66, 70, 71, 74, 77, 79, 79, 82, 84, 85, 86, 90, 108, 117, 120, 125, 128, 131, 146, 151, 158, 158, 159, 159, 162, 177, 203, 232, 242, 253, 259, 264, 269, 272, 275, 277, 305, 316, 318, 320, 325, 327, 331, 332, 334, 336, 341, 377, 393, 398, 404, 410, 428, 436, 446, 466, 502, 529, 542, 551, 593, 612, 616, 623, 627, 642, 652, 685, 690, 695, 704, 712, 728, 735, 784, 815, 838, 876, 887, 913, 934, 946, 956, 969, 990, 1004, 1031, 1065, 1079, 1106, 1141, 1200, 1225, 1253, 1312, 1359, 1383, 1427, 1440, 1447, 1472, 1508, 1530, 1558, 1572, 1583, 1611, 1651, 1676, 1693, 1720, 1746, 1775, 1794, 1811, 1837, 1855, 1873, 1888, 1909, 1912, 1922, 1929, 1934, 1953, 1964, 1992, 2002, 2037, 2079, 2106, 2114, 2147, 2188, 2202, 2228, 2243, 2274, 2285, 2294, 2302, 2306, 2346, 2377, 2404, 2415, 2426, 2463, 2512, 2557, 2615, 2666, 2702, 2736, 2784, 2825, 2847, 2877, 2923, 2953, 2979, 3014, 3042, 3105, 3208, 3263, 3306, 3353, 3383, 3429, 3500, 3603, 3659, 3693, 3730, 3752, 3798, 3844, 3861, 3909, 3933, 4021, 4039, 4053, 4064, 4071, 4101, 4130, 4171, 4207, 4217, 4257, 4309, 4365, 4398, 4415, 4421, 4434, 4475, 4529, 4567, 4602, 4628, 4650, 4695, 4704, 4763, 4804, 4828, 4855, 4875, 4887, 4936, 4960, 4975, 4978, 4994, 5026, 5033, 5066, 5113, 5128, 5139, 5170, 5188, 5201, 5262, 5353, 5409, 5435, 5447, 5466, 5481, 5528, 5576, 5614, 5634, 5660, 5688, 5709, 5741, 5770, 5827, 5846, 5869, 5884, 5889, 5910, 5933, 5957, 5990, 6032, 6049, 6058, 6087, 6103, 6154, 6201, 6213, 6219, 6225, 6255, 6268, 6299, 6307, 6319, 6341, 6406, 6452, 6503, 6517, 6555, 6583, 6708, 6861, 6954, 7091, 7222, 7263, 7321, 7350, 7524, 7692, 7746, 7946, 8146, 8195, 8232, 8323, 8469, 8599, 8632, 8738, 8860, 8876, 8972, 9143, 9233, 9270, 9275, 9279, 9279, 9309, 9323, 9335, 9440, 9500, 9508, 9514, 9523, 9526, 9546, 9552, 9556, 9559, 9560, 9583, 9590, 9594, 9648, 9667, 9677, 9680, 9707, 9716, 9736, 9795, 9868, 9891, 9904, 9917, 9923, 9929, 9934, 9967, 9971, 9975, 10017, 10086, 10115, 10133, 10145, 10146, 10155, 10184, 10204, 10213, 10216, 10224, 10226, 10226]\n"
     ]
    }
   ],
   "source": [
    "# 2022년 1월 1일부터 12월 31일까지 스포츠 뉴스에 이정후 선수가 언급된 누적 횟수\n",
    "print(player_count_dict[\"이정후\"])"
   ]
  },
  {
   "cell_type": "markdown",
   "id": "b7cb27a7-f884-461e-93f1-da981c8d7b78",
   "metadata": {},
   "source": [
    "## 결과 출력하기"
   ]
  },
  {
   "cell_type": "code",
   "execution_count": 33,
   "id": "0e9edafc-5c4d-4518-a24e-e49e3d81c1cf",
   "metadata": {},
   "outputs": [],
   "source": [
    "def convert_date_format(date):\n",
    "    return datetime.strptime(date, \"%Y%m%d\").strftime(\"%Y-%m-%d\")\n",
    "    \n",
    "with open(\"./data/baseball_timeseries.csv\", \"w\") as fw:\n",
    "    writer = csv.writer(fw)\n",
    "    writer.writerow([\"name\", \"imge\"] + [convert_date_format(x) for x in date_list])\n",
    "    for player_key in player_count_dict:\n",
    "        writer.writerow([player_key, \"\"] + player_count_dict[player_key])"
   ]
  },
  {
   "cell_type": "code",
   "execution_count": null,
   "id": "128822e3-b9dd-4f1a-8728-df625f28540f",
   "metadata": {},
   "outputs": [],
   "source": []
  }
 ],
 "metadata": {
  "kernelspec": {
   "display_name": "Python 3 (ipykernel)",
   "language": "python",
   "name": "python3"
  },
  "language_info": {
   "codemirror_mode": {
    "name": "ipython",
    "version": 3
   },
   "file_extension": ".py",
   "mimetype": "text/x-python",
   "name": "python",
   "nbconvert_exporter": "python",
   "pygments_lexer": "ipython3",
   "version": "3.10.8"
  }
 },
 "nbformat": 4,
 "nbformat_minor": 5
}
