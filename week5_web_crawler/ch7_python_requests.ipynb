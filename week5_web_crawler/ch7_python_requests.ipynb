{
 "cells": [
  {
   "cell_type": "markdown",
   "id": "03e3e1c5-40c2-4a10-963c-56985f4f8dd5",
   "metadata": {},
   "source": [
    "## ch7 python requests를 이용한 크롤러 개발\n",
    "\n",
    "\n",
    "### 1. 필요 라이브러리\n",
    "이제 본격적으로 크롤러를 개발해보겠습니다. 웹 크롤러를 만들기 위해서는 먼저 http client가 있어야 합니다. 지금까지는 웹 브라우저를 클라이언트로 사용하였는데, python의 reuests라는 라이브러리를 사용하면 쉽게 HTTP 요청을 보낼 수 있습니다. 그리고 응답으로 수신한 HTML 문서를 쉽게 파싱하기 위해서 BeautifulSoup이라는 라이브러리를 이요하겠습니다.\n",
    "\n",
    "- requests\n",
    "- BeautifualSoup"
   ]
  },
  {
   "cell_type": "code",
   "execution_count": 1,
   "id": "9b111c01-e71a-4ddd-91d3-4f2135d92164",
   "metadata": {},
   "outputs": [
    {
     "name": "stdout",
     "output_type": "stream",
     "text": [
      "Requirement already satisfied: requests in /Users/user/miniconda3/envs/luxury/lib/python3.10/site-packages (2.31.0)\n",
      "Requirement already satisfied: charset-normalizer<4,>=2 in /Users/user/miniconda3/envs/luxury/lib/python3.10/site-packages (from requests) (3.3.2)\n",
      "Requirement already satisfied: idna<4,>=2.5 in /Users/user/miniconda3/envs/luxury/lib/python3.10/site-packages (from requests) (3.7)\n",
      "Requirement already satisfied: urllib3<3,>=1.21.1 in /Users/user/miniconda3/envs/luxury/lib/python3.10/site-packages (from requests) (2.2.1)\n",
      "Requirement already satisfied: certifi>=2017.4.17 in /Users/user/miniconda3/envs/luxury/lib/python3.10/site-packages (from requests) (2024.2.2)\n",
      "Requirement already satisfied: beautifulsoup4 in /Users/user/miniconda3/envs/luxury/lib/python3.10/site-packages (4.12.3)\n",
      "Requirement already satisfied: soupsieve>1.2 in /Users/user/miniconda3/envs/luxury/lib/python3.10/site-packages (from beautifulsoup4) (2.5)\n"
     ]
    }
   ],
   "source": [
    "!pip install requests\n",
    "!pip install beautifulsoup4"
   ]
  },
  {
   "cell_type": "code",
   "execution_count": 2,
   "id": "93b3c56b-edbd-4340-bb38-3026b9c2525d",
   "metadata": {},
   "outputs": [],
   "source": [
    "import requests\n",
    "from bs4 import BeautifulSoup"
   ]
  },
  {
   "cell_type": "markdown",
   "id": "5d1c2bfb-d04e-466c-b459-590f986364e7",
   "metadata": {},
   "source": [
    "### 2. news list backend API에 HTTP 요청 보내기\n",
    "뉴스 기사 목록을 내려주는 네이버 스포츠 백엔드 API에 2023년 5월 10일 뉴스 기사 목록을 요청을 보낸 뒤, 응답을 json 객체로 바꿔보겠습니다. json은 python에서는 dict 데이터 타입으로 표현됩니다."
   ]
  },
  {
   "cell_type": "code",
   "execution_count": 4,
   "id": "02e63a03-1557-46fb-88d5-3cc1046f9f2c",
   "metadata": {},
   "outputs": [],
   "source": [
    "url = \"https://sports.news.naver.com/kbaseball/news/list?isphoto=N&date=20230510\""
   ]
  },
  {
   "cell_type": "code",
   "execution_count": 5,
   "id": "c50fb647-bb06-4608-a06e-7201c8cadac4",
   "metadata": {},
   "outputs": [],
   "source": [
    "resp = requests.get(url)"
   ]
  },
  {
   "cell_type": "code",
   "execution_count": 9,
   "id": "7e282edb-42f4-4da4-867f-c78ead919d27",
   "metadata": {},
   "outputs": [
    {
     "data": {
      "text/plain": [
       "<Response [200]>"
      ]
     },
     "execution_count": 9,
     "metadata": {},
     "output_type": "execute_result"
    }
   ],
   "source": [
    "resp"
   ]
  },
  {
   "cell_type": "code",
   "execution_count": 10,
   "id": "82666bba-db61-43b7-abaf-6b9a18b66f74",
   "metadata": {},
   "outputs": [],
   "source": [
    "resp_json = resp.json()"
   ]
  },
  {
   "cell_type": "code",
   "execution_count": 11,
   "id": "d4b7256e-0831-4636-b013-5a2541c98434",
   "metadata": {},
   "outputs": [
    {
     "data": {
      "text/plain": [
       "dict"
      ]
     },
     "execution_count": 11,
     "metadata": {},
     "output_type": "execute_result"
    }
   ],
   "source": [
    "type(resp_json)"
   ]
  },
  {
   "cell_type": "code",
   "execution_count": 13,
   "id": "34a9fe84-b549-4eb8-8f16-2ef02c46da53",
   "metadata": {},
   "outputs": [
    {
     "data": {
      "text/plain": [
       "{'oid': '425',\n",
       " 'aid': '0000140099',\n",
       " 'officeName': '마니아타임즈',\n",
       " 'title': '[10일 팀 순위표]롯데, 하룻만에 LG 밀어내고 2위 자리 되찾아…삼성과 두산은 한화와 롯데에 덜미 잡히며 5할 승률 무너져',\n",
       " 'subContent': None,\n",
       " 'thumbnail': 'http://imgnews.naver.net/image/thumb154/425/2023/05/10/140099.jpg',\n",
       " 'datetime': '2023.05.10 23:58',\n",
       " 'url': None,\n",
       " 'sectionName': 'KBO리그',\n",
       " 'type': 'PHOTO',\n",
       " 'totalCount': 320}"
      ]
     },
     "execution_count": 13,
     "metadata": {},
     "output_type": "execute_result"
    }
   ],
   "source": [
    "resp_json[\"list\"][0]"
   ]
  },
  {
   "cell_type": "code",
   "execution_count": 14,
   "id": "dc6ce9d8-4a53-4f54-b803-90ffaa77b65c",
   "metadata": {},
   "outputs": [
    {
     "data": {
      "text/plain": [
       "25"
      ]
     },
     "execution_count": 14,
     "metadata": {},
     "output_type": "execute_result"
    }
   ],
   "source": [
    "resp_json[\"totalPages\"]"
   ]
  },
  {
   "cell_type": "markdown",
   "id": "4965c9ae-f12a-4584-b67a-e033cb422549",
   "metadata": {},
   "source": [
    "### 3. 반목문을 돌면서 모든 페이지의 뉴스 기사 oid, aid 수집하기\n",
    "totalPages 값을 통해서 2023년 5월 10일 야구 뉴스 기사가 총 25 페이지 있다는 것을 알게되었습니다. 우리가 원하는 것은 특정일에 나온 뉴스 기사들의 oid와 aid들입니다. 한번 for문을 돌면서 모든 페이지를 요청하고, oid와 aid를 수집해보겠습니다. \n",
    "\n",
    "전체 진행 상황을 모니터링 하기 위해서 tqdm 라이브러리를 사용해보겠습니다.  "
   ]
  },
  {
   "cell_type": "code",
   "execution_count": 15,
   "id": "9d066b68-7ffd-4efa-9368-c54c1fb585fc",
   "metadata": {},
   "outputs": [],
   "source": [
    "total_pages = resp_json[\"totalPages\"] "
   ]
  },
  {
   "cell_type": "code",
   "execution_count": 23,
   "id": "9d11eb99-50ec-44c7-917a-0fc271522e0c",
   "metadata": {},
   "outputs": [
    {
     "name": "stderr",
     "output_type": "stream",
     "text": [
      "100%|██████████████████████████████████████████████████████████████████████████████████████████████| 25/25 [00:05<00:00,  4.62it/s]\n"
     ]
    }
   ],
   "source": [
    "from tqdm import tqdm\n",
    "\n",
    "def parse_news_list(resp):\n",
    "    oid_aid_tuple_list = []\n",
    "    resp_json = resp.json()\n",
    "    for item in resp_json[\"list\"]:\n",
    "        oid_aid_tuple_list.append((item[\"oid\"], item[\"aid\"]))\n",
    "    return oid_aid_tuple_list\n",
    "\n",
    "total_oid_aid_list = []\n",
    "for i in tqdm(range(total_pages)):\n",
    "    article_list_url =  f\"https://sports.news.naver.com/kbaseball/news/list?isphoto=N&date=20230510&page={i+1}\" \n",
    "    resp = requests.get(article_list_url)\n",
    "    oid_aid_tuple_list = parse_news_list(resp)\n",
    "    total_oid_aid_list.extend(oid_aid_tuple_list)"
   ]
  },
  {
   "cell_type": "code",
   "execution_count": 24,
   "id": "25abe6d3-fa1f-4dd6-bfd3-d78c9b31afdf",
   "metadata": {},
   "outputs": [
    {
     "data": {
      "text/plain": [
       "499"
      ]
     },
     "execution_count": 24,
     "metadata": {},
     "output_type": "execute_result"
    }
   ],
   "source": [
    "len(total_oid_aid_list)"
   ]
  },
  {
   "cell_type": "code",
   "execution_count": 25,
   "id": "b5f67964-f7ba-444d-b3e0-aa181ccf452a",
   "metadata": {},
   "outputs": [
    {
     "data": {
      "text/plain": [
       "[('425', '0000140099'),\n",
       " ('425', '0000140098'),\n",
       " ('076', '0004005847'),\n",
       " ('422', '0000598002'),\n",
       " ('117', '0003727891'),\n",
       " ('023', '0003762909'),\n",
       " ('421', '0006799173'),\n",
       " ('032', '0003222806'),\n",
       " ('311', '0001591181'),\n",
       " ('109', '0004847557')]"
      ]
     },
     "execution_count": 25,
     "metadata": {},
     "output_type": "execute_result"
    }
   ],
   "source": [
    "total_oid_aid_list[:10]"
   ]
  },
  {
   "cell_type": "markdown",
   "id": "e05215dd-8d2f-43d2-a37a-f4b5b6714bd5",
   "metadata": {},
   "source": [
    "### 4. 뉴스 기사 페이지를 요청한 뒤, 기사 제목과 본문 파싱하기 \n",
    "기사 상세 페이지를 하나만 요청한 뒤, BeautifulSoup을 이용해 파싱해보겠습니다. BeautifulSoup 객체를 만들 때 뒤에 붙여주는 \"lxml\"은 BeautifulSoup에 내장된 HTML 파서 중 가장 많이 사용되는 것입니다."
   ]
  },
  {
   "cell_type": "code",
   "execution_count": 65,
   "id": "73c2e9d7-0778-4a6d-b767-bb069565758e",
   "metadata": {},
   "outputs": [],
   "source": [
    "article_url = \"https://sports.news.naver.com/news?oid=139&aid=0002183715\""
   ]
  },
  {
   "cell_type": "code",
   "execution_count": 66,
   "id": "2aa93c09-d4ff-402d-85f4-10051b6c8331",
   "metadata": {},
   "outputs": [],
   "source": [
    "resp = requests.get(article_url)"
   ]
  },
  {
   "cell_type": "code",
   "execution_count": 67,
   "id": "b29021f3-2037-4316-bd09-321c9975196e",
   "metadata": {},
   "outputs": [],
   "source": [
    "soup = BeautifulSoup(resp.text, \"lxml\")"
   ]
  },
  {
   "cell_type": "code",
   "execution_count": 68,
   "id": "b4de2b96-8fde-4be3-8433-00c810b73365",
   "metadata": {},
   "outputs": [],
   "source": [
    "# 제목 파싱\n",
    "title_text = soup.find(\"h4\", class_=\"title\").get_text()"
   ]
  },
  {
   "cell_type": "code",
   "execution_count": 69,
   "id": "a52fcaf3-80cd-4477-8497-f187dcf34820",
   "metadata": {},
   "outputs": [
    {
     "data": {
      "text/plain": [
       "\"'평균 구속 143.2km/h' 돌직구가 사라진 최고령 투수 오승환이 살아남는 법\""
      ]
     },
     "execution_count": 69,
     "metadata": {},
     "output_type": "execute_result"
    }
   ],
   "source": [
    "title_text"
   ]
  },
  {
   "cell_type": "code",
   "execution_count": 70,
   "id": "f2a7610a-981c-4810-ac3f-fcb65fdc065d",
   "metadata": {},
   "outputs": [],
   "source": [
    "# 본문 파싱\n",
    "newsEndContents = soup.find(\"div\", id=\"newsEndContents\")"
   ]
  },
  {
   "cell_type": "code",
   "execution_count": 72,
   "id": "ca714cbc-50c9-4ea0-b98e-35f0cd98294b",
   "metadata": {},
   "outputs": [
    {
     "data": {
      "text/plain": [
       "<div class=\"news_end\" id=\"newsEndContents\">\n",
       "<span class=\"end_photo_org\"><img alt=\"\" src=\"https://imgnews.pstatic.net/image/139/2023/05/22/0002183715_001_20230522225401253.jpg?type=w647\"/></span> <br/> [스포탈코리아] 김경현 기자= 삼성 라이온즈의 끝판왕 오승환이 생존을 위해 끊임없이 발전하고 있다.<br/>잡<br/>오승환은 21일 창원 NC 다이노스전 1-1 동점 상황 연장 11회 말 등판했다. 선두타자 마틴에게 볼넷을 내줬지만 권희동을 5-4-3 병살타로 잡아내며 한숨을 돌린 오승환. 후속타자 박세혁에게 5연속 직구를 던지며 2루수 땅볼로 이닝을 마쳤다.<br/><br/>12회 초 공민규의 3루타와 강민호의 희생플라이로 역전에 성공한 삼성. 오승환은 세이브 상황은 아니지만 삼성의 승리를 지키기 위해 12회 말에도 마운드에 올랐다. 선두타자 김한별을 3루 땅볼로 잡아냈지만 도태훈에게 볼넷, 김주원에게 몸에 맞은 공이 나오며 1사 1, 2루 위기에 몰렸다. 오승환은 돌부처답게 흔들리지 않았다. 천재환을 중견수 뜬공, 서호철을 3루 땅볼로 처리하며 경기를 마무리했다.<br/><br/>이날 오승환은 KBO 통산 39번째 승리를 거두었다. 2이닝 동안 총 32구를 던졌으며 스트라이크 비율은 56.3%에 달했다.<br/><br/>21일 오승환은 커브의 구사율을 15.6%까지 올렸다. 2023 시즌 중 2번째로 높은 수치다.(4월 13일 20.8%) 오승환의 올 시즌 커브 구사 비율은 8.7%로 한국 복귀 이후 가장 높다.(2020년 4.6%, 2021년 6.0%, 2022년 4.4%)<br/><br/>오승환의 트레이드 마크는 시속 150km를 넘나드는 강속구였다. 하지만 지금 오승환은 82년생으로 리그 최고령 투수가 됐고 이전과 같은 강속구를 찾아볼 수 없다. 이번 시즌 오승환의 패스트볼 평균 구속은 시속 143.2km로 한국 복귀 이후 가장 낮다. 2023년 KBO리그 패스트볼 평균 구속은 시속 143.5km로, 오승환은 커리어 최초로 리그 평균보다 느린 패스트볼을 던지고 있다.<br/><br/>패스트볼 구속이 떨어지자 위력 역시 자연스럽게 내려갔다. 오승환은 2020년 한국에 복귀하고 평균 시속 146.2km의 패스트볼을 던졌으며 구종 가치는 4.8을 기록했다. 2021년 패스트볼 평균 구속은 시속 145.7km였으며 구종 가치 9.6로 정점을 찍었다. 작년 평균 구속은 시속 144.7km, 구종 가치는 1.4로 하락했으며, 올해는 구종 가치가 -2.4로 떨어졌다.<br/><br/>오승환은 패스트볼 구위가 떨어지자 해법을 변화구에서 찾고 있다. 2020년부터 올해까지 오승환의 패스트볼 구사 비율은 52.3%→50.2%→47.2%→46.5%로 낮아졌다. 그 빈자리를 슬라이더와 체인지업 그리고 커브가 채웠다. 올 시즌 오승환의 2스트라이크 이후 커브 구사 비율은 10.1%로 커리어 중 가장 높다. 2스트라이크 이후 패스트볼 구사 비율은 41.6% 밖에 되지 않는다. 구사 비율만 보면 오승환은 패스트볼(46.5%), 슬라이더(30.0%), 체인지업(12.3%), 커브(8.7%)를 고루 구사하는 포피치 선발투수와 흡사하다.<br/><br/>이제 타자를 돌직구로 윽박지르는 끝판왕 오승환은 없다. 대신 팔색조 투구로 타자를 어르고 달래며 아웃 카운트를 잡는 노련한 82년생 투수가 마운드 위에 있다. 투수의 목적은 강속구를 뿌리는 게 아닌 최소 실점이다. 오승환은 그 점을 누구보다 잘 알고 실천하고 있다.<br/><br/>사진=OSEN <br/> <br/>취재문의 sportal@sportalkorea.co.kr\n",
       "\t\t\t\t\t\t\n",
       "\t\t\t\t\t\t\n",
       "\t\t\t\t\t\t\n",
       "\t\t\t\t\t\t\n",
       "\t\t\t\t\t\t<p class=\"source\"><b>기사제공</b> 스포탈코리아</p>\n",
       "<p class=\"byline\">김경현 kij4457@sportalkorea.com</p>\n",
       "<!-- /* 기자 카드 + 본문 내 기자 정보 -->\n",
       "<div class=\"reporter_area\">\n",
       "<div class=\"reporter_recommend\" style=\"display:none\">\n",
       "</div>\n",
       "</div>\n",
       "<!-- 카피라이트 배너 -->\n",
       "<div class=\"copyright\">\n",
       "<p>Copyright ⓒ 스포탈코리아. All rights reserved. 무단 전재 및 재배포 금지.</p>\n",
       "</div>\n",
       "<!-- 기사 분류 -->\n",
       "<div class=\"categorize\" id=\"_article_section_guide\">\n",
       "<a aria-describedby=\"wa_categorize_tooltip\" class=\"btn_guide_categorize\" href=\"#wa_categorize_tooltip\" role=\"button\">기사 섹션 분류 가이드</a>\n",
       "<div class=\"guide_categorize\" style=\"display: none;\">\n",
       "<em class=\"guide_title\">기사 섹션 분류 안내</em>\n",
       "<p class=\"guide_text\" id=\"wa_categorize_tooltip\" role=\"tooltip\">스포츠 기사 섹션(종목) 정보는 언론사 분류와 기술 기반의 자동 분류 시스템을 따르고 있습니다. 오분류에 대한 건은 네이버스포츠로 제보 부탁드립니다.</p>\n",
       "<a class=\"btn_report\" href=\"https://help.naver.com/alias/contents2/sports/sports_7.naver\" target=\"_blank\" title=\"새창\">오분류 제보하기</a>\n",
       "<button class=\"btn_close\" type=\"button\"><span class=\"blind\">가이드 닫기</span></button>\n",
       "</div>\n",
       "</div>\n",
       "<!-- 언론사 프로모션 링크 -->\n",
       "</div>"
      ]
     },
     "execution_count": 72,
     "metadata": {},
     "output_type": "execute_result"
    }
   ],
   "source": [
    "newsEndContents"
   ]
  },
  {
   "cell_type": "markdown",
   "id": "f8e64cae-6952-405e-a826-1861b7b4939c",
   "metadata": {},
   "source": [
    "기사 본문 외에도 기자 명이나 언론사 링크 등의 불필요한 정보들이 포함되어 있다. 예를 들어 div id=\"newsEndContents\" 태그 안에 포함된 p, div, span, em 태그들은 모두 불필요한 텍스트들을 가지고 있다. 이를 BeautifulSoup를 이용해서 제거한다. "
   ]
  },
  {
   "cell_type": "code",
   "execution_count": 76,
   "id": "f81f41fc-4cc8-4294-88e2-9bc7813b7d94",
   "metadata": {},
   "outputs": [],
   "source": [
    "def _remove_tags(parent_soup, target_tag):\n",
    "    tags = parent_soup.find_all(target_tag)\n",
    "    for tag in tags:\n",
    "        tag.decompose()"
   ]
  },
  {
   "cell_type": "code",
   "execution_count": 80,
   "id": "4a31fced-f867-4922-8690-91b61770c576",
   "metadata": {},
   "outputs": [],
   "source": [
    "_remove_tags(newsEndContents, \"p\")\n",
    "_remove_tags(newsEndContents, \"div\")\n",
    "_remove_tags(newsEndContents, \"em\")\n",
    "_remove_tags(newsEndContents, \"span\")\n",
    "article = newsEndContents.get_text(separator=\" \").strip()\n",
    "article = article.replace(\"\\xa0\", \" \")"
   ]
  },
  {
   "cell_type": "code",
   "execution_count": 81,
   "id": "fe4ed08c-cafe-4e75-a571-8d864e832fc0",
   "metadata": {},
   "outputs": [
    {
     "data": {
      "text/plain": [
       "'[스포탈코리아] 김경현 기자= 삼성 라이온즈의 끝판왕 오승환이 생존을 위해 끊임없이 발전하고 있다. 잡 오승환은 21일 창원 NC 다이노스전 1-1 동점 상황 연장 11회 말 등판했다. 선두타자 마틴에게 볼넷을 내줬지만 권희동을 5-4-3 병살타로 잡아내며 한숨을 돌린 오승환. 후속타자 박세혁에게 5연속 직구를 던지며 2루수 땅볼로 이닝을 마쳤다. 12회 초 공민규의 3루타와 강민호의 희생플라이로 역전에 성공한 삼성. 오승환은 세이브 상황은 아니지만 삼성의 승리를 지키기 위해 12회 말에도 마운드에 올랐다. 선두타자 김한별을 3루 땅볼로 잡아냈지만 도태훈에게 볼넷, 김주원에게 몸에 맞은 공이 나오며 1사 1, 2루 위기에 몰렸다. 오승환은 돌부처답게 흔들리지 않았다. 천재환을 중견수 뜬공, 서호철을 3루 땅볼로 처리하며 경기를 마무리했다. 이날 오승환은 KBO 통산 39번째 승리를 거두었다. 2이닝 동안 총 32구를 던졌으며 스트라이크 비율은 56.3%에 달했다. 21일 오승환은 커브의 구사율을 15.6%까지 올렸다. 2023 시즌 중 2번째로 높은 수치다.(4월 13일 20.8%) 오승환의 올 시즌 커브 구사 비율은 8.7%로 한국 복귀 이후 가장 높다.(2020년 4.6%, 2021년 6.0%, 2022년 4.4%) 오승환의 트레이드 마크는 시속 150km를 넘나드는 강속구였다. 하지만 지금 오승환은 82년생으로 리그 최고령 투수가 됐고 이전과 같은 강속구를 찾아볼 수 없다. 이번 시즌 오승환의 패스트볼 평균 구속은 시속 143.2km로 한국 복귀 이후 가장 낮다. 2023년 KBO리그 패스트볼 평균 구속은 시속 143.5km로, 오승환은 커리어 최초로 리그 평균보다 느린 패스트볼을 던지고 있다. 패스트볼 구속이 떨어지자 위력 역시 자연스럽게 내려갔다. 오승환은 2020년 한국에 복귀하고 평균 시속 146.2km의 패스트볼을 던졌으며 구종 가치는 4.8을 기록했다. 2021년 패스트볼 평균 구속은 시속 145.7km였으며 구종 가치 9.6로 정점을 찍었다. 작년 평균 구속은 시속 144.7km, 구종 가치는 1.4로 하락했으며, 올해는 구종 가치가 -2.4로 떨어졌다. 오승환은 패스트볼 구위가 떨어지자 해법을 변화구에서 찾고 있다. 2020년부터 올해까지 오승환의 패스트볼 구사 비율은 52.3%→50.2%→47.2%→46.5%로 낮아졌다. 그 빈자리를 슬라이더와 체인지업 그리고 커브가 채웠다. 올 시즌 오승환의 2스트라이크 이후 커브 구사 비율은 10.1%로 커리어 중 가장 높다. 2스트라이크 이후 패스트볼 구사 비율은 41.6% 밖에 되지 않는다. 구사 비율만 보면 오승환은 패스트볼(46.5%), 슬라이더(30.0%), 체인지업(12.3%), 커브(8.7%)를 고루 구사하는 포피치 선발투수와 흡사하다. 이제 타자를 돌직구로 윽박지르는 끝판왕 오승환은 없다. 대신 팔색조 투구로 타자를 어르고 달래며 아웃 카운트를 잡는 노련한 82년생 투수가 마운드 위에 있다. 투수의 목적은 강속구를 뿌리는 게 아닌 최소 실점이다. 오승환은 그 점을 누구보다 잘 알고 실천하고 있다. 사진=OSEN    취재문의 sportal@sportalkorea.co.kr'"
      ]
     },
     "execution_count": 81,
     "metadata": {},
     "output_type": "execute_result"
    }
   ],
   "source": [
    "article"
   ]
  },
  {
   "cell_type": "markdown",
   "id": "dc693166-6589-4892-91f7-ad4b4423490c",
   "metadata": {},
   "source": [
    "### 5. 코드 정리 및 CSV 파일에 데이터 쓰기\n",
    "지금까지 네이버 스포츠에서 특정 요일에 야구 기사 목록을 가져온 뒤, 각각의 기사의 제목과 본문을 수집하는 크롤러를 개발해보았다. 코드를 정리해보면 아래와 같다."
   ]
  },
  {
   "cell_type": "code",
   "execution_count": 83,
   "id": "a72c98b9-ff2a-4810-8a59-cc381363d3fc",
   "metadata": {},
   "outputs": [],
   "source": [
    "target_date = \"20230510\"\n",
    "article_list_url_format = \"https://sports.news.naver.com/kbaseball/news/list?isphoto=N&date={date}&page={page}\""
   ]
  },
  {
   "cell_type": "code",
   "execution_count": 95,
   "id": "0649a115-fde6-4311-ae09-4a4ba0b911ed",
   "metadata": {},
   "outputs": [],
   "source": [
    "def get_total_pages(date):\n",
    "    \"\"\"\n",
    "    전체 페이지 수를 알기 위해 첫 페이지 요청을 보낸 뒤, 전체 페이지 수만 리턴\n",
    "    \"\"\"\n",
    "    resp = requests.get(article_list_url_format.format(date=date, page=1))\n",
    "    resp_json = resp.json()\n",
    "    total_pages = resp_json[\"totalPages\"]\n",
    "    return total_pages"
   ]
  },
  {
   "cell_type": "code",
   "execution_count": 97,
   "id": "8ce20964-f89e-4554-bc17-d04df00b8785",
   "metadata": {},
   "outputs": [
    {
     "name": "stdout",
     "output_type": "stream",
     "text": [
      "total_pages: 25\n"
     ]
    }
   ],
   "source": [
    "total_pages = get_total_pages(target_date)\n",
    "print(\"total_pages:\", total_pages)"
   ]
  },
  {
   "cell_type": "code",
   "execution_count": 111,
   "id": "71411617-ccb3-495c-958c-85beb8111892",
   "metadata": {},
   "outputs": [],
   "source": [
    "#  뉴스 기사 목록 파싱 로직을 함수화 한 뒤, 반복문을 돌며 요청을 보내어 oid, aid 수집\n",
    "from tqdm import tqdm\n",
    "\n",
    "def parse_news_list(resp):\n",
    "    \"\"\"\n",
    "    스포츠 뉴스 목록 응답을 파싱하는 함수\n",
    "    각 아이템별로 oid와 aid를 추출한 뒤, 튜플로 묶어주어 list에 담은 뒤 리턴\n",
    "    \"\"\"\n",
    "    oid_aid_tuple_list = []\n",
    "    resp_json = resp.json()\n",
    "    for item in resp_json[\"list\"]:\n",
    "        oid_aid_tuple_list.append((item[\"oid\"], item[\"aid\"]))\n",
    "    return oid_aid_tuple_list\n",
    "\n",
    "def crawl_article_oid_aid(date, total_pages):\n",
    "    \"\"\"\n",
    "    반복문을 돌며 각 뉴스 기사 페이지 요청 및 파싱\n",
    "    \"\"\"\n",
    "    total_oid_aid_list = []\n",
    "    total_pages = get_total_pages(date) \n",
    "    for i in tqdm(range(total_pages)):\n",
    "        article_list_url = article_list_url_format.format(date=date, page=(i+1))\n",
    "        resp = requests.get(article_list_url)\n",
    "        oid_aid_tuple_list = parse_news_list(resp)\n",
    "        total_oid_aid_list.extend(oid_aid_tuple_list)\n",
    "    return total_oid_aid_list"
   ]
  },
  {
   "cell_type": "code",
   "execution_count": 112,
   "id": "f14b8e6c-6749-4fac-b3c7-ebdbbf10b479",
   "metadata": {},
   "outputs": [
    {
     "name": "stderr",
     "output_type": "stream",
     "text": [
      "100%|██████████████████████████████████████████████████████████████████████████████████████████████| 25/25 [00:04<00:00,  5.15it/s]\n"
     ]
    }
   ],
   "source": [
    "total_oid_aid_list = crawl_article_oid_aid(target_date, total_pages)"
   ]
  },
  {
   "cell_type": "code",
   "execution_count": 106,
   "id": "03cd7a07-cc1c-4515-a4c0-7d7967e09a4c",
   "metadata": {},
   "outputs": [
    {
     "name": "stdout",
     "output_type": "stream",
     "text": [
      "total_oid_aid_list 499\n"
     ]
    }
   ],
   "source": [
    "print(\"total_oid_aid_list\", len(total_oid_aid_list))"
   ]
  },
  {
   "cell_type": "code",
   "execution_count": 107,
   "id": "2b672fc9-f095-4247-bb92-36e5577c2299",
   "metadata": {},
   "outputs": [],
   "source": [
    "def remove_tags(parent_soup, target_tag):\n",
    "    \"\"\"\n",
    "    BeautifulSoup 객체에서 불필요한 태그를 삭제하는 함수\n",
    "    \"\"\"\n",
    "    tags = parent_soup.find_all(target_tag)\n",
    "    for tag in tags:\n",
    "        tag.decompose()"
   ]
  },
  {
   "cell_type": "code",
   "execution_count": 2,
   "id": "9390e462-48fd-4580-8a0f-fa5c3b3ce4d4",
   "metadata": {},
   "outputs": [],
   "source": [
    "def parse_article(resp):\n",
    "    soup = BeautifulSoup(resp.text, \"lxml\")\n",
    "    # 제목 파싱\n",
    "    title = soup.find(\"h4\", class_=\"title\").get_text()\n",
    "    \n",
    "    # 본문 파싱\n",
    "    content_soup = soup.find(\"div\", id=\"newsEndContents\")\n",
    "    _remove_tags(content_soup, \"p\")\n",
    "    _remove_tags(content_soup, \"div\")\n",
    "    _remove_tags(content_soup, \"em\")\n",
    "    _remove_tags(content_soup, \"span\")\n",
    "    content = content_soup.get_text().strip()\n",
    "    return title, content"
   ]
  },
  {
   "cell_type": "code",
   "execution_count": 1,
   "id": "52b09d3f-d86f-48e8-b67f-8e6cbf0ef51f",
   "metadata": {},
   "outputs": [],
   "source": [
    "import csv\n",
    "\n",
    "article_url_format = \"https://sports.news.naver.com/news?oid={oid}&aid={aid}\"\n",
    "\n",
    "def crawl_articles(oid_aid_list):\n",
    "    \"\"\"\n",
    "    특정 기사의 oid와 aid를 담은 list를 받아서 각 페이지를 요청한 뒤,\n",
    "    기사의 제목과 본문을 파싱하여 csv 파일에 쓰는 함수\n",
    "    \"\"\"\n",
    "    with open(\"./baseball_news.csv\", \"w\") as fw:\n",
    "        writer = csv.writer(fw)\n",
    "        writer.writerow([\"\"])\n",
    "        for oid, aid in tqdm(oid_aid_list, total=len(oid_aid_list)):\n",
    "            article_url = article_url_format.format(oid=oid, aid=aid)\n",
    "            resp = requests.get(article_url)\n",
    "            # 파싱 에러 처리\n",
    "            try:\n",
    "                title, content = parse_article(resp)\n",
    "                if not title or not content:\n",
    "                    continue\n",
    "            except Exception as e:\n",
    "                print(e, article_url)\n",
    "                continue\n",
    "            writer.writerow([article_url, title, content])"
   ]
  },
  {
   "cell_type": "code",
   "execution_count": 122,
   "id": "0c4ea2c0-1f0b-4445-b47b-cbedc3643bd5",
   "metadata": {},
   "outputs": [
    {
     "name": "stderr",
     "output_type": "stream",
     "text": [
      "100%|████████████████████████████████████████████████████████████████████████████████████████████| 499/499 [02:29<00:00,  3.33it/s]\n"
     ]
    }
   ],
   "source": [
    "crawl_articles(total_oid_aid_list)"
   ]
  },
  {
   "cell_type": "code",
   "execution_count": null,
   "id": "a7679414-df3f-4b06-87e0-82acd6000759",
   "metadata": {},
   "outputs": [],
   "source": []
  }
 ],
 "metadata": {
  "kernelspec": {
   "display_name": "Python 3 (ipykernel)",
   "language": "python",
   "name": "python3"
  },
  "language_info": {
   "codemirror_mode": {
    "name": "ipython",
    "version": 3
   },
   "file_extension": ".py",
   "mimetype": "text/x-python",
   "name": "python",
   "nbconvert_exporter": "python",
   "pygments_lexer": "ipython3",
   "version": "3.10.0"
  }
 },
 "nbformat": 4,
 "nbformat_minor": 5
}
