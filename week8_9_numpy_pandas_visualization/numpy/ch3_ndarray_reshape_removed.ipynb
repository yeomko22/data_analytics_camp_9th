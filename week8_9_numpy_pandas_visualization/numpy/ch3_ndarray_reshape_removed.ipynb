{
 "cells": [
  {
   "cell_type": "markdown",
   "id": "ec64d2bf-c598-496f-a93d-336ffbd61671",
   "metadata": {
    "tags": []
   },
   "source": [
    "# ch3. ndarray 형태 변경하기\n",
    "np.reshape, np.transpose 등의 함수를 이용하면 다차원 배열의 형태를 원하는 대로 변경할 수 있습니다."
   ]
  },
  {
   "cell_type": "markdown",
   "id": "dd50e001-eafc-4656-a7cf-f93fa2b7eb38",
   "metadata": {},
   "source": [
    "### np.reshape\n",
    "ndarray를 원하는 형태로 지정하여 변경할 수 있습니다. 단, 이 때 변경 전과 변경 후의 다차원 배열의 원소 개수가 동일하게 유지되어야 합니다.  \n",
    "ex) 3 x4 -> 2 x 6"
   ]
  },
  {
   "cell_type": "code",
   "execution_count": null,
   "id": "b6e29550-7db0-4d0a-a01f-a760908e2d05",
   "metadata": {},
   "outputs": [],
   "source": []
  },
  {
   "cell_type": "markdown",
   "id": "fdd7e27f-5e8d-4024-8fc4-6b9dbd5a81e5",
   "metadata": {},
   "source": [
    "### np.transpose\n",
    "np.transpose는 2차원 배열의 x축과 y축을 변경해줄 때 사용합니다. np.transpose 함수에 직접 바꾸고자 하는 축을 입력해주면 해당 축을 바꿔줍니다."
   ]
  },
  {
   "cell_type": "code",
   "execution_count": null,
   "id": "a3720ee9-3731-4941-91df-38838ed43087",
   "metadata": {},
   "outputs": [],
   "source": []
  },
  {
   "cell_type": "markdown",
   "id": "d7b06101-2a9e-498f-b22b-3b4855812906",
   "metadata": {},
   "source": [
    "### ndarray 펼치기\n",
    "np.flatten을 사용하면 다차원 배열을 1차원으로 펼칠 수 있다."
   ]
  },
  {
   "cell_type": "code",
   "execution_count": null,
   "id": "7e52ce33-18bb-4e06-8a85-249956a2c7af",
   "metadata": {},
   "outputs": [],
   "source": []
  },
  {
   "cell_type": "markdown",
   "id": "c98856d1-eb49-4da3-962a-e762e954e133",
   "metadata": {},
   "source": [
    "### 연습문제\n",
    "np.reshape를 사용하여 b를 아래 형태들로 만들어 보세요"
   ]
  },
  {
   "cell_type": "code",
   "execution_count": 1,
   "id": "f00b7064-96c9-4c2d-9253-299aade17f99",
   "metadata": {},
   "outputs": [],
   "source": [
    "import numpy as np\n",
    "\n",
    "reshape_example = np.arange(1, 13, 1)"
   ]
  },
  {
   "cell_type": "code",
   "execution_count": 2,
   "id": "b862c5fd-b631-409a-92e8-70f7e639486d",
   "metadata": {},
   "outputs": [
    {
     "data": {
      "text/plain": [
       "array([ 1,  2,  3,  4,  5,  6,  7,  8,  9, 10, 11, 12])"
      ]
     },
     "execution_count": 2,
     "metadata": {},
     "output_type": "execute_result"
    }
   ],
   "source": [
    "reshape_example"
   ]
  },
  {
   "cell_type": "code",
   "execution_count": 22,
   "id": "a5d21313-30ce-49a0-9613-abf27678ff1b",
   "metadata": {},
   "outputs": [
    {
     "data": {
      "text/plain": [
       "array([[ 1,  2],\n",
       "       [ 3,  4],\n",
       "       [ 5,  6],\n",
       "       [ 7,  8],\n",
       "       [ 9, 10],\n",
       "       [11, 12]])"
      ]
     },
     "execution_count": 22,
     "metadata": {},
     "output_type": "execute_result"
    }
   ],
   "source": []
  },
  {
   "cell_type": "code",
   "execution_count": 23,
   "id": "45fb285d-77ba-42d5-86ad-65fc28cbc458",
   "metadata": {},
   "outputs": [
    {
     "data": {
      "text/plain": [
       "array([[[ 1,  2],\n",
       "        [ 3,  4]],\n",
       "\n",
       "       [[ 5,  6],\n",
       "        [ 7,  8]],\n",
       "\n",
       "       [[ 9, 10],\n",
       "        [11, 12]]])"
      ]
     },
     "execution_count": 23,
     "metadata": {},
     "output_type": "execute_result"
    }
   ],
   "source": []
  },
  {
   "cell_type": "code",
   "execution_count": 26,
   "id": "9d73c32c-cde6-4d14-ae3b-9e7085bd9828",
   "metadata": {},
   "outputs": [
    {
     "data": {
      "text/plain": [
       "array([[[ 1,  2,  3],\n",
       "        [ 4,  5,  6]],\n",
       "\n",
       "       [[ 7,  8,  9],\n",
       "        [10, 11, 12]]])"
      ]
     },
     "execution_count": 26,
     "metadata": {},
     "output_type": "execute_result"
    }
   ],
   "source": []
  }
 ],
 "metadata": {
  "kernelspec": {
   "display_name": "Python 3 (ipykernel)",
   "language": "python",
   "name": "python3"
  },
  "language_info": {
   "codemirror_mode": {
    "name": "ipython",
    "version": 3
   },
   "file_extension": ".py",
   "mimetype": "text/x-python",
   "name": "python",
   "nbconvert_exporter": "python",
   "pygments_lexer": "ipython3",
   "version": "3.10.8"
  }
 },
 "nbformat": 4,
 "nbformat_minor": 5
}
