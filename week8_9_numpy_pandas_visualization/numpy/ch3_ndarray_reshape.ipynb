{
 "cells": [
  {
   "cell_type": "markdown",
   "id": "ec64d2bf-c598-496f-a93d-336ffbd61671",
   "metadata": {
    "tags": []
   },
   "source": [
    "# ch3. ndarray 형태 변경하기\n",
    "np.reshape, np.transpose 등의 함수를 이용하면 다차원 배열의 형태를 원하는 대로 변경할 수 있습니다."
   ]
  },
  {
   "cell_type": "markdown",
   "id": "dd50e001-eafc-4656-a7cf-f93fa2b7eb38",
   "metadata": {},
   "source": [
    "### np.reshape\n",
    "ndarray를 원하는 형태로 지정하여 변경할 수 있습니다. 단, 이 때 변경 전과 변경 후의 다차원 배열의 원소 개수가 동일하게 유지되어야 합니다.  \n",
    "ex) 3 x4 -> 2 x 6"
   ]
  },
  {
   "cell_type": "code",
   "execution_count": 1,
   "id": "4d672130-0a82-4a74-99d1-2b34cfbbb0de",
   "metadata": {},
   "outputs": [],
   "source": [
    "import numpy as np"
   ]
  },
  {
   "cell_type": "code",
   "execution_count": 2,
   "id": "0874d120-9619-441b-96ed-76f40d2d1fbb",
   "metadata": {},
   "outputs": [],
   "source": [
    "a = np.arange(1, 13, 1)"
   ]
  },
  {
   "cell_type": "code",
   "execution_count": 3,
   "id": "0bd0527a-b1c6-4bb4-bdae-948dbe96ac75",
   "metadata": {},
   "outputs": [
    {
     "data": {
      "text/plain": [
       "array([ 1,  2,  3,  4,  5,  6,  7,  8,  9, 10, 11, 12])"
      ]
     },
     "execution_count": 3,
     "metadata": {},
     "output_type": "execute_result"
    }
   ],
   "source": [
    "a"
   ]
  },
  {
   "cell_type": "code",
   "execution_count": 4,
   "id": "04cd1dcc-337e-4720-9ed7-3c32dc65d34c",
   "metadata": {},
   "outputs": [
    {
     "data": {
      "text/plain": [
       "array([[ 1,  2,  3,  4,  5,  6],\n",
       "       [ 7,  8,  9, 10, 11, 12]])"
      ]
     },
     "execution_count": 4,
     "metadata": {},
     "output_type": "execute_result"
    }
   ],
   "source": [
    "a.reshape([2, 6])"
   ]
  },
  {
   "cell_type": "code",
   "execution_count": 5,
   "id": "4391e933-4992-4c94-882f-ee5e62928a70",
   "metadata": {},
   "outputs": [
    {
     "data": {
      "text/plain": [
       "array([[[ 1,  2,  3],\n",
       "        [ 4,  5,  6]],\n",
       "\n",
       "       [[ 7,  8,  9],\n",
       "        [10, 11, 12]]])"
      ]
     },
     "execution_count": 5,
     "metadata": {},
     "output_type": "execute_result"
    }
   ],
   "source": [
    "a.reshape([2, 2, 3])"
   ]
  },
  {
   "cell_type": "code",
   "execution_count": 6,
   "id": "062401f7-0e77-4b3d-9f1e-ce3d1c94cbbd",
   "metadata": {},
   "outputs": [
    {
     "data": {
      "text/plain": [
       "array([[ 1,  2,  3],\n",
       "       [ 4,  5,  6],\n",
       "       [ 7,  8,  9],\n",
       "       [10, 11, 12]])"
      ]
     },
     "execution_count": 6,
     "metadata": {},
     "output_type": "execute_result"
    }
   ],
   "source": [
    "a.reshape([4, 3])"
   ]
  },
  {
   "cell_type": "code",
   "execution_count": 7,
   "id": "d02610bf-962f-433f-8dd7-d42648f86e4a",
   "metadata": {},
   "outputs": [
    {
     "ename": "ValueError",
     "evalue": "cannot reshape array of size 12 into shape (4,2)",
     "output_type": "error",
     "traceback": [
      "\u001b[0;31m---------------------------------------------------------------------------\u001b[0m",
      "\u001b[0;31mValueError\u001b[0m                                Traceback (most recent call last)",
      "Cell \u001b[0;32mIn[7], line 1\u001b[0m\n\u001b[0;32m----> 1\u001b[0m \u001b[43ma\u001b[49m\u001b[38;5;241;43m.\u001b[39;49m\u001b[43mreshape\u001b[49m\u001b[43m(\u001b[49m\u001b[43m[\u001b[49m\u001b[38;5;241;43m4\u001b[39;49m\u001b[43m,\u001b[49m\u001b[43m \u001b[49m\u001b[38;5;241;43m2\u001b[39;49m\u001b[43m]\u001b[49m\u001b[43m)\u001b[49m\n",
      "\u001b[0;31mValueError\u001b[0m: cannot reshape array of size 12 into shape (4,2)"
     ]
    }
   ],
   "source": [
    "a.reshape([4, 2])"
   ]
  },
  {
   "cell_type": "markdown",
   "id": "fdd7e27f-5e8d-4024-8fc4-6b9dbd5a81e5",
   "metadata": {},
   "source": [
    "### np.transpose\n",
    "np.transpose는 2차원 배열의 x축과 y축을 변경해줄 때 사용합니다. np.transpose 함수에 직접 바꾸고자 하는 축을 입력해주면 해당 축을 바꿔줍니다."
   ]
  },
  {
   "cell_type": "code",
   "execution_count": 8,
   "id": "0aaad7a5-13ef-41c4-97eb-56a3eea719ed",
   "metadata": {},
   "outputs": [
    {
     "data": {
      "text/plain": [
       "(array([[1, 2, 3],\n",
       "        [4, 5, 6]]),\n",
       " (2, 3))"
      ]
     },
     "execution_count": 8,
     "metadata": {},
     "output_type": "execute_result"
    }
   ],
   "source": [
    "a = np.array([[1, 2, 3], [4, 5, 6]])\n",
    "a, a.shape"
   ]
  },
  {
   "cell_type": "code",
   "execution_count": 9,
   "id": "80822475-d512-4573-95b0-36b41903632a",
   "metadata": {},
   "outputs": [
    {
     "data": {
      "text/plain": [
       "5"
      ]
     },
     "execution_count": 9,
     "metadata": {},
     "output_type": "execute_result"
    }
   ],
   "source": [
    "a[1][1]"
   ]
  },
  {
   "cell_type": "code",
   "execution_count": 10,
   "id": "e7dc7184-4f76-47d5-852e-3836037f2f55",
   "metadata": {},
   "outputs": [
    {
     "data": {
      "text/plain": [
       "6"
      ]
     },
     "execution_count": 10,
     "metadata": {},
     "output_type": "execute_result"
    }
   ],
   "source": [
    "a[1][2]"
   ]
  },
  {
   "cell_type": "code",
   "execution_count": 11,
   "id": "b3ea0c11-424c-4090-be3e-d83e397f783e",
   "metadata": {},
   "outputs": [],
   "source": [
    "at = a.transpose()"
   ]
  },
  {
   "cell_type": "code",
   "execution_count": 12,
   "id": "3a616751-868c-47d3-8401-2c6c8f26e9a0",
   "metadata": {},
   "outputs": [
    {
     "data": {
      "text/plain": [
       "(array([[1, 4],\n",
       "        [2, 5],\n",
       "        [3, 6]]),\n",
       " (3, 2))"
      ]
     },
     "execution_count": 12,
     "metadata": {},
     "output_type": "execute_result"
    }
   ],
   "source": [
    "at, at.shape"
   ]
  },
  {
   "cell_type": "markdown",
   "id": "d7b06101-2a9e-498f-b22b-3b4855812906",
   "metadata": {},
   "source": [
    "### ndarray 펼치기\n",
    "np.flatten을 사용하면 다차원 배열을 1차원으로 펼칠 수 있다."
   ]
  },
  {
   "cell_type": "code",
   "execution_count": 17,
   "id": "fc03d0eb-a9b4-44c0-91bb-8e086cba91c5",
   "metadata": {},
   "outputs": [
    {
     "data": {
      "text/plain": [
       "array([[[ 1,  2],\n",
       "        [ 3,  4],\n",
       "        [ 5,  6]],\n",
       "\n",
       "       [[ 7,  8],\n",
       "        [ 9, 10],\n",
       "        [11, 12]]])"
      ]
     },
     "execution_count": 17,
     "metadata": {},
     "output_type": "execute_result"
    }
   ],
   "source": [
    "a = np.arange(1, 13, 1).reshape([2, 3, 2])\n",
    "a"
   ]
  },
  {
   "cell_type": "code",
   "execution_count": 18,
   "id": "91b1f6b0-869a-403a-b1a7-8d3344e5f290",
   "metadata": {},
   "outputs": [
    {
     "data": {
      "text/plain": [
       "array([ 1,  2,  3,  4,  5,  6,  7,  8,  9, 10, 11, 12])"
      ]
     },
     "execution_count": 18,
     "metadata": {},
     "output_type": "execute_result"
    }
   ],
   "source": [
    "a.flatten()"
   ]
  },
  {
   "cell_type": "markdown",
   "id": "c98856d1-eb49-4da3-962a-e762e954e133",
   "metadata": {},
   "source": [
    "### 연습문제\n",
    "np.reshape를 사용하여 b를 아래 형태들로 만들어 보세요"
   ]
  },
  {
   "cell_type": "code",
   "execution_count": 20,
   "id": "f00b7064-96c9-4c2d-9253-299aade17f99",
   "metadata": {},
   "outputs": [],
   "source": [
    "import numpy as np\n",
    "\n",
    "reshape_example = np.arange(1, 13, 1)"
   ]
  },
  {
   "cell_type": "code",
   "execution_count": 21,
   "id": "b862c5fd-b631-409a-92e8-70f7e639486d",
   "metadata": {},
   "outputs": [
    {
     "data": {
      "text/plain": [
       "array([ 1,  2,  3,  4,  5,  6,  7,  8,  9, 10, 11, 12])"
      ]
     },
     "execution_count": 21,
     "metadata": {},
     "output_type": "execute_result"
    }
   ],
   "source": [
    "reshape_example"
   ]
  },
  {
   "cell_type": "code",
   "execution_count": 22,
   "id": "a5d21313-30ce-49a0-9613-abf27678ff1b",
   "metadata": {},
   "outputs": [
    {
     "data": {
      "text/plain": [
       "array([[ 1,  2],\n",
       "       [ 3,  4],\n",
       "       [ 5,  6],\n",
       "       [ 7,  8],\n",
       "       [ 9, 10],\n",
       "       [11, 12]])"
      ]
     },
     "execution_count": 22,
     "metadata": {},
     "output_type": "execute_result"
    }
   ],
   "source": [
    "# 6, 2\n",
    "reshape_example.reshape([6, 2])"
   ]
  },
  {
   "cell_type": "code",
   "execution_count": 23,
   "id": "45fb285d-77ba-42d5-86ad-65fc28cbc458",
   "metadata": {},
   "outputs": [
    {
     "data": {
      "text/plain": [
       "array([[[ 1,  2],\n",
       "        [ 3,  4]],\n",
       "\n",
       "       [[ 5,  6],\n",
       "        [ 7,  8]],\n",
       "\n",
       "       [[ 9, 10],\n",
       "        [11, 12]]])"
      ]
     },
     "execution_count": 23,
     "metadata": {},
     "output_type": "execute_result"
    }
   ],
   "source": [
    "# 3, 2, 2\n",
    "reshape_example.reshape([3, 2, 2])"
   ]
  },
  {
   "cell_type": "code",
   "execution_count": 26,
   "id": "9d73c32c-cde6-4d14-ae3b-9e7085bd9828",
   "metadata": {},
   "outputs": [
    {
     "data": {
      "text/plain": [
       "array([[[ 1,  2,  3],\n",
       "        [ 4,  5,  6]],\n",
       "\n",
       "       [[ 7,  8,  9],\n",
       "        [10, 11, 12]]])"
      ]
     },
     "execution_count": 26,
     "metadata": {},
     "output_type": "execute_result"
    }
   ],
   "source": [
    "reshape_example.reshape([2, 2, 3])"
   ]
  }
 ],
 "metadata": {
  "kernelspec": {
   "display_name": "Python 3 (ipykernel)",
   "language": "python",
   "name": "python3"
  },
  "language_info": {
   "codemirror_mode": {
    "name": "ipython",
    "version": 3
   },
   "file_extension": ".py",
   "mimetype": "text/x-python",
   "name": "python",
   "nbconvert_exporter": "python",
   "pygments_lexer": "ipython3",
   "version": "3.10.8"
  }
 },
 "nbformat": 4,
 "nbformat_minor": 5
}
