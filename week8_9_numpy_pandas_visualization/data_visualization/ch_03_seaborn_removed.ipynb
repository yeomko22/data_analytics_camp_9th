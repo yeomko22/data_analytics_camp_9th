{
 "cells": [
  {
   "cell_type": "markdown",
   "id": "e4fe438d-1c63-40c1-a605-d5fc1ed13cce",
   "metadata": {},
   "source": [
    "# ch3. seaborn\n",
    "\n",
    "seaborn은 matplotlib의 기능과 스타일을 확장한 고급 시각화 도구입니다. seaborn을 사용하면 별도의 전처리나 통계 분석 코드를 작성하지 않더라도 데이터의 통계적 특성을 파악하기가 쉽습니다."
   ]
  },
  {
   "cell_type": "code",
   "execution_count": null,
   "id": "708c5842-b734-4f24-a373-2e2d7f37b2ce",
   "metadata": {},
   "outputs": [],
   "source": []
  },
  {
   "cell_type": "markdown",
   "id": "92205a1b-baf5-4acd-9c8b-c414c2fe8848",
   "metadata": {},
   "source": [
    "## regplot\n",
    "regplot은 scatter plot에 선형 회귀 선을 같이 그려주는 그래프입니다. 회귀 선이란 두 변수 간의 관계를 가장 잘 설명하는 직선이라고 생각하면 됩니다. 보통 두 변수가 뚜렷한 상관관계가 있다고 강조하고 싶을 때나, 아예 상관관계가 없음을 보여주기 위해서 사용합니다."
   ]
  },
  {
   "cell_type": "code",
   "execution_count": null,
   "id": "06e4639a-8475-4056-b610-f71f75021a17",
   "metadata": {},
   "outputs": [],
   "source": []
  },
  {
   "cell_type": "markdown",
   "id": "6d30c51c-a33e-443c-98e8-307135cfe8eb",
   "metadata": {},
   "source": [
    "### regplot 여러개 그리기\n",
    "matplotlib의 subplot과 함께 사용하면 regplot을 여러개 그릴 수 있습니다."
   ]
  },
  {
   "cell_type": "code",
   "execution_count": null,
   "id": "787c74e0-c9d2-4214-a9a4-290e6a852830",
   "metadata": {},
   "outputs": [],
   "source": []
  },
  {
   "cell_type": "markdown",
   "id": "17c30bf0-452d-4175-83d3-90d2aa954eea",
   "metadata": {},
   "source": [
    "## 범주별로 나누어 데이터 시각화\n",
    "seaborn은 사용하면 각 카테고리별로 데이터를 나눠서 시각화 하는 편리한 기능들을 제공해줍니다.\n",
    "\n",
    "### stripplot, swarmplot\n",
    "scatter plot은 연속형 변수끼리 상관관계를 그려볼 때 사용했습니다. 범주형 변수와 연속형 변수의 상관관계를 알아보기 위해서도 산포도를 이용할 수 있으며, 이 때 seaborn에서 지원하는 stripplot과 swarm plot을 유용하게 사용할 수 있습니다."
   ]
  },
  {
   "cell_type": "code",
   "execution_count": null,
   "id": "5857066f-7db3-4c73-aad7-ab51e891088f",
   "metadata": {},
   "outputs": [],
   "source": []
  },
  {
   "cell_type": "markdown",
   "id": "d2e3390d-3051-48f3-b310-e22b00cf0e2d",
   "metadata": {
    "tags": []
   },
   "source": [
    "### countplot\n",
    "각 범주에 속하는 데이터의 개수를 barchart로 표현합니다."
   ]
  },
  {
   "cell_type": "code",
   "execution_count": null,
   "id": "d6ede7a8-4f69-4fe7-82a5-23b48520f241",
   "metadata": {},
   "outputs": [],
   "source": []
  },
  {
   "cell_type": "markdown",
   "id": "44630f89-8467-409e-917c-afc4f128b3c7",
   "metadata": {},
   "source": [
    "hue 옵션을 추가하면 특정 카테고리 안에서 다시 세부 범주를 나눌 수 있습니다."
   ]
  },
  {
   "cell_type": "code",
   "execution_count": null,
   "id": "5c18ebac-f2ca-42c1-8b39-1320d9da54c5",
   "metadata": {},
   "outputs": [],
   "source": []
  },
  {
   "cell_type": "markdown",
   "id": "b369df1e-8842-42d2-b341-57b53064cf1e",
   "metadata": {},
   "source": [
    "hue와 dodge 옵션을 같이 주면 stacked bar graph를 손쉽게 그릴 수 있습니다."
   ]
  },
  {
   "cell_type": "code",
   "execution_count": null,
   "id": "ded4a5b7-74fa-4860-a728-72b2230cb314",
   "metadata": {},
   "outputs": [],
   "source": []
  },
  {
   "cell_type": "markdown",
   "id": "54ceab6c-0080-42c3-ae60-bd32e1ac7ad2",
   "metadata": {},
   "source": [
    "## Heatmap\n",
    "히트맵(heatmap)은 데이터의 값에 따라 색상을 사용하여 행과 열의 관계를 시각화하는 방법입니다. 히트맵은 행렬 형태의 데이터를 가시적으로 표현하며, 각 셀에 대응하는 값에 따라 색상이 지정됩니다. 주로 2차원 데이터를 표현하기 위해 사용되며, 데이터의 패턴, 상관 관계, 변화 등을 시각적으로 파악하는 데 유용합니다."
   ]
  },
  {
   "cell_type": "markdown",
   "id": "03b05b04-ec26-40ff-a482-62d8aa6fc40e",
   "metadata": {},
   "source": [
    "### 빈도수 시각화\n",
    "두 변수를 설정하고, 각 조합별로 몇개의 자료가 등장하는 지를 히트맵을 이용하여 쉽게 시각화 할 수 있습니다."
   ]
  },
  {
   "cell_type": "code",
   "execution_count": null,
   "id": "888f2409-da7a-4483-bc16-d498d4751542",
   "metadata": {},
   "outputs": [],
   "source": []
  },
  {
   "cell_type": "markdown",
   "id": "3205d0e1-ed63-49b8-ad0a-a4ccb714c3f9",
   "metadata": {},
   "source": [
    "### correlation 시각화\n",
    "pandas dataframe의 corr 함수와 함께 사용하면 변수들 간의 선형 상관관계를 쉽게 시각화할 수 있습니다."
   ]
  },
  {
   "cell_type": "code",
   "execution_count": null,
   "id": "58a80a4b-12d6-4ef3-986f-721442ddece7",
   "metadata": {},
   "outputs": [],
   "source": []
  },
  {
   "cell_type": "markdown",
   "id": "e9c0ac25-9d98-4cd9-8efb-88cb7e46c83a",
   "metadata": {
    "tags": []
   },
   "source": [
    "## 확률 분포 시각화\n",
    "### displot\n",
    "연속 확률 변수의 데이터 분포를 확인할 때 사용하는 plot입니다. 기본적으로 히스토그램과 확률 밀도 함수를 그래프로 출력해줍니다."
   ]
  },
  {
   "cell_type": "code",
   "execution_count": null,
   "id": "deb2b711-0448-4b06-97a5-16a325031148",
   "metadata": {},
   "outputs": [],
   "source": []
  },
  {
   "cell_type": "markdown",
   "id": "6b8570f0-cd15-444a-b176-cdcafb34872f",
   "metadata": {},
   "source": [
    "### histplot, kdeplot\n",
    "만일 histogram만 그리고 싶거나 확률 밀도 함수만 그리고 싶으면 각각 histplot과 kdeplot을 이용하면 됩니다. "
   ]
  },
  {
   "cell_type": "code",
   "execution_count": null,
   "id": "b645d0db-a112-4d2e-a71b-e170080c1a6a",
   "metadata": {},
   "outputs": [],
   "source": []
  },
  {
   "cell_type": "markdown",
   "id": "47595e53-530b-4a45-9198-facdc6571381",
   "metadata": {},
   "source": [
    "### violin plot\n",
    "\n",
    "boxplot과 유사하지만, 거기에 확률 밀도 함수를 추가하여 데이터의 분포를 파악하기 쉬운 플랏입니다. x축에는 범주형 확률 변수, y축에는 연속형 확률 변수를 넣어주면 됩니다."
   ]
  },
  {
   "cell_type": "code",
   "execution_count": null,
   "id": "7961c8ac-80bb-4a7a-a945-0c07283e301c",
   "metadata": {},
   "outputs": [],
   "source": []
  },
  {
   "cell_type": "markdown",
   "id": "d06226ca-6e44-4490-b383-9fccb18b08bc",
   "metadata": {},
   "source": [
    "마찬가지로 hue 옵션을 넣으면 범주 안에서 한번 더 구분을 할 수 있습니다."
   ]
  },
  {
   "cell_type": "code",
   "execution_count": null,
   "id": "0a0dc0c3-d267-43b4-9222-70f29a8bad2f",
   "metadata": {},
   "outputs": [],
   "source": []
  },
  {
   "cell_type": "markdown",
   "id": "67093cd2-c224-4a56-a194-fd5ff39ed2a6",
   "metadata": {},
   "source": [
    "## 정리\n",
    "이번 챕터에서는 seaborn을 이용한 데이터 시각화를 알아보았습니다. 특히 회귀선을 함께 시각화 하거나, 확률 밀도 함수를 함께 시각화 하는 등 통계학 요소들을 함께 시각화 해주는 기능들을 알아보았습니다. 이어지는 챕터들에서는 이렇게 시각화한 데이터를 기반으로 통계 분석을 진행해보겠습니다."
   ]
  },
  {
   "cell_type": "code",
   "execution_count": null,
   "id": "9c15cc15-bc87-48aa-bfa8-7a1afac78b8a",
   "metadata": {},
   "outputs": [],
   "source": []
  }
 ],
 "metadata": {
  "kernelspec": {
   "display_name": "Python 3 (ipykernel)",
   "language": "python",
   "name": "python3"
  },
  "language_info": {
   "codemirror_mode": {
    "name": "ipython",
    "version": 3
   },
   "file_extension": ".py",
   "mimetype": "text/x-python",
   "name": "python",
   "nbconvert_exporter": "python",
   "pygments_lexer": "ipython3",
   "version": "3.10.8"
  }
 },
 "nbformat": 4,
 "nbformat_minor": 5
}
