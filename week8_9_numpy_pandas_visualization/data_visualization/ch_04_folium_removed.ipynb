{
 "cells": [
  {
   "cell_type": "markdown",
   "id": "91ea6f91-b063-4510-a579-8833a9288758",
   "metadata": {},
   "source": [
    "# ch 4 folium\n",
    "\n",
    "데이터 시각화 작업을 진행하다보면 지도 위에 핀을 찍는다던가, 특정 영역에 색을 칠하고 싶은 상황이 있습니다. python으로 지도 시각화를 하고 싶다면 folium을 이용할 수 있습니다. 이번 챕터에서는 folium을 이용한 간단한 시각화를 익혀보겠습니다."
   ]
  },
  {
   "cell_type": "code",
   "execution_count": 1,
   "id": "6cba94d2-d2e9-41c2-91f2-89a1527ad46b",
   "metadata": {},
   "outputs": [
    {
     "name": "stdout",
     "output_type": "stream",
     "text": [
      "Requirement already satisfied: folium in /Users/user/miniconda3/lib/python3.10/site-packages (0.14.0)\n",
      "Requirement already satisfied: branca>=0.6.0 in /Users/user/miniconda3/lib/python3.10/site-packages (from folium) (0.6.0)\n",
      "Requirement already satisfied: jinja2>=2.9 in /Users/user/miniconda3/lib/python3.10/site-packages (from folium) (3.1.2)\n",
      "Requirement already satisfied: numpy in /Users/user/miniconda3/lib/python3.10/site-packages (from folium) (1.23.5)\n",
      "Requirement already satisfied: requests in /Users/user/miniconda3/lib/python3.10/site-packages (from folium) (2.28.1)\n",
      "Requirement already satisfied: MarkupSafe>=2.0 in /Users/user/miniconda3/lib/python3.10/site-packages (from jinja2>=2.9->folium) (2.1.1)\n",
      "Requirement already satisfied: charset-normalizer<3,>=2 in /Users/user/miniconda3/lib/python3.10/site-packages (from requests->folium) (2.0.4)\n",
      "Requirement already satisfied: idna<4,>=2.5 in /Users/user/miniconda3/lib/python3.10/site-packages (from requests->folium) (3.4)\n",
      "Requirement already satisfied: urllib3<1.27,>=1.21.1 in /Users/user/miniconda3/lib/python3.10/site-packages (from requests->folium) (1.26.13)\n",
      "Requirement already satisfied: certifi>=2017.4.17 in /Users/user/miniconda3/lib/python3.10/site-packages (from requests->folium) (2022.12.7)\n"
     ]
    }
   ],
   "source": [
    "!pip install folium"
   ]
  },
  {
   "cell_type": "markdown",
   "id": "63bfd359-53c8-49e4-ac94-b8c83804327d",
   "metadata": {},
   "source": [
    "### folium으로 지도 표현하기"
   ]
  },
  {
   "cell_type": "code",
   "execution_count": null,
   "id": "6ef33570-40bc-43ee-81cd-10741ddc5d77",
   "metadata": {},
   "outputs": [],
   "source": []
  },
  {
   "cell_type": "markdown",
   "id": "3a4fdead-7384-48d5-88a7-daae118679dd",
   "metadata": {},
   "source": [
    "### 지도 위에 마커 찍기"
   ]
  },
  {
   "cell_type": "code",
   "execution_count": null,
   "id": "c1fa5e19-36bf-4b69-b5fa-29ab334207eb",
   "metadata": {},
   "outputs": [],
   "source": []
  },
  {
   "cell_type": "markdown",
   "id": "2eb0995e-91da-4797-9788-4a5798d53d76",
   "metadata": {},
   "source": [
    "마커의 크기나 모양도 조정할 수 있습니다."
   ]
  },
  {
   "cell_type": "code",
   "execution_count": null,
   "id": "cf795d0d-226d-4d9a-b6f1-9632b56f3d18",
   "metadata": {},
   "outputs": [],
   "source": []
  },
  {
   "cell_type": "markdown",
   "id": "e7d81188-2bb0-406e-93c9-4f582c6573e5",
   "metadata": {},
   "source": [
    "### 지도 영역에 단계 구분도 표시하기\n",
    "지역별로 구분지어 색상을 다르게 칠하는 시각화를 folium을 통해 구현해보겠습니다. 이를 위해선 각 지역별 경계를 나타내는 데이터와 지역에 매핑하고자 하는 데이터가 필요합니다."
   ]
  },
  {
   "cell_type": "code",
   "execution_count": null,
   "id": "c0865ac0-a95d-4fb8-8e86-7ef8147a42b6",
   "metadata": {},
   "outputs": [],
   "source": []
  },
  {
   "cell_type": "markdown",
   "id": "ec17ffdf-9259-42f6-92fc-758b40b5917f",
   "metadata": {},
   "source": [
    "## 정리\n",
    "이상으로 folium을 이용한 지도 시각화를 알아보았습니다. 이 외에도 지도 위에 데이터를 시각화하는 방법들은 수없이 많습니다. 일전에 사용했던 flourish studio를 사용해도 좋고, 네이버 지도나 카카오 지도에서 제공하는 지도 API를 사용해도 좋습니다. 이들은 어디까지나 도구이고, 중요한 건 이런 도구를 이용해서 내가 전달하고자 하는 바를 명료하게 전달하면 됩니다."
   ]
  },
  {
   "cell_type": "code",
   "execution_count": null,
   "id": "c01556ac-e880-4799-bf83-136bb025b2b3",
   "metadata": {},
   "outputs": [],
   "source": []
  }
 ],
 "metadata": {
  "kernelspec": {
   "display_name": "Python 3 (ipykernel)",
   "language": "python",
   "name": "python3"
  },
  "language_info": {
   "codemirror_mode": {
    "name": "ipython",
    "version": 3
   },
   "file_extension": ".py",
   "mimetype": "text/x-python",
   "name": "python",
   "nbconvert_exporter": "python",
   "pygments_lexer": "ipython3",
   "version": "3.10.8"
  }
 },
 "nbformat": 4,
 "nbformat_minor": 5
}
