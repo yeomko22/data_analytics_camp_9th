{
 "cells": [
  {
   "cell_type": "markdown",
   "id": "3a9caa75-cb46-4649-b335-3f1a3f344682",
   "metadata": {},
   "source": [
    "## ch3 pandas dataframe\n",
    "지난 챕터에 이어서 마찬가지로 데이터 프레임을 다루는 여러 기법들을 소개하겠습니다. 데이터 프레임에 조건을 걸어서 데이터를 가져오고, 특정 컬럼을 기준으로 정렬하는 등 실제 데이터 분석 작업에서 많이 사용하는 기법들을 배워보겠습니다. 데이터 셋은 마찬가지로 2019년 spotify 스트리밍 순위 데이터 셋을 사용하겠습니다.\n",
    "\n",
    "데이터 셋: https://www.kaggle.com/datasets/prasertk/spotify-global-2019-moststreamed-tracks"
   ]
  },
  {
   "cell_type": "code",
   "execution_count": null,
   "id": "c2a2e500-3864-4b12-ac34-a172d8d88f2d",
   "metadata": {},
   "outputs": [],
   "source": []
  },
  {
   "cell_type": "markdown",
   "id": "b94b11e9-0883-40d7-8eb5-6babc697819f",
   "metadata": {},
   "source": [
    "### 특정 조건에 맞는 행들만 가져오기"
   ]
  },
  {
   "cell_type": "markdown",
   "id": "a485c5b4-72e1-4d1f-af51-a8dc138544b6",
   "metadata": {},
   "source": [
    "특정 컬럼에 조건을 걸어서 조건에 일치하는 행들만 가져오고 싶으면 아래처럼 인덱스에 부등식을 활용하면 됩니다. 데이터 프레임에서 스트리밍 횟수가 1억회 이상인 트랙들만 추출해보겠습니다."
   ]
  },
  {
   "cell_type": "code",
   "execution_count": null,
   "id": "e89d5fcd-3972-4b30-b05e-1f1de8597f5b",
   "metadata": {},
   "outputs": [],
   "source": []
  },
  {
   "cell_type": "markdown",
   "id": "f2a6ca6a-efa2-421e-9ab5-47756144b0ce",
   "metadata": {},
   "source": [
    "### 조건 중첩시키기\n",
    "여러 조건을 중첩시켜서 데이터를 가져오고 싶다면 \"&\", \"|\" 기호를 사용하여 조건을 중첩하면 된다. 이 때, 반드시 각 조건을 괄호로 한번 감싸주어야 에러가 나지 않는다. 한번 조회 수가 1억 이상인 동시에 tempo가 120 이상인 트랙만 가져와보자."
   ]
  },
  {
   "cell_type": "code",
   "execution_count": null,
   "id": "62f8e51f-58d6-41da-a19b-3a9409059a11",
   "metadata": {},
   "outputs": [],
   "source": []
  },
  {
   "cell_type": "markdown",
   "id": "93ba531f-1aa1-4f54-8ae0-faf15c51741c",
   "metadata": {},
   "source": [
    "### dataframe 정렬하기\n",
    "df.sort_values()를 이용하면 특정 컬럼을 기준으로 데이터 프레임을 소팅할 수 있습니다. 한번 Artist_popularity가 높은 순으로 데이터 프레임을 정렬한 후, 상위 10명의 아티스트를 출력해보겠습니다. "
   ]
  },
  {
   "cell_type": "code",
   "execution_count": null,
   "id": "cdfd16ff-b579-415e-a82e-54d4b35e8a30",
   "metadata": {},
   "outputs": [],
   "source": []
  },
  {
   "cell_type": "markdown",
   "id": "4f7bab6f-db89-4e50-8766-dd60f3c5d758",
   "metadata": {},
   "source": [
    "### dataframe 중복 제거하기\n",
    "앞서 인기 순으로 정렬해서 아티스트를 가져와보면 \"포스트 말론\", 100이 중복해서 리턴 되었습니다. 만약 우리가 데이터 베이스에서 동일한 작업을 수행한다고 했을 때, SQL문을 작성하면 DISTINCT를 사용했을 것입니다. 비슷하게 df.drop_duplicates를 사용해서 결과로 리턴된 데이터 프레임의 중복을 제거해보겠습니다."
   ]
  },
  {
   "cell_type": "code",
   "execution_count": null,
   "id": "1f3e2b1f-745a-4500-afb9-624f392b9cda",
   "metadata": {},
   "outputs": [],
   "source": []
  },
  {
   "cell_type": "markdown",
   "id": "284de890-3f27-4e84-bdd2-db58b4949e49",
   "metadata": {},
   "source": [
    "### dataframe 인덱스 재설정하기\n",
    "원하는 대로 데이터를 가져왔습니다만, 행 맨앞에 붙어있는 인덱스가 트랙 인덱스 그대로 붙어있어서 거슬립니다. df.reset_index()를 이용해서 재설정 해주겠습니다."
   ]
  },
  {
   "cell_type": "code",
   "execution_count": null,
   "id": "9b0ebea1-5544-4ca9-b559-f11ed84121c4",
   "metadata": {},
   "outputs": [],
   "source": []
  },
  {
   "cell_type": "markdown",
   "id": "32695c66-17ac-4586-a2d7-fa43ed87fa87",
   "metadata": {},
   "source": [
    "### 연습문제\n",
    "dataframe을 이용해서 아래 문제들을 풀어보세요.\n",
    "\n",
    "1. 트랙에 포함된 BTS의 노래들의 이름과 스트리밍 횟수를 리턴하세요. 트랙 이름으로 오름차순 정렬을 하세요."
   ]
  },
  {
   "cell_type": "code",
   "execution_count": null,
   "id": "5795409a-7496-4063-bf66-1cd461ef076a",
   "metadata": {},
   "outputs": [],
   "source": []
  },
  {
   "cell_type": "markdown",
   "id": "1543f526-a971-4728-9574-bba5d609a7c7",
   "metadata": {},
   "source": [
    "2. BTS의 track들의 Streams, energy, Rank, tempo의 통계량을 집계해보세요."
   ]
  },
  {
   "cell_type": "code",
   "execution_count": null,
   "id": "532cd56a-17cd-4580-a3c9-3499707b8a3c",
   "metadata": {},
   "outputs": [],
   "source": []
  },
  {
   "cell_type": "markdown",
   "id": "0de77582-c76d-4f6f-adcd-82b42be28889",
   "metadata": {},
   "source": [
    "3. 템포가 100 이하이거나 energy가 0.6 이하인 노래들 가운데 스트리밍 횟수가 높은 노래 10개의 제목과 아티스트, 템포, 스트리밍 횟수를 가져오세요."
   ]
  },
  {
   "cell_type": "code",
   "execution_count": null,
   "id": "9f407610-3fe5-448b-bdd2-8d1524798b87",
   "metadata": {},
   "outputs": [],
   "source": []
  }
 ],
 "metadata": {
  "kernelspec": {
   "display_name": "Python 3 (ipykernel)",
   "language": "python",
   "name": "python3"
  },
  "language_info": {
   "codemirror_mode": {
    "name": "ipython",
    "version": 3
   },
   "file_extension": ".py",
   "mimetype": "text/x-python",
   "name": "python",
   "nbconvert_exporter": "python",
   "pygments_lexer": "ipython3",
   "version": "3.10.8"
  }
 },
 "nbformat": 4,
 "nbformat_minor": 5
}
