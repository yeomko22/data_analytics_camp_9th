{
 "cells": [
  {
   "cell_type": "markdown",
   "id": "93215f88-ad81-4429-b35b-dc0b78265b16",
   "metadata": {},
   "source": [
    "## ch 10. 데이터 전처리하기\n",
    "\n",
    "크롤링을 통해 수집한 뉴스 기사 데이터에서 필요없는 부분을 먼저 제거하겠습니다. 텍스트 데이터를 전처리할 때는 정규 표현식을 활용하면 좋습니다."
   ]
  },
  {
   "cell_type": "markdown",
   "id": "26617b57-028d-4bf0-9d3a-cb7e1881e8c8",
   "metadata": {},
   "source": [
    "### 크롤링 데이터 불러오기\n",
    "\n",
    "csv 라이브러리를 이용해서 데이터를 불러오겠습니다."
   ]
  },
  {
   "cell_type": "code",
   "execution_count": null,
   "id": "ee45d6b6-d13e-4fb0-bc2f-b328ade60625",
   "metadata": {},
   "outputs": [],
   "source": []
  },
  {
   "cell_type": "markdown",
   "id": "fbc9ca12-e07f-43dc-9a51-0d9d99a2c896",
   "metadata": {},
   "source": [
    "### 크롤링 과정에서 포함된 불필요한 텍스트 제거\n",
    "\n",
    "크롤링 결과를 확인해보니 \\xa0와 같이 뜻을 알 수 없는 문자들이 포함되어 있습니다. 이는 크롤링 과정에서 불필요하게 포함된 데이터로, 미리 제거해주는 것이 좋습니다. str에서 제공하는 replace 함수로 제거해보겠습니다."
   ]
  },
  {
   "cell_type": "code",
   "execution_count": null,
   "id": "0e6f64be-72f2-47ba-ab61-d5e682f2c2cb",
   "metadata": {},
   "outputs": [],
   "source": []
  },
  {
   "cell_type": "markdown",
   "id": "b9462a2e-903a-4514-be2e-a0081c1524c4",
   "metadata": {},
   "source": [
    "### 기자 이름 제거\n",
    "\n",
    "다음으로 기사 본문에서 \"[스포츠조선 나유리 기자]\", \"[OSEN=인천, 최규한 기자]\"와 같이 대괄호와 함께 적힌 언론사 이름과 기자 이름을 제거해보겠습니다. 이는 형태가 매우 다양해서 단순히 replace만으로는 제거가 어렵습니다. 이럴 때엔 정규 표현식을 활용할 수 있습니다.\n",
    "\n",
    "정규표현식은 아래와 같은 요령으로 작성하면 됩니다."
   ]
  },
  {
   "cell_type": "markdown",
   "id": "ea9c7f57-a35c-4662-876b-163b4eab47e9",
   "metadata": {},
   "source": [
    "1. 예시 데이터를 가지고 정규표현식을 작성한 뒤, 결과를 확인한다.\n",
    "2. 여러 샘플들에 대해서도 정규표현식이 의도한 대로 동작하는지 확인한다."
   ]
  },
  {
   "cell_type": "code",
   "execution_count": null,
   "id": "7313c908-53e6-4612-95e8-7b9146a49d28",
   "metadata": {},
   "outputs": [],
   "source": []
  },
  {
   "cell_type": "markdown",
   "id": "150d6f3f-061e-4987-8e6f-d5c152157a5d",
   "metadata": {
    "tags": []
   },
   "source": [
    "전체 데이터 셋에서 일부를 샘플링해서 정규표현식 패턴에 일치하는 텍스트만 출력해보겠습니다."
   ]
  },
  {
   "cell_type": "code",
   "execution_count": null,
   "id": "3f645a8f-7015-419a-ade8-11af8557d7eb",
   "metadata": {},
   "outputs": [],
   "source": []
  },
  {
   "cell_type": "markdown",
   "id": "f08ef112-4b40-4ead-98c3-0ef85d3765f2",
   "metadata": {},
   "source": [
    "### re.sub 함수를 이용해서 불필요한 텍스트 제거\n",
    "앞서서 검증한 패턴을 가지고 데이터 셋에서 불필요한 부분을 제거"
   ]
  },
  {
   "cell_type": "code",
   "execution_count": null,
   "id": "5bbdcaca-0d6d-439c-bd9f-aaf9ab0dad9e",
   "metadata": {},
   "outputs": [],
   "source": []
  },
  {
   "cell_type": "markdown",
   "id": "9503f057-0981-4929-af5c-d2fe236a35ef",
   "metadata": {},
   "source": [
    "### 결과 출력"
   ]
  },
  {
   "cell_type": "code",
   "execution_count": null,
   "id": "e2a5ffd8-34c2-41e6-8269-69edfb489919",
   "metadata": {},
   "outputs": [],
   "source": []
  },
  {
   "cell_type": "markdown",
   "id": "e3fd4e6d-bcd6-40b6-afba-df32fb624735",
   "metadata": {},
   "source": [
    "## 정리\n",
    "\n",
    "이번 시간에는 크롤링을 통해서 수집한 텍스트 데이터를 전처리하는 기법들을 배워보았습니다. 텍스트 데이터는 예상치 못한 변수들이 많으므로 전처리 과정이 필수적입니다. 2차 프로젝트 주제가 자연어처리를 활용한 감성 분석이니만큼, 오늘 배운 기법들을 잘 익혀서 활용하시기 바랍니다."
   ]
  },
  {
   "cell_type": "code",
   "execution_count": null,
   "id": "f0bc189c-37ff-4728-9b1a-eb15b838610a",
   "metadata": {},
   "outputs": [],
   "source": []
  }
 ],
 "metadata": {
  "kernelspec": {
   "display_name": "Python 3 (ipykernel)",
   "language": "python",
   "name": "python3"
  },
  "language_info": {
   "codemirror_mode": {
    "name": "ipython",
    "version": 3
   },
   "file_extension": ".py",
   "mimetype": "text/x-python",
   "name": "python",
   "nbconvert_exporter": "python",
   "pygments_lexer": "ipython3",
   "version": "3.10.8"
  }
 },
 "nbformat": 4,
 "nbformat_minor": 5
}
