{
 "cells": [
  {
   "cell_type": "markdown",
   "id": "a3835262-e767-4e3d-8dcc-84a06474fc10",
   "metadata": {},
   "source": [
    "## python 복습 퀴즈 3"
   ]
  },
  {
   "cell_type": "markdown",
   "id": "f493bec7-cc25-4ffd-9787-b4f68bb1d02c",
   "metadata": {},
   "source": [
    "### 문제 설명\n",
    "python 함수를 이용해서 미로를 탈출하는 프로그램을 작성하면 됩니다.  \n",
    "미로는 2차 배열로 이루어져 있습니다.  \n",
    "1은 지나갈 수 없는 벽, 0은 지나갈 수 있는 통로, 2는 플레이어, 3은 도착하고자 하는 목적지에 해당합니다.  \n",
    "아래에 3가지 종류의 미로가 주어져 있습니다."
   ]
  },
  {
   "cell_type": "code",
   "execution_count": 26,
   "id": "0aa4db81-b7fc-4047-a109-d49bd3e09240",
   "metadata": {},
   "outputs": [],
   "source": [
    "maze_one = [\n",
    "    [1, 3, 1, 1, 1],\n",
    "    [1, 0, 0, 0, 1],\n",
    "    [1, 0, 0, 0, 1],\n",
    "    [1, 0, 0, 0, 1],\n",
    "    [1, 1, 1, 2, 1],\n",
    "]\n",
    "\n",
    "maze_two = [\n",
    "    [1, 1, 1, 3, 1],\n",
    "    [1, 0, 0, 0, 1],\n",
    "    [1, 0, 1, 1, 1],\n",
    "    [1, 0, 0, 0, 1],\n",
    "    [1, 1, 1, 2, 1],\n",
    "]\n",
    "\n",
    "maze_three = [\n",
    "    [1, 1, 1, 1, 1],\n",
    "    [1, 0, 0, 0, 1],\n",
    "    [1, 0, 1, 0, 1],\n",
    "    [1, 0, 1, 0, 1],\n",
    "    [1, 2, 1,  3, 1],\n",
    "]"
   ]
  },
  {
   "cell_type": "markdown",
   "id": "b3929876-69a9-4905-80ff-cebcb65b2f95",
   "metadata": {},
   "source": [
    "### Q1. 미로 출력하기\n",
    "특정 미로를 파라미터로 전달받으면, 이를 print를 사용해서 출력하는 print_maze 함수를 작성하세요."
   ]
  },
  {
   "cell_type": "code",
   "execution_count": 21,
   "id": "075a582a-d87e-4a2e-af03-81f782ff2d5e",
   "metadata": {},
   "outputs": [],
   "source": [
    "def print_maze(maze):\n",
    "    pass"
   ]
  },
  {
   "cell_type": "code",
   "execution_count": 7,
   "id": "4dd4aef3-560c-4f06-a4c6-b51152e0104c",
   "metadata": {},
   "outputs": [
    {
     "name": "stdout",
     "output_type": "stream",
     "text": [
      "[1, 3, 1, 1, 1]\n",
      "[1, 0, 0, 0, 1]\n",
      "[1, 0, 0, 0, 1]\n",
      "[1, 0, 0, 0, 1]\n",
      "[1, 1, 1, 2, 1]\n"
     ]
    }
   ],
   "source": [
    "print_maze(maze_one)"
   ]
  },
  {
   "cell_type": "markdown",
   "id": "9c965b4c-1016-4412-90ca-7fa8bc48261a",
   "metadata": {},
   "source": [
    "### Q2. 플레이어, 목적지의 현재 위치 \n",
    "\n",
    "미로를 파라미터로 전달받으면 플레이어의 현재 위치 좌표를 튜플 형태로 리턴하는 get_player_loc 함수를 작성하세요.  \n",
    "비슷하게 미로를 파라미터로 전달받아서 목적지의 좌표 값을 튜플 형태로 리턴하는 get_goal_loc 함수를 작성하세요."
   ]
  },
  {
   "cell_type": "code",
   "execution_count": 11,
   "id": "a4be4e8e-a088-4e6a-8c52-6660b2fcd1c1",
   "metadata": {},
   "outputs": [],
   "source": [
    "def get_player_loc(maze):\n",
    "    pass"
   ]
  },
  {
   "cell_type": "code",
   "execution_count": 38,
   "id": "7fde0a56-4302-4bd9-9a51-d9deb5010bfd",
   "metadata": {},
   "outputs": [
    {
     "name": "stdout",
     "output_type": "stream",
     "text": [
      "player_loc (4, 3) <class 'tuple'>\n"
     ]
    }
   ],
   "source": [
    "player_loc = get_player_loc(maze_one)\n",
    "print(\"player_loc\", player_loc, type(player_loc))"
   ]
  },
  {
   "cell_type": "code",
   "execution_count": 39,
   "id": "f4f063c8-80d6-4fa6-9da5-89e8f7251f55",
   "metadata": {},
   "outputs": [],
   "source": [
    "def get_goal_loc(maze):\n",
    "    pass"
   ]
  },
  {
   "cell_type": "code",
   "execution_count": 40,
   "id": "96cefbc2-ffe0-4a2a-bb18-91060e18088f",
   "metadata": {},
   "outputs": [
    {
     "name": "stdout",
     "output_type": "stream",
     "text": [
      "goal_loc (0, 1)\n"
     ]
    }
   ],
   "source": [
    "goal_loc = get_goal_loc(maze_one)\n",
    "print(\"goal_loc\", goal_loc)"
   ]
  },
  {
   "cell_type": "markdown",
   "id": "1f378ce2-9013-4aea-9ef3-b19bc814d974",
   "metadata": {},
   "source": [
    "### Q3. 이동 가능한 방향 체크하기\n",
    "\n",
    "플레이어는 up, down, right, left 방향으로 이동할 수 있습니다.  \n",
    "up의 경우, 플레이어의 현재 좌표에서 y축을 기준으로 1만큼 빼주며됩니다.  \n",
    "\n",
    "가령 플레이어가 현재 (4, 3)에 위치해있다면 위로 이동할 경우 (3, 3)이 됩니다.  \n",
    "같은 방식으로 down, right, left 이동도 구현할 수 있습니다.  \n",
    "\n",
    "각 방향별로 이동을 위해서 움직여야 하는 좌표값을 딕셔너리 형태로 정리하면 아래와 같습니다.  "
   ]
  },
  {
   "cell_type": "code",
   "execution_count": 14,
   "id": "24b76331-5d83-48a9-a073-3fb4c713800f",
   "metadata": {},
   "outputs": [],
   "source": [
    "directions = {\"up\": (-1, 0), \"down\": (1, 0), \"right\": (0, 1), \"left\": (0, -1)}"
   ]
  },
  {
   "cell_type": "markdown",
   "id": "a3164529-2b45-4e75-b38a-8e02bc94ffa9",
   "metadata": {},
   "source": [
    "미로와 플레이어의 현재 위치가 주어졌을 때, 플레이어가 이동 가능한 방향을 리턴해주는 get_movable_directions 함수를 작성해보세요."
   ]
  },
  {
   "cell_type": "code",
   "execution_count": 17,
   "id": "93c55c63-d350-43f4-98c4-9aa95f088222",
   "metadata": {},
   "outputs": [],
   "source": [
    "def get_movable_directions(maze, player_loc):\n",
    "    movable_directions = []\n",
    "    # 로직을 작성해주세요.\n",
    "    return movable_directions"
   ]
  },
  {
   "cell_type": "code",
   "execution_count": 16,
   "id": "87932c26-ff75-4109-b648-eaba7320519d",
   "metadata": {},
   "outputs": [
    {
     "name": "stdout",
     "output_type": "stream",
     "text": [
      "player_loc (4, 3)\n",
      "movable directions ['up']\n"
     ]
    }
   ],
   "source": [
    "player_loc = get_player_loc(maze_one)\n",
    "print(\"player_loc\", player_loc)\n",
    "movable_directions = get_movable_directions(maze_one, player_loc)\n",
    "print(\"movable directions\", movable_directions)"
   ]
  },
  {
   "cell_type": "markdown",
   "id": "45f8ced0-88a6-44ab-b7b3-8536649c5946",
   "metadata": {},
   "source": [
    "### Q4. 미로 위에서 플레이어 움직이기\n",
    "\n",
    "미로와 현재 플레이어의 위치, 그리고 움직이고자 하는 방향을 파라미터로 전달받아서 플레이어의 위치를 이동시키는 move_player 함수를 작성하세요.  \n",
    "플레이어가 원래 있던 위치의 값은 0으로, 플레이어의 새로운 위치에 해당하는 값은 2로 값을 변경해주면 됩니다."
   ]
  },
  {
   "cell_type": "code",
   "execution_count": 27,
   "id": "116c766a-2e5c-4ab4-80c4-5d86fe0b012a",
   "metadata": {},
   "outputs": [],
   "source": [
    "def move_player(maze, player_loc, direction):\n",
    "    pass"
   ]
  },
  {
   "cell_type": "code",
   "execution_count": 28,
   "id": "4436904e-bfc2-4f4f-a552-3d059156d5a1",
   "metadata": {},
   "outputs": [
    {
     "name": "stdout",
     "output_type": "stream",
     "text": [
      "[1, 3, 1, 1, 1]\n",
      "[1, 0, 0, 0, 1]\n",
      "[1, 0, 0, 0, 1]\n",
      "[1, 0, 0, 0, 1]\n",
      "[1, 1, 1, 2, 1]\n"
     ]
    }
   ],
   "source": [
    "print_maze(maze_one)"
   ]
  },
  {
   "cell_type": "code",
   "execution_count": 29,
   "id": "2a7a04d9-291a-42d8-b35e-01e74788f112",
   "metadata": {},
   "outputs": [],
   "source": [
    "player_loc = get_player_loc(maze_one)\n",
    "direction = \"up\"\n",
    "move_player(maze_one, player_loc, direction)"
   ]
  },
  {
   "cell_type": "code",
   "execution_count": 30,
   "id": "e41ad70e-66e6-470d-b68f-8a5836b000ce",
   "metadata": {},
   "outputs": [
    {
     "name": "stdout",
     "output_type": "stream",
     "text": [
      "[1, 3, 1, 1, 1]\n",
      "[1, 0, 0, 0, 1]\n",
      "[1, 0, 0, 0, 1]\n",
      "[1, 0, 0, 2, 1]\n",
      "[1, 1, 1, 0, 1]\n"
     ]
    }
   ],
   "source": [
    "print_maze(maze_one)"
   ]
  },
  {
   "cell_type": "markdown",
   "id": "61b71534-55d6-4c80-8e7f-a99d2891911f",
   "metadata": {},
   "source": [
    "### Q5. 미로 탈출하기\n",
    "\n",
    "이제 미로 탈출 프로그램을 짜기 위해 필요한 모든 준비가 끝났습니다.  \n",
    "\n",
    "무한 루프를 이용해서 먼저 미로의 현재 상태와 플레이어가 이동 가능한 방향을 출력하세요.  \n",
    "그 다음 유저로부터 이동하고자 하는 방향을 input으로 입력받으세요.  \n",
    "입력 받은 방향으로 미로에서 플레이어를 이동시키세요.  \n",
    "만약 플레이어가 목적지에 도달할 경우 게임을 종료하세요.  \n",
    "\n",
    "이 로직을 escape_game이라는 함수로 작성하세요."
   ]
  },
  {
   "cell_type": "code",
   "execution_count": 41,
   "id": "1fe96b7f-5912-43f1-ab86-ec0b0e9b5081",
   "metadata": {},
   "outputs": [],
   "source": [
    "def escape_game(maze):\n",
    "    pass"
   ]
  },
  {
   "cell_type": "code",
   "execution_count": 42,
   "id": "f4b72452-3cc7-4b8b-9bb3-199fac12bb34",
   "metadata": {},
   "outputs": [
    {
     "name": "stdout",
     "output_type": "stream",
     "text": [
      "[1, 3, 1, 1, 1]\n",
      "[1, 0, 0, 0, 1]\n",
      "[1, 0, 0, 0, 1]\n",
      "[1, 0, 0, 2, 1]\n",
      "[1, 1, 1, 0, 1]\n",
      "['up', 'down', 'left']\n"
     ]
    },
    {
     "name": "stdin",
     "output_type": "stream",
     "text": [
      "어느 방향으로 진행하시겠습니까? left\n"
     ]
    },
    {
     "name": "stdout",
     "output_type": "stream",
     "text": [
      "[1, 3, 1, 1, 1]\n",
      "[1, 0, 0, 0, 1]\n",
      "[1, 0, 0, 0, 1]\n",
      "[1, 0, 2, 0, 1]\n",
      "[1, 1, 1, 0, 1]\n",
      "['up', 'right', 'left']\n"
     ]
    },
    {
     "name": "stdin",
     "output_type": "stream",
     "text": [
      "어느 방향으로 진행하시겠습니까? left\n"
     ]
    },
    {
     "name": "stdout",
     "output_type": "stream",
     "text": [
      "[1, 3, 1, 1, 1]\n",
      "[1, 0, 0, 0, 1]\n",
      "[1, 0, 0, 0, 1]\n",
      "[1, 2, 0, 0, 1]\n",
      "[1, 1, 1, 0, 1]\n",
      "['up', 'right']\n"
     ]
    },
    {
     "name": "stdin",
     "output_type": "stream",
     "text": [
      "어느 방향으로 진행하시겠습니까? up\n"
     ]
    },
    {
     "name": "stdout",
     "output_type": "stream",
     "text": [
      "[1, 3, 1, 1, 1]\n",
      "[1, 0, 0, 0, 1]\n",
      "[1, 2, 0, 0, 1]\n",
      "[1, 0, 0, 0, 1]\n",
      "[1, 1, 1, 0, 1]\n",
      "['up', 'down', 'right']\n"
     ]
    },
    {
     "name": "stdin",
     "output_type": "stream",
     "text": [
      "어느 방향으로 진행하시겠습니까? up\n"
     ]
    },
    {
     "name": "stdout",
     "output_type": "stream",
     "text": [
      "[1, 3, 1, 1, 1]\n",
      "[1, 2, 0, 0, 1]\n",
      "[1, 0, 0, 0, 1]\n",
      "[1, 0, 0, 0, 1]\n",
      "[1, 1, 1, 0, 1]\n",
      "['up', 'down', 'right']\n"
     ]
    },
    {
     "name": "stdin",
     "output_type": "stream",
     "text": [
      "어느 방향으로 진행하시겠습니까? up\n"
     ]
    },
    {
     "name": "stdout",
     "output_type": "stream",
     "text": [
      "[1, 2, 1, 1, 1]\n",
      "[1, 0, 0, 0, 1]\n",
      "[1, 0, 0, 0, 1]\n",
      "[1, 0, 0, 0, 1]\n",
      "[1, 1, 1, 0, 1]\n",
      "나 자유다!!!ㅠㅠㅠ\n"
     ]
    }
   ],
   "source": [
    "escape_game(maze_one)"
   ]
  },
  {
   "cell_type": "code",
   "execution_count": null,
   "id": "8992a230-8c23-458e-8715-f518dcd60c27",
   "metadata": {},
   "outputs": [],
   "source": []
  }
 ],
 "metadata": {
  "kernelspec": {
   "display_name": "Python 3 (ipykernel)",
   "language": "python",
   "name": "python3"
  },
  "language_info": {
   "codemirror_mode": {
    "name": "ipython",
    "version": 3
   },
   "file_extension": ".py",
   "mimetype": "text/x-python",
   "name": "python",
   "nbconvert_exporter": "python",
   "pygments_lexer": "ipython3",
   "version": "3.10.0"
  }
 },
 "nbformat": 4,
 "nbformat_minor": 5
}
