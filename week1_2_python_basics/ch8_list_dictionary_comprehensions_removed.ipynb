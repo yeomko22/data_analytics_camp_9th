{
 "cells": [
  {
   "cell_type": "markdown",
   "id": "98290d60-16f5-47b8-8316-dd94cc003312",
   "metadata": {
    "tags": []
   },
   "source": [
    "# ch9.List Comprehension\n",
    "## List Comprehension 사용\n",
    "- python의 독특한 문법 중의 하나로 list comprehension이 있습니다. \n",
    "- 이는 리스트를 생성하는 문법에 반복문을 넣어서 간결하게 반복을 구현하는 방법입니다."
   ]
  },
  {
   "cell_type": "code",
   "execution_count": 1,
   "id": "907ee6aa-c956-4760-9457-b4f9f14d796c",
   "metadata": {},
   "outputs": [
    {
     "data": {
      "text/plain": [
       "[0, 1, 2, 3, 4, 5, 6, 7, 8, 9, 10, 11, 12, 13, 14, 15, 16, 17, 18, 19, 20]"
      ]
     },
     "execution_count": 1,
     "metadata": {},
     "output_type": "execute_result"
    }
   ],
   "source": [
    "# 0부터 20 사이 수로 이루어진 배열 생성\n",
    "\n",
    "# forloop으로 만들 경우\n",
    "nums = []\n",
    "for i in range(21):\n",
    "    nums.append(i)"
   ]
  },
  {
   "cell_type": "code",
   "execution_count": 98,
   "id": "d33ee498-2399-4494-9ac3-76755edc280d",
   "metadata": {},
   "outputs": [],
   "source": [
    "# list comprehension으로 만들 경우\n",
    "nums = [x for x in range(21)]"
   ]
  },
  {
   "cell_type": "code",
   "execution_count": 99,
   "id": "798b9df0-1dd7-487c-898b-d163c54a3bf9",
   "metadata": {},
   "outputs": [
    {
     "data": {
      "text/plain": [
       "[0, 1, 2, 3, 4, 5, 6, 7, 8, 9, 10, 11, 12, 13, 14, 15, 16, 17, 18, 19, 20]"
      ]
     },
     "execution_count": 99,
     "metadata": {},
     "output_type": "execute_result"
    }
   ],
   "source": [
    "nums"
   ]
  },
  {
   "cell_type": "code",
   "execution_count": 111,
   "id": "5c05f031-c986-4217-bda7-72ddb58d5a1e",
   "metadata": {},
   "outputs": [
    {
     "name": "stdout",
     "output_type": "stream",
     "text": [
      "[0, 2, 4, 6, 8, 10, 12, 14, 16, 18, 20, 22, 24, 26, 28, 30, 32, 34, 36, 38, 40]\n"
     ]
    }
   ],
   "source": [
    "#  0부터 20 사이 짝수\n",
    "even_nums = [x  * 2 for x in range(21)]\n",
    "print(even_nums)"
   ]
  },
  {
   "cell_type": "code",
   "execution_count": 112,
   "id": "d1c6a356-23f5-4fe9-a4a7-33fed99b658d",
   "metadata": {},
   "outputs": [],
   "source": [
    "# even_nums의 각 element에 3씩 더한 리스트를 만들어라\n",
    "added_nums = [x + 3 for x in even_nums]"
   ]
  },
  {
   "cell_type": "code",
   "execution_count": 107,
   "id": "6c13c124-c7a1-4e10-b04b-04a9c3ba14f0",
   "metadata": {},
   "outputs": [
    {
     "data": {
      "text/plain": [
       "[3, 5, 7, 9, 11, 13, 15, 17, 19, 21, 23]"
      ]
     },
     "execution_count": 107,
     "metadata": {},
     "output_type": "execute_result"
    }
   ],
   "source": [
    "added_nums"
   ]
  },
  {
   "cell_type": "code",
   "execution_count": 114,
   "id": "4933eaf0-b51f-4dae-bff3-0b09182da316",
   "metadata": {},
   "outputs": [
    {
     "name": "stdout",
     "output_type": "stream",
     "text": [
      "[8, 16, 24, 32, 40, 48, 56, 64, 72]\n"
     ]
    }
   ],
   "source": [
    "# 구구단 8단을 list comprehension으로 짜보세요 \n",
    "nums = [x * 8 for x in range(1, 10)]\n",
    "print(nums)"
   ]
  },
  {
   "cell_type": "markdown",
   "id": "9e43860e-f158-4e0e-ac6f-e1f88f1df705",
   "metadata": {},
   "source": [
    "### List Comprehension에 조건문 적용\n",
    "- list comprehension에 조건문을 추가할 수도 있다."
   ]
  },
  {
   "cell_type": "code",
   "execution_count": 115,
   "id": "380f123e-f442-4f4c-a67d-e37ae03511d9",
   "metadata": {},
   "outputs": [
    {
     "name": "stdout",
     "output_type": "stream",
     "text": [
      "[0, 2, 4, 6, 8, 10]\n"
     ]
    }
   ],
   "source": [
    "# 0과 10 사이 짝수를 담은 배열을 생성하시오.\n",
    "nums = [x for x in range(11) if x % 2 == 0]\n",
    "print(nums)"
   ]
  },
  {
   "cell_type": "code",
   "execution_count": 118,
   "id": "55a43944-89cf-48e2-9095-c16a31939d69",
   "metadata": {},
   "outputs": [
    {
     "name": "stdout",
     "output_type": "stream",
     "text": [
      "[3, 10, 17, 24, 31, 38, 45, 52, 59, 66, 73, 80, 87, 94]\n"
     ]
    }
   ],
   "source": [
    "# 0부터 100 사이에 7로 나눠서 나머지가 3인 값들의 리스트를 만들어보세\n",
    "nums = [x for x in range(101) if x % 7 == 3]\n",
    "print(nums)"
   ]
  },
  {
   "cell_type": "markdown",
   "id": "390c7b4e-4e1e-4164-8bb7-555db7783884",
   "metadata": {},
   "source": [
    "### Nested List Comprehension\n",
    "- list comprehension을 중첩해서 nested list를 생성할 수도 있습니다.\n",
    "- 그러나 가독성이 좋지 못해서 지나친 list comprehension 중첩은 현업에서 지양합니다."
   ]
  },
  {
   "cell_type": "code",
   "execution_count": 124,
   "id": "eaf6f0fe-c01a-4cd0-b178-62bb4a4deffd",
   "metadata": {},
   "outputs": [
    {
     "name": "stdout",
     "output_type": "stream",
     "text": [
      "[['hello', 'hello', 'hello', 'hello', 'hello', 'hello', 'hello', 'hello', 'hello', 'hello'], ['hello', 'hello', 'hello', 'hello', 'hello', 'hello', 'hello', 'hello', 'hello', 'hello'], ['hello', 'hello', 'hello', 'hello', 'hello', 'hello', 'hello', 'hello', 'hello', 'hello'], ['hello', 'hello', 'hello', 'hello', 'hello', 'hello', 'hello', 'hello', 'hello', 'hello'], ['hello', 'hello', 'hello', 'hello', 'hello', 'hello', 'hello', 'hello', 'hello', 'hello'], ['hello', 'hello', 'hello', 'hello', 'hello', 'hello', 'hello', 'hello', 'hello', 'hello'], ['hello', 'hello', 'hello', 'hello', 'hello', 'hello', 'hello', 'hello', 'hello', 'hello'], ['hello', 'hello', 'hello', 'hello', 'hello', 'hello', 'hello', 'hello', 'hello', 'hello'], ['hello', 'hello', 'hello', 'hello', 'hello', 'hello', 'hello', 'hello', 'hello', 'hello'], ['hello', 'hello', 'hello', 'hello', 'hello', 'hello', 'hello', 'hello', 'hello', 'hello']]\n"
     ]
    }
   ],
   "source": [
    "n = 10\n",
    "\n",
    "zeros = [[\"hello\" for y in range(n)] for x in range(n)]\n",
    "print(zeros)"
   ]
  },
  {
   "cell_type": "markdown",
   "id": "3f06cacc-df94-4e9a-8e15-04c2377fc7b3",
   "metadata": {
    "tags": []
   },
   "source": [
    "### Quiz. list comprehension을 중첩해서 구구단을 생성해보세요\n",
    "- 한줄로도 구현할 수 있습니다!"
   ]
  },
  {
   "cell_type": "code",
   "execution_count": 126,
   "id": "e994eb25-87ea-4f59-ba4e-02ef45006a45",
   "metadata": {},
   "outputs": [
    {
     "name": "stdout",
     "output_type": "stream",
     "text": [
      "[2, 4, 6, 8, 10, 12, 14, 16, 18]\n",
      "[3, 6, 9, 12, 15, 18, 21, 24, 27]\n",
      "[4, 8, 12, 16, 20, 24, 28, 32, 36]\n",
      "[5, 10, 15, 20, 25, 30, 35, 40, 45]\n",
      "[6, 12, 18, 24, 30, 36, 42, 48, 54]\n",
      "[7, 14, 21, 28, 35, 42, 49, 56, 63]\n",
      "[8, 16, 24, 32, 40, 48, 56, 64, 72]\n",
      "[9, 18, 27, 36, 45, 54, 63, 72, 81]\n"
     ]
    }
   ],
   "source": [
    "gugudan = [[x * y for y in range(1, 10)] for x in range(2, 10)]\n",
    "\n",
    "for row in gugudan:\n",
    "    print(row)"
   ]
  },
  {
   "cell_type": "markdown",
   "id": "766502b2-8493-4e4d-851a-ebbf1a40f96a",
   "metadata": {
    "tags": []
   },
   "source": [
    "## Dictionary Comprehension"
   ]
  },
  {
   "cell_type": "markdown",
   "id": "64916e66-5b81-497f-9ba6-b39468d68d79",
   "metadata": {},
   "source": [
    "### Dictionary Comprehesion 사용\n",
    "- dictionary도 list와 비슷한 방식으로 만들 수 있다.\n",
    "- ex) 0부터 10 사이의 수를 key로 가지고, 그 수의 3배수를 value로 가지는 딕셔너리를 만드시오."
   ]
  },
  {
   "cell_type": "code",
   "execution_count": 127,
   "id": "9c0def73-e1ee-457b-a3dc-dfadb0608bfb",
   "metadata": {},
   "outputs": [
    {
     "name": "stdout",
     "output_type": "stream",
     "text": [
      "{0: 0, 1: 3, 2: 6, 3: 9, 4: 12, 5: 15, 6: 18, 7: 21, 8: 24, 9: 27}\n"
     ]
    }
   ],
   "source": [
    "# for loop으로 만들 경우\n",
    "nums_dict = {}\n",
    "nums = [x for x in range(10)]\n",
    "for num in nums:\n",
    "    nums_dict[num] = num * 3 \n",
    "print(nums_dict)"
   ]
  },
  {
   "cell_type": "code",
   "execution_count": 129,
   "id": "c3de9507-2fb9-4ab6-bbb0-abab3516be91",
   "metadata": {},
   "outputs": [
    {
     "name": "stdout",
     "output_type": "stream",
     "text": [
      "{0: 0, 1: 4, 2: 8, 3: 12, 4: 16, 5: 20, 6: 24, 7: 28, 8: 32, 9: 36}\n"
     ]
    }
   ],
   "source": [
    "# dictionary comprehension으로 만들 경우\n",
    "nums_dict = {x: x * 4 for x in range(10)}\n",
    "print(nums_dict)"
   ]
  },
  {
   "cell_type": "code",
   "execution_count": 131,
   "id": "e31c69cc-7eb2-4beb-b42e-82c2a66f4337",
   "metadata": {},
   "outputs": [
    {
     "name": "stdout",
     "output_type": "stream",
     "text": [
      "{500: 0, 200: 1, 300: 2, 100: 3}\n"
     ]
    }
   ],
   "source": [
    "# nums의 각 element가 key이고, index가 value인 dictionary를 만드세요, enumerate를 사용해서 dictionary comprehension을 하세요.\n",
    "nums = [500, 200, 300, 100]\n",
    "# nums_dict = {500: 0, 200: 1, 300: 2, 400: 3}\n",
    "nums_dict = {num: i for i, num in enumerate(nums)}\n",
    "print(nums_dict)"
   ]
  },
  {
   "cell_type": "code",
   "execution_count": 135,
   "id": "60ae6115-9369-41f4-8103-4d9d38bfaf57",
   "metadata": {},
   "outputs": [
    {
     "name": "stdout",
     "output_type": "stream",
     "text": [
      "0 500\n",
      "1 200\n",
      "2 300\n",
      "3 100\n"
     ]
    }
   ],
   "source": [
    "nums = [500, 200, 300, 100]\n",
    "\n",
    "for i, num in enumerate(nums):\n",
    "    print(i, num)"
   ]
  },
  {
   "cell_type": "markdown",
   "id": "019977c7-12c8-48a5-bfcf-3c6bc14f32d6",
   "metadata": {},
   "source": [
    "### Dictionary Comprension 조건문 적용하기\n",
    "- 마찬가지로 dictionary comprehension에도 조건문을 추가할 수 있습니다.\n",
    "- 0과 10 사이 수 중 짝수만 key로 가지고, 그 수의 3배수를 value로 가지는 딕셔너리를 만드시오"
   ]
  },
  {
   "cell_type": "code",
   "execution_count": 132,
   "id": "181911b2-50f6-4872-9736-0a069685393a",
   "metadata": {},
   "outputs": [
    {
     "name": "stdout",
     "output_type": "stream",
     "text": [
      "{0: 0, 2: 6, 4: 12, 6: 18, 8: 24, 10: 30}\n"
     ]
    }
   ],
   "source": [
    "nums_dict = {x: x * 3 for x in range(11) if x % 2 == 0}\n",
    "print(nums_dict)"
   ]
  },
  {
   "cell_type": "markdown",
   "id": "d9b274a5-ec94-4a2a-89e6-370ea9f8a14e",
   "metadata": {},
   "source": [
    "## 정리\n",
    "\n",
    "이번 챕터에서는 list comprehension과 dictionary comprehension에 대해서 배웠습니다.  \n",
    "이 두 문법은 잘 사용하면 간결한 코드를 작성하는데 큰 도움이 되니까 잘 숙지하고 넘어가면 좋겠습니다."
   ]
  },
  {
   "cell_type": "code",
   "execution_count": null,
   "id": "e1128cfd-ddb5-4254-9ab6-ce2eb4b01014",
   "metadata": {},
   "outputs": [],
   "source": []
  }
 ],
 "metadata": {
  "kernelspec": {
   "display_name": "Python 3 (ipykernel)",
   "language": "python",
   "name": "python3"
  },
  "language_info": {
   "codemirror_mode": {
    "name": "ipython",
    "version": 3
   },
   "file_extension": ".py",
   "mimetype": "text/x-python",
   "name": "python",
   "nbconvert_exporter": "python",
   "pygments_lexer": "ipython3",
   "version": "3.10.0"
  }
 },
 "nbformat": 4,
 "nbformat_minor": 5
}
