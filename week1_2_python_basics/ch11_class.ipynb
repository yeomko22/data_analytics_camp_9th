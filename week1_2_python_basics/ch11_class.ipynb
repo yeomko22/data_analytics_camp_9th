{
 "cells": [
  {
   "cell_type": "markdown",
   "id": "a7714f72-8dc2-472c-9dd4-d347f351023a",
   "metadata": {},
   "source": [
    "# ch 11. class\n",
    "객체 지향 프로그래밍의 세상에 온 여러분을 환영합니다.  \n",
    "지금까지 우리는 변수, 조건문, 반복문, 함수 등을 배웠습니다.  \n",
    "하지만 이 도구들만으로는 우리가 살고 있는 현실을 표현하는데에 한계가 많습니다.  "
   ]
  },
  {
   "attachments": {},
   "cell_type": "markdown",
   "id": "eef4b2f7-baf0-49d4-937b-93ae953c9c5b",
   "metadata": {},
   "source": [
    "가령 동물원을 운영하는 게임을 만들어보겠다고 생각해보겠습니다.  \n",
    "다양한 동물 종류들이 있을거고, 동물 개체마다 이름과 특징이 있을 겁니다.\n",
    "\n",
    "클래스는 이렇게 우리가 표현하고자 하는 대상의 설계도라고 생각하면 됩니다.  \n",
    "그리고 이 설계도를 바탕으로 객체를 생성할 수 있습니다.  \n",
    "즉, 판다라는 클래스를 만들고, 푸바오랑 후이바오, 루이바오를 만들 수 있습니다. \n",
    "\n"
   ]
  },
  {
   "cell_type": "markdown",
   "id": "ca1bb9ba-0bcc-4aa7-898d-10a15b313c93",
   "metadata": {},
   "source": [
    "## Class 기본 사용법"
   ]
  },
  {
   "cell_type": "markdown",
   "id": "66fd6da5-0696-4beb-b686-9e500e5bfba3",
   "metadata": {},
   "source": [
    "### class 만들기 \n",
    "\n",
    "먼저 동물원을 꾸미기에 앞서서 동물을 나타내는 기본 클래스인 Animal을 만들어보겠습니다.  \n",
    "python에서 클래스 이름은 보통 대문자로 시작합니다. 이를 Pascal Camelcase라고도 부릅니다.  "
   ]
  },
  {
   "cell_type": "code",
   "execution_count": 2,
   "id": "37f4be4c-6f56-4d7f-b1c6-f90fdd5c3688",
   "metadata": {},
   "outputs": [],
   "source": [
    "class Animal:\n",
    "    def __init__(self):\n",
    "        print(\"동물을 생성합니다.\")"
   ]
  },
  {
   "cell_type": "markdown",
   "id": "beb022b8-250b-46fa-ac5a-3b8d3b80c87f",
   "metadata": {},
   "source": [
    "클래스를 만든 뒤, ()로 호출해주면 해당 클래스로 객체를 만들어줍니다.  \n",
    "푸바오 객체를 만든 뒤, 출력해보겠습니다."
   ]
  },
  {
   "cell_type": "code",
   "execution_count": 9,
   "id": "e7cfb85e-f696-4f00-a9e2-4042765a15c6",
   "metadata": {},
   "outputs": [
    {
     "name": "stdout",
     "output_type": "stream",
     "text": [
      "동물을 생성합니다.\n"
     ]
    }
   ],
   "source": [
    "fubao = Animal()"
   ]
  },
  {
   "cell_type": "code",
   "execution_count": 10,
   "id": "93d53d26-1cae-453d-b77f-93a9622ce404",
   "metadata": {},
   "outputs": [
    {
     "name": "stdout",
     "output_type": "stream",
     "text": [
      "<__main__.Animal object at 0x1035563e0> <class '__main__.Animal'>\n"
     ]
    }
   ],
   "source": [
    "print(dog, type(dog))"
   ]
  },
  {
   "cell_type": "markdown",
   "id": "7e57bb12-45dd-4105-8d30-51bb20e5d91a",
   "metadata": {},
   "source": [
    "object라고 출력되면서 Animal 타입이라고 나옵니다.  \n",
    "즉, fubao라는 객체는 Animal이라는 클래스로 만든 객체입니다.  "
   ]
  },
  {
   "cell_type": "markdown",
   "id": "e46a7a6d-7a03-4352-a5ae-1c2475527482",
   "metadata": {},
   "source": [
    "### 생성자 함수\n",
    "\n",
    "클래스 아래에 함수가 하나 보입니다.\n",
    "```python\n",
    "    def __init__(self):\n",
    "        print(\"동물을 생성합니다.\")\n",
    "```\n",
    "이는 생성자 함수라고 하며, 클래스를 가지고 객체를 생성할 때 자동으로 호출되는 함수를 말합니다.  \n",
    "푸바오를 만들 때, \"동물을 생성합니다.\" 라는 메세지가 출력된 건 생성자 함수가 호출되었기 때문입니다.\n",
    "\n",
    "생성자 함수의 역할은 객체를 생성할 때 파라미터를 전달받아서 객체를 초기화 시켜주는 역할을 합니다.  \n",
    "기본으로 지정된 self 파라미터는 객체 자기 자신을 말합니다.\n",
    "한번 동물의 종류와 이름을 파라미터로 받도록 생성자 함수를 다시 작성해보겠습니다."
   ]
  },
  {
   "cell_type": "code",
   "execution_count": 11,
   "id": "9020a338-7636-43ff-a133-c303cbd41e02",
   "metadata": {},
   "outputs": [],
   "source": [
    "class Animal:\n",
    "    def __init__(self, specie, name):\n",
    "        print(\"동물을 생성합니다.\")\n",
    "        self.specie = specie\n",
    "        self.name = name"
   ]
  },
  {
   "cell_type": "code",
   "execution_count": 12,
   "id": "42b43c03-de2d-4071-999f-4306e2041c0d",
   "metadata": {},
   "outputs": [
    {
     "name": "stdout",
     "output_type": "stream",
     "text": [
      "동물을 생성합니다.\n"
     ]
    }
   ],
   "source": [
    "fubao = Animal(specie=\"판다\", name=\"푸바오\")"
   ]
  },
  {
   "cell_type": "code",
   "execution_count": 13,
   "id": "9e7554d6-ffd0-4b45-ab41-b5c3a9ef3d95",
   "metadata": {},
   "outputs": [
    {
     "name": "stdout",
     "output_type": "stream",
     "text": [
      "판다 푸바오\n"
     ]
    }
   ],
   "source": [
    "print(fubao.specie, fubao.name)"
   ]
  },
  {
   "cell_type": "markdown",
   "id": "f0683a34-f778-4bd2-8df9-c0b44578f40c",
   "metadata": {},
   "source": [
    "객체를 처음 생성할 때, specie와 name을 파라미터로 전달합니다.  \n",
    "그 다음 자동으로 호출되는 생성자 함수 내에서 self.specie, self.name에 전달받은 변수 값들을 저장합니다.  \n",
    "이렇게 자기 자신에게 변수 값을 할당하는 것을 멤버 변수라고 부릅니다.\n",
    "\n",
    "생성자 함수를 통해서 초기화한 멤버 변수는 생성한 객체에서 접근할 수 있습니다.  \n",
    "fubao.specie, fubao.name과 같은 문법으로 미리 초기화 해둔 변수들을 읽어와서 출력합니다.  "
   ]
  },
  {
   "cell_type": "markdown",
   "id": "08288279-fe4d-4472-aa5a-259f615f786c",
   "metadata": {},
   "source": [
    "### 객체 생성하기\n",
    "\n",
    "이제 만들어놓은 Animal 클래스로 여러 객체들을 생성해보겠습니다.  \n",
    "푸바오, 아이바오, 후이바오 세 판다를 생성하겠습니다.  "
   ]
  },
  {
   "cell_type": "code",
   "execution_count": 14,
   "id": "2691f132-c1e0-45a9-9285-7ac6fd483d2f",
   "metadata": {},
   "outputs": [
    {
     "name": "stdout",
     "output_type": "stream",
     "text": [
      "동물을 생성합니다.\n",
      "동물을 생성합니다.\n",
      "동물을 생성합니다.\n"
     ]
    }
   ],
   "source": [
    "fubao = Animal(specie=\"판다\", name=\"푸바오\")\n",
    "luibao = Animal(specie=\"판다\", name=\"루이바오\")\n",
    "huibao = Animal(specie=\"판다\", name=\"후이바오\")"
   ]
  },
  {
   "cell_type": "code",
   "execution_count": 16,
   "id": "70e6c6ff-ad12-417d-8411-f0ec87e27812",
   "metadata": {},
   "outputs": [
    {
     "name": "stdout",
     "output_type": "stream",
     "text": [
      "판다 푸바오\n",
      "판다 루이바오\n",
      "판다 후이바오\n"
     ]
    }
   ],
   "source": [
    "print(fubao.specie, fubao.name)\n",
    "print(luibao.specie, luibao.name)\n",
    "print(huibao.specie, huibao.name)"
   ]
  },
  {
   "cell_type": "markdown",
   "id": "9b769e96-cf98-44c4-8fc5-94baa159e321",
   "metadata": {},
   "source": [
    "판다 말고 다른 동물들도 생성해보겠습니다."
   ]
  },
  {
   "cell_type": "code",
   "execution_count": 19,
   "id": "4d884d62-1352-4e74-ae29-40e7448f59ba",
   "metadata": {},
   "outputs": [
    {
     "name": "stdout",
     "output_type": "stream",
     "text": [
      "동물을 생성합니다.\n",
      "동물을 생성합니다.\n"
     ]
    }
   ],
   "source": [
    "baekho = Animal(specie=\"호랑이\", name=\"백호\")\n",
    "gomgom = Animal(specie=\"곰\", name=\"곰곰\")"
   ]
  },
  {
   "cell_type": "code",
   "execution_count": 20,
   "id": "cb1ee932-eae1-4934-95d9-0e71565fc1dc",
   "metadata": {},
   "outputs": [
    {
     "name": "stdout",
     "output_type": "stream",
     "text": [
      "호랑이 백호\n",
      "곰 곰곰\n"
     ]
    }
   ],
   "source": [
    "print(baekho.specie, baekho.name)\n",
    "print(gomgom.specie, gomgom.name)"
   ]
  },
  {
   "cell_type": "markdown",
   "id": "74ee484a-4b24-4217-825b-feca1b090f72",
   "metadata": {},
   "source": [
    "### 메서드 생성하기\n",
    "\n",
    "이제 클래스에 객체들의 행동을 의미하는 메서드 함수를 추가해보겠습니다.  \n",
    "동물의 종류와 이름을 소개하는 introduce라는 메서드를 작성해보겠습니다."
   ]
  },
  {
   "cell_type": "code",
   "execution_count": 25,
   "id": "21eac977-2dbc-448b-8617-289477c8f85d",
   "metadata": {},
   "outputs": [],
   "source": [
    "class Animal:\n",
    "    def __init__(self, specie, name):\n",
    "        print(\"동물을 생성합니다.\")\n",
    "        self.specie = specie\n",
    "        self.name = name\n",
    "\n",
    "    def introduce(self):\n",
    "        print(f\"종: {self.specie} 이름: {self.name}\")"
   ]
  },
  {
   "cell_type": "markdown",
   "id": "a157567f-6d16-41dc-8f3f-750927a8653d",
   "metadata": {},
   "source": [
    "새롭게 만든 클래스로 객체들을 다시 만들어보겠습니다."
   ]
  },
  {
   "cell_type": "code",
   "execution_count": 26,
   "id": "072a856c-c189-4e11-a8c4-da1cf5786f8d",
   "metadata": {},
   "outputs": [
    {
     "name": "stdout",
     "output_type": "stream",
     "text": [
      "동물을 생성합니다.\n",
      "동물을 생성합니다.\n",
      "동물을 생성합니다.\n",
      "동물을 생성합니다.\n",
      "동물을 생성합니다.\n"
     ]
    }
   ],
   "source": [
    "fubao = Animal(specie=\"판다\", name=\"푸바오\")\n",
    "luibao = Animal(specie=\"판다\", name=\"루이바오\")\n",
    "huibao = Animal(specie=\"판다\", name=\"후이바오\")\n",
    "baekho = Animal(specie=\"호랑이\", name=\"백호\")\n",
    "gomgom = Animal(specie=\"곰\", name=\"곰곰\")"
   ]
  },
  {
   "cell_type": "code",
   "execution_count": 28,
   "id": "225b5664-2f5b-47fd-8355-fa565346f825",
   "metadata": {},
   "outputs": [
    {
     "name": "stdout",
     "output_type": "stream",
     "text": [
      "종: 판다 이름: 푸바오\n",
      "종: 판다 이름: 루이바오\n",
      "종: 판다 이름: 후이바오\n",
      "종: 호랑이 이름: 백호\n",
      "종: 곰 이름: 곰곰\n"
     ]
    }
   ],
   "source": [
    "fubao.introduce()\n",
    "luibao.introduce()\n",
    "huibao.introduce()\n",
    "baekho.introduce()\n",
    "gomgom.introduce()"
   ]
  },
  {
   "cell_type": "markdown",
   "id": "f039d50f-05b7-4790-b378-fbd4fd48de1a",
   "metadata": {},
   "source": [
    "이번에는 울음소리를 나타내는 sound를 생성자 함수에 추가하고, 짖기를 나타내는 bark라는 메서드를 추가해보겠습니다."
   ]
  },
  {
   "cell_type": "code",
   "execution_count": 32,
   "id": "76207756-2409-48fd-8c00-0e09fb49130e",
   "metadata": {},
   "outputs": [],
   "source": [
    "class Animal:\n",
    "    def __init__(self, specie, name, sound):\n",
    "        print(\"동물을 생성합니다.\")\n",
    "        self.specie = specie\n",
    "        self.name = name\n",
    "        self.sound = sound\n",
    "\n",
    "    def introduce(self):\n",
    "        print(f\"종: {self.specie} 이름: {self.name}\")\n",
    "\n",
    "    def bark(self):\n",
    "        print(f\"{self.name}: {self.sound}\")"
   ]
  },
  {
   "cell_type": "code",
   "execution_count": 33,
   "id": "74fc08a7-c233-4c3a-9543-729e68c4e495",
   "metadata": {},
   "outputs": [
    {
     "name": "stdout",
     "output_type": "stream",
     "text": [
      "동물을 생성합니다.\n",
      "동물을 생성합니다.\n",
      "동물을 생성합니다.\n",
      "동물을 생성합니다.\n",
      "동물을 생성합니다.\n"
     ]
    }
   ],
   "source": [
    "fubao = Animal(specie=\"판다\", name=\"푸바오\", sound=\"푸푸\")\n",
    "luibao = Animal(specie=\"판다\", name=\"루이바오\", sound=\"루이루이\")\n",
    "huibao = Animal(specie=\"판다\", name=\"후이바오\", sound=\"후이후이\")\n",
    "baekho = Animal(specie=\"호랑이\", name=\"백호\", sound=\"어흥\")\n",
    "gomgom = Animal(specie=\"곰\", name=\"곰곰\", sound=\"고옴\")"
   ]
  },
  {
   "cell_type": "code",
   "execution_count": 34,
   "id": "b69e3c7c-2808-4fab-bf47-645c0800134a",
   "metadata": {},
   "outputs": [
    {
     "name": "stdout",
     "output_type": "stream",
     "text": [
      "푸바오: 푸푸\n"
     ]
    }
   ],
   "source": [
    "fubao.bark()"
   ]
  },
  {
   "cell_type": "markdown",
   "id": "ec9197e2-3926-4385-84cd-10d8a5d76eef",
   "metadata": {},
   "source": [
    "이런 식으로 객체의 기본 속성과 행동들을 클래스에 정의하고,  \n",
    "객체를 만들어서 실제 대상을 표현하는 프로그래밍 방식을 객체지향 프로그래밍이라고 합니다."
   ]
  },
  {
   "cell_type": "markdown",
   "id": "979e2e22-daf2-4f2a-9e97-3ca3e1b6372e",
   "metadata": {},
   "source": [
    "## 상속\n",
    "\n",
    "### 상속받은 후 메서드 추가\n",
    "다른 동물들에는 속하지 않는, 판다만의 고유한 행동을 추가하고 싶어졌습니다.  \n",
    "예를들어서 판다는 \"애교부리기\" 라는 다른 동물들은 하지 않는 행동이 있다고 가정하겠습니다.  \n",
    "이런 경우, 판다 클래스를 따로 만들기 보다는 기존 Animal 클래스를 상속 받는 Panda 클래스를 만들어주면 됩니다."
   ]
  },
  {
   "cell_type": "code",
   "execution_count": 44,
   "id": "d3471bfc-208a-4482-9867-d7a127614a4e",
   "metadata": {},
   "outputs": [],
   "source": [
    "class Panda(Animal):\n",
    "    def __init__(self, name, sound):\n",
    "        super().__init__(specie=\"판다\", name=name, sound=sound)\n",
    "        self.cute_sound = \"꾸잉꾸잉\"\n",
    "\n",
    "    def acting_cute(self):\n",
    "        print(self.cute_sound)"
   ]
  },
  {
   "cell_type": "markdown",
   "id": "5b705036-bc47-43e8-96ab-e27855868d7c",
   "metadata": {},
   "source": [
    "super()가 보이는데, 이는 상속을 받는 부모 클래스를 의미합니다.  \n",
    "즉, Panda 클래스의 생성자 함수 내에서 Animal 클래스의 생성자 함수를 호출하고 있으며,  \n",
    "이 때 specie는 판다로 고정하고, 파라미터로 전달받았던 name과 sound를 전달합니다."
   ]
  },
  {
   "cell_type": "code",
   "execution_count": 45,
   "id": "3665ea65-2aac-4744-acc7-c289eaf42673",
   "metadata": {},
   "outputs": [
    {
     "name": "stdout",
     "output_type": "stream",
     "text": [
      "동물을 생성합니다.\n",
      "동물을 생성합니다.\n",
      "동물을 생성합니다.\n"
     ]
    }
   ],
   "source": [
    "fubao = Panda(name=\"푸바오\", sound=\"푸푸\")\n",
    "luibao = Panda(name=\"루이바오\", sound=\"루이루이\")\n",
    "huibao = Panda(name=\"후이바오\", sound=\"후이후이\")"
   ]
  },
  {
   "cell_type": "code",
   "execution_count": 46,
   "id": "45c7df29-ee74-4d52-9329-18f07fa04c5f",
   "metadata": {},
   "outputs": [
    {
     "name": "stdout",
     "output_type": "stream",
     "text": [
      "꾸잉꾸잉\n"
     ]
    }
   ],
   "source": [
    "fubao.acting_cute()"
   ]
  },
  {
   "cell_type": "code",
   "execution_count": 47,
   "id": "36a11438-0211-478e-a236-0c29b28d969f",
   "metadata": {},
   "outputs": [
    {
     "name": "stdout",
     "output_type": "stream",
     "text": [
      "푸바오: 푸푸\n"
     ]
    }
   ],
   "source": [
    "fubao.bark()"
   ]
  },
  {
   "cell_type": "markdown",
   "id": "33f05416-4829-4ba0-b368-ef9557f094eb",
   "metadata": {},
   "source": [
    "Panda는 Animal을 상속받았기 때문에 Animal 클래스에 정의된 메서드를 그대로 사용할 수 있습니다."
   ]
  },
  {
   "cell_type": "markdown",
   "id": "f86880a7-fdc8-4bea-a03d-b15921e397bb",
   "metadata": {},
   "source": [
    "### 메서드 오버라이딩\n",
    "\n",
    "자, 그런데 이번에는 판다가 다른 동물들과는 다른 방식으로 짖는다는걸 알았습니다.  \n",
    "바로 울음 소리를 내기 전에 애교를 한번 부린다는 거였습니다.  \n",
    "\n",
    "이를 구현하기 위해서는 부모 클래스에 정의되어 있는 bark 메서드를 다시 재정의 해야합니다.  \n",
    "이러한 작업을 메서드 오버라이딩이라고 부릅니다."
   ]
  },
  {
   "cell_type": "code",
   "execution_count": 48,
   "id": "77cf0696-f43d-4798-adf2-3b91e326f48b",
   "metadata": {},
   "outputs": [],
   "source": [
    "class Panda(Animal):\n",
    "    def __init__(self, name, sound):\n",
    "        super().__init__(specie=\"판다\", name=name, sound=sound)\n",
    "        self.cute_sound = \"꾸잉꾸잉\"\n",
    "\n",
    "    def acting_cute(self):\n",
    "        print(self.cute_sound)\n",
    "\n",
    "    def bark(self):\n",
    "        print(f\"{self.name}: {self.cute_sound} {self.sound}\")"
   ]
  },
  {
   "cell_type": "code",
   "execution_count": 49,
   "id": "d692e669-d0a9-4be9-9b71-89448f19f33c",
   "metadata": {},
   "outputs": [
    {
     "name": "stdout",
     "output_type": "stream",
     "text": [
      "동물을 생성합니다.\n",
      "동물을 생성합니다.\n",
      "동물을 생성합니다.\n"
     ]
    }
   ],
   "source": [
    "fubao = Panda(name=\"푸바오\", sound=\"푸푸\")\n",
    "luibao = Panda(name=\"루이바오\", sound=\"루이루이\")\n",
    "huibao = Panda(name=\"후이바오\", sound=\"후이후이\")"
   ]
  },
  {
   "cell_type": "code",
   "execution_count": 51,
   "id": "26e0d798-daba-4cad-a03e-05541755704d",
   "metadata": {},
   "outputs": [
    {
     "name": "stdout",
     "output_type": "stream",
     "text": [
      "푸바오: 꾸잉꾸잉 푸푸\n",
      "루이바오: 꾸잉꾸잉 루이루이\n",
      "후이바오: 꾸잉꾸잉 후이후이\n"
     ]
    }
   ],
   "source": [
    "fubao.bark()\n",
    "luibao.bark()\n",
    "huibao.bark()"
   ]
  },
  {
   "cell_type": "markdown",
   "id": "eca1cae2-c3de-496d-9fde-bf1d7e8ac04f",
   "metadata": {},
   "source": [
    "## 정리\n",
    "\n",
    "지금까지 python 클래스와 상속의 사용법을 아주 간단하게 알아보았습니다.  \n",
    "우리 과정에서는 클래스와 객체 지향 프로그래밍의 깊이있는 지식까지 요구하지는 않습니다.  \n",
    "클래스와 객체의 핵심 개념 정도만 숙지하는 수준으로 공부하고 넘어가면 충분합니다."
   ]
  },
  {
   "cell_type": "code",
   "execution_count": null,
   "id": "a5b55f9c-8ff5-473f-a04a-8afd6302880f",
   "metadata": {},
   "outputs": [],
   "source": []
  }
 ],
 "metadata": {
  "kernelspec": {
   "display_name": "Python 3 (ipykernel)",
   "language": "python",
   "name": "python3"
  },
  "language_info": {
   "codemirror_mode": {
    "name": "ipython",
    "version": 3
   },
   "file_extension": ".py",
   "mimetype": "text/x-python",
   "name": "python",
   "nbconvert_exporter": "python",
   "pygments_lexer": "ipython3",
   "version": "3.10.0"
  }
 },
 "nbformat": 4,
 "nbformat_minor": 5
}
