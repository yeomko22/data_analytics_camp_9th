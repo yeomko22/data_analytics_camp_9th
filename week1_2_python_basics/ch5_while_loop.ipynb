{
 "cells": [
  {
   "cell_type": "markdown",
   "id": "d3be8230-d710-4125-8a78-6b2e85cd5ba3",
   "metadata": {},
   "source": [
    "# ch5. while loop \n",
    "python에서 반복을 구현할 때에는 while 문을 사용할 수도 있습니다.  \n",
    "while 문을 이용하면 특정 조건이 달성될 때까지 무한히 반복을 진행하는 무한루프를 구현할 수 있습니다.  "
   ]
  },
  {
   "cell_type": "markdown",
   "id": "bc8f9783-a10e-4863-802f-5388fbbbbaad",
   "metadata": {
    "tags": []
   },
   "source": [
    "## while loop 기본 사용법\n",
    "- while문은 특정 조건이 충족될 때까지 반복을 계속하는 문법입니다.\n",
    "- while문은 자칫 실수하면 무한루프를 발생시킬 수 있습니다. 때문에 실제 현업에서 사용할 때는 매우 신중해야합니다.\n",
    "- 일반적으로 반복을 구현할 때는 for-loop을 사용하고, 무한 루프를 구현할 때는 while을 사용합니다. "
   ]
  },
  {
   "cell_type": "code",
   "execution_count": 1,
   "id": "811416ec-c18e-4040-954d-8fdaf1c2388f",
   "metadata": {},
   "outputs": [],
   "source": [
    "nums = [0, 1, 2, 3, 4, 5, 6, 7, 8, 9]"
   ]
  },
  {
   "cell_type": "code",
   "execution_count": 2,
   "id": "8b053915-10c8-4224-85ed-16fa84648622",
   "metadata": {},
   "outputs": [
    {
     "name": "stdout",
     "output_type": "stream",
     "text": [
      "0\n",
      "1\n",
      "2\n",
      "3\n",
      "4\n",
      "5\n",
      "6\n",
      "7\n",
      "8\n",
      "9\n"
     ]
    }
   ],
   "source": [
    "cur_index = 0\n",
    "while cur_index < len(nums):\n",
    "    print(nums[cur_index])\n",
    "    cur_index += 1"
   ]
  },
  {
   "cell_type": "code",
   "execution_count": 4,
   "id": "6f76c21f-2bfb-4d57-ab4b-249209c41344",
   "metadata": {},
   "outputs": [
    {
     "name": "stdout",
     "output_type": "stream",
     "text": [
      "0\n",
      "1\n",
      "2\n",
      "3\n",
      "4\n"
     ]
    }
   ],
   "source": [
    "cur_index = 0\n",
    "while cur_index < 5:\n",
    "    print(nums[cur_index])\n",
    "    cur_index += 1"
   ]
  },
  {
   "cell_type": "markdown",
   "id": "047f9d4b-2a79-4b6e-bac7-0a98402cc25f",
   "metadata": {
    "tags": []
   },
   "source": [
    "## 무한루프\n",
    "- 의도적으로 무한히 반복이 필요할 수도 있습니다. 이 경우, while loop를 이용해서 구현할 수 있습니다.\n",
    "- 무한루프는 아래 처럼 만들 수 있습니다. 이 때 꼭 ,탈출 조건을 명시해주어야 합니다.\n",
    "```\n",
    "while True:\n",
    "    ...\n",
    "    if 탈출 조건:\n",
    "        break\n",
    "```"
   ]
  },
  {
   "cell_type": "code",
   "execution_count": 7,
   "id": "d1c712b7-6345-46da-a5d9-1dc64ee237ba",
   "metadata": {},
   "outputs": [
    {
     "name": "stdout",
     "output_type": "stream",
     "text": [
      "hello\n",
      "hello\n",
      "hello\n",
      "hello\n",
      "hello\n",
      "hello\n",
      "hello\n",
      "hello\n",
      "hello\n",
      "hello\n",
      "hello\n"
     ]
    }
   ],
   "source": [
    "cnt = 0\n",
    "while True:\n",
    "    print(\"hello\")\n",
    "    cnt += 1\n",
    "    if cnt > 10:\n",
    "        break"
   ]
  },
  {
   "cell_type": "markdown",
   "id": "ed39af9c-10a0-4d53-8896-b2cabcb25337",
   "metadata": {},
   "source": [
    "- 만일 break문을 적절히 걸어주지 않을 경우, 무한히 반복을 수행해서 심각한 문제가 발생하니, 반드시 주의해야합니다."
   ]
  },
  {
   "cell_type": "markdown",
   "id": "89e80ef4-95f0-4484-bb7a-3bed8e6d4894",
   "metadata": {
    "tags": []
   },
   "source": [
    "### while 문으로 숫자 게임 만들기\n",
    "- while문으로 무한루프를 만들어 0과 100 사이 값을 추측해보는 숫자게임을 만들어보겠습니다."
   ]
  },
  {
   "cell_type": "code",
   "execution_count": 9,
   "id": "3dbfc8c0-62a5-4b75-9bae-a93bca52d727",
   "metadata": {},
   "outputs": [
    {
     "name": "stdin",
     "output_type": "stream",
     "text": [
      "숫자를 입력하세요 50\n"
     ]
    },
    {
     "name": "stdout",
     "output_type": "stream",
     "text": [
      "정답보다 큽니다.\n"
     ]
    },
    {
     "name": "stdin",
     "output_type": "stream",
     "text": [
      "숫자를 입력하세요 25\n"
     ]
    },
    {
     "name": "stdout",
     "output_type": "stream",
     "text": [
      "정답입니다!\n"
     ]
    }
   ],
   "source": [
    "import random\n",
    "\n",
    "answer = random.randint(0, 100)\n",
    "\n",
    "count = 0\n",
    "while True:\n",
    "    user_answer = int(input(\"숫자를 입력하세요\"))\n",
    "    if user_answer == answer:\n",
    "        print(\"정답입니다!\")\n",
    "        break\n",
    "    \n",
    "    if user_answer < answer:\n",
    "        print(\"정답보다 작습니다.\")\n",
    "    else:\n",
    "        print(\"정답보다 큽니다.\")\n",
    "    count += 1"
   ]
  },
  {
   "cell_type": "markdown",
   "id": "b09b0df2-0162-4cf5-a5da-a1550aaaaf57",
   "metadata": {},
   "source": [
    "### Quiz. 무한루프 중단 조건 추가하기 \n",
    "\n",
    "앞선 숫자 게임에서 유저가 \"q\"를 입력하면 게임을 중단하는 로직을 추가해보세요!"
   ]
  },
  {
   "cell_type": "markdown",
   "id": "3752cdfa-b8e4-4d47-9b14-0eb9169bd030",
   "metadata": {},
   "source": []
  },
  {
   "cell_type": "markdown",
   "id": "a578dae2-836e-4841-9456-157b7738229e",
   "metadata": {},
   "source": [
    "## 정리\n",
    "\n",
    "이번 챕터에서는 python으로 반복을 구현하는 다른 방법인 while loop를 배워봤습니다.  \n",
    "일반적으로 반복이 필요할 때에는 for문을 사용하고, 무한 루프가 필요할 때에는 while문을 사용한다는 점을 기억하고 넘어가면 좋겠습니다."
   ]
  },
  {
   "cell_type": "code",
   "execution_count": null,
   "id": "bf4275db-11c3-4f7d-b7f3-03a432413231",
   "metadata": {},
   "outputs": [],
   "source": []
  }
 ],
 "metadata": {
  "kernelspec": {
   "display_name": "Python 3 (ipykernel)",
   "language": "python",
   "name": "python3"
  },
  "language_info": {
   "codemirror_mode": {
    "name": "ipython",
    "version": 3
   },
   "file_extension": ".py",
   "mimetype": "text/x-python",
   "name": "python",
   "nbconvert_exporter": "python",
   "pygments_lexer": "ipython3",
   "version": "3.10.0"
  }
 },
 "nbformat": 4,
 "nbformat_minor": 5
}
