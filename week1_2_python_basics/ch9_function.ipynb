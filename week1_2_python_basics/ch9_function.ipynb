{
 "cells": [
  {
   "attachments": {
    "352542f7-fdad-4165-8f82-fc9680491004.png": {
     "image/png": "[encoded data removed]"
    }
   },
   "cell_type": "markdown",
   "id": "d0ea0cb1-1e38-4855-b37e-89179ef9e4cc",
   "metadata": {},
   "source": [
    "# ch 9. function\n",
    "![image.png](attachment:352542f7-fdad-4165-8f82-fc9680491004.png)\n",
    "\n",
    "프로그래밍에서 함수란 input을 전달받아서 어떤 로직을 처리하고, 그 결과를 리턴해주는 것입니다.  \n",
    "함수를 사용하면 코드를 한번 작성하고, 전달하는 파라미터만 변경해서 사용할 수 있습니다.  \n",
    "덕분에 코드의 재사용성이 좋아지고, 역할별로 코드를 묶어서 작성하는 것이 가능해집니다.  \n",
    "\n",
    "## 함수의 기본 사용법\n",
    "함수는 기본적으로 def 키워드를 사용하여 작성하며, 함수의 입력에 해당하는 파라미터들을 전달받을 수 있습니다.  \n",
    "파라미터를 전달받아서 내부 로직을 수행하고, 결과로 리턴하고 싶은 변수를 return 키워드에 전달하면 됩니다.  \n",
    "(파라미터는 param, 아규먼트, 매개변수 등으로 불리기도 한다. 모두 쓰이는 용어들입니다.)\n",
    "\n",
    "```python\n",
    "def 함수명(파라미터 1, 파라미터 2, ...):\n",
    "    실행할 코드\n",
    "    return 리턴할 변수\n",
    "```"
   ]
  },
  {
   "cell_type": "markdown",
   "id": "c41a74bc-c4df-40ec-9848-e57a1418a151",
   "metadata": {},
   "source": [
    "이전 시간에 예시로 작성했던 잔돈 개수 구하기 문제를 함수로 표현해보겠습니다."
   ]
  },
  {
   "cell_type": "code",
   "execution_count": 2,
   "id": "202b1d5c-d875-431e-9234-1100ba9d97b1",
   "metadata": {},
   "outputs": [],
   "source": [
    "def calculate_change(pay, price):\n",
    "    answer = 0\n",
    "    change_units = [50000, 10000, 5000, 1000, 500, 100]\n",
    "    change = pay - price\n",
    "    for change_unit in change_units:\n",
    "        if change >= change_unit:\n",
    "            cur_change = change // change_unit\n",
    "            answer += cur_change\n",
    "            change -= cur_change * change_unit\n",
    "        if not change:\n",
    "            break\n",
    "    return answer"
   ]
  },
  {
   "cell_type": "markdown",
   "id": "6e04f0e9-2f72-49c6-9f5c-79318be43cac",
   "metadata": {},
   "source": [
    "### 함수 호출\n",
    "\"함수명(파라미터)\" 이런 식으로 함수에 입력을 넣어서 실행할 수 있습니다. 이를 함수를 호출한다라고 표현합니다.  \n",
    "파라미터를 전달할 때 순서를 헷갈리면 안됩니다.  "
   ]
  },
  {
   "cell_type": "code",
   "execution_count": 5,
   "id": "b55b2118-a0f7-4e2a-956d-62ad97ffc439",
   "metadata": {},
   "outputs": [
    {
     "data": {
      "text/plain": [
       "3"
      ]
     },
     "execution_count": 5,
     "metadata": {},
     "output_type": "execute_result"
    }
   ],
   "source": [
    "calculate_change(50000, 34500)"
   ]
  },
  {
   "cell_type": "code",
   "execution_count": null,
   "id": "18286c65-31e9-4032-9aaf-948b393a0008",
   "metadata": {},
   "outputs": [],
   "source": []
  },
  {
   "cell_type": "code",
   "execution_count": 6,
   "id": "fc550b62-b01e-4205-b1d1-19413b0f9951",
   "metadata": {},
   "outputs": [
    {
     "data": {
      "text/plain": [
       "5"
      ]
     },
     "execution_count": 6,
     "metadata": {},
     "output_type": "execute_result"
    }
   ],
   "source": [
    "calculate_change(50000, 37800)"
   ]
  },
  {
   "cell_type": "code",
   "execution_count": null,
   "id": "39183dc3-3365-4c11-9609-a65ef544622d",
   "metadata": {},
   "outputs": [],
   "source": []
  },
  {
   "cell_type": "markdown",
   "id": "541c02f3-c88d-44db-adf2-c2e0de8bd957",
   "metadata": {},
   "source": [
    "### 키워드를 지정해서 호출\n",
    "\n",
    "파라미터를 전달할 때 헷갈리다면, 파라미터 이름을 지정해서 함수를 호출할 수도 있습니다.  \n",
    "파라미터에 이름을 지정해서 전달할 경우, 순서가 뒤바뀌어도 상관없습니다.  "
   ]
  },
  {
   "cell_type": "code",
   "execution_count": 7,
   "id": "7f1b4d8d-691a-4d5c-a521-43052cbb42b2",
   "metadata": {},
   "outputs": [
    {
     "data": {
      "text/plain": [
       "7"
      ]
     },
     "execution_count": 7,
     "metadata": {},
     "output_type": "execute_result"
    }
   ],
   "source": [
    "calculate_change(pay=50000, price=18300)"
   ]
  },
  {
   "cell_type": "markdown",
   "id": "86561a49-8a8d-491e-a24b-a1f091fcc349",
   "metadata": {},
   "source": [
    "### 함수를 사용하는 이유\n",
    "잔돈 계산 로직을 함수로 표현하니 어떠한 점들이 편리해졌나요?  \n",
    "먼저 입력 값만 주어지면 잔돈을 계산할 수 있게 되었습니다.  \n",
    "이제 잔돈 계산 로직을 언제든지 재사용할 수 있게 되었습니다.    \n",
    "이를 프로그래밍에서는 \"재사용성이 높아졌다\" 라고 표현한다.  \n",
    "\n",
    "또한 잔돈을 계산하는 세부 로직이 calculate_change라는 하나의 함수로 묶였습니다.    \n",
    "덕분에 전반적인 코드가 더 짜임새 있고, 파악하기가 쉬워졌습니다.  \n",
    "이를 프로그래밍에서는 \"추상화 되었다\" 라고 표현한다.  \n",
    "\n",
    "정리하면 잔돈 계산하는 로직을 함수로 따로 빼니, 언제든 재사용이 가능해지고 로직 파악이 쉬워졌습니다.    \n",
    "앞으로 이 함수라는 것은 개발을 하면서 정말 수도 없이 사용하고 작성해야합니다.  "
   ]
  },
  {
   "cell_type": "markdown",
   "id": "5256b096-62fe-4d3d-beda-d0225f6eae6e",
   "metadata": {},
   "source": [
    "### 파라미터가 없는 함수\n",
    "- 파라미터 없이도 함수를 정의할 수 있습니다."
   ]
  },
  {
   "cell_type": "code",
   "execution_count": 9,
   "id": "7a5046a3-a771-4e31-9d29-c542be5f3360",
   "metadata": {},
   "outputs": [],
   "source": [
    "def say_hello():\n",
    "    return \"hello\""
   ]
  },
  {
   "cell_type": "code",
   "execution_count": 10,
   "id": "d4f37434-f935-484b-8005-d1f5785d689d",
   "metadata": {},
   "outputs": [
    {
     "name": "stdout",
     "output_type": "stream",
     "text": [
      "hello\n"
     ]
    }
   ],
   "source": [
    "print(say_hello())"
   ]
  },
  {
   "cell_type": "markdown",
   "id": "0f6be3b5-580b-491f-ba1f-712a1fbd0e1e",
   "metadata": {},
   "source": [
    "## 함수의 리턴값\n",
    "- 함수의 리턴 값은 언제나 하나입니다. 여러개거나 없는 경우도 있지 않냐고 생각할 수도 있지만, 언제나 하나입니다. 왜 하나인지를 예시를 통해 알아봅시다.\n"
   ]
  },
  {
   "cell_type": "code",
   "execution_count": 11,
   "id": "ec1275b8-22d2-4184-9c28-348f20ec8ad7",
   "metadata": {},
   "outputs": [],
   "source": [
    "# 리턴 값이 하나인 함수\n",
    "def add(num_a, num_b):\n",
    "    return num_a + num_b"
   ]
  },
  {
   "cell_type": "code",
   "execution_count": 12,
   "id": "c058f4b7-4fde-4e3a-9939-2066f3a8869f",
   "metadata": {},
   "outputs": [
    {
     "data": {
      "text/plain": [
       "8"
      ]
     },
     "execution_count": 12,
     "metadata": {},
     "output_type": "execute_result"
    }
   ],
   "source": [
    "add(3, 5)"
   ]
  },
  {
   "cell_type": "markdown",
   "id": "3366e353-1790-4f5e-8635-5afe1795e785",
   "metadata": {},
   "source": [
    "- return 키워드 뒤에 여러 변수를 전달할 수 있습니다.\n",
    "- 실제로 값을 받아보면 리턴 값들이 튜플로 묶여있습니다. \n",
    "- 이렇게 함수 하나가 여러 값을 하나의 튜플로 묶어서 리턴할 경우, 비구조 할당을 사용하면 편합니다."
   ]
  },
  {
   "cell_type": "code",
   "execution_count": 13,
   "id": "57fd6f86-355b-4c0d-ab2b-31f0b01754e4",
   "metadata": {},
   "outputs": [],
   "source": [
    "def add_and_sub(num_a, num_b):\n",
    "    return num_a+num_b, num_a - num_b"
   ]
  },
  {
   "cell_type": "code",
   "execution_count": 15,
   "id": "9b20ad58-fa04-460c-831b-b3ce02423830",
   "metadata": {},
   "outputs": [
    {
     "name": "stdout",
     "output_type": "stream",
     "text": [
      "(8, -2) <class 'tuple'>\n"
     ]
    }
   ],
   "source": [
    "result = add_and_sub(3, 5)\n",
    "print(result, type(result))"
   ]
  },
  {
   "cell_type": "code",
   "execution_count": 16,
   "id": "e01ac309-c754-4197-82e8-b2ae03c3b309",
   "metadata": {},
   "outputs": [
    {
     "name": "stdout",
     "output_type": "stream",
     "text": [
      "8 <class 'int'> -2 <class 'int'>\n"
     ]
    }
   ],
   "source": [
    "add_result, sub_result = add_and_sub(3, 5)\n",
    "print(add_result, type(add_result), sub_result, type(sub_result))"
   ]
  },
  {
   "cell_type": "markdown",
   "id": "34a69b1a-0459-4ac8-9c13-fd0971738a37",
   "metadata": {},
   "source": [
    "- 리턴 값이 없는 함수도 실제로 리턴 값을 받아보면 None 값이 리턴됩니다.\n",
    "- 말 그대로 아무것도 없는 값을 의미한다. 파이썬 프로그래밍을 할 때 앞으로 자주 보게 될 값이다."
   ]
  },
  {
   "cell_type": "code",
   "execution_count": 58,
   "id": "60aad117-f7a3-4c7b-a28f-b5c9a01107ca",
   "metadata": {},
   "outputs": [
    {
     "name": "stdout",
     "output_type": "stream",
     "text": [
      "hello\n",
      "None <class 'NoneType'>\n"
     ]
    }
   ],
   "source": [
    "result = say_hello()\n",
    "print(result, type(result))"
   ]
  },
  {
   "cell_type": "markdown",
   "id": "4a09b723-ae98-40ed-b3e3-08bd88d37d62",
   "metadata": {},
   "source": [
    "## 파라미터에 초기값 미리 설정하기\n",
    "- 함수의 파라미터에 default 값을 설정할 수 있습니다.\n",
    "- default 값이 설정되어 있을 경우, 함수 호출 시에 그 파라미터를 생략해도 됩니다.\n",
    "- default 값을 설정하는 파라미터는 그렇지 않은 파라미터 뒤에 옵니다."
   ]
  },
  {
   "cell_type": "code",
   "execution_count": 17,
   "id": "ae7d5428-3206-45e6-8e2c-46a54dafce9e",
   "metadata": {},
   "outputs": [],
   "source": [
    "def calculate_change(pay, price=30000):\n",
    "    answer = 0\n",
    "    change_units = [50000, 10000, 5000, 1000, 500, 100]\n",
    "    change = pay - price\n",
    "    for change_unit in change_units:\n",
    "        if change >= change_unit:\n",
    "            cur_change = change // change_unit\n",
    "            answer += cur_change\n",
    "            change -= cur_change * change_unit\n",
    "        if not change:\n",
    "            break\n",
    "    return answer"
   ]
  },
  {
   "cell_type": "code",
   "execution_count": 18,
   "id": "5653aa55-a0d4-4579-a6d2-4b597b80a923",
   "metadata": {},
   "outputs": [
    {
     "data": {
      "text/plain": [
       "4"
      ]
     },
     "execution_count": 18,
     "metadata": {},
     "output_type": "execute_result"
    }
   ],
   "source": [
    "# price 생략하고 호출\n",
    "calculate_change(38000)"
   ]
  },
  {
   "cell_type": "code",
   "execution_count": 19,
   "id": "d9fd3837-52b8-4736-a057-77d2a554ada6",
   "metadata": {},
   "outputs": [
    {
     "data": {
      "text/plain": [
       "3"
      ]
     },
     "execution_count": 19,
     "metadata": {},
     "output_type": "execute_result"
    }
   ],
   "source": [
    "# 파라미터 모두 넣어서 호출\n",
    "calculate_change(38000, 31000)"
   ]
  },
  {
   "cell_type": "markdown",
   "id": "70be6172-1894-475e-b0d8-7c6bcbed9a83",
   "metadata": {},
   "source": [
    "## Quiz 1. 원 출력 함수\n",
    "반지름을 파라미터로 전달받아서 원을 출력하는 함수를 작성하세요."
   ]
  },
  {
   "cell_type": "code",
   "execution_count": 27,
   "id": "3470e5db-f131-4325-af3a-715f377cca31",
   "metadata": {},
   "outputs": [],
   "source": [
    "def print_circle(radius):\n",
    "    for y in range(-radius, radius + 1):\n",
    "        for x in range(-radius, radius + 1):\n",
    "            if x**2 + y**2 <= radius**2:\n",
    "                print(\"*\", end=' ')\n",
    "            else:\n",
    "                print(\" \", end=' ')\n",
    "        print()"
   ]
  },
  {
   "cell_type": "code",
   "execution_count": 28,
   "id": "4ef89c56-248a-4d3e-884d-06b2d8324671",
   "metadata": {},
   "outputs": [
    {
     "name": "stdout",
     "output_type": "stream",
     "text": [
      "                    *                     \n",
      "            * * * * * * * * *             \n",
      "        * * * * * * * * * * * * *         \n",
      "      * * * * * * * * * * * * * * *       \n",
      "    * * * * * * * * * * * * * * * * *     \n",
      "    * * * * * * * * * * * * * * * * *     \n",
      "  * * * * * * * * * * * * * * * * * * *   \n",
      "  * * * * * * * * * * * * * * * * * * *   \n",
      "  * * * * * * * * * * * * * * * * * * *   \n",
      "  * * * * * * * * * * * * * * * * * * *   \n",
      "* * * * * * * * * * * * * * * * * * * * * \n",
      "  * * * * * * * * * * * * * * * * * * *   \n",
      "  * * * * * * * * * * * * * * * * * * *   \n",
      "  * * * * * * * * * * * * * * * * * * *   \n",
      "  * * * * * * * * * * * * * * * * * * *   \n",
      "    * * * * * * * * * * * * * * * * *     \n",
      "    * * * * * * * * * * * * * * * * *     \n",
      "      * * * * * * * * * * * * * * *       \n",
      "        * * * * * * * * * * * * *         \n",
      "            * * * * * * * * *             \n",
      "                    *                     \n"
     ]
    }
   ],
   "source": [
    "print_circle(10)"
   ]
  },
  {
   "cell_type": "markdown",
   "id": "e97c86c0-3e2b-4b61-afc0-bfb4a174ce67",
   "metadata": {},
   "source": [
    "### Quiz 2. 다른 문자로 채워진 원\n",
    "\n",
    "* 대신에 원을 구성할 다른 문자를 하나 전달받아서 그 문자로 채워진 원을 출력하는 함수를 작성하세요."
   ]
  },
  {
   "cell_type": "code",
   "execution_count": 31,
   "id": "cc408593-c038-4bcd-9c07-3e6540eb3f04",
   "metadata": {},
   "outputs": [],
   "source": [
    "def print_char_circle(radius, char=\"*\"):\n",
    "    for y in range(-radius, radius + 1):\n",
    "        for x in range(-radius, radius + 1):\n",
    "            if x**2 + y**2 <= radius**2:\n",
    "                print(char, end=' ')\n",
    "            else:\n",
    "                print(\" \", end=' ')\n",
    "        print()"
   ]
  },
  {
   "cell_type": "code",
   "execution_count": 32,
   "id": "11376c4f-e94e-4689-9cad-def17384882d",
   "metadata": {},
   "outputs": [
    {
     "name": "stdout",
     "output_type": "stream",
     "text": [
      "                    1                     \n",
      "            1 1 1 1 1 1 1 1 1             \n",
      "        1 1 1 1 1 1 1 1 1 1 1 1 1         \n",
      "      1 1 1 1 1 1 1 1 1 1 1 1 1 1 1       \n",
      "    1 1 1 1 1 1 1 1 1 1 1 1 1 1 1 1 1     \n",
      "    1 1 1 1 1 1 1 1 1 1 1 1 1 1 1 1 1     \n",
      "  1 1 1 1 1 1 1 1 1 1 1 1 1 1 1 1 1 1 1   \n",
      "  1 1 1 1 1 1 1 1 1 1 1 1 1 1 1 1 1 1 1   \n",
      "  1 1 1 1 1 1 1 1 1 1 1 1 1 1 1 1 1 1 1   \n",
      "  1 1 1 1 1 1 1 1 1 1 1 1 1 1 1 1 1 1 1   \n",
      "1 1 1 1 1 1 1 1 1 1 1 1 1 1 1 1 1 1 1 1 1 \n",
      "  1 1 1 1 1 1 1 1 1 1 1 1 1 1 1 1 1 1 1   \n",
      "  1 1 1 1 1 1 1 1 1 1 1 1 1 1 1 1 1 1 1   \n",
      "  1 1 1 1 1 1 1 1 1 1 1 1 1 1 1 1 1 1 1   \n",
      "  1 1 1 1 1 1 1 1 1 1 1 1 1 1 1 1 1 1 1   \n",
      "    1 1 1 1 1 1 1 1 1 1 1 1 1 1 1 1 1     \n",
      "    1 1 1 1 1 1 1 1 1 1 1 1 1 1 1 1 1     \n",
      "      1 1 1 1 1 1 1 1 1 1 1 1 1 1 1       \n",
      "        1 1 1 1 1 1 1 1 1 1 1 1 1         \n",
      "            1 1 1 1 1 1 1 1 1             \n",
      "                    1                     \n"
     ]
    }
   ],
   "source": [
    "print_circle(10, \"1\")"
   ]
  },
  {
   "cell_type": "markdown",
   "id": "61ea9fb0-42b0-491a-9602-9318beee7d9a",
   "metadata": {},
   "source": [
    "### Quiz 3. 심화 - 반원 출력\n",
    "원을 절반만 출력할지 여부를 의미하는 half라는 파라미터를 전달받는 함수를 구현하세요."
   ]
  },
  {
   "cell_type": "code",
   "execution_count": 35,
   "id": "24972e02-87f2-40e0-83a4-b0796d979a6a",
   "metadata": {},
   "outputs": [],
   "source": [
    "def print_half_circle(radius, char, half):\n",
    "    if half:\n",
    "        end = 1\n",
    "    else:\n",
    "        end = radius + 1\n",
    "    for y in range(-radius, end):\n",
    "        for x in range(-radius, radius + 1):\n",
    "            if x**2 + y**2 <= radius**2:\n",
    "                print(char, end=' ')\n",
    "            else:\n",
    "                print(\" \", end=' ')\n",
    "        print()"
   ]
  },
  {
   "cell_type": "code",
   "execution_count": 36,
   "id": "3e02ca8f-295e-4f4b-b69e-670843a14687",
   "metadata": {},
   "outputs": [
    {
     "name": "stdout",
     "output_type": "stream",
     "text": [
      "                    *                     \n",
      "            * * * * * * * * *             \n",
      "        * * * * * * * * * * * * *         \n",
      "      * * * * * * * * * * * * * * *       \n",
      "    * * * * * * * * * * * * * * * * *     \n",
      "    * * * * * * * * * * * * * * * * *     \n",
      "  * * * * * * * * * * * * * * * * * * *   \n",
      "  * * * * * * * * * * * * * * * * * * *   \n",
      "  * * * * * * * * * * * * * * * * * * *   \n",
      "  * * * * * * * * * * * * * * * * * * *   \n",
      "* * * * * * * * * * * * * * * * * * * * * \n"
     ]
    }
   ],
   "source": [
    "print_half_circle(10, char=\"*\", half=True)"
   ]
  },
  {
   "cell_type": "markdown",
   "id": "7d1e3e63-dfdd-45a7-9142-9031f0debc61",
   "metadata": {},
   "source": [
    "## 정리\n",
    "\n",
    "이번 챕터에서는 앞으로 정말 정말 많이 쓰게 될 함수에 대해서 알아보았습니다.  \n",
    "함수를 적절하게 작성하는 것만으로도 많은 프로그램들을 작성할 수 있습니다.  \n",
    "함수의 핵심적인 개념들을 잘 숙지하고 넘어가시기 바랍니다."
   ]
  },
  {
   "cell_type": "code",
   "execution_count": null,
   "id": "311ad3bb-f49f-43f0-85b9-e4ea2762fdee",
   "metadata": {},
   "outputs": [],
   "source": []
  }
 ],
 "metadata": {
  "kernelspec": {
   "display_name": "Python 3 (ipykernel)",
   "language": "python",
   "name": "python3"
  },
  "language_info": {
   "codemirror_mode": {
    "name": "ipython",
    "version": 3
   },
   "file_extension": ".py",
   "mimetype": "text/x-python",
   "name": "python",
   "nbconvert_exporter": "python",
   "pygments_lexer": "ipython3",
   "version": "3.10.0"
  }
 },
 "nbformat": 4,
 "nbformat_minor": 5
}
