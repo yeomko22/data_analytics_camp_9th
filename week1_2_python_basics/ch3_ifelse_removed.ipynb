{
 "cells": [
  {
   "cell_type": "markdown",
   "id": "584a5f1d-94b9-44a5-934f-2936210a76f4",
   "metadata": {},
   "source": [
    "# ch3. 조건문\n",
    "\n",
    "조건문은 특정 조건을 만족할 경우, 아래 코드를 실행하라는 로직을 코딩할 수 있는 문법입니다.  \n",
    "예를들어 \"만약 로그인 된 사용자면 바로 서비스 화면으로 이동하고, 로그인 안된 사용자는 회원 가입화면으로 이동해라\"와 같은 로직을 코딩할 수 있습니다.  \n",
    "\n",
    "python에서 조건문은 if, elif, else 세가지 문법으로 구현할 수 있습니다. "
   ]
  },
  {
   "cell_type": "markdown",
   "id": "bbad9406-1676-420b-97e8-6bf3c8228d6b",
   "metadata": {},
   "source": [
    "## if, elif, else 문 사용하기\n",
    "- elif는 python의 독특한 문법으로 \"else if\"의 줄임말입니다.\n",
    "- True인지 False인지를 판단할 수 있는 조건이 주어져야 합니다.\n",
    "\n",
    "```python\n",
    "if (True / False를 판단할 수 있는 조건문 1):\n",
    "    수행할 코드 1\n",
    "    수행할 코드 2\n",
    "elif (True / False를 판단할 수 있는 조건문 2):\n",
    "    수행할 코드 1\n",
    "    수행할 코드 2\n",
    "else:\n",
    "    수행할 코드 1\n",
    "    수행할 코드 2\n",
    "```"
   ]
  },
  {
   "cell_type": "markdown",
   "id": "b29a5d6e-0c92-43d4-880d-e85a10fa0c32",
   "metadata": {},
   "source": [
    "- 택시 요금과 버스 요금이 주어졌습니다. 택시 타기에 돈이 충분하다면 택시를 타고 가고, 그렇지 않고 버스 타고 가기엔 충분하다면 버스 타고 집에 가고, 그렇지 않으면 걸어가십시오"
   ]
  },
  {
   "cell_type": "code",
   "execution_count": 3,
   "id": "75e42864-aea3-410c-95ef-f12fe45c870e",
   "metadata": {},
   "outputs": [],
   "source": [
    "taxi_price = 10000\n",
    "bus_price = 1000"
   ]
  },
  {
   "cell_type": "code",
   "execution_count": null,
   "id": "a70847c0-7818-43f5-8a55-373f9c7f4fc1",
   "metadata": {},
   "outputs": [],
   "source": []
  },
  {
   "cell_type": "markdown",
   "id": "1dd192bd-a333-4960-84cd-4d917b9f610d",
   "metadata": {},
   "source": [
    "## 조건 중첩시키기\n",
    "- 이전에 배웠던 and, or, not 논리 연산자를 이용해서 조건을 중첩시킬 수 있습니다.\n",
    "\n",
    "### Quiz 1.\n",
    "- 앞선 예제에서 카드가 있을 경우, 택시나 버스를 타고 갈 수 있는 조건을 추가해보세요"
   ]
  },
  {
   "cell_type": "code",
   "execution_count": 14,
   "id": "89d07d2d-14dc-498f-8fea-e5362423aa23",
   "metadata": {},
   "outputs": [],
   "source": [
    "taxi_price = 10000\n",
    "bus_price = 1000"
   ]
  },
  {
   "cell_type": "code",
   "execution_count": null,
   "id": "27ed6076-fb81-4e86-bf3f-4f23b0dc6862",
   "metadata": {},
   "outputs": [],
   "source": []
  },
  {
   "cell_type": "markdown",
   "id": "2abc7391-6e81-4a4e-a63a-f6e012601e82",
   "metadata": {},
   "source": [
    "### Quiz 2.\n",
    "위 예제에서 돈이 충분하거나 카드가 있지만 택시비가 5000원보다 더 나올 경우엔 포기하고 버스타고 가도록 조건을 추가해보세요"
   ]
  },
  {
   "cell_type": "code",
   "execution_count": 1,
   "id": "cd894f83-7683-48ad-b616-bf55e29e8f99",
   "metadata": {},
   "outputs": [],
   "source": [
    "taxi_price = 10000\n",
    "bus_price = 1000"
   ]
  },
  {
   "cell_type": "code",
   "execution_count": null,
   "id": "a36affe1-d4ad-4e36-943b-576268cccb75",
   "metadata": {},
   "outputs": [],
   "source": []
  },
  {
   "cell_type": "markdown",
   "id": "bbbe039e-a026-4deb-9193-93ac78e83ee1",
   "metadata": {},
   "source": [
    "## 조건문에 not, in 사용하기\n",
    "\n",
    "- if 문을 사용하면서 조건으로 많이 사용하는 문법입니다. \n",
    "\n",
    "```python\n",
    "if \"특정 값\" in [리스트]:\n",
    "    실행 코드\n",
    "```\n",
    "\n",
    "- 시험에 합격한 사람 이름 리스트가 주어졌습니다. 민수가 시험에 합격했는지 여부를 출력하세요"
   ]
  },
  {
   "cell_type": "code",
   "execution_count": 2,
   "id": "a8920753-bdc2-4204-b94d-a0b182f8af1f",
   "metadata": {},
   "outputs": [],
   "source": [
    "pass_students = [\"민수\", \"두호\", \"지혜\"]"
   ]
  },
  {
   "cell_type": "code",
   "execution_count": null,
   "id": "d72dedb5-4cca-4eba-8d6a-6a30c60a9de0",
   "metadata": {},
   "outputs": [],
   "source": []
  },
  {
   "cell_type": "markdown",
   "id": "1120831a-ea13-4bbe-b82f-328302ad897f",
   "metadata": {},
   "source": [
    "- 조건문에서 비어있는 배열인지, 비어있는 문자열인지 확인할 때 not을 쓰면 간결합니다.\n",
    "\n",
    "```python\n",
    "if not pass_students:\n",
    "    ...\n",
    "````\n",
    "- 이를 이용해서 합격생이 아무도 없을 경우, 합격생이 없다고 출력해보겠습니다."
   ]
  },
  {
   "cell_type": "code",
   "execution_count": 3,
   "id": "8970dcda-3e27-4593-9db9-96bf544bea32",
   "metadata": {},
   "outputs": [],
   "source": [
    "pass_students = []"
   ]
  },
  {
   "cell_type": "code",
   "execution_count": null,
   "id": "13f6a8a7-0ba7-43a9-8cdb-c883d7fcebe4",
   "metadata": {},
   "outputs": [],
   "source": []
  },
  {
   "cell_type": "markdown",
   "id": "30613ebf-9fbc-4548-b794-39ed8f41a09f",
   "metadata": {
    "tags": []
   },
   "source": [
    "## 조건부 표현식\n",
    "- 변수를 생성할 때, if else 문을 집어넣어 조건에 따라 다른 값을 갖도록 할 수 있습니다."
   ]
  },
  {
   "cell_type": "code",
   "execution_count": 5,
   "id": "732f2102-6593-493d-9dc8-522561187e61",
   "metadata": {},
   "outputs": [],
   "source": [
    "pass_students = [\"민수\", \"영수\"]"
   ]
  },
  {
   "cell_type": "code",
   "execution_count": null,
   "id": "1cd42fa3-b45a-4cc5-b5ce-504b752b3710",
   "metadata": {},
   "outputs": [],
   "source": []
  },
  {
   "cell_type": "markdown",
   "id": "fa0c844b-4652-4f39-bd6a-ffc186091dad",
   "metadata": {},
   "source": [
    "## 연습 문제\n",
    "물건을 하나 사고 50000원짜리 지폐를 한장 지불했습니다. 잔돈으로 받게될 지폐와 동전의 개수를 구하시오\n",
    "거스름 돈 조건\n",
    "- 만원을 줄 수 있으면 만원을 줍니다.\n",
    "- 오천원을 줄 수 있으면 오천원을 줍니다.\n",
    "- 천원을 줄 수 있으면 천원을 줍니다.\n",
    "- 오백원을 줄 수 있으면 오백원을 줍니다.\n",
    "- 백원을 줄 수 있으면 백원을 줍니다.\n",
    "- 백원 이하는 고려하지 않습니다.\n",
    "- 지폐  하나와 동전 하나는 똑같이 개수 하나로 칩니다."
   ]
  },
  {
   "cell_type": "code",
   "execution_count": 37,
   "id": "31d8efa2-69f8-47ce-8a94-4b4fbdf5fd70",
   "metadata": {},
   "outputs": [],
   "source": []
  },
  {
   "cell_type": "markdown",
   "id": "8e4ee921-cee7-4ce2-abea-bc3c6d13dbf8",
   "metadata": {},
   "source": [
    "나머지 로직들도 비슷하게 작성해보세요"
   ]
  }
 ],
 "metadata": {
  "kernelspec": {
   "display_name": "Python 3 (ipykernel)",
   "language": "python",
   "name": "python3"
  },
  "language_info": {
   "codemirror_mode": {
    "name": "ipython",
    "version": 3
   },
   "file_extension": ".py",
   "mimetype": "text/x-python",
   "name": "python",
   "nbconvert_exporter": "python",
   "pygments_lexer": "ipython3",
   "version": "3.10.0"
  }
 },
 "nbformat": 4,
 "nbformat_minor": 5
}
