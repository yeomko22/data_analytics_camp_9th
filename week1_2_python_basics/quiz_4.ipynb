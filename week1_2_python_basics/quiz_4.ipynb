{
 "cells": [
  {
   "cell_type": "markdown",
   "id": "235d9381-3f3c-4dfe-a485-b4ef7aa497e4",
   "metadata": {},
   "source": [
    "## python 복습 퀴즈 4\n",
    "\n",
    "타이타닉 탑승객들의 정보가 담겨있는 csv 파일이 주어집니다.  \n",
    "python 언어로 데이터 셋 파일을 읽고, 분석해봅시다!  "
   ]
  },
  {
   "cell_type": "markdown",
   "id": "ae82fca8-3ffb-45c7-8dd4-d5d2afea74c6",
   "metadata": {},
   "source": [
    "### Q1. csv 파일 row 개수 읽기\n",
    "\n",
    "data 폴더 아래 위치한 titanic_train.csv 파일을 읽어온 뒤, 로우의 개수를 리턴하는 함수를 작성하세요.  \n",
    "컬럼명을 나타내는 로우는 제외하세요.  \n",
    "with 문과 open을 사용하고, for문, enumerate문을 사용하세요."
   ]
  },
  {
   "cell_type": "code",
   "execution_count": 1,
   "id": "5fe15214-ac09-4d60-a441-0c8938a67b32",
   "metadata": {},
   "outputs": [],
   "source": [
    "import csv\n",
    "\n",
    "def count_rows(read_path):\n",
    "    num_rows = 0\n",
    "    return num_rows"
   ]
  },
  {
   "cell_type": "code",
   "execution_count": 5,
   "id": "36e56683-f592-490e-990a-64307d37f9a1",
   "metadata": {},
   "outputs": [
    {
     "data": {
      "text/plain": [
       "891"
      ]
     },
     "execution_count": 5,
     "metadata": {},
     "output_type": "execute_result"
    }
   ],
   "source": [
    "count_rows(\"./data/titanic_train.csv\")"
   ]
  },
  {
   "cell_type": "markdown",
   "id": "49f3df6a-d124-44ac-bd9c-0e799452adcb",
   "metadata": {},
   "source": [
    "### Q2. 각 등급별 생존율 계산하기\n",
    "\n",
    "파일 경로와 좌석 등급을 파라미터로 전달받는 calculate_survive_ratio 함수가 있습니다.  \n",
    "titanic_train.csv 파일을 읽어온 뒤, 파라미터로 전달받은 좌석의 생존율을 계산해서 리턴하세요."
   ]
  },
  {
   "cell_type": "code",
   "execution_count": 2,
   "id": "4af3cd40-b29a-4ca6-94a4-fa478022d6ad",
   "metadata": {},
   "outputs": [],
   "source": [
    "def calculate_survive_ratio(read_path, seat_class):\n",
    "    total = 0\n",
    "    survived = 0\n",
    "    # do something\n",
    "    return survived / total"
   ]
  },
  {
   "cell_type": "code",
   "execution_count": 7,
   "id": "2cb413cb-c0f1-40f8-93b0-8040919bffc9",
   "metadata": {},
   "outputs": [
    {
     "name": "stdout",
     "output_type": "stream",
     "text": [
      "0.6296296296296297\n",
      "0.47282608695652173\n",
      "0.24236252545824846\n"
     ]
    }
   ],
   "source": [
    "print(calculate_survive_ratio(\"./data/titanic_train.csv\", 1))\n",
    "print(calculate_survive_ratio(\"./data/titanic_train.csv\", 2))\n",
    "print(calculate_survive_ratio(\"./data/titanic_train.csv\", 3))"
   ]
  },
  {
   "cell_type": "markdown",
   "id": "b7799a8e-bc84-4166-986b-49678a28cb5f",
   "metadata": {},
   "source": [
    "### Q3. 전처리 후 새 데이터 파일 쓰기\n",
    "\n",
    "titanic_train.csv 파일을 읽은 뒤, Age 값이 비어있거나, 이상한 값(소수)이 들어있는 행을 제외한 행들을 preprocessed.csv라는 파일에 쓰세요.   \n",
    "preprocessed.csv의 첫 행은 컬럼명으로 채워주세요.  \n",
    "isnumeric 함수를 사용해보세요.  "
   ]
  },
  {
   "cell_type": "code",
   "execution_count": 3,
   "id": "f7e46a6b-ee5b-42d4-b4d7-2b40a56f8c44",
   "metadata": {},
   "outputs": [],
   "source": [
    "def write_preprocess_csv(read_path, write_path):\n",
    "    # do something\n",
    "    pass"
   ]
  },
  {
   "cell_type": "code",
   "execution_count": 49,
   "id": "3eea3704-47cc-4b17-9982-6cf217435729",
   "metadata": {},
   "outputs": [
    {
     "name": "stdout",
     "output_type": "stream",
     "text": [
      "True\n",
      "False\n",
      "False\n"
     ]
    }
   ],
   "source": [
    "sample_int = \"10\"\n",
    "print(sample_int.isnumeric())\n",
    "sample_int = \"\"\n",
    "print(sample_int.isnumeric())\n",
    "sample_float = \"10.5\"\n",
    "print(sample_float.isnumeric())"
   ]
  },
  {
   "cell_type": "code",
   "execution_count": 50,
   "id": "1ec43892-0fbe-4679-a6d6-e424d1816d3a",
   "metadata": {},
   "outputs": [
    {
     "data": {
      "text/plain": [
       "689"
      ]
     },
     "execution_count": 50,
     "metadata": {},
     "output_type": "execute_result"
    }
   ],
   "source": [
    "write_preprocess_csv(\"./data/titanic_train.csv\", \"./data/preprocessed_train.csv\")\n",
    "count_rows(\"./data/preprocessed_train.csv\")"
   ]
  },
  {
   "cell_type": "markdown",
   "id": "db337fc2-d2ba-491b-a67f-78f3b5336d13",
   "metadata": {},
   "source": [
    "### Q4. 생존자 연령 평균 구하기\n",
    "\n",
    "읽어올 파일 경로, 생존 여부를 파라미터로 전달받는 함수가 있습니다.\n",
    "파일을 읽어온 뒤, 생존 여부에 따른 평균 연령을 계산해서 리턴하세요."
   ]
  },
  {
   "cell_type": "code",
   "execution_count": 4,
   "id": "d9e10c67-2e74-43ee-9d59-b4feaa7a70c5",
   "metadata": {},
   "outputs": [],
   "source": [
    "def calculate_average_age(read_path, is_survived):\n",
    "    ages = []\n",
    "    return sum(ages) / len(ages)"
   ]
  },
  {
   "cell_type": "code",
   "execution_count": 54,
   "id": "6f554282-6a6d-4426-aa3f-6ef351ebea71",
   "metadata": {},
   "outputs": [
    {
     "name": "stdout",
     "output_type": "stream",
     "text": [
      "생존자 평균 연령 29.01418439716312\n",
      "사망자 평균 연령 30.425061425061426\n"
     ]
    }
   ],
   "source": [
    "survivor_avg_age = calculate_average_age(\"./data/preprocessed_train.csv\", 1) \n",
    "unsurvivor_avg_age = calculate_average_age(\"./data/preprocessed_train.csv\", 0) \n",
    "print(\"생존자 평균 연령\", survivor_avg_age)\n",
    "print(\"사망자 평균 연령\", unsurvivor_avg_age)"
   ]
  },
  {
   "cell_type": "markdown",
   "id": "c6e52e3a-5483-451c-af5b-97f118ba0abb",
   "metadata": {},
   "source": [
    "### Q5. 생존자 성별 비율 구하기\n",
    "\n",
    "읽어올 파일 경로, 생존 여부를 파라미터로 전달받는 함수가 있습니다.  \n",
    "파일을 읽어온 뒤, 생존 여부에 따른 여성의 비율을 계산해서 리턴하세요. "
   ]
  },
  {
   "cell_type": "code",
   "execution_count": 59,
   "id": "ec96ea69-9083-4970-b265-011dfe6a9581",
   "metadata": {},
   "outputs": [],
   "source": [
    "def calculate_female_ratio(read_path, is_survived):\n",
    "    total = 0\n",
    "    female = 0\n",
    "    return female / total"
   ]
  },
  {
   "cell_type": "code",
   "execution_count": 58,
   "id": "da45f581-34c4-4890-af50-93b044672a30",
   "metadata": {},
   "outputs": [
    {
     "name": "stdout",
     "output_type": "stream",
     "text": [
      "생존자 여성 비율 0.6879432624113475\n",
      "사망자 여성 비율 0.15233415233415235\n"
     ]
    }
   ],
   "source": [
    "survivor_female_ratio = calculate_female_ratio(\"./data/preprocessed_train.csv\", is_survived=1)\n",
    "unsurvivor_female_ratio = calculate_female_ratio(\"./data/preprocessed_train.csv\", is_survived=0)\n",
    "print(\"생존자 여성 비율\", survivor_female_ratio)\n",
    "print(\"사망자 여성 비율\", unsurvivor_female_ratio)"
   ]
  }
 ],
 "metadata": {
  "kernelspec": {
   "display_name": "Python 3 (ipykernel)",
   "language": "python",
   "name": "python3"
  },
  "language_info": {
   "codemirror_mode": {
    "name": "ipython",
    "version": 3
   },
   "file_extension": ".py",
   "mimetype": "text/x-python",
   "name": "python",
   "nbconvert_exporter": "python",
   "pygments_lexer": "ipython3",
   "version": "3.10.0"
  }
 },
 "nbformat": 4,
 "nbformat_minor": 5
}
