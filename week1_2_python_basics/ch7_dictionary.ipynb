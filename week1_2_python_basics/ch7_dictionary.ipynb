{
 "cells": [
  {
   "cell_type": "markdown",
   "id": "81c126f3-c7a9-4b64-b274-021ec35f3b34",
   "metadata": {},
   "source": [
    "# ch7. Dictionary\n",
    "\n",
    "## Dictionary 기본 개념\n",
    "Dictionary는 python에서 정말 정말 자주 사용하는 key-value 자료구조입니다.  \n",
    "딕셔너리를 이해하기 위해서는 먼저 Key-Value 데이터에 대해서 이해해야 합니다.  \n",
    "예를 들어서 사람 이름과 생일을 매핑한 배열이 있다고 가정하겠습니다."
   ]
  },
  {
   "cell_type": "code",
   "execution_count": 1,
   "id": "cfdb4c4e-8107-48ac-9a51-c8f71763b9da",
   "metadata": {},
   "outputs": [],
   "source": [
    "birthdays = [\n",
    "    (\"민수\", \"2000-03-01\"),\n",
    "    (\"준용\", \"2000-02-11\"),\n",
    "    (\"혜진\", \"2000-08-10\"),\n",
    "    (\"지혜\", \"2000-12-30\"),\n",
    "    (\"강산\", \"2000-07-05\"),\n",
    "]"
   ]
  },
  {
   "cell_type": "code",
   "execution_count": 2,
   "id": "fb2e95f2-4274-408c-a6b8-868c830217e4",
   "metadata": {},
   "outputs": [
    {
     "name": "stdout",
     "output_type": "stream",
     "text": [
      "2000-07-05\n"
     ]
    }
   ],
   "source": [
    "for name, birthday in birthdays:\n",
    "    if name == \"강산\":\n",
    "        print(birthday)"
   ]
  },
  {
   "cell_type": "markdown",
   "id": "e8cba179-689f-45e7-8320-376cd9369b51",
   "metadata": {},
   "source": [
    "- 이 때, 만일 강산이의 생일이 궁금할 경우, 배열을 모두 뒤져보면서 첫번째 인덱스의 요소가 강산인 경우를 찾아서 생일을 리턴해주어야 합니다.\n",
    "- 만일 100만명의 이름과 생일이 매핑된 데이터라면, 강산이의 생일을 찾기 위해 최악의 경우 100만번 반복을 해야합니다. \n",
    "- 이처럼 강산이의 생일을 알기 위해서 전체 데이터셋을 모두 뒤져야 하므로 데이터 셋의 개수인 N만큼 반복을 해야합니다. \n",
    "- 만일 이름만 가지고 바로 생일을 알 수 있으면 어떨까요? "
   ]
  },
  {
   "cell_type": "code",
   "execution_count": 3,
   "id": "923d1659-0a5a-4456-a7ad-0b254704b550",
   "metadata": {},
   "outputs": [],
   "source": [
    "birthdays_dict = {\n",
    "    \"민수\": \"2000-03-01\",\n",
    "    \"준용\": \"2000-02-11\",\n",
    "    \"혜진\": \"2000-08-10\",\n",
    "    \"지혜\": \"2000-12-30\",\n",
    "    \"강산\": \"2000-07-05\",\n",
    "}"
   ]
  },
  {
   "cell_type": "code",
   "execution_count": 4,
   "id": "6d811968-1137-4f08-8df6-05b8de1b6ac2",
   "metadata": {},
   "outputs": [
    {
     "name": "stdout",
     "output_type": "stream",
     "text": [
      "2000-07-05\n"
     ]
    }
   ],
   "source": [
    "print(birthdays_dict[\"강산\"])"
   ]
  },
  {
   "cell_type": "markdown",
   "id": "2fa62460-61b1-4652-b6c5-f36d9d8d1b9c",
   "metadata": {},
   "source": [
    "- 위 예시에서는 python dictionary를 이용해서 이름과 생일 데이터를 표현한 것입니다. \n",
    "- 이름이 key로 주어지면, 곧바로 이에 매핑된 생일을 리턴해주게 됩니다. \n",
    "- 이 경우, 전체 데이터 셋의 개수만큼 반복을 할 필요없이 곧바로 생일 데이터를 가져올 수 있습니다. "
   ]
  },
  {
   "cell_type": "markdown",
   "id": "6b5aa0b6-a5b7-476d-b000-542fccf20805",
   "metadata": {},
   "source": [
    "### Key-Value dataset\n",
    "- Key-Value라는건 위 데이터처럼 데이터를 찾을 때 필요한 key와 실제 데이터 value가 매핑된 데이터 셋을 말합니다. \n",
    "- 위 예시에서는 key가 이름, value가 생일이 됩니다. 프로그래밍에서는 이러한 Key-Value 데이터 셋이 아주아주 많이 사용됩니다.\n",
    "- 파이썬에서는 dictionary 라는 기본 타입을 제공해서 아주 편하게 이런 Key-Value 데이터를 다룰 수 있습니다."
   ]
  },
  {
   "cell_type": "markdown",
   "id": "5b8749f2-0bdc-4faa-a377-6e5e2adf7eb0",
   "metadata": {},
   "source": [
    "## Dictionary 만들기\n",
    "- \"{}\" 문법을 사용할 경우, 편하게 딕셔너리를 만들 수 있습니다. 딕셔너리의 키로는 int, str 등을 많이 사용하며 tuple도 가능합니다."
   ]
  },
  {
   "cell_type": "code",
   "execution_count": 5,
   "id": "0f35f6ec-5d59-49f2-be6b-7c67f81f5690",
   "metadata": {},
   "outputs": [],
   "source": [
    "birthdays_dict = {\n",
    "    \"민수\": \"2000-03-01\",\n",
    "    \"준용\": \"2000-02-11\",\n",
    "    \"혜진\": \"2000-08-10\",\n",
    "    \"지혜\": \"2000-12-30\",\n",
    "    \"강산\": \"2000-07-05\",\n",
    "}"
   ]
  },
  {
   "cell_type": "code",
   "execution_count": 6,
   "id": "528849f6-7647-402d-9c1c-c78f09af708a",
   "metadata": {},
   "outputs": [
    {
     "data": {
      "text/plain": [
       "{'민수': '2000-03-01',\n",
       " '준용': '2000-02-11',\n",
       " '혜진': '2000-08-10',\n",
       " '지혜': '2000-12-30',\n",
       " '강산': '2000-07-05'}"
      ]
     },
     "execution_count": 6,
     "metadata": {},
     "output_type": "execute_result"
    }
   ],
   "source": [
    "birthdays_dict"
   ]
  },
  {
   "cell_type": "markdown",
   "id": "daaeff12-0f8c-4f25-bebd-9c341b9b7134",
   "metadata": {},
   "source": [
    "- 값을 요청할 때는 \"딕셔너리명[키 이름]\"으로 요청합니다.\n",
    "- key 값이 딕셔너리에 없을 경우 에러가 납니다.\n",
    "- 딕셔너리에 새로운 값을 추가할 경우, \"딕셔너리변수명[키이름] = 벨류\" 문법을 사용합니다. 해당 키 값이 이미 딕셔너리에 있을 경우, 값을 덮어씁니다."
   ]
  },
  {
   "cell_type": "markdown",
   "id": "c35d0259-23d7-4a9a-a481-0345ecc7d934",
   "metadata": {},
   "source": [
    "- 지혜 생일 읽어오기"
   ]
  },
  {
   "cell_type": "code",
   "execution_count": 7,
   "id": "3a6025b3-b969-4442-ae47-d48be809ed29",
   "metadata": {},
   "outputs": [
    {
     "data": {
      "text/plain": [
       "'2000-12-30'"
      ]
     },
     "execution_count": 7,
     "metadata": {},
     "output_type": "execute_result"
    }
   ],
   "source": [
    "birthdays_dict[\"지혜\"]"
   ]
  },
  {
   "cell_type": "markdown",
   "id": "4e20e146-c94c-4ccf-98d3-c3f38a3b683f",
   "metadata": {},
   "source": [
    "- 민수 생일 업데이트"
   ]
  },
  {
   "cell_type": "code",
   "execution_count": 8,
   "id": "78610f4e-2627-451f-88dc-a0af047d0bf9",
   "metadata": {},
   "outputs": [],
   "source": [
    "birthdays_dict[\"민수\"] = \"2000-04-01\""
   ]
  },
  {
   "cell_type": "code",
   "execution_count": 9,
   "id": "033c721a-cb57-4191-a2e1-14c196fdf7d6",
   "metadata": {},
   "outputs": [
    {
     "data": {
      "text/plain": [
       "{'민수': '2000-04-01',\n",
       " '준용': '2000-02-11',\n",
       " '혜진': '2000-08-10',\n",
       " '지혜': '2000-12-30',\n",
       " '강산': '2000-07-05'}"
      ]
     },
     "execution_count": 9,
     "metadata": {},
     "output_type": "execute_result"
    }
   ],
   "source": [
    "birthdays_dict"
   ]
  },
  {
   "cell_type": "markdown",
   "id": "980e7d14-a15a-4ef4-b181-d4d788ae3f0d",
   "metadata": {},
   "source": [
    "- 찬성이 생일 추가"
   ]
  },
  {
   "cell_type": "code",
   "execution_count": 10,
   "id": "b7d6c58d-5a78-4bc6-bf44-ddd1f2392a09",
   "metadata": {},
   "outputs": [],
   "source": [
    "birthdays_dict[\"찬성\"] = \"2001-10-28\""
   ]
  },
  {
   "cell_type": "code",
   "execution_count": 11,
   "id": "b54fa8a3-b8a2-4cb8-99e7-690fe4d5607c",
   "metadata": {},
   "outputs": [
    {
     "data": {
      "text/plain": [
       "{'민수': '2000-04-01',\n",
       " '준용': '2000-02-11',\n",
       " '혜진': '2000-08-10',\n",
       " '지혜': '2000-12-30',\n",
       " '강산': '2000-07-05',\n",
       " '찬성': '2001-10-28'}"
      ]
     },
     "execution_count": 11,
     "metadata": {},
     "output_type": "execute_result"
    }
   ],
   "source": [
    "birthdays_dict"
   ]
  },
  {
   "cell_type": "markdown",
   "id": "efe327bc-f924-4427-8f6f-f6f49b82b86e",
   "metadata": {},
   "source": [
    "- 딕셔너리에 현재 없는 키 값으로 접근을 하면 에러가 발생합니다."
   ]
  },
  {
   "cell_type": "code",
   "execution_count": 12,
   "id": "6b5d63d7-84ce-4e19-94f0-07e55833d5f9",
   "metadata": {},
   "outputs": [
    {
     "ename": "KeyError",
     "evalue": "'예린'",
     "output_type": "error",
     "traceback": [
      "\u001b[0;31m---------------------------------------------------------------------------\u001b[0m",
      "\u001b[0;31mKeyError\u001b[0m                                  Traceback (most recent call last)",
      "Cell \u001b[0;32mIn[12], line 1\u001b[0m\n\u001b[0;32m----> 1\u001b[0m \u001b[43mbirthdays_dict\u001b[49m\u001b[43m[\u001b[49m\u001b[38;5;124;43m\"\u001b[39;49m\u001b[38;5;124;43m예린\u001b[39;49m\u001b[38;5;124;43m\"\u001b[39;49m\u001b[43m]\u001b[49m\n",
      "\u001b[0;31mKeyError\u001b[0m: '예린'"
     ]
    }
   ],
   "source": [
    "birthdays_dict[\"예린\"]"
   ]
  },
  {
   "cell_type": "markdown",
   "id": "e8a65ec5-81bb-4372-a0e6-efbb75e11d75",
   "metadata": {},
   "source": [
    "### 키가 없을 경우, 에러 발생시키지 않고 값 가져오기\n",
    "값을 요청한 키가 딕셔너리에 없을 경우, 에러를 발생시키지 않고 값을 가져오려면 두 가지 방법이 있습니다. 2번째 방법이 매우 간결합니다.\n",
    "1. 키가 딕셔너리에 있는지 먼저 확인하고 값을 가져오기\n",
    "2. dictionary의 내장 함수 get을 사용하기"
   ]
  },
  {
   "cell_type": "code",
   "execution_count": 13,
   "id": "f3385fa8-74e1-4e1f-9c5c-7aff24c3a8e3",
   "metadata": {},
   "outputs": [
    {
     "name": "stdout",
     "output_type": "stream",
     "text": [
      "딕셔너리에 해당 키가 없습니다!\n"
     ]
    }
   ],
   "source": [
    "if \"예린\" in birthdays_dict:\n",
    "    print(birthdays_dict[\"예린\"])\n",
    "else:\n",
    "    print(\"딕셔너리에 해당 키가 없습니다!\")"
   ]
  },
  {
   "cell_type": "code",
   "execution_count": 14,
   "id": "32208680-1ccb-4ba9-a46e-e3af2726f114",
   "metadata": {},
   "outputs": [
    {
     "data": {
      "text/plain": [
       "'딕셔너리에 해당 키가 없습니다!'"
      ]
     },
     "execution_count": 14,
     "metadata": {},
     "output_type": "execute_result"
    }
   ],
   "source": [
    "birthdays_dict.get(\"예린\", \"딕셔너리에 해당 키가 없습니다!\")"
   ]
  },
  {
   "cell_type": "markdown",
   "id": "d40da370-0150-4a51-a99e-868b1c5070d8",
   "metadata": {},
   "source": [
    "### 특정 키 값 삭제하기\n",
    "\n",
    "- del 키워드를 사용해서 특정 키 값을 딕셔너리에서 삭제할 수 있습니다."
   ]
  },
  {
   "cell_type": "code",
   "execution_count": 16,
   "id": "f0ebdc96-6470-4e24-ae0d-2c773fcb9b27",
   "metadata": {},
   "outputs": [],
   "source": [
    "birthdays_dict = {\n",
    "    \"민수\": \"2000-03-01\",\n",
    "    \"준용\": \"2000-02-11\",\n",
    "    \"혜진\": \"2000-08-10\",\n",
    "    \"지혜\": \"2000-12-30\",\n",
    "    \"강산\": \"2000-07-05\",\n",
    "}"
   ]
  },
  {
   "cell_type": "code",
   "execution_count": 17,
   "id": "c912986a-0be6-4a16-a6f0-dcc9b5f647ca",
   "metadata": {},
   "outputs": [],
   "source": [
    "del birthdays_dict[\"민수\"]"
   ]
  },
  {
   "cell_type": "code",
   "execution_count": 18,
   "id": "0ca4cf64-dfbc-4120-bf95-f15d1a6b84f1",
   "metadata": {},
   "outputs": [
    {
     "data": {
      "text/plain": [
       "{'준용': '2000-02-11',\n",
       " '혜진': '2000-08-10',\n",
       " '지혜': '2000-12-30',\n",
       " '강산': '2000-07-05'}"
      ]
     },
     "execution_count": 18,
     "metadata": {},
     "output_type": "execute_result"
    }
   ],
   "source": [
    "birthdays_dict"
   ]
  },
  {
   "cell_type": "markdown",
   "id": "2bb98151-3657-4f14-b973-936de7278803",
   "metadata": {},
   "source": [
    "## Dictionary 순회하기\n",
    "\n",
    "for문을 이용해서 딕셔너리의 key와 value 값을 순회할 수 있습니다."
   ]
  },
  {
   "cell_type": "code",
   "execution_count": 19,
   "id": "69ca6eb0-66b7-4999-8579-1c38dcd24908",
   "metadata": {},
   "outputs": [
    {
     "name": "stdout",
     "output_type": "stream",
     "text": [
      "준용 2000-02-11\n",
      "혜진 2000-08-10\n",
      "지혜 2000-12-30\n",
      "강산 2000-07-05\n"
     ]
    }
   ],
   "source": [
    "for key in birthdays_dict:\n",
    "    print(key, birthdays_dict[key])"
   ]
  },
  {
   "cell_type": "markdown",
   "id": "be7f5060-bcce-4a0e-883f-f0fc39dee5c7",
   "metadata": {},
   "source": [
    "dictionary의 items() 함수를 사용하면 딕셔너리의 키와 벨류 값을 모두 가져올 수 있습니다."
   ]
  },
  {
   "cell_type": "code",
   "execution_count": 21,
   "id": "57f2f8f2-1cd6-4530-b63d-4cb48fd30115",
   "metadata": {},
   "outputs": [
    {
     "name": "stdout",
     "output_type": "stream",
     "text": [
      "준용 2000-02-11\n",
      "혜진 2000-08-10\n",
      "지혜 2000-12-30\n",
      "강산 2000-07-05\n"
     ]
    }
   ],
   "source": [
    "for key, value in birthdays_dict.items():\n",
    "    print(key, value)"
   ]
  },
  {
   "cell_type": "markdown",
   "id": "1e922216-3aee-401f-82a6-21e324c731eb",
   "metadata": {},
   "source": [
    "## Quiz. dictionary를 이용한 개수 세기\n",
    "\n",
    "가수 이름이 들어있는 리스트가 있습니다. for문과 dictionary를 이용해서 가수별로 몇번씩 들어있는지 집계하세요. "
   ]
  },
  {
   "cell_type": "code",
   "execution_count": 27,
   "id": "d18aaeaa-ea69-46e0-ab48-fe76e9994aff",
   "metadata": {},
   "outputs": [],
   "source": [
    "singers = [\n",
    "    '최유리', '아이유', '너드커넥션', '아이유', '아이유', '너드커넥션', \n",
    "    '백예린', '아이유', '최유리', '너드커넥션', '아이유', '최유리', '백예린', \n",
    "    '백예린', '너드커넥션', '아이유', '최유리', '최유리', '아이유', '아이유', \n",
    "    '최유리', '너드커넥션'\n",
    "]"
   ]
  },
  {
   "cell_type": "code",
   "execution_count": 28,
   "id": "fccc17df-6699-4f29-b03e-bee6a463cbe7",
   "metadata": {},
   "outputs": [],
   "source": [
    "singer_dict = {}\n",
    "for singer in singers:\n",
    "    if singer not in singer_dict:\n",
    "        singer_dict[singer] = 0\n",
    "    singer_dict[singer] += 1"
   ]
  },
  {
   "cell_type": "code",
   "execution_count": 29,
   "id": "4879a834-2f9c-4eaa-af92-0f0050a15247",
   "metadata": {},
   "outputs": [
    {
     "data": {
      "text/plain": [
       "{'최유리': 6, '아이유': 8, '너드커넥션': 5, '백예린': 3}"
      ]
     },
     "execution_count": 29,
     "metadata": {},
     "output_type": "execute_result"
    }
   ],
   "source": [
    "singer_dict"
   ]
  }
 ],
 "metadata": {
  "kernelspec": {
   "display_name": "Python 3 (ipykernel)",
   "language": "python",
   "name": "python3"
  },
  "language_info": {
   "codemirror_mode": {
    "name": "ipython",
    "version": 3
   },
   "file_extension": ".py",
   "mimetype": "text/x-python",
   "name": "python",
   "nbconvert_exporter": "python",
   "pygments_lexer": "ipython3",
   "version": "3.10.0"
  }
 },
 "nbformat": 4,
 "nbformat_minor": 5
}
