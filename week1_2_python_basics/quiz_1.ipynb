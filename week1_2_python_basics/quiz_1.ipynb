{
 "cells": [
  {
   "cell_type": "markdown",
   "id": "f9f25ca3-d0c8-4cf4-95e4-b9cb5d0d66c1",
   "metadata": {},
   "source": [
    "## python 복습 퀴즈 1 "
   ]
  },
  {
   "cell_type": "markdown",
   "id": "f0e6d11a-6890-4207-9f01-749115695b46",
   "metadata": {},
   "source": [
    "### 문제 설명\n",
    "\n",
    "학생 이름과 수학 점수, 국어 점수가 하나의 리스트로 묶여있는 값들의 리스트가 있습니다.  \n",
    "python의 여러 문법들과 list의 기능을 활용해서 아래 문제들을 풀어보세요."
   ]
  },
  {
   "cell_type": "code",
   "execution_count": 1,
   "id": "422e95bd-333f-4c5d-8b41-01007315f8ce",
   "metadata": {},
   "outputs": [],
   "source": [
    "score_list = [\n",
    "    [\"민수\", 90, 95],\n",
    "    [\"지영\", 45, 50],\n",
    "    [\"연수\", 70, 85],\n",
    "    [\"해인\", 80, 90],\n",
    "    [\"지아\", 55, 75],\n",
    "    [\"기덕\", 80, 85],\n",
    "    [\"우영\", 75, 95],\n",
    "    [\"강산\", 50, 55],\n",
    "    [\"연지\", 75, 65],\n",
    "    [\"동호\", 95, 90],\n",
    "]"
   ]
  },
  {
   "cell_type": "markdown",
   "id": "84da2b5e-8e14-4dd3-b481-d81a67761c93",
   "metadata": {
    "tags": []
   },
   "source": [
    "### Q1. 총점 출력하기\n",
    "리스트를 순회하면서 모든 학생들의 이름과 총점을 출력하세요.  \n",
    "for문을 사용해서 구현해보세요."
   ]
  },
  {
   "cell_type": "code",
   "execution_count": null,
   "id": "2ed96552-6e54-4a0b-94d2-dd130375d5b2",
   "metadata": {},
   "outputs": [],
   "source": []
  },
  {
   "cell_type": "markdown",
   "id": "c8407529-4c60-4f23-8123-4460f3095382",
   "metadata": {},
   "source": [
    "### Q2. 잘못된 문제 정답처리하기\n",
    "\n",
    "수학 문제 하나가 잘못되어 전원 정답 처리를 하게 되었습니다.  \n",
    "민수와 지아는 원래도 그 문제를 맞춰서 그대로 두고, 나머지 억울하게 틀린 학생들의 점수만 5점씩 올려주세요.   \n",
    "\n",
    "new_score_list라는 배열을 만들고, [\"이름\", \"수정된 수학 점수\", \"국어 점수\"] 리스트를 하나씩 추가해보세요.  \n",
    "for문과 if 문, continue 문법을 사용해보세요."
   ]
  },
  {
   "cell_type": "code",
   "execution_count": null,
   "id": "5f0040da-e028-41fd-bfce-b0bbbf511eef",
   "metadata": {},
   "outputs": [],
   "source": []
  },
  {
   "cell_type": "markdown",
   "id": "9da0056f-c636-4b3d-8e34-3463f79725b6",
   "metadata": {},
   "source": [
    "### Q3. 재시험 대상자 출력하기  \n",
    "수학은 70점 이하, 국어는 60점 이하일 경우 재시험 대상자입니다.  \n",
    "new_score_list를 순회하면서 각 과목별 재시험 대상자들을 출력해보세요.  \n",
    "if문과 for문을 사용하세요."
   ]
  },
  {
   "cell_type": "code",
   "execution_count": null,
   "id": "45a55844-f0e4-4ba7-8f4e-8a9386f0c391",
   "metadata": {},
   "outputs": [],
   "source": []
  },
  {
   "cell_type": "markdown",
   "id": "85e83f52-a570-43fa-aa36-6d402366026b",
   "metadata": {},
   "source": [
    "### Q4. 성적 우수자 출력하기\n",
    "\n",
    "성적이 우수한 학생들의 이름을 순서대로 출력해보고자 합니다.  \n",
    "총점이 가장 높은 순서대로 학생이름과 총점을 출력해보세요.  \n",
    "\n",
    "만약 총점이 동점이라면 국어 점수가 더 높은 학생을 우선적으로 출력하세요.  \n",
    "수학 점수와 국어 점수가 모두 동점인 경우는 고려하지 않습니다.  \n",
    "sorted 문법을 사용해서 풀어보세요."
   ]
  },
  {
   "cell_type": "code",
   "execution_count": null,
   "id": "9d65d546-c227-4942-8bdf-686d934383c2",
   "metadata": {},
   "outputs": [],
   "source": []
  }
 ],
 "metadata": {
  "kernelspec": {
   "display_name": "Python 3 (ipykernel)",
   "language": "python",
   "name": "python3"
  },
  "language_info": {
   "codemirror_mode": {
    "name": "ipython",
    "version": 3
   },
   "file_extension": ".py",
   "mimetype": "text/x-python",
   "name": "python",
   "nbconvert_exporter": "python",
   "pygments_lexer": "ipython3",
   "version": "3.10.0"
  }
 },
 "nbformat": 4,
 "nbformat_minor": 5
}
