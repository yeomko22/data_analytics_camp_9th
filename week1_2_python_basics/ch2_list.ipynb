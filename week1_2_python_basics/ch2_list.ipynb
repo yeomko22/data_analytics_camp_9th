{
 "cells": [
  {
   "cell_type": "markdown",
   "id": "e59ec14a-56db-4364-a7a9-728d4ec2bb1e",
   "metadata": {},
   "source": [
    "# ch2. 리스트 \n",
    "\n",
    "하나의 값은 변수로 표현할 수 있었습니다. 이러한 변수들이 모여있는 집합을 배열이라고 부릅니다.\n",
    "\n",
    "파이썬에서는 list 문법을 통해 이를 지원합니다."
   ]
  },
  {
   "cell_type": "markdown",
   "id": "462e5f3f-12eb-4479-8827-c248e229201e",
   "metadata": {},
   "source": [
    "## 리스트 생성, 접근, 수정"
   ]
  },
  {
   "cell_type": "markdown",
   "id": "220a80a3-74fc-47bf-925e-1d7c8f70c456",
   "metadata": {},
   "source": [
    "### 리스트 만들기\n",
    "- 리스트는 \"[]\" 문법으로 만들 수 있습니다.\n",
    "- 리스트를 만들 때, 배열에 포함할 요소들을 함께 전달할 수 있습니다."
   ]
  },
  {
   "cell_type": "code",
   "execution_count": 2,
   "id": "66b1a8b5-6aa7-42d1-8949-45bde46540f1",
   "metadata": {},
   "outputs": [],
   "source": [
    "nums = [1, 2, 3, 4 ,5]"
   ]
  },
  {
   "cell_type": "code",
   "execution_count": 3,
   "id": "990a35e0-d1f7-450e-a8b0-42ba441c3a2e",
   "metadata": {},
   "outputs": [
    {
     "data": {
      "text/plain": [
       "[1, 2, 3, 4, 5]"
      ]
     },
     "execution_count": 3,
     "metadata": {},
     "output_type": "execute_result"
    }
   ],
   "source": [
    "nums"
   ]
  },
  {
   "cell_type": "code",
   "execution_count": 4,
   "id": "96fc604a-4c39-4aa1-bb41-32869b5b40bd",
   "metadata": {},
   "outputs": [
    {
     "data": {
      "text/plain": [
       "list"
      ]
     },
     "execution_count": 4,
     "metadata": {},
     "output_type": "execute_result"
    }
   ],
   "source": [
    "type(nums)"
   ]
  },
  {
   "cell_type": "code",
   "execution_count": 5,
   "id": "cccbec67-e7c8-4870-be3a-efab84d282ec",
   "metadata": {},
   "outputs": [],
   "source": [
    "fruits = [\"사과\", \"바나나\", \"키위\"]"
   ]
  },
  {
   "cell_type": "code",
   "execution_count": 6,
   "id": "844e0ef6-8832-45d4-96e1-ec1a5cad1f45",
   "metadata": {},
   "outputs": [
    {
     "data": {
      "text/plain": [
       "['사과', '바나나', '키위']"
      ]
     },
     "execution_count": 6,
     "metadata": {},
     "output_type": "execute_result"
    }
   ],
   "source": [
    "fruits"
   ]
  },
  {
   "cell_type": "code",
   "execution_count": 7,
   "id": "358e3648-4d82-4100-b1b1-10c843359f35",
   "metadata": {},
   "outputs": [
    {
     "data": {
      "text/plain": [
       "list"
      ]
     },
     "execution_count": 7,
     "metadata": {},
     "output_type": "execute_result"
    }
   ],
   "source": [
    "type(fruits)"
   ]
  },
  {
   "cell_type": "code",
   "execution_count": 8,
   "id": "06cec4ef-c3cb-4f7d-8811-099cae19468e",
   "metadata": {},
   "outputs": [],
   "source": [
    "apple = \"사과\"\n",
    "banana = \"바나나\"\n",
    "kiwi = \"키위\""
   ]
  },
  {
   "cell_type": "code",
   "execution_count": 9,
   "id": "c68db660-e227-48a5-9057-ef1e2a66ff80",
   "metadata": {},
   "outputs": [],
   "source": [
    "fruits = [apple, banana, kiwi]"
   ]
  },
  {
   "cell_type": "code",
   "execution_count": 10,
   "id": "1ff669e0-3abc-4954-9147-41c20f37dfed",
   "metadata": {},
   "outputs": [
    {
     "data": {
      "text/plain": [
       "['사과', '바나나', '키위']"
      ]
     },
     "execution_count": 10,
     "metadata": {},
     "output_type": "execute_result"
    }
   ],
   "source": [
    "fruits"
   ]
  },
  {
   "cell_type": "markdown",
   "id": "b83f8e64-d133-414b-ab4e-f959d00c2abc",
   "metadata": {},
   "source": [
    "python list에서는 서로 다른 데이터 타입을 가진 변수들도 하나의 배열로 묶일 수 있습니다. 그러나 이렇게는 잘 사용하지 않으니 참고만 해주세요!"
   ]
  },
  {
   "cell_type": "code",
   "execution_count": 12,
   "id": "45bc9760-5754-4250-accd-7ae631de1771",
   "metadata": {},
   "outputs": [],
   "source": [
    "mixed_list = [1, 2, \"사과\", banana, True, 3.5]"
   ]
  },
  {
   "cell_type": "code",
   "execution_count": 13,
   "id": "72e30b2c-c870-42fe-9578-6e49df69354b",
   "metadata": {},
   "outputs": [
    {
     "data": {
      "text/plain": [
       "[1, 2, '사과', '바나나', True, 3.5]"
      ]
     },
     "execution_count": 13,
     "metadata": {},
     "output_type": "execute_result"
    }
   ],
   "source": [
    "mixed_list"
   ]
  },
  {
   "cell_type": "markdown",
   "id": "1fe19b2a-8b50-4498-b6ad-513b8789e767",
   "metadata": {},
   "source": [
    "### 인덱스로 리스트 요소 접근\n",
    "- 리스트는 맨 앞의 요소부터 순서대로 0, 1, 2, ... 인덱스를 가집니다.\n",
    "- 이 인덱스로 배열의 요소를 읽을 수도 있고, 변경할 수도 있습니다.\n",
    "- 인덱스가 0으로 시작하기 때문에 배열의 마지막 요소의 인덱스는 배열의 길이 - 1이 됩니다.\n",
    "- 배열의 길이를 벗어난 인덱스로 접근하려고 하면 에러가 발생합니다. \n",
    "- 인덱스 앞에 -를 붙여주면 \"뒤에서부터 몇번째 요소\" 라는 의미입니다."
   ]
  },
  {
   "cell_type": "code",
   "execution_count": 18,
   "id": "fe4d680c-9fff-44d0-878c-3a6ef3c5ecd7",
   "metadata": {},
   "outputs": [],
   "source": [
    "nums = [0, 1, 2, 3, 4, 5, 6, 7, 8, 9]"
   ]
  },
  {
   "cell_type": "code",
   "execution_count": 23,
   "id": "22469037-8da2-4ef7-90c9-4ff66b8dd22e",
   "metadata": {},
   "outputs": [
    {
     "data": {
      "text/plain": [
       "0"
      ]
     },
     "execution_count": 23,
     "metadata": {},
     "output_type": "execute_result"
    }
   ],
   "source": [
    "nums[0]"
   ]
  },
  {
   "cell_type": "code",
   "execution_count": 24,
   "id": "cd71a688-f605-41d3-96d6-de8b87cc50f3",
   "metadata": {},
   "outputs": [
    {
     "data": {
      "text/plain": [
       "1"
      ]
     },
     "execution_count": 24,
     "metadata": {},
     "output_type": "execute_result"
    }
   ],
   "source": [
    "nums[1]"
   ]
  },
  {
   "cell_type": "code",
   "execution_count": 25,
   "id": "e5e6c60e-97fd-43c8-83ee-6900cb7fce07",
   "metadata": {},
   "outputs": [
    {
     "data": {
      "text/plain": [
       "9"
      ]
     },
     "execution_count": 25,
     "metadata": {},
     "output_type": "execute_result"
    }
   ],
   "source": [
    "nums[-1]"
   ]
  },
  {
   "cell_type": "code",
   "execution_count": 26,
   "id": "20cb5b34-2473-4871-b353-a76b048a8e44",
   "metadata": {},
   "outputs": [
    {
     "data": {
      "text/plain": [
       "8"
      ]
     },
     "execution_count": 26,
     "metadata": {},
     "output_type": "execute_result"
    }
   ],
   "source": [
    "nums[-2]"
   ]
  },
  {
   "cell_type": "markdown",
   "id": "7e105736-d241-4a08-96cf-6da24d25c6eb",
   "metadata": {},
   "source": [
    "### 리스트 값 업데이트\n",
    "인덱스를 이용해서 특정 위치의 값을 변경해보겠습다."
   ]
  },
  {
   "cell_type": "code",
   "execution_count": 27,
   "id": "3ee15747-c2e6-4d55-ad26-5be047c29f87",
   "metadata": {},
   "outputs": [],
   "source": [
    "nums[0] = 20"
   ]
  },
  {
   "cell_type": "code",
   "execution_count": 29,
   "id": "a442a5d9-8d08-4cf9-96f1-1c3c1865266e",
   "metadata": {},
   "outputs": [
    {
     "data": {
      "text/plain": [
       "[20, 1, 2, 3, 4, 5, 6, 7, 8, 9]"
      ]
     },
     "execution_count": 29,
     "metadata": {},
     "output_type": "execute_result"
    }
   ],
   "source": [
    "nums"
   ]
  },
  {
   "cell_type": "code",
   "execution_count": 30,
   "id": "9b19fe08-4117-4c94-a9fd-b6f083e99c60",
   "metadata": {},
   "outputs": [],
   "source": [
    "nums[1] = 19"
   ]
  },
  {
   "cell_type": "code",
   "execution_count": 31,
   "id": "ef91e072-35e3-4f99-a56e-41ef5c6faad6",
   "metadata": {},
   "outputs": [
    {
     "data": {
      "text/plain": [
       "[20, 19, 2, 3, 4, 5, 6, 7, 8, 9]"
      ]
     },
     "execution_count": 31,
     "metadata": {},
     "output_type": "execute_result"
    }
   ],
   "source": [
    "nums"
   ]
  },
  {
   "cell_type": "markdown",
   "id": "0f5ea764-9283-49f7-a127-d25d574cc335",
   "metadata": {},
   "source": [
    "### Quiz\n",
    "구구단 2단에 해당하는 배열을 만들어보세요.  \n",
    "그 다음, 인덱스 접근을 이용해서 첫번째와 마지막 요소를 출력해보세요.  \n",
    "그 다음, 첫번째 값과 마지막 값을 원래의 값의 2배를 곱한 값으로 변경해보세요."
   ]
  },
  {
   "cell_type": "markdown",
   "id": "3cffbc85-3954-40ce-bb18-5127fe5d3b9a",
   "metadata": {},
   "source": [
    "## 리스트 요소 추가, 삭제\n",
    "- 한번 생성한 리스트의 요소는 수정하거나 삭제할 수 있습니다."
   ]
  },
  {
   "cell_type": "markdown",
   "id": "bdad9de2-feef-4ef1-a288-7d3bf69cdf7d",
   "metadata": {
    "tags": []
   },
   "source": [
    "### 리스트에 요소 추가하기\n",
    "- append 함수를 사용하면 배열에 원하는 요소를 추가할 수 있습니다."
   ]
  },
  {
   "cell_type": "code",
   "execution_count": 33,
   "id": "1182995e-3e75-4814-95d2-9becc22b0be7",
   "metadata": {},
   "outputs": [],
   "source": [
    "nums = [1, 2, 3, 4, 5]"
   ]
  },
  {
   "cell_type": "code",
   "execution_count": 34,
   "id": "876c98a0-764c-4b8e-8d1f-ee8e706132cd",
   "metadata": {},
   "outputs": [],
   "source": [
    "nums.append(6)"
   ]
  },
  {
   "cell_type": "code",
   "execution_count": 35,
   "id": "73465aa1-191a-4fa5-9940-195f92dfe6a6",
   "metadata": {},
   "outputs": [
    {
     "data": {
      "text/plain": [
       "[1, 2, 3, 4, 5, 6]"
      ]
     },
     "execution_count": 35,
     "metadata": {},
     "output_type": "execute_result"
    }
   ],
   "source": [
    "nums"
   ]
  },
  {
   "cell_type": "code",
   "execution_count": 36,
   "id": "722d2beb-3b92-40cf-a0d9-fae0de2b6400",
   "metadata": {},
   "outputs": [],
   "source": [
    "nums.append(7)"
   ]
  },
  {
   "cell_type": "code",
   "execution_count": 37,
   "id": "e1769d91-b17c-4010-83ec-31641b2d7da2",
   "metadata": {},
   "outputs": [
    {
     "data": {
      "text/plain": [
       "[1, 2, 3, 4, 5, 6, 7]"
      ]
     },
     "execution_count": 37,
     "metadata": {},
     "output_type": "execute_result"
    }
   ],
   "source": [
    "nums"
   ]
  },
  {
   "cell_type": "markdown",
   "id": "4a9d82f1-02f1-4aef-81f3-2471702f85be",
   "metadata": {},
   "source": [
    "### 리스트 이어붙이기"
   ]
  },
  {
   "cell_type": "markdown",
   "id": "804aaddc-0f8e-42af-a5a1-9e8c036107c2",
   "metadata": {},
   "source": [
    "extend를 사용하면 다른 배열을 이어붙일 수 있습니다."
   ]
  },
  {
   "cell_type": "code",
   "execution_count": 38,
   "id": "43989876-eb4c-429b-8461-ba789b89b763",
   "metadata": {},
   "outputs": [],
   "source": [
    "nums_two = [10, 11, 12, 13]"
   ]
  },
  {
   "cell_type": "code",
   "execution_count": 39,
   "id": "bfa308cd-0143-488e-9ede-a4f40cd1edab",
   "metadata": {},
   "outputs": [],
   "source": [
    "nums.extend(nums_two)"
   ]
  },
  {
   "cell_type": "code",
   "execution_count": 40,
   "id": "5943686c-0691-49d0-81d4-8222295e37fc",
   "metadata": {},
   "outputs": [
    {
     "data": {
      "text/plain": [
       "[1, 2, 3, 4, 5, 6, 7, 10, 11, 12, 13]"
      ]
     },
     "execution_count": 40,
     "metadata": {},
     "output_type": "execute_result"
    }
   ],
   "source": [
    "nums"
   ]
  },
  {
   "cell_type": "markdown",
   "id": "f95cd2d4-511e-4bd7-b339-1e2d37d20787",
   "metadata": {},
   "source": [
    "배열들끼리 덧셈을 해서 이어붙일 수도 있습니다."
   ]
  },
  {
   "cell_type": "code",
   "execution_count": 41,
   "id": "bfaa5aeb-2ea1-4bd2-9326-9b4ed0e517e2",
   "metadata": {},
   "outputs": [],
   "source": [
    "nums_three = [20, 21, 22, 23]"
   ]
  },
  {
   "cell_type": "code",
   "execution_count": 42,
   "id": "fb1ae1ec-6043-4900-a0d9-02979b64e49e",
   "metadata": {},
   "outputs": [
    {
     "data": {
      "text/plain": [
       "[10, 11, 12, 13, 20, 21, 22, 23]"
      ]
     },
     "execution_count": 42,
     "metadata": {},
     "output_type": "execute_result"
    }
   ],
   "source": [
    "nums_two + nums_three"
   ]
  },
  {
   "cell_type": "markdown",
   "id": "553e795d-0978-49cf-b893-87a9d340e755",
   "metadata": {},
   "source": [
    "### 리스트 요소 삭제\n",
    "- del 키워드로 리스트에서 특정 인덱스 값을 삭제할 수 있습니다. \n",
    "- 다만 이는 다소 위험하여 잘 사용하지 않으며, 현업에서는 filter라는 함수를 사용하며, 조건문과 lambda를 배운 뒤에 소개하겠습니다. "
   ]
  },
  {
   "cell_type": "code",
   "execution_count": 45,
   "id": "38a649e0-6732-4a28-b6f6-1fe28bb5d7cf",
   "metadata": {},
   "outputs": [],
   "source": [
    "nums = [0, 1, 2, 3, 4, 5]"
   ]
  },
  {
   "cell_type": "code",
   "execution_count": 46,
   "id": "f895b898-7b93-4a01-9e34-29721b5353f8",
   "metadata": {},
   "outputs": [
    {
     "data": {
      "text/plain": [
       "[0, 1, 2, 3, 4, 5]"
      ]
     },
     "execution_count": 46,
     "metadata": {},
     "output_type": "execute_result"
    }
   ],
   "source": [
    "nums"
   ]
  },
  {
   "cell_type": "code",
   "execution_count": 47,
   "id": "e658898a-967f-49cb-a092-e0a7f074ba51",
   "metadata": {},
   "outputs": [],
   "source": [
    "del nums[0]"
   ]
  },
  {
   "cell_type": "code",
   "execution_count": 48,
   "id": "c96d28e0-65b8-4d72-9f31-68ad796249c2",
   "metadata": {},
   "outputs": [
    {
     "data": {
      "text/plain": [
       "[1, 2, 3, 4, 5]"
      ]
     },
     "execution_count": 48,
     "metadata": {},
     "output_type": "execute_result"
    }
   ],
   "source": [
    "nums"
   ]
  },
  {
   "cell_type": "markdown",
   "id": "868bade4-f4fe-49da-8dd7-3cb827209cfc",
   "metadata": {},
   "source": [
    "### Quiz\n",
    "\n",
    "num_a 리스트에 요소를 적절히 추가하고 제거해서 num_b 리스트와 동일하게 만드세요.(인덱스를 이용한 업데이트는 사용하지 마세요.)"
   ]
  },
  {
   "cell_type": "code",
   "execution_count": 53,
   "id": "dcecf975-eaa3-46d9-9c96-4ee696240711",
   "metadata": {},
   "outputs": [],
   "source": [
    "num_a = [10, 12, 14, 16, 18, 20]\n",
    "num_b = [12, 14, 16, 18, 20, 22, 24]"
   ]
  },
  {
   "cell_type": "code",
   "execution_count": null,
   "id": "9987d5eb-4a85-48cb-8fc5-1c2307bda738",
   "metadata": {},
   "outputs": [],
   "source": []
  },
  {
   "cell_type": "markdown",
   "id": "9be5c132-aefa-4cce-a114-24fee5ab5352",
   "metadata": {},
   "source": [
    "## 리스트 슬라이싱"
   ]
  },
  {
   "cell_type": "markdown",
   "id": "58a0d9ce-fe6c-4963-8e85-fa360548c778",
   "metadata": {},
   "source": [
    "### 리스트 슬라이싱\n",
    "- : 기호를 이용해서 리스트에서 특정 인덱스 범위만 가져올 수 있습니다.\n",
    "- 시작 인덱스와 끝 인덱스를 :로 이어붙이면 그 사이 값들만 가져와줍니다."
   ]
  },
  {
   "cell_type": "code",
   "execution_count": 54,
   "id": "b3e02633-87df-4dc6-86e1-efd01fa2150c",
   "metadata": {},
   "outputs": [],
   "source": [
    "nums = [0, 1, 2, 3, 4, 5, 6, 7, 8, 9]"
   ]
  },
  {
   "cell_type": "code",
   "execution_count": 55,
   "id": "a5f97f02-2fee-46c4-9a31-cdb4e1bbfe13",
   "metadata": {},
   "outputs": [
    {
     "data": {
      "text/plain": [
       "[1, 2, 3, 4]"
      ]
     },
     "execution_count": 55,
     "metadata": {},
     "output_type": "execute_result"
    }
   ],
   "source": [
    "nums[1:5]"
   ]
  },
  {
   "cell_type": "code",
   "execution_count": 56,
   "id": "27aa2039-9075-4856-b8cf-b488d31d34a0",
   "metadata": {},
   "outputs": [
    {
     "data": {
      "text/plain": [
       "[3, 4, 5, 6]"
      ]
     },
     "execution_count": 56,
     "metadata": {},
     "output_type": "execute_result"
    }
   ],
   "source": [
    "nums[3:7]"
   ]
  },
  {
   "cell_type": "markdown",
   "id": "ed8c275a-3f25-465e-95af-ed37ef64df82",
   "metadata": {},
   "source": [
    "- 시작 인덱스를 표시하지 않았다면 0번째 요소부터 끝 인덱스 바로 앞 요소까지를 읽어와줍니다."
   ]
  },
  {
   "cell_type": "code",
   "execution_count": 57,
   "id": "a4757e9a-642f-42d4-b21d-0319dbea4e55",
   "metadata": {},
   "outputs": [
    {
     "data": {
      "text/plain": [
       "[0, 1, 2]"
      ]
     },
     "execution_count": 57,
     "metadata": {},
     "output_type": "execute_result"
    }
   ],
   "source": [
    "nums[:3]"
   ]
  },
  {
   "cell_type": "code",
   "execution_count": 58,
   "id": "9254a456-3ed6-48ee-96d9-73704f1eb502",
   "metadata": {},
   "outputs": [
    {
     "data": {
      "text/plain": [
       "[0, 1, 2, 3, 4, 5]"
      ]
     },
     "execution_count": 58,
     "metadata": {},
     "output_type": "execute_result"
    }
   ],
   "source": [
    "nums[:6]"
   ]
  },
  {
   "cell_type": "markdown",
   "id": "43278161-8908-4920-986e-fca1cf7c5d13",
   "metadata": {},
   "source": [
    "- 끝 인덱스를 표시하지 않는다면 시작 인덱스부터 리스트의 마지막 요소까지를 읽어와줍니다."
   ]
  },
  {
   "cell_type": "code",
   "execution_count": 59,
   "id": "d13f2ab8-7b93-4450-8218-e90561019f67",
   "metadata": {},
   "outputs": [
    {
     "data": {
      "text/plain": [
       "[5, 6, 7, 8, 9]"
      ]
     },
     "execution_count": 59,
     "metadata": {},
     "output_type": "execute_result"
    }
   ],
   "source": [
    "nums[5:]"
   ]
  },
  {
   "cell_type": "code",
   "execution_count": 60,
   "id": "2e5d3e2b-d8fb-4438-9bd8-43d6ae7e78d5",
   "metadata": {},
   "outputs": [
    {
     "data": {
      "text/plain": [
       "[8, 9]"
      ]
     },
     "execution_count": 60,
     "metadata": {},
     "output_type": "execute_result"
    }
   ],
   "source": [
    "nums[8:]"
   ]
  },
  {
   "cell_type": "markdown",
   "id": "54872aee-ceb5-4879-a0b3-afd069f3868d",
   "metadata": {},
   "source": [
    "- 뒤에서부터 n개까지 요소들만 읽어오고 싶다면 시작 인덱스에 -를 붙여서 슬라이싱을 해주면 됩니다."
   ]
  },
  {
   "cell_type": "code",
   "execution_count": 63,
   "id": "17f4a5ff-67a4-4a7f-b006-3aa0d49ea88a",
   "metadata": {},
   "outputs": [
    {
     "data": {
      "text/plain": [
       "[7, 8, 9]"
      ]
     },
     "execution_count": 63,
     "metadata": {},
     "output_type": "execute_result"
    }
   ],
   "source": [
    "nums[-3:]"
   ]
  },
  {
   "cell_type": "markdown",
   "id": "4b26cb64-26dc-4b31-9c8b-68af519ce2af",
   "metadata": {},
   "source": [
    "- 반대로 처음부터 마지막 n번째까지 요소만 읽고 싶다면 끝 인덱스에 -를 붙여주면 됩니다."
   ]
  },
  {
   "cell_type": "code",
   "execution_count": 64,
   "id": "5ff15715-cc2f-4f64-a3ac-0feba6eb4832",
   "metadata": {},
   "outputs": [
    {
     "data": {
      "text/plain": [
       "[0, 1, 2, 3, 4, 5, 6, 7]"
      ]
     },
     "execution_count": 64,
     "metadata": {},
     "output_type": "execute_result"
    }
   ],
   "source": [
    "nums[:-2]"
   ]
  },
  {
   "cell_type": "markdown",
   "id": "0dccc007-a684-49df-b7f7-ffd9e74365bc",
   "metadata": {},
   "source": [
    "### 간격을 지정해서 슬라이싱하기\n",
    "- 시작 인덱스와 끝 인덱스 다음에 :를 이용해서 간격을 지정할 수 있습니다."
   ]
  },
  {
   "cell_type": "code",
   "execution_count": 66,
   "id": "69d8405e-178d-4728-ba1d-029c29a0bfc6",
   "metadata": {},
   "outputs": [],
   "source": [
    "nums = [0, 1, 2, 3, 4, 5, 6, 7, 8, 9]"
   ]
  },
  {
   "cell_type": "code",
   "execution_count": 69,
   "id": "6520cd2e-d41f-4351-ad97-e65f9aff476d",
   "metadata": {},
   "outputs": [
    {
     "data": {
      "text/plain": [
       "[1, 2, 3, 4, 5, 6, 7, 8]"
      ]
     },
     "execution_count": 69,
     "metadata": {},
     "output_type": "execute_result"
    }
   ],
   "source": [
    "nums[1:9]"
   ]
  },
  {
   "cell_type": "code",
   "execution_count": 70,
   "id": "96765e12-9b1e-497d-bdc7-b182a3dff81b",
   "metadata": {},
   "outputs": [
    {
     "data": {
      "text/plain": [
       "[1, 3, 5, 7]"
      ]
     },
     "execution_count": 70,
     "metadata": {},
     "output_type": "execute_result"
    }
   ],
   "source": [
    "nums[1:9:2]"
   ]
  },
  {
   "cell_type": "code",
   "execution_count": 71,
   "id": "90d77c35-251e-41b9-a307-d55e72d05cfd",
   "metadata": {},
   "outputs": [
    {
     "data": {
      "text/plain": [
       "[1, 4, 7]"
      ]
     },
     "execution_count": 71,
     "metadata": {},
     "output_type": "execute_result"
    }
   ],
   "source": [
    "nums[1:9:3]"
   ]
  },
  {
   "cell_type": "code",
   "execution_count": 72,
   "id": "41057086-462a-401b-a4b4-2d28844df6bd",
   "metadata": {},
   "outputs": [
    {
     "data": {
      "text/plain": [
       "[1, 5]"
      ]
     },
     "execution_count": 72,
     "metadata": {},
     "output_type": "execute_result"
    }
   ],
   "source": [
    "nums[1:9:4]"
   ]
  },
  {
   "cell_type": "markdown",
   "id": "145276f7-f10a-44ad-b6a4-3ad4a0bf2662",
   "metadata": {},
   "source": [
    "### Quiz\n",
    "\n",
    "주어진 nums를 슬라이싱해서 아래 값들을 읽어와보세요.\n",
    "- [1, 2, 3, 4]\n",
    "- [6, 7, 8, 9]\n",
    "- [2, 4, 6]\n",
    "- [3, 5, 7, 9] "
   ]
  },
  {
   "cell_type": "code",
   "execution_count": 73,
   "id": "13caeb03-d5b4-4b19-bd23-36d0b90eddaf",
   "metadata": {},
   "outputs": [],
   "source": [
    "nums = [0, 1, 2, 3, 4, 5, 6, 7, 8, 9]"
   ]
  },
  {
   "cell_type": "markdown",
   "id": "f93937e4-1525-4a92-9b86-cce9372668bc",
   "metadata": {},
   "source": [
    "## 중첩 리스트"
   ]
  },
  {
   "cell_type": "markdown",
   "id": "c759c5bc-f0bb-438a-8fb7-b56577e9dc55",
   "metadata": {},
   "source": [
    "### 중첩 리스트 생성\n",
    "- 배열을 중첩할 수 있습니다. 이를 nested list라고도 부릅니다.\n",
    "- 하나의 배열이 다른 배열의 원소로 포함되는 경우를 말합니다."
   ]
  },
  {
   "cell_type": "code",
   "execution_count": 84,
   "id": "c42d3fdb-b085-4859-8d9e-3871a5f10e7d",
   "metadata": {},
   "outputs": [],
   "source": [
    "nested_list = [\n",
    "    [1, 2, 3],\n",
    "    [4, 5, 6],\n",
    "    [7, 8, 9]\n",
    "]"
   ]
  },
  {
   "cell_type": "code",
   "execution_count": 86,
   "id": "615a91a5-58f1-447e-abc1-44ca6a6930bb",
   "metadata": {},
   "outputs": [
    {
     "data": {
      "text/plain": [
       "[[1, 2, 3], [4, 5, 6], [7, 8, 9]]"
      ]
     },
     "execution_count": 86,
     "metadata": {},
     "output_type": "execute_result"
    }
   ],
   "source": [
    "nested_list"
   ]
  },
  {
   "cell_type": "code",
   "execution_count": 89,
   "id": "9e834512-f9fa-4c57-92cb-0e8179931282",
   "metadata": {},
   "outputs": [],
   "source": [
    "third_nested_list = [\n",
    "    [\n",
    "        [1, 2, 3],\n",
    "        [4, 5, 6],\n",
    "        [7, 8, 9]\n",
    "    ],\n",
    "    [\n",
    "        [10, 11, 12],\n",
    "        [13, 14, 15],\n",
    "        [16, 17, 18]\n",
    "    ]\n",
    "]"
   ]
  },
  {
   "cell_type": "code",
   "execution_count": 90,
   "id": "edb4421a-de33-4bee-acdb-ef09a3022a25",
   "metadata": {},
   "outputs": [
    {
     "data": {
      "text/plain": [
       "[[[1, 2, 3], [4, 5, 6], [7, 8, 9]], [[10, 11, 12], [13, 14, 15], [16, 17, 18]]]"
      ]
     },
     "execution_count": 90,
     "metadata": {},
     "output_type": "execute_result"
    }
   ],
   "source": [
    "third_nested_list"
   ]
  },
  {
   "cell_type": "markdown",
   "id": "dc4fd079-e12f-4a54-8072-8149a79a419b",
   "metadata": {},
   "source": [
    "- 이런 식으로 배열 안에 배열 안에 배열을 계속 반복하면서 중첩시킬 수 있습니다."
   ]
  },
  {
   "cell_type": "markdown",
   "id": "198f0fc9-514a-4e92-9c9f-af8c42931012",
   "metadata": {},
   "source": [
    "### 중첩 리스트 원소에 접근하기"
   ]
  },
  {
   "cell_type": "markdown",
   "id": "28dbbdef-0741-4472-9930-45d9e9849270",
   "metadata": {},
   "source": [
    "- 배열 안에 배열이 중첩되어 있을 경우, []를 여러번 반복해서 해당 요소에 접근할 수 있습니다."
   ]
  },
  {
   "cell_type": "code",
   "execution_count": 92,
   "id": "5bd6b02c-f1fa-4d54-83eb-114a640ca435",
   "metadata": {},
   "outputs": [],
   "source": [
    "# 2중 배열로 표현한 구구단\n",
    "gugudan = [\n",
    "    [1, 2, 3, 4, 5, 6, 7, 8, 9],\n",
    "    [2, 4, 6, 8, 10, 12, 14, 16, 18],\n",
    "    [3, 6, 9, 12, 15, 18, 21, 24, 27],\n",
    "    [4, 8, 12, 16, 20, 24, 28, 32, 36],\n",
    "    [5, 10, 15, 20, 25, 30, 35, 40, 45],\n",
    "    [6, 12, 18, 24, 30, 36, 42, 48, 54],\n",
    "    [7, 14, 21, 28, 35, 42, 49, 56, 63],\n",
    "    [8, 16, 24, 32, 40, 48, 56, 64, 72],\n",
    "    [9, 18, 27, 36, 45, 54, 63, 72, 81]\n",
    "]"
   ]
  },
  {
   "cell_type": "code",
   "execution_count": 93,
   "id": "61dde5de-c42d-4db2-8d60-f72e0fc53f3d",
   "metadata": {},
   "outputs": [
    {
     "data": {
      "text/plain": [
       "[1, 2, 3, 4, 5, 6, 7, 8, 9]"
      ]
     },
     "execution_count": 93,
     "metadata": {},
     "output_type": "execute_result"
    }
   ],
   "source": [
    "gugudan[0]"
   ]
  },
  {
   "cell_type": "code",
   "execution_count": 97,
   "id": "956eb1f0-64e7-4f3f-83b8-fcd118b98511",
   "metadata": {},
   "outputs": [
    {
     "data": {
      "text/plain": [
       "[9, 18, 27, 36, 45, 54, 63, 72, 81]"
      ]
     },
     "execution_count": 97,
     "metadata": {},
     "output_type": "execute_result"
    }
   ],
   "source": [
    "gugudan[-1]"
   ]
  },
  {
   "cell_type": "code",
   "execution_count": 98,
   "id": "a92fa05a-406b-4fdb-8c7d-89876a45f27b",
   "metadata": {},
   "outputs": [
    {
     "data": {
      "text/plain": [
       "6"
      ]
     },
     "execution_count": 98,
     "metadata": {},
     "output_type": "execute_result"
    }
   ],
   "source": [
    "gugudan[1][2]"
   ]
  },
  {
   "cell_type": "markdown",
   "id": "c461784d-28d7-4fad-97de-bbc6e19881df",
   "metadata": {},
   "source": [
    "- 구구단 3단 출력하기"
   ]
  },
  {
   "cell_type": "code",
   "execution_count": 99,
   "id": "77ccb049-3d8c-4fb0-ad30-dc681df3d2ae",
   "metadata": {},
   "outputs": [
    {
     "name": "stdout",
     "output_type": "stream",
     "text": [
      "[3, 6, 9, 12, 15, 18, 21, 24, 27]\n"
     ]
    }
   ],
   "source": [
    "print(gugudan[2])"
   ]
  },
  {
   "cell_type": "markdown",
   "id": "17afa504-c42e-4590-ac62-edda1257e23e",
   "metadata": {},
   "source": [
    "### Quiz\n",
    "\n",
    "1. 아래와 같은 원소를 가진 중첩 배열을 생성하세요\n",
    "```\n",
    "[\n",
    "    [1, 2, 3],\n",
    "    [4, 5, 6],\n",
    "    [7, 8, 9]\n",
    "]\n",
    "```\n",
    "\n",
    "2. 생성한 중첩 배열에 인덱싱과 슬라이싱을 이용해서 아래 값들을 읽어보세요.\n",
    "- 5\n",
    "- [1, 2, 3]\n",
    "- [8, 9] "
   ]
  },
  {
   "cell_type": "code",
   "execution_count": null,
   "id": "d01bf9eb-2963-49b5-a573-d0e9d3af0a78",
   "metadata": {},
   "outputs": [],
   "source": []
  },
  {
   "cell_type": "markdown",
   "id": "f173a69a-ef86-452f-b096-3b8c6e3851d8",
   "metadata": {},
   "source": [
    "## 리스트 뒤집기\n",
    "- [::-1]로 배열을 뒤집을 수 있습니다"
   ]
  },
  {
   "cell_type": "code",
   "execution_count": 105,
   "id": "fc46cbd7-cdf1-43c4-a6b0-25683e87cd37",
   "metadata": {},
   "outputs": [],
   "source": [
    "nums = [0, 1, 2, 3, 4, 5]"
   ]
  },
  {
   "cell_type": "code",
   "execution_count": 106,
   "id": "5b5cb357-fa71-41f0-a42e-5f6685e3831a",
   "metadata": {},
   "outputs": [],
   "source": [
    "reversed_nums = nums[::-1]"
   ]
  },
  {
   "cell_type": "code",
   "execution_count": 107,
   "id": "7b7e931f-de4d-4e02-9dcd-e3cd7ac789be",
   "metadata": {},
   "outputs": [
    {
     "data": {
      "text/plain": [
       "[5, 4, 3, 2, 1, 0]"
      ]
     },
     "execution_count": 107,
     "metadata": {},
     "output_type": "execute_result"
    }
   ],
   "source": [
    "reversed_nums"
   ]
  },
  {
   "cell_type": "markdown",
   "id": "24ee9f79-18be-41bd-a58e-dcd34e1de282",
   "metadata": {},
   "source": [
    "## 리스트 정렬하기"
   ]
  },
  {
   "cell_type": "markdown",
   "id": "fc888dda-d6c8-49d1-a4c6-d658fdfd04f2",
   "metadata": {},
   "source": [
    "### sort \n",
    "- 숫자나 문자로만 이루어진 배열은 .sort() 함수를 이용해서 정렬을 할 수 있습니다.\n",
    "- sort는 list의 내장 함수로, 리턴 값 없이 해당 리스트를 정렬합니다.\n"
   ]
  },
  {
   "cell_type": "code",
   "execution_count": 115,
   "id": "2ffda1c2-1a9e-4303-aede-d4163f096ac7",
   "metadata": {},
   "outputs": [],
   "source": [
    "nums = [5, 2, 3, 4, 1]"
   ]
  },
  {
   "cell_type": "code",
   "execution_count": 116,
   "id": "1552aea1-0c12-4dec-8a65-669ba71669eb",
   "metadata": {},
   "outputs": [],
   "source": [
    "nums.sort()"
   ]
  },
  {
   "cell_type": "code",
   "execution_count": 117,
   "id": "101554c7-308e-4ab5-98d8-bcbb193ffa52",
   "metadata": {},
   "outputs": [
    {
     "data": {
      "text/plain": [
       "[1, 2, 3, 4, 5]"
      ]
     },
     "execution_count": 117,
     "metadata": {},
     "output_type": "execute_result"
    }
   ],
   "source": [
    "nums"
   ]
  },
  {
   "cell_type": "markdown",
   "id": "6e8f4ef9-5010-4ca1-ad7b-20fa1ef5d5dc",
   "metadata": {},
   "source": [
    "- 문자열로 이루어진 배열도 마찬가지로 sort 할 수 있습니다."
   ]
  },
  {
   "cell_type": "code",
   "execution_count": 118,
   "id": "417e4e84-6c69-4db4-b350-4e5d98e9f2ce",
   "metadata": {},
   "outputs": [],
   "source": [
    "str_list = [\"cat\", \"apple\", \"dog\", \"banana\", \"eat\"]"
   ]
  },
  {
   "cell_type": "code",
   "execution_count": 119,
   "id": "e09b10d7-d184-45ee-9d1d-bf28c5178300",
   "metadata": {},
   "outputs": [],
   "source": [
    "str_list.sort()"
   ]
  },
  {
   "cell_type": "code",
   "execution_count": 120,
   "id": "b7fc1bd8-2d59-4622-9b2f-76b2c6617c61",
   "metadata": {},
   "outputs": [
    {
     "data": {
      "text/plain": [
       "['apple', 'banana', 'cat', 'dog', 'eat']"
      ]
     },
     "execution_count": 120,
     "metadata": {},
     "output_type": "execute_result"
    }
   ],
   "source": [
    "str_list"
   ]
  },
  {
   "cell_type": "markdown",
   "id": "e0d34b98-2727-4e64-abf7-e23edca72115",
   "metadata": {},
   "source": [
    "### sorted\n",
    "\n",
    "- sorted를 사용하면 좀 더 복잡한 정렬도 쉽게 구현할 수 있습니다.\n",
    "- 여러 개의 정렬 조건을 가지고 중첩 배열을 정렬하고 싶을 때 사용할 수 있습니다.\n",
    "- 아래 예시는 학생 이름과 수학 점수, 국어 점수를 묶은 배열의 배열입니다."
   ]
  },
  {
   "cell_type": "code",
   "execution_count": 125,
   "id": "a3c7fb2b-147d-4458-a32a-ea927bdfd321",
   "metadata": {},
   "outputs": [],
   "source": [
    "scores = [\n",
    "    [\"민수\", 50, 70],\n",
    "    [\"동현\", 60, 90],\n",
    "    [\"진희\", 40, 80],\n",
    "    [\"준용\", 50, 80],\n",
    "    [\"희수\", 70, 70],\n",
    "    [\"창서\", 60, 60],\n",
    "]"
   ]
  },
  {
   "cell_type": "markdown",
   "id": "aa807905-aeeb-4b27-8469-23cca49eb396",
   "metadata": {},
   "source": [
    "1. 이름 순으로 정렬하기"
   ]
  },
  {
   "cell_type": "code",
   "execution_count": 126,
   "id": "8a666713-f976-4d8d-ab87-a247f3254ef4",
   "metadata": {},
   "outputs": [
    {
     "data": {
      "text/plain": [
       "[['동현', 60, 90],\n",
       " ['민수', 50, 70],\n",
       " ['준용', 50, 80],\n",
       " ['진희', 40, 80],\n",
       " ['창서', 60, 60],\n",
       " ['희수', 70, 70]]"
      ]
     },
     "execution_count": 126,
     "metadata": {},
     "output_type": "execute_result"
    }
   ],
   "source": [
    "sorted(scores)"
   ]
  },
  {
   "cell_type": "markdown",
   "id": "dbfed5d5-f0fa-49d9-a9c8-8cb3e4e22bd6",
   "metadata": {},
   "source": [
    "2. 국어 점수 오름차순으로 정렬하기\n",
    "- 배열 내부의 특정 인덱스 값을 기준으로 정렬을 하고 싶을 때에는 key=lambda 라는 문법을 사용해줍니다.\n",
    "- lambda는 지금 당장 자세히 알고 있을 필요는 없습니다. 배열에서 하나씩 원소를 꺼내와서 로직을 적용한다 정도로 이해하면 됩니다."
   ]
  },
  {
   "cell_type": "code",
   "execution_count": 128,
   "id": "89e5ba7d-a99f-41cc-9d06-6dd718677266",
   "metadata": {},
   "outputs": [
    {
     "data": {
      "text/plain": [
       "[['창서', 60, 60],\n",
       " ['민수', 50, 70],\n",
       " ['희수', 70, 70],\n",
       " ['진희', 40, 80],\n",
       " ['준용', 50, 80],\n",
       " ['동현', 60, 90]]"
      ]
     },
     "execution_count": 128,
     "metadata": {},
     "output_type": "execute_result"
    }
   ],
   "source": [
    "sorted(scores, key=lambda x: x[2])"
   ]
  },
  {
   "cell_type": "markdown",
   "id": "9e962a55-a4d7-4944-bf96-2786bc50f5a8",
   "metadata": {},
   "source": [
    "3. 국어 점수 내림차순으로 정렬하기\n",
    "- 내림차순으로 정렬하고 싶다면 reverse=True 옵션을 지정해주세요"
   ]
  },
  {
   "cell_type": "code",
   "execution_count": 129,
   "id": "e3e98396-92a3-4002-8ac0-fe6569319929",
   "metadata": {},
   "outputs": [
    {
     "data": {
      "text/plain": [
       "[['동현', 60, 90],\n",
       " ['진희', 40, 80],\n",
       " ['준용', 50, 80],\n",
       " ['민수', 50, 70],\n",
       " ['희수', 70, 70],\n",
       " ['창서', 60, 60]]"
      ]
     },
     "execution_count": 129,
     "metadata": {},
     "output_type": "execute_result"
    }
   ],
   "source": [
    "sorted(scores, key=lambda x: x[2], reverse=True)"
   ]
  },
  {
   "cell_type": "markdown",
   "id": "0f5533b7-7cc7-47a2-bdaf-f4319c96e35b",
   "metadata": {},
   "source": [
    "4. 수학, 국어 점수 합계 순으로 정렬하기"
   ]
  },
  {
   "cell_type": "code",
   "execution_count": 130,
   "id": "93920c98-5dde-4156-9f31-a7f823d4a4b4",
   "metadata": {},
   "outputs": [
    {
     "data": {
      "text/plain": [
       "[['동현', 60, 90],\n",
       " ['희수', 70, 70],\n",
       " ['준용', 50, 80],\n",
       " ['민수', 50, 70],\n",
       " ['진희', 40, 80],\n",
       " ['창서', 60, 60]]"
      ]
     },
     "execution_count": 130,
     "metadata": {},
     "output_type": "execute_result"
    }
   ],
   "source": [
    "sorted(scores, key=lambda x: x[1] + x[2], reverse=True)"
   ]
  },
  {
   "cell_type": "markdown",
   "id": "762e2858-6c43-4954-bb9e-ce8a00d5ac73",
   "metadata": {},
   "source": [
    "### Quiz\n",
    "\n",
    "수학, 국어 점수 합계의 내림차순으로 정렬하되, 동점일 경우엔 국어 점수가 높은 사람을 앞에 두도록 정렬해보세요.\n",
    "(진희가 민수보다 앞에 와야함)"
   ]
  },
  {
   "cell_type": "code",
   "execution_count": 131,
   "id": "c7ee090b-251f-4181-880a-c37573cdfa7c",
   "metadata": {},
   "outputs": [
    {
     "data": {
      "text/plain": [
       "[['동현', 60, 90],\n",
       " ['희수', 70, 70],\n",
       " ['준용', 50, 80],\n",
       " ['진희', 40, 80],\n",
       " ['민수', 50, 70],\n",
       " ['창서', 60, 60]]"
      ]
     },
     "execution_count": 131,
     "metadata": {},
     "output_type": "execute_result"
    }
   ],
   "source": [
    "sorted(scores, key=lambda x: (x[1] + x[2], x[2]), reverse=True)"
   ]
  },
  {
   "cell_type": "markdown",
   "id": "df37415d-8083-43be-9d8f-b7d2dbd61985",
   "metadata": {},
   "source": [
    "## 정리\n",
    "\n",
    "이번 챕터에서는 python list에 대해서 알아보았습니다. list는 앞으로 코딩을 하면서 뗄레야 뗼 수 없는 기본 자료구조이기 때문에 list를 다루는 법을 확실하게 익히고 넘어가시기 바랍니다."
   ]
  },
  {
   "cell_type": "code",
   "execution_count": null,
   "id": "9348305f-d703-4444-a36e-85c7911156a9",
   "metadata": {},
   "outputs": [],
   "source": []
  }
 ],
 "metadata": {
  "kernelspec": {
   "display_name": "Python 3 (ipykernel)",
   "language": "python",
   "name": "python3"
  },
  "language_info": {
   "codemirror_mode": {
    "name": "ipython",
    "version": 3
   },
   "file_extension": ".py",
   "mimetype": "text/x-python",
   "name": "python",
   "nbconvert_exporter": "python",
   "pygments_lexer": "ipython3",
   "version": "3.10.0"
  }
 },
 "nbformat": 4,
 "nbformat_minor": 5
}
