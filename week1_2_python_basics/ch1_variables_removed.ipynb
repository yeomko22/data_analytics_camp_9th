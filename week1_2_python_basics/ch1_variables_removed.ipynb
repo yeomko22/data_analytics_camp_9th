{
 "cells": [
  {
   "cell_type": "markdown",
   "id": "38ed34e6",
   "metadata": {
    "tags": []
   },
   "source": [
    "# ch1. 변수\n",
    "\n",
    "변수(Variable)이란 프로그래밍에서 모든 값을 표현하는 가장 기본이 되는 값입니다. 숫자도 변수고, 문자열도 변수입니다.  \n",
    "이를 컴퓨터 공학적으로 표현하면 \"값을 메모리에 값을 할당하기 위한 공간\"이라고 표현합니다.  \n",
    "이름이 변수인 이유는 이 값을 수정할 수 있기 때문입니다.  \n",
    "이와 상반되게 수정할 수 없는 값은 상수(Constant)라고 표현합니다만, python 언어는 변수만 지원하므로 아직 신경쓰지 않아도 됩니다.\n",
    "\n",
    "Python에서 가장 기본적으로 사용되는 네 가지 변수 타입이 있습니다.\n",
    "\n",
    "- 정수형 변수 (int)\n",
    "- 실수형 변수 (float)\n",
    "- 문자열 변수 (str)\n",
    "- 논리형 변수 (bool)"
   ]
  },
  {
   "cell_type": "code",
   "execution_count": null,
   "id": "bcf3880c-c7b4-4df1-9f57-c307dca61599",
   "metadata": {},
   "outputs": [],
   "source": []
  },
  {
   "cell_type": "markdown",
   "id": "31492036-a3d3-424f-8312-6a6c3e377320",
   "metadata": {
    "tags": []
   },
   "source": [
    "## 변수의 할당\n",
    "- 할당 연산자 \"=\"를 이용하여 변수를 할당합니다.\n",
    "- \"변수명 = 변수값\" 형태로 사용합니다.\n",
    "- 항상 변수명이 할당 연산자 왼쪽에 와야 합니다. "
   ]
  },
  {
   "cell_type": "code",
   "execution_count": null,
   "id": "6e2b8735-08d9-49c7-a06c-489e21e12c5b",
   "metadata": {},
   "outputs": [],
   "source": []
  },
  {
   "cell_type": "markdown",
   "id": "da42a70a-4aa9-4bd0-ae92-a24b0bb3e405",
   "metadata": {},
   "source": [
    "## 정수형 변수\n",
    "- int, integer라고 부릅니다. \n",
    "- 양의 정수, 음의 정수, 0를 나타냅니다."
   ]
  },
  {
   "cell_type": "code",
   "execution_count": null,
   "id": "34e23e28-2c8a-4178-a681-7b858bf37fc8",
   "metadata": {},
   "outputs": [],
   "source": []
  },
  {
   "cell_type": "markdown",
   "id": "07aa6034-c6d1-460d-8fea-44ee0ff62049",
   "metadata": {},
   "source": [
    "### 산술 연산자\n",
    "- 더하기, 빼기, 곱하기, 나누기 등의 산술 연산을 의미합니다.\n",
    "- arithmatic(산술) operator(연산자) 라고도 합니다.\n",
    "\n",
    "|기호|연산|\n",
    "|-|-|\n",
    "|+|더하기|\n",
    "|-|빼기|\n",
    "|*|곱하기|\n",
    "|/|나누기|\n",
    "|//|실수 나누기|\n",
    "|%|나누고 남은 나머지|"
   ]
  },
  {
   "cell_type": "code",
   "execution_count": null,
   "id": "23bdc70d-38c8-4c18-b7ef-b9dcd4e17dac",
   "metadata": {},
   "outputs": [],
   "source": []
  },
  {
   "cell_type": "markdown",
   "id": "23715969-ae38-4dfa-8624-6ed505e19fb4",
   "metadata": {},
   "source": [
    "### 할당 연산자\n",
    "- 할당 연산자를 사용하면 간결하게 표현이 가능합니다. \n",
    "\n",
    "|기호|연산|\n",
    "|----|----|\n",
    "|=|오른쪽 값을 왼쪽 값에 대입|\n",
    "|+=|오른쪽 값을 왼쪽 값에 더한 뒤, 대입|\n",
    "|-=|오른쪽 값을 왼쪽 값에 빼준 뒤, 대입|\n",
    "|*=|오른쪽 값을 왼쪽 값에 곱한 뒤, 대입|\n",
    "|%=|오른쪽 값을 왼쪽 값에 나눈 나머지를 대입|"
   ]
  },
  {
   "cell_type": "code",
   "execution_count": null,
   "id": "a0270541-9e3f-410c-a9f7-1bea0bcfb943",
   "metadata": {},
   "outputs": [],
   "source": []
  },
  {
   "cell_type": "markdown",
   "id": "f88fe8f8-df01-4d4d-bd07-dcfc7c2ef5bb",
   "metadata": {},
   "source": [
    "## 실수형 변수\n",
    "- float(floating point, 부동소수점)이라고 부릅니다.\n",
    "- 양과 음의 무한대를 표현할 수 있습니다."
   ]
  },
  {
   "cell_type": "code",
   "execution_count": null,
   "id": "fd8d2752-20c6-4d17-b881-10df613389cb",
   "metadata": {},
   "outputs": [],
   "source": []
  },
  {
   "cell_type": "markdown",
   "id": "1a2b8bf1-9210-4324-8864-a6be3cae5330",
   "metadata": {},
   "source": [
    "## 논리형 변수\n",
    "- True 인지 False인지를 나타내는 변수입니다.\n",
    "- bool(불리안)이라고 부릅니다.\n",
    "- 논리 연산자(ex. >, <, ==, !=)\n",
    "- 0과 1, 문자열로도 생성할 수 있습니다."
   ]
  },
  {
   "cell_type": "code",
   "execution_count": null,
   "id": "fbbdd7ac-2e52-48c6-a18f-0eb81bd0779c",
   "metadata": {},
   "outputs": [],
   "source": []
  },
  {
   "cell_type": "markdown",
   "id": "27cad6c6-dcdd-445a-b07a-1cd3cbb148d9",
   "metadata": {},
   "source": [
    "### 논리 연산자\n",
    "- logical operator라고도 부릅니다.\n",
    "- 논리 연산을 수행하여 bool 변수를 리턴합니다.\n",
    "\n",
    "|기호|연산|\n",
    "|----|----|\n",
    "|and|모두가 True여야 True 리턴, 하나라도 False면 False| \n",
    "|or|하나라도 True라면 True 리턴, 모두가 False여야 False 리턴|\n",
    "|not|True면 False를 리턴, False면 True를 리턴|"
   ]
  },
  {
   "cell_type": "code",
   "execution_count": null,
   "id": "3db4fb08-d978-4a67-876f-fa478ffe9eb0",
   "metadata": {},
   "outputs": [],
   "source": []
  },
  {
   "cell_type": "markdown",
   "id": "c7da245b-6319-4d6e-aeca-b72a3cccb7bd",
   "metadata": {},
   "source": [
    "## 문자열 변수\n",
    "- str(string, 스트링)이라고 부릅니다.\n",
    "- \"\", '', ``, \"\"\"\"\"\"으로 정의할 수 있습니다. 일반적으로는 \"\"을 사용합니다. "
   ]
  },
  {
   "cell_type": "code",
   "execution_count": null,
   "id": "f9f544c9-5268-47d7-b9e7-e17824494dbb",
   "metadata": {},
   "outputs": [],
   "source": []
  },
  {
   "cell_type": "markdown",
   "id": "d513d952-b513-4be3-8534-ad46dc300f9b",
   "metadata": {},
   "source": [
    "문자열끼리는 서로 더할 수 있습니다."
   ]
  },
  {
   "cell_type": "code",
   "execution_count": null,
   "id": "adb0306c-536a-470c-a20e-cb66c7e1290f",
   "metadata": {},
   "outputs": [],
   "source": []
  },
  {
   "cell_type": "markdown",
   "id": "cdff2df3-68de-41f7-b958-3b722f7052af",
   "metadata": {},
   "source": [
    "뺄셈은 지원하지 않습니다. 에러 메세지가 나올텐데, 이런 에러 메세지를 직접 읽고 원인을 파악하는 연습이 중요합니다."
   ]
  },
  {
   "cell_type": "code",
   "execution_count": null,
   "id": "08c8e981-9826-4362-b5ca-5d475e565e7b",
   "metadata": {},
   "outputs": [],
   "source": []
  },
  {
   "cell_type": "markdown",
   "id": "598ba884-cf0d-4227-9e9e-de4635fdc64e",
   "metadata": {},
   "source": [
    "역슬래쉬 문자 \"\\\"를 사용하면 여러 줄에 걸쳐서 긴 문자열을 보기 좋게 입력할 수 있습니다."
   ]
  },
  {
   "cell_type": "code",
   "execution_count": null,
   "id": "fd59ef7a-32ff-4ced-b269-c9da2a3ee085",
   "metadata": {},
   "outputs": [],
   "source": []
  },
  {
   "cell_type": "code",
   "execution_count": 96,
   "id": "779e9a6c-7376-4cf6-9350-ac0da2c3d2e0",
   "metadata": {},
   "outputs": [],
   "source": [
    "description = \"파이썬을 통해서 논리게이트를 구현하는 방법을 살펴보도록 하겠습니다. \"  \\\n",
    "              \"해당 포스팅은 퍼셉트론을 구현하기 위한 것이 아닌, 단순 논리회로를 구성하는 방법에 대한 코드입니다. \" \\\n",
    "              \"논리게이트에 대한 이해가 있으시다면, 코드 구현은 크게 어렵지 않으니, 아래 코드를 참고하시면 되겠습니다.\""
   ]
  },
  {
   "cell_type": "code",
   "execution_count": null,
   "id": "b169dd06-94ab-41af-8ba4-9ac8d2a4c6e2",
   "metadata": {},
   "outputs": [],
   "source": []
  },
  {
   "cell_type": "markdown",
   "id": "2bc8f714-5ccf-4907-a97d-7367c8e32122",
   "metadata": {},
   "source": [
    "보통 여러 줄에 걸쳐서 긴 문자열을 표현하고 싶을 때에는 따옴표를 3개 사용해서 그 안에 문단을 작성하기도 합니다."
   ]
  },
  {
   "cell_type": "code",
   "execution_count": 98,
   "id": "9ee83dbe-7dc9-4e64-b943-71a06044dc14",
   "metadata": {},
   "outputs": [],
   "source": [
    "sentence = \"\"\"\n",
    "오늘은 파이썬 코딩을 한 첫 날입니다.\n",
    "매우 즐겁습니다.\n",
    "강의가 아주 매끄럽습니다.\n",
    "\"\"\""
   ]
  },
  {
   "cell_type": "code",
   "execution_count": null,
   "id": "db573e6f-0bbf-497d-943b-6387c30c6fdb",
   "metadata": {},
   "outputs": [],
   "source": []
  },
  {
   "cell_type": "markdown",
   "id": "3f24f9e1-a853-4074-8cd4-e0e0c477f3c0",
   "metadata": {},
   "source": [
    "위 문장에서 \"\\n\"이라는 문자가 보입니다. 이는 newline의 줄임말로 줄바꿈을 표현하는 문자입니다. 이렇게 역슬레쉬를 사용해서 특수한 문자열들을 구현해놓은 것들을 escape sequence라고 부릅니다."
   ]
  },
  {
   "cell_type": "code",
   "execution_count": null,
   "id": "718865d1-416a-4008-a52e-cf36b82e95bb",
   "metadata": {},
   "outputs": [],
   "source": []
  },
  {
   "cell_type": "markdown",
   "id": "edcdfa1e-b1d2-4308-8315-18e77309a799",
   "metadata": {},
   "source": [
    "### Escape Sequence\n",
    "- 줄바꿈, 탭, 따옴표, 쌍따옴표 등 문자열 안에서 그 본래의 문자로 표현할 수 없는 문자들을 표현하기 위한 기호들입니다.  \n",
    "- print() 함수로 출력을 해보면 해당 기호들이 어떻게 출력되는지 확인할 수 있습니다.\n",
    "    - 줄바꿈: \\n\n",
    "    - 탭: \\t\n",
    "    - 쌍따옴표: \\\\\"\n",
    "    - 따옴표: \\\\'\n",
    "    - 역슬래쉬: \\\\\\\n",
    "- 만일 escape sequence 자체를 그대로 출력하고 싶을 때에는 앞에 역슬래쉬를 하나 더 붙여주면 됩니다."
   ]
  },
  {
   "cell_type": "code",
   "execution_count": null,
   "id": "e6596700-1187-41c8-87dc-118aa5071078",
   "metadata": {},
   "outputs": [],
   "source": []
  },
  {
   "cell_type": "markdown",
   "id": "98dc284f-4c78-41ab-81d7-71b4a1272314",
   "metadata": {},
   "source": [
    "### 문자열 포맷팅\n",
    "- 문자열 사이 사이에 변수를 넣고 싶을 때 사용합니다. \n",
    "- format 함수를 사용하는 방법과 f-string을 사용하는 방법이 있습니다."
   ]
  },
  {
   "cell_type": "code",
   "execution_count": null,
   "id": "baae8a1a-3937-40a1-a273-06461af96b95",
   "metadata": {},
   "outputs": [],
   "source": []
  },
  {
   "cell_type": "markdown",
   "id": "fb4463e1-c35f-4689-a283-7feeb3dc980b",
   "metadata": {},
   "source": [
    "위 두 방법도 가능하지만, 가장 많이 사용하는 포맷팅 기법은 f-string입니다.  \n",
    "문자열 맨 앞에 f를 붙여주고, 넣고자 하는 변수를 문자열 사이에 {}를 사용해서 넣어줍니다.  "
   ]
  },
  {
   "cell_type": "code",
   "execution_count": null,
   "id": "81cfea1f-a3fb-42e0-a305-c3b763b33fd3",
   "metadata": {},
   "outputs": [],
   "source": []
  },
  {
   "cell_type": "markdown",
   "id": "6f2b24ab-0661-4284-8d1a-dc80b7acceb8",
   "metadata": {},
   "source": [
    "### Quiz: formated 문자열을 활용해서 \"민수는 3살입니다.\" 출력하시오\n",
    "\n"
   ]
  },
  {
   "cell_type": "code",
   "execution_count": null,
   "id": "efe9ec0a-0727-4a5c-b3a2-1541b5751ea7",
   "metadata": {},
   "outputs": [],
   "source": []
  },
  {
   "cell_type": "markdown",
   "id": "debcafa6-fc69-4f87-99c0-7cd04ac55467",
   "metadata": {},
   "source": [
    "### 문자열 변수의 산술 연산\n",
    "- str() 함수를 이용하면 정수형, 실수형, 논리형 변수를 문자열로 변환할 수 있습니다.\n",
    "- 문자열 끼리는 \"+\" 산술 연산이 가능합니다.\n",
    "- 문자열 * N을 하면 해당 문자열을 N번 반복한 문자열이 됩니다.\n",
    "- 문자열로 변환할 경우, 문자열 변수와의 산술 연산이 가능합니다."
   ]
  },
  {
   "cell_type": "code",
   "execution_count": null,
   "id": "326be1c5-d2f0-4a47-900b-efea98e7a68b",
   "metadata": {},
   "outputs": [],
   "source": []
  },
  {
   "cell_type": "markdown",
   "id": "5940de20-ff24-4436-95cb-f97742240d87",
   "metadata": {},
   "source": [
    "문자열은 문자열끼리 더할 수 있지만, 숫자와는 더할 수 없습니다.  \n",
    "억지로 더할 경우 에러가 발생합니다."
   ]
  },
  {
   "cell_type": "code",
   "execution_count": null,
   "id": "f4cabe54-cbe5-4b1e-8d73-58113dcaeb01",
   "metadata": {},
   "outputs": [],
   "source": []
  },
  {
   "cell_type": "markdown",
   "id": "6c879274-b7e0-494d-a1ca-a6ec62eff214",
   "metadata": {},
   "source": [
    "이 경우, 숫자를 문자열로 바꿔준 다음 더해주면 해결할 수 있습니다."
   ]
  },
  {
   "cell_type": "code",
   "execution_count": null,
   "id": "b2e566c5-94e9-4e14-8c7a-d813da3cffae",
   "metadata": {},
   "outputs": [],
   "source": []
  },
  {
   "cell_type": "markdown",
   "id": "b89dce9e-e01b-4d2e-8b7f-80b54e7dc6a8",
   "metadata": {},
   "source": [
    "### 그 외에 유용한 문자열 연산\n",
    "- 대문자, 소문자 변환: upper, lower\n",
    "- 특정 문자열 대치: replace"
   ]
  },
  {
   "cell_type": "code",
   "execution_count": null,
   "id": "a9759a30-5852-4d83-b512-1e2fdf300924",
   "metadata": {},
   "outputs": [],
   "source": []
  },
  {
   "cell_type": "markdown",
   "id": "8ffdbdcd-21c8-41c9-a5ad-8417d3f988b5",
   "metadata": {},
   "source": [
    "## 정리\n",
    "\n",
    "이번 챕터에서는 파이썬의 변수에 대해서 알아보았습니다. 변수는 모든 프로그래밍에서 가장 기초가 되는 개념입니다.  \n",
    "반드시 번수를 할당하고, 연산을 수행하는 과정을 이해하고, 반복해서 연습해보시기 바랍니다."
   ]
  },
  {
   "cell_type": "markdown",
   "id": "d8adab44-ea76-4aa7-9d70-17fc5b9cd18b",
   "metadata": {},
   "source": [
    "## 참고 자료\n",
    "- 공부하시다가 모르는 부분이 생기면 이 책을 참고하시면 좋습니다. https://wikidocs.net/13"
   ]
  },
  {
   "cell_type": "code",
   "execution_count": null,
   "id": "69c4566c-2dc7-4cae-af32-24a494a53ff3",
   "metadata": {},
   "outputs": [],
   "source": []
  }
 ],
 "metadata": {
  "kernelspec": {
   "display_name": "Python 3 (ipykernel)",
   "language": "python",
   "name": "python3"
  },
  "language_info": {
   "codemirror_mode": {
    "name": "ipython",
    "version": 3
   },
   "file_extension": ".py",
   "mimetype": "text/x-python",
   "name": "python",
   "nbconvert_exporter": "python",
   "pygments_lexer": "ipython3",
   "version": "3.10.0"
  }
 },
 "nbformat": 4,
 "nbformat_minor": 5
}
