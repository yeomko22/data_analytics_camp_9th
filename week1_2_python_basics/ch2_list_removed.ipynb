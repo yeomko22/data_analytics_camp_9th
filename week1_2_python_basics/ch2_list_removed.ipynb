{
 "cells": [
  {
   "cell_type": "markdown",
   "id": "e59ec14a-56db-4364-a7a9-728d4ec2bb1e",
   "metadata": {},
   "source": [
    "# ch2. 리스트 \n",
    "\n",
    "하나의 값은 변수로 표현할 수 있었습니다. 이러한 변수들이 모여있는 집합을 배열이라고 부릅니다.\n",
    "\n",
    "파이썬에서는 list 문법을 통해 이를 지원합니다."
   ]
  },
  {
   "cell_type": "markdown",
   "id": "462e5f3f-12eb-4479-8827-c248e229201e",
   "metadata": {},
   "source": [
    "## 리스트 생성, 접근, 수정"
   ]
  },
  {
   "cell_type": "markdown",
   "id": "220a80a3-74fc-47bf-925e-1d7c8f70c456",
   "metadata": {},
   "source": [
    "### 리스트 만들기\n",
    "- 리스트는 \"[]\" 문법으로 만들 수 있습니다.\n",
    "- 리스트를 만들 때, 배열에 포함할 요소들을 함께 전달할 수 있습니다."
   ]
  },
  {
   "cell_type": "code",
   "execution_count": null,
   "id": "af9a4c97-d67f-47cc-8ba8-cb9115177a5d",
   "metadata": {},
   "outputs": [],
   "source": []
  },
  {
   "cell_type": "markdown",
   "id": "b83f8e64-d133-414b-ab4e-f959d00c2abc",
   "metadata": {},
   "source": [
    "python list에서는 서로 다른 데이터 타입을 가진 변수들도 하나의 배열로 묶일 수 있습니다. 그러나 이렇게는 잘 사용하지 않으니 참고만 해주세요!"
   ]
  },
  {
   "cell_type": "code",
   "execution_count": null,
   "id": "f2cf30b9-a6a0-4f61-8172-e7d1ec451b61",
   "metadata": {},
   "outputs": [],
   "source": []
  },
  {
   "cell_type": "markdown",
   "id": "1fe19b2a-8b50-4498-b6ad-513b8789e767",
   "metadata": {},
   "source": [
    "### 인덱스로 리스트 요소 접근\n",
    "- 리스트는 맨 앞의 요소부터 순서대로 0, 1, 2, ... 인덱스를 가집니다.\n",
    "- 이 인덱스로 배열의 요소를 읽을 수도 있고, 변경할 수도 있습니다.\n",
    "- 인덱스가 0으로 시작하기 때문에 배열의 마지막 요소의 인덱스는 배열의 길이 - 1이 됩니다.\n",
    "- 배열의 길이를 벗어난 인덱스로 접근하려고 하면 에러가 발생합니다. \n",
    "- 인덱스 앞에 -를 붙여주면 \"뒤에서부터 몇번째 요소\" 라는 의미입니다."
   ]
  },
  {
   "cell_type": "code",
   "execution_count": null,
   "id": "ee5be361-a9ea-4842-b08b-4d7ee73ab664",
   "metadata": {},
   "outputs": [],
   "source": []
  },
  {
   "cell_type": "markdown",
   "id": "7e105736-d241-4a08-96cf-6da24d25c6eb",
   "metadata": {},
   "source": [
    "### 리스트 값 업데이트\n",
    "인덱스를 이용해서 특정 위치의 값을 변경해보겠습다."
   ]
  },
  {
   "cell_type": "code",
   "execution_count": null,
   "id": "c4d4c8a9-e40d-44ef-a319-30ad5339f9ce",
   "metadata": {},
   "outputs": [],
   "source": []
  },
  {
   "cell_type": "markdown",
   "id": "0f5ea764-9283-49f7-a127-d25d574cc335",
   "metadata": {},
   "source": [
    "### Quiz\n",
    "구구단 2단에 해당하는 배열을 만들어보세요.  \n",
    "그 다음, 인덱스 접근을 이용해서 첫번째와 마지막 요소를 출력해보세요.  \n",
    "그 다음, 첫번째 값과 마지막 값을 원래의 값의 2배를 곱한 값으로 변경해보세요."
   ]
  },
  {
   "cell_type": "markdown",
   "id": "3cffbc85-3954-40ce-bb18-5127fe5d3b9a",
   "metadata": {},
   "source": [
    "## 리스트 요소 추가, 삭제\n",
    "- 한번 생성한 리스트의 요소는 수정하거나 삭제할 수 있습니다."
   ]
  },
  {
   "cell_type": "markdown",
   "id": "bdad9de2-feef-4ef1-a288-7d3bf69cdf7d",
   "metadata": {
    "tags": []
   },
   "source": [
    "### 리스트에 요소 추가하기\n",
    "- append 함수를 사용하면 배열에 원하는 요소를 추가할 수 있습니다."
   ]
  },
  {
   "cell_type": "code",
   "execution_count": null,
   "id": "3b727fb5-8fc9-4fc9-989e-ee353ad1f905",
   "metadata": {},
   "outputs": [],
   "source": []
  },
  {
   "cell_type": "markdown",
   "id": "4a9d82f1-02f1-4aef-81f3-2471702f85be",
   "metadata": {},
   "source": [
    "### 리스트 이어붙이기"
   ]
  },
  {
   "cell_type": "markdown",
   "id": "804aaddc-0f8e-42af-a5a1-9e8c036107c2",
   "metadata": {},
   "source": [
    "extend를 사용하면 다른 배열을 이어붙일 수 있습니다."
   ]
  },
  {
   "cell_type": "code",
   "execution_count": null,
   "id": "65ab1dd4-a64d-4027-a1ba-23c4cf78440b",
   "metadata": {},
   "outputs": [],
   "source": []
  },
  {
   "cell_type": "markdown",
   "id": "f95cd2d4-511e-4bd7-b339-1e2d37d20787",
   "metadata": {},
   "source": [
    "배열들끼리 덧셈을 해서 이어붙일 수도 있습니다."
   ]
  },
  {
   "cell_type": "code",
   "execution_count": null,
   "id": "72847520-edbf-40cb-b2bb-2227ccf7a6a3",
   "metadata": {},
   "outputs": [],
   "source": []
  },
  {
   "cell_type": "markdown",
   "id": "553e795d-0978-49cf-b893-87a9d340e755",
   "metadata": {},
   "source": [
    "### 리스트 요소 삭제\n",
    "- del 키워드로 리스트에서 특정 인덱스 값을 삭제할 수 있습니다. \n",
    "- 다만 이는 다소 위험하여 잘 사용하지 않으며, 현업에서는 filter라는 함수를 사용하며, 조건문과 lambda를 배운 뒤에 소개하겠습니다. "
   ]
  },
  {
   "cell_type": "code",
   "execution_count": null,
   "id": "d99ba5ae-a7ab-416d-b432-9308b1df77a2",
   "metadata": {},
   "outputs": [],
   "source": []
  },
  {
   "cell_type": "markdown",
   "id": "868bade4-f4fe-49da-8dd7-3cb827209cfc",
   "metadata": {},
   "source": [
    "### Quiz\n",
    "\n",
    "num_a 리스트에 요소를 적절히 추가하고 제거해서 num_b 리스트와 동일하게 만드세요.(인덱스를 이용한 업데이트는 사용하지 마세요.)"
   ]
  },
  {
   "cell_type": "code",
   "execution_count": 53,
   "id": "dcecf975-eaa3-46d9-9c96-4ee696240711",
   "metadata": {},
   "outputs": [],
   "source": [
    "num_a = [10, 12, 14, 16, 18, 20]\n",
    "num_b = [12, 14, 16, 18, 20, 22, 24]"
   ]
  },
  {
   "cell_type": "code",
   "execution_count": null,
   "id": "9987d5eb-4a85-48cb-8fc5-1c2307bda738",
   "metadata": {},
   "outputs": [],
   "source": []
  },
  {
   "cell_type": "markdown",
   "id": "9be5c132-aefa-4cce-a114-24fee5ab5352",
   "metadata": {},
   "source": [
    "## 리스트 슬라이싱"
   ]
  },
  {
   "cell_type": "markdown",
   "id": "58a0d9ce-fe6c-4963-8e85-fa360548c778",
   "metadata": {},
   "source": [
    "### 리스트 슬라이싱\n",
    "- : 기호를 이용해서 리스트에서 특정 인덱스 범위만 가져올 수 있습니다.\n",
    "- 시작 인덱스와 끝 인덱스를 :로 이어붙이면 그 사이 값들만 가져와줍니다."
   ]
  },
  {
   "cell_type": "code",
   "execution_count": null,
   "id": "00443765-dfcb-404d-bcf2-3ba25c1d34c3",
   "metadata": {},
   "outputs": [],
   "source": []
  },
  {
   "cell_type": "markdown",
   "id": "ed8c275a-3f25-465e-95af-ed37ef64df82",
   "metadata": {},
   "source": [
    "- 시작 인덱스를 표시하지 않았다면 0번째 요소부터 끝 인덱스 바로 앞 요소까지를 읽어와줍니다."
   ]
  },
  {
   "cell_type": "code",
   "execution_count": null,
   "id": "e4539969-345b-4743-918e-996fa8823f6b",
   "metadata": {},
   "outputs": [],
   "source": []
  },
  {
   "cell_type": "markdown",
   "id": "43278161-8908-4920-986e-fca1cf7c5d13",
   "metadata": {},
   "source": [
    "- 끝 인덱스를 표시하지 않는다면 시작 인덱스부터 리스트의 마지막 요소까지를 읽어와줍니다."
   ]
  },
  {
   "cell_type": "code",
   "execution_count": null,
   "id": "c77a43c9-69f2-4657-a472-0ed71c2e0b0a",
   "metadata": {},
   "outputs": [],
   "source": []
  },
  {
   "cell_type": "markdown",
   "id": "54872aee-ceb5-4879-a0b3-afd069f3868d",
   "metadata": {},
   "source": [
    "- 뒤에서부터 n개까지 요소들만 읽어오고 싶다면 시작 인덱스에 -를 붙여서 슬라이싱을 해주면 됩니다."
   ]
  },
  {
   "cell_type": "code",
   "execution_count": null,
   "id": "f2d236e6-459f-4cd9-9213-d906c84b377f",
   "metadata": {},
   "outputs": [],
   "source": []
  },
  {
   "cell_type": "markdown",
   "id": "4b26cb64-26dc-4b31-9c8b-68af519ce2af",
   "metadata": {},
   "source": [
    "- 반대로 처음부터 마지막 n번째까지 요소만 읽고 싶다면 끝 인덱스에 -를 붙여주면 됩니다."
   ]
  },
  {
   "cell_type": "code",
   "execution_count": null,
   "id": "14d7c6e3-8665-42c4-9271-f690240e91c1",
   "metadata": {},
   "outputs": [],
   "source": []
  },
  {
   "cell_type": "markdown",
   "id": "0dccc007-a684-49df-b7f7-ffd9e74365bc",
   "metadata": {},
   "source": [
    "### 간격을 지정해서 슬라이싱하기\n",
    "- 시작 인덱스와 끝 인덱스 다음에 :를 이용해서 간격을 지정할 수 있습니다."
   ]
  },
  {
   "cell_type": "code",
   "execution_count": null,
   "id": "62a5bab5-2d38-4b55-a4fc-df013060c302",
   "metadata": {},
   "outputs": [],
   "source": []
  },
  {
   "cell_type": "markdown",
   "id": "145276f7-f10a-44ad-b6a4-3ad4a0bf2662",
   "metadata": {},
   "source": [
    "### Quiz\n",
    "\n",
    "주어진 nums를 슬라이싱해서 아래 값들을 읽어와보세요.\n",
    "- [1, 2, 3, 4]\n",
    "- [6, 7, 8, 9]\n",
    "- [2, 4, 6]\n",
    "- [3, 5, 7, 9] "
   ]
  },
  {
   "cell_type": "code",
   "execution_count": 73,
   "id": "13caeb03-d5b4-4b19-bd23-36d0b90eddaf",
   "metadata": {},
   "outputs": [],
   "source": [
    "nums = [0, 1, 2, 3, 4, 5, 6, 7, 8, 9]"
   ]
  },
  {
   "cell_type": "code",
   "execution_count": null,
   "id": "0bd49344-c5c1-40e7-a11a-48cd05a1bbd4",
   "metadata": {},
   "outputs": [],
   "source": []
  },
  {
   "cell_type": "markdown",
   "id": "f93937e4-1525-4a92-9b86-cce9372668bc",
   "metadata": {},
   "source": [
    "## 중첩 리스트"
   ]
  },
  {
   "cell_type": "markdown",
   "id": "c759c5bc-f0bb-438a-8fb7-b56577e9dc55",
   "metadata": {},
   "source": [
    "### 중첩 리스트 생성\n",
    "- 배열을 중첩할 수 있습니다. 이를 nested list라고도 부릅니다.\n",
    "- 하나의 배열이 다른 배열의 원소로 포함되는 경우를 말합니다."
   ]
  },
  {
   "cell_type": "code",
   "execution_count": null,
   "id": "ef5d8c28-df92-4f2d-a126-f636c018e94a",
   "metadata": {},
   "outputs": [],
   "source": []
  },
  {
   "cell_type": "markdown",
   "id": "dc4fd079-e12f-4a54-8072-8149a79a419b",
   "metadata": {},
   "source": [
    "- 이런 식으로 배열 안에 배열 안에 배열을 계속 반복하면서 중첩시킬 수 있습니다."
   ]
  },
  {
   "cell_type": "markdown",
   "id": "198f0fc9-514a-4e92-9c9f-af8c42931012",
   "metadata": {},
   "source": [
    "### 중첩 리스트 원소에 접근하기"
   ]
  },
  {
   "cell_type": "markdown",
   "id": "28dbbdef-0741-4472-9930-45d9e9849270",
   "metadata": {},
   "source": [
    "- 배열 안에 배열이 중첩되어 있을 경우, []를 여러번 반복해서 해당 요소에 접근할 수 있습니다."
   ]
  },
  {
   "cell_type": "code",
   "execution_count": 92,
   "id": "5bd6b02c-f1fa-4d54-83eb-114a640ca435",
   "metadata": {},
   "outputs": [],
   "source": [
    "# 2중 배열로 표현한 구구단\n",
    "gugudan = [\n",
    "    [1, 2, 3, 4, 5, 6, 7, 8, 9],\n",
    "    [2, 4, 6, 8, 10, 12, 14, 16, 18],\n",
    "    [3, 6, 9, 12, 15, 18, 21, 24, 27],\n",
    "    [4, 8, 12, 16, 20, 24, 28, 32, 36],\n",
    "    [5, 10, 15, 20, 25, 30, 35, 40, 45],\n",
    "    [6, 12, 18, 24, 30, 36, 42, 48, 54],\n",
    "    [7, 14, 21, 28, 35, 42, 49, 56, 63],\n",
    "    [8, 16, 24, 32, 40, 48, 56, 64, 72],\n",
    "    [9, 18, 27, 36, 45, 54, 63, 72, 81]\n",
    "]"
   ]
  },
  {
   "cell_type": "code",
   "execution_count": null,
   "id": "49ffdffa-b4e2-4c2a-90e3-60e96f6ad5ea",
   "metadata": {},
   "outputs": [],
   "source": []
  },
  {
   "cell_type": "markdown",
   "id": "c461784d-28d7-4fad-97de-bbc6e19881df",
   "metadata": {},
   "source": [
    "- 구구단 3단 출력하기"
   ]
  },
  {
   "cell_type": "code",
   "execution_count": null,
   "id": "da36aba7-12d7-4051-833c-bdc29d11db65",
   "metadata": {},
   "outputs": [],
   "source": []
  },
  {
   "cell_type": "markdown",
   "id": "17afa504-c42e-4590-ac62-edda1257e23e",
   "metadata": {},
   "source": [
    "### Quiz\n",
    "\n",
    "1. 아래와 같은 원소를 가진 중첩 배열을 생성하세요\n",
    "```\n",
    "[\n",
    "    [1, 2, 3],\n",
    "    [4, 5, 6],\n",
    "    [7, 8, 9]\n",
    "]\n",
    "```\n",
    "\n",
    "2. 생성한 중첩 배열에 인덱싱과 슬라이싱을 이용해서 아래 값들을 읽어보세요.\n",
    "- 5\n",
    "- [1, 2, 3]\n",
    "- [8, 9] "
   ]
  },
  {
   "cell_type": "code",
   "execution_count": null,
   "id": "d01bf9eb-2963-49b5-a573-d0e9d3af0a78",
   "metadata": {},
   "outputs": [],
   "source": []
  },
  {
   "cell_type": "markdown",
   "id": "f173a69a-ef86-452f-b096-3b8c6e3851d8",
   "metadata": {},
   "source": [
    "## 리스트 뒤집기\n",
    "- [::-1]로 배열을 뒤집을 수 있습니다"
   ]
  },
  {
   "cell_type": "code",
   "execution_count": null,
   "id": "2e79e0f1-7e17-4363-b15d-4aa2d8673b65",
   "metadata": {},
   "outputs": [],
   "source": []
  },
  {
   "cell_type": "markdown",
   "id": "24ee9f79-18be-41bd-a58e-dcd34e1de282",
   "metadata": {},
   "source": [
    "## 리스트 정렬하기"
   ]
  },
  {
   "cell_type": "markdown",
   "id": "fc888dda-d6c8-49d1-a4c6-d658fdfd04f2",
   "metadata": {},
   "source": [
    "### sort \n",
    "- 숫자나 문자로만 이루어진 배열은 .sort() 함수를 이용해서 정렬을 할 수 있습니다.\n",
    "- sort는 list의 내장 함수로, 리턴 값 없이 해당 리스트를 정렬합니다.\n"
   ]
  },
  {
   "cell_type": "code",
   "execution_count": null,
   "id": "189253f8-a3cf-4243-8b6d-276f2d5823b0",
   "metadata": {},
   "outputs": [],
   "source": []
  },
  {
   "cell_type": "markdown",
   "id": "6e8f4ef9-5010-4ca1-ad7b-20fa1ef5d5dc",
   "metadata": {},
   "source": [
    "- 문자열로 이루어진 배열도 마찬가지로 sort 할 수 있습니다."
   ]
  },
  {
   "cell_type": "code",
   "execution_count": null,
   "id": "38c3dc8f-3027-4e75-9455-946e37198531",
   "metadata": {},
   "outputs": [],
   "source": []
  },
  {
   "cell_type": "markdown",
   "id": "e0d34b98-2727-4e64-abf7-e23edca72115",
   "metadata": {},
   "source": [
    "### sorted\n",
    "\n",
    "- sorted를 사용하면 좀 더 복잡한 정렬도 쉽게 구현할 수 있습니다.\n",
    "- 여러 개의 정렬 조건을 가지고 중첩 배열을 정렬하고 싶을 때 사용할 수 있습니다.\n",
    "- 아래 예시는 학생 이름과 수학 점수, 국어 점수를 묶은 배열의 배열입니다."
   ]
  },
  {
   "cell_type": "code",
   "execution_count": null,
   "id": "ca6a8fb0-1d56-464b-8895-56a7c601a08b",
   "metadata": {},
   "outputs": [],
   "source": []
  },
  {
   "cell_type": "markdown",
   "id": "aa807905-aeeb-4b27-8469-23cca49eb396",
   "metadata": {},
   "source": [
    "1. 이름 순으로 정렬하기"
   ]
  },
  {
   "cell_type": "code",
   "execution_count": 126,
   "id": "8a666713-f976-4d8d-ab87-a247f3254ef4",
   "metadata": {},
   "outputs": [
    {
     "data": {
      "text/plain": [
       "[['동현', 60, 90],\n",
       " ['민수', 50, 70],\n",
       " ['준용', 50, 80],\n",
       " ['진희', 40, 80],\n",
       " ['창서', 60, 60],\n",
       " ['희수', 70, 70]]"
      ]
     },
     "execution_count": 126,
     "metadata": {},
     "output_type": "execute_result"
    }
   ],
   "source": [
    "sorted(scores)"
   ]
  },
  {
   "cell_type": "markdown",
   "id": "dbfed5d5-f0fa-49d9-a9c8-8cb3e4e22bd6",
   "metadata": {},
   "source": [
    "2. 국어 점수 오름차순으로 정렬하기\n",
    "- 배열 내부의 특정 인덱스 값을 기준으로 정렬을 하고 싶을 때에는 key=lambda 라는 문법을 사용해줍니다.\n",
    "- lambda는 지금 당장 자세히 알고 있을 필요는 없습니다. 배열에서 하나씩 원소를 꺼내와서 로직을 적용한다 정도로 이해하면 됩니다."
   ]
  },
  {
   "cell_type": "code",
   "execution_count": 128,
   "id": "89e5ba7d-a99f-41cc-9d06-6dd718677266",
   "metadata": {},
   "outputs": [
    {
     "data": {
      "text/plain": [
       "[['창서', 60, 60],\n",
       " ['민수', 50, 70],\n",
       " ['희수', 70, 70],\n",
       " ['진희', 40, 80],\n",
       " ['준용', 50, 80],\n",
       " ['동현', 60, 90]]"
      ]
     },
     "execution_count": 128,
     "metadata": {},
     "output_type": "execute_result"
    }
   ],
   "source": [
    "sorted(scores, key=lambda x: x[2])"
   ]
  },
  {
   "cell_type": "markdown",
   "id": "9e962a55-a4d7-4944-bf96-2786bc50f5a8",
   "metadata": {},
   "source": [
    "3. 국어 점수 내림차순으로 정렬하기\n",
    "- 내림차순으로 정렬하고 싶다면 reverse=True 옵션을 지정해주세요"
   ]
  },
  {
   "cell_type": "code",
   "execution_count": 129,
   "id": "e3e98396-92a3-4002-8ac0-fe6569319929",
   "metadata": {},
   "outputs": [
    {
     "data": {
      "text/plain": [
       "[['동현', 60, 90],\n",
       " ['진희', 40, 80],\n",
       " ['준용', 50, 80],\n",
       " ['민수', 50, 70],\n",
       " ['희수', 70, 70],\n",
       " ['창서', 60, 60]]"
      ]
     },
     "execution_count": 129,
     "metadata": {},
     "output_type": "execute_result"
    }
   ],
   "source": [
    "sorted(scores, key=lambda x: x[2], reverse=True)"
   ]
  },
  {
   "cell_type": "markdown",
   "id": "762e2858-6c43-4954-bb9e-ce8a00d5ac73",
   "metadata": {},
   "source": [
    "### Quiz\n",
    "\n",
    "1. 수학, 국어 점수 합계 순으로 정렬하기\n",
    "2. 수학, 국어 점수 합계의 내림차순으로 정렬하되, 동점일 경우엔 국어 점수가 높은 사람을 앞에 두도록 정렬해보세요.\n",
    "(진희가 민수보다 앞에 와야함, 검색 필요)"
   ]
  },
  {
   "cell_type": "code",
   "execution_count": null,
   "id": "afde32c7-9c62-40cd-a611-8da368ad230d",
   "metadata": {},
   "outputs": [],
   "source": []
  },
  {
   "cell_type": "markdown",
   "id": "df37415d-8083-43be-9d8f-b7d2dbd61985",
   "metadata": {},
   "source": [
    "## 정리\n",
    "\n",
    "이번 챕터에서는 python list에 대해서 알아보았습니다. list는 앞으로 코딩을 하면서 뗄레야 뗼 수 없는 기본 자료구조이기 때문에 list를 다루는 법을 확실하게 익히고 넘어가시기 바랍니다."
   ]
  },
  {
   "cell_type": "code",
   "execution_count": null,
   "id": "9348305f-d703-4444-a36e-85c7911156a9",
   "metadata": {},
   "outputs": [],
   "source": []
  }
 ],
 "metadata": {
  "kernelspec": {
   "display_name": "Python 3 (ipykernel)",
   "language": "python",
   "name": "python3"
  },
  "language_info": {
   "codemirror_mode": {
    "name": "ipython",
    "version": 3
   },
   "file_extension": ".py",
   "mimetype": "text/x-python",
   "name": "python",
   "nbconvert_exporter": "python",
   "pygments_lexer": "ipython3",
   "version": "3.10.0"
  }
 },
 "nbformat": 4,
 "nbformat_minor": 5
}
