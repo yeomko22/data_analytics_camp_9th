{
 "cells": [
  {
   "cell_type": "markdown",
   "id": "b2b45b91-01f9-4a57-941f-20e6672b141a",
   "metadata": {},
   "source": [
    "# ch6. 튜플\n",
    "\n",
    "이전 시간에 값들이 모여있는 집합인 리스트에 대해서 배웠습니다.  \n",
    "그런데 파이썬에는 값들이 모여있는 집합을 표현하는 튜플과 딕셔너리라는 타입도 있습니다.  \n",
    "이번 챕터와 다음 챕터에서 튜플과 딕셔너리의 기본 개념과 사용법에 대해서 알아보겠습니다."
   ]
  },
  {
   "cell_type": "markdown",
   "id": "13039e17-c8fb-483f-8cd7-afd9259886d8",
   "metadata": {},
   "source": [
    "## 튜플\n",
    "- \"()\"이란 문법으로 생성이 가능합니다. 리스트와 마찬가지로 여러가지 변수를 요소로 갖습니다.\n",
    "- index, slice 등 리스트와 거의 대부분의 기능이 같습니다. \n",
    "- 다만, 튜플의 경우 한번 할당한 요소를 변경할 수 없습니다. 이를 immutable이라고 부릅니다.\n",
    "- 때문에 append나 extend를 이용해 요소를 추가할 수 없고, 특정 인덱스의 값을 업데이트 할 수 없습니다."
   ]
  },
  {
   "cell_type": "code",
   "execution_count": 1,
   "id": "07471254-2887-4a0a-bac1-a70cc5eabc93",
   "metadata": {},
   "outputs": [],
   "source": [
    "nums = (1, 2, 3, 4, 5)"
   ]
  },
  {
   "cell_type": "code",
   "execution_count": 2,
   "id": "8939ea12-812d-412e-a377-0b4c977394f6",
   "metadata": {},
   "outputs": [
    {
     "data": {
      "text/plain": [
       "1"
      ]
     },
     "execution_count": 2,
     "metadata": {},
     "output_type": "execute_result"
    }
   ],
   "source": [
    "nums[0]"
   ]
  },
  {
   "cell_type": "code",
   "execution_count": 3,
   "id": "5dd8a747-0b70-47fb-87eb-b0ffe0936770",
   "metadata": {},
   "outputs": [
    {
     "data": {
      "text/plain": [
       "2"
      ]
     },
     "execution_count": 3,
     "metadata": {},
     "output_type": "execute_result"
    }
   ],
   "source": [
    "nums[1]"
   ]
  },
  {
   "cell_type": "code",
   "execution_count": 4,
   "id": "5605f6b2-b3f8-41af-ac68-866e863b7c5c",
   "metadata": {},
   "outputs": [
    {
     "data": {
      "text/plain": [
       "(2, 3)"
      ]
     },
     "execution_count": 4,
     "metadata": {},
     "output_type": "execute_result"
    }
   ],
   "source": [
    "nums[1:3]"
   ]
  },
  {
   "cell_type": "code",
   "execution_count": 5,
   "id": "a7b6ff98-8b6c-4cf9-8a51-500d561425ca",
   "metadata": {},
   "outputs": [
    {
     "data": {
      "text/plain": [
       "5"
      ]
     },
     "execution_count": 5,
     "metadata": {},
     "output_type": "execute_result"
    }
   ],
   "source": [
    "len(nums)"
   ]
  },
  {
   "cell_type": "code",
   "execution_count": 6,
   "id": "403ef872-759c-4e9e-b43a-db74e0d5e187",
   "metadata": {},
   "outputs": [
    {
     "ename": "TypeError",
     "evalue": "'tuple' object does not support item assignment",
     "output_type": "error",
     "traceback": [
      "\u001b[0;31m---------------------------------------------------------------------------\u001b[0m",
      "\u001b[0;31mTypeError\u001b[0m                                 Traceback (most recent call last)",
      "Cell \u001b[0;32mIn[6], line 1\u001b[0m\n\u001b[0;32m----> 1\u001b[0m \u001b[43mnums\u001b[49m\u001b[43m[\u001b[49m\u001b[38;5;241;43m0\u001b[39;49m\u001b[43m]\u001b[49m \u001b[38;5;241m=\u001b[39m \u001b[38;5;241m10\u001b[39m\n",
      "\u001b[0;31mTypeError\u001b[0m: 'tuple' object does not support item assignment"
     ]
    }
   ],
   "source": [
    "nums[0] = 10"
   ]
  },
  {
   "cell_type": "code",
   "execution_count": 7,
   "id": "d586563e-8f80-4676-9ea0-29e26cafc584",
   "metadata": {},
   "outputs": [
    {
     "ename": "AttributeError",
     "evalue": "'tuple' object has no attribute 'append'",
     "output_type": "error",
     "traceback": [
      "\u001b[0;31m---------------------------------------------------------------------------\u001b[0m",
      "\u001b[0;31mAttributeError\u001b[0m                            Traceback (most recent call last)",
      "Cell \u001b[0;32mIn[7], line 1\u001b[0m\n\u001b[0;32m----> 1\u001b[0m \u001b[43mnums\u001b[49m\u001b[38;5;241;43m.\u001b[39;49m\u001b[43mappend\u001b[49m(\u001b[38;5;241m10\u001b[39m)\n",
      "\u001b[0;31mAttributeError\u001b[0m: 'tuple' object has no attribute 'append'"
     ]
    }
   ],
   "source": [
    "nums.append(10)"
   ]
  },
  {
   "cell_type": "code",
   "execution_count": 8,
   "id": "2b0a7b69-6328-4f7f-a041-367443ee125f",
   "metadata": {},
   "outputs": [
    {
     "ename": "TypeError",
     "evalue": "'tuple' object doesn't support item deletion",
     "output_type": "error",
     "traceback": [
      "\u001b[0;31m---------------------------------------------------------------------------\u001b[0m",
      "\u001b[0;31mTypeError\u001b[0m                                 Traceback (most recent call last)",
      "Cell \u001b[0;32mIn[8], line 1\u001b[0m\n\u001b[0;32m----> 1\u001b[0m \u001b[38;5;28;01mdel\u001b[39;00m nums[\u001b[38;5;241m0\u001b[39m]\n",
      "\u001b[0;31mTypeError\u001b[0m: 'tuple' object doesn't support item deletion"
     ]
    }
   ],
   "source": [
    "del nums[0]"
   ]
  },
  {
   "cell_type": "markdown",
   "id": "3c308f00-b51b-4cc7-ae79-9138091130da",
   "metadata": {},
   "source": [
    "## tuple을 사용하는 이유\n",
    "리스트가 있음에도 튜플을 사용하는 이유는 무엇일까요? 크게 두 가지 이유가 있습니다.\n",
    "1. tuple은 list에 비해 가볍습니다. tuple은 요소가 동적으로 추가되지 않아서 크기가 고정됩니다. 때문에 리스트처럼 유연성을 고려하지 않기 때문에 그만큼 메모리 사용량과 연산을 아낄 수 있습니다.\n",
    "\n",
    "2. 불변성이 필요한 상황이 있습니다. list는 동적으로 요소가 추가되거나 값이 업데이트 될 수 있습니다. 이런 가변성은 에러를 일으키는 원인이 되기도 합니다. 때문에 수정되어서는 안되는 데이터의 경우, 메모리에 tuple로 올려놓는 것이 경제적이면서도 안전합니다."
   ]
  },
  {
   "cell_type": "code",
   "execution_count": 9,
   "id": "f0ae4cef-37ed-4c54-b1d7-650effece930",
   "metadata": {},
   "outputs": [],
   "source": [
    "import sys\n",
    "\n",
    "nums_list = [1, 2, 3, 4, 5]\n",
    "nums_tuple = (1, 2, 3, 4, 5)"
   ]
  },
  {
   "cell_type": "code",
   "execution_count": 10,
   "id": "22488986-b75f-4815-9459-3cf4b82fab32",
   "metadata": {},
   "outputs": [
    {
     "data": {
      "text/plain": [
       "120"
      ]
     },
     "execution_count": 10,
     "metadata": {},
     "output_type": "execute_result"
    }
   ],
   "source": [
    "sys.getsizeof(nums_list)"
   ]
  },
  {
   "cell_type": "markdown",
   "id": "3e85d870-d945-481e-a06f-161101ec2d35",
   "metadata": {},
   "source": [
    "### Tuple을 사용해야하는 상황\n",
    "- 데이터 분석 시에 튜플을 사용하는 상황은 많이 발생합니다.\n",
    "- 가령 학생 100만명의 이름, 수학 점수, 국어 점수 데이터 셋을 전달받아 분석 작업을 해야한다고 생각해보겠습니다. 이 때, (이름, 수학 점수, 국어 점수)를 묶어서 튜플을 만들고, 이러한 튜플들의 리스트 형태로 데이터 셋을 관리하면 좋습니다. \n",
    "- 각각의 데이터 레코드는 수정될 일이 없지만, 새로운 학생의 점수 데이터가 추가될 수는 있기 때문에 학생 한명의 데이터는 튜플로, 전체 데이터는 리스트로 관리하는 것입니다."
   ]
  },
  {
   "cell_type": "code",
   "execution_count": 6,
   "id": "dde988c6-ede1-4dbc-8382-a0e86ddc0e9a",
   "metadata": {},
   "outputs": [],
   "source": [
    "score_data = [\n",
    "    (\"민수\", 100, 95),\n",
    "    (\"혜진\", 85, 100),\n",
    "    (\"민수\", 90, 95),\n",
    "]"
   ]
  },
  {
   "cell_type": "markdown",
   "id": "4d70b102-65ee-4308-b7dd-37edf001bc1c",
   "metadata": {},
   "source": [
    "## 비구조 할당\n",
    "- 영어로 desctructuring assignment라고도 부릅니다.\n",
    "- tuple로 묶여진 변수를 풀어서 가져오고 싶을 때, 사용합니다.\n"
   ]
  },
  {
   "cell_type": "code",
   "execution_count": 1,
   "id": "d4107de1-e16d-406c-a767-bbc48cc9a3a7",
   "metadata": {},
   "outputs": [],
   "source": [
    "# 이름과 수학 점수가 묶인 튜플\n",
    "tuple_a = (\"민수\", 100)"
   ]
  },
  {
   "cell_type": "code",
   "execution_count": 3,
   "id": "ae366ccf-196c-431d-98cd-0928b0ba95b7",
   "metadata": {},
   "outputs": [
    {
     "name": "stdout",
     "output_type": "stream",
     "text": [
      "민수\n",
      "100\n"
     ]
    }
   ],
   "source": [
    "name, score = tuple_a\n",
    "print(name)\n",
    "print(score)"
   ]
  },
  {
   "cell_type": "markdown",
   "id": "59a94d1b-fdf2-48ac-afca-accc0ccbe274",
   "metadata": {},
   "source": [
    "- 리스트도 마찬가지로 비구조 할당을 할 수 있습니다."
   ]
  },
  {
   "cell_type": "code",
   "execution_count": 4,
   "id": "2f613f63-e5ce-4014-a072-6bb597b2c498",
   "metadata": {},
   "outputs": [
    {
     "name": "stdout",
     "output_type": "stream",
     "text": [
      "소희 80\n"
     ]
    }
   ],
   "source": [
    "list_a = [\"소희\", 80]\n",
    "name, score = list_a\n",
    "print(name, score)"
   ]
  },
  {
   "cell_type": "markdown",
   "id": "1f521a2c-1408-4104-ac4d-48b1d6661285",
   "metadata": {},
   "source": [
    "- for 문을 통해서 튜플들의 리스트를 읽어올 때, 바로 비구조 할당을 적용할 수도 있습니다."
   ]
  },
  {
   "cell_type": "code",
   "execution_count": 9,
   "id": "f485f5e3-7056-47a2-ba0d-10f0a85e1b3c",
   "metadata": {},
   "outputs": [
    {
     "name": "stdout",
     "output_type": "stream",
     "text": [
      "민수 100 95\n",
      "혜진 85 100\n",
      "민수 90 95\n"
     ]
    }
   ],
   "source": [
    "for name, math_score, korean_score in score_data:\n",
    "    print(name, math_score, korean_score)"
   ]
  },
  {
   "cell_type": "markdown",
   "id": "85758416-e504-488a-bd65-ac1e4698f8e0",
   "metadata": {},
   "source": [
    "## 정리\n",
    "이번 시간에는 python의 불변 자료구조인 튜플에 대해서 배웠습니다.  \n",
    "사실 튜플은 리스트만큼 활용도가 높지는 않습니다.  \n",
    "기본적인 사용법 정도만 숙지하고 넘어가도 괜찮습니다.  \n",
    "다만 비구조 할당은 상당히 자주 쓰이는 패턴이니 연습을 충분히 하고 넘어가시기 바랍니다."
   ]
  },
  {
   "cell_type": "code",
   "execution_count": null,
   "id": "1c977833-721b-49d5-9f17-c2bbbb6ec55a",
   "metadata": {},
   "outputs": [],
   "source": []
  }
 ],
 "metadata": {
  "kernelspec": {
   "display_name": "Python 3 (ipykernel)",
   "language": "python",
   "name": "python3"
  },
  "language_info": {
   "codemirror_mode": {
    "name": "ipython",
    "version": 3
   },
   "file_extension": ".py",
   "mimetype": "text/x-python",
   "name": "python",
   "nbconvert_exporter": "python",
   "pygments_lexer": "ipython3",
   "version": "3.10.0"
  }
 },
 "nbformat": 4,
 "nbformat_minor": 5
}
