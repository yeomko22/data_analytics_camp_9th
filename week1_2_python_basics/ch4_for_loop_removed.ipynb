{
 "cells": [
  {
   "cell_type": "markdown",
   "id": "d3be8230-d710-4125-8a78-6b2e85cd5ba3",
   "metadata": {},
   "source": [
    "# ch4. for loop \n",
    "\n",
    "앞선 시간에 변수, 리스트에 대해서 알아보았습니다.\n",
    "이제 이 여러 변수들을 다루는 프로그램을 짜기 위해 필수적인 반복문에 대해서 알아보겠습니다. \n",
    "\n",
    "python에서는 for과 while 문법을 제공합니다.\n",
    "보통 반복을 구현할 때는 for를 많이 사용하고, while은 무한 루프를 구현해야 하는 상황에서 사용합니다."
   ]
  },
  {
   "cell_type": "markdown",
   "id": "7b71769b-5475-49a9-a58b-d033dd73b243",
   "metadata": {},
   "source": [
    "## for loop\n",
    "- for문은 프로그래밍 언어에서 반복을 구현할 때 사용하는 가장 기본적인 문법입니다.\n",
    "- python에서는 크게 2가지 방법으로 for문을 사용할 수 있는데, 2가지 방법 모두 잘 익혀주시기 바랍니다."
   ]
  },
  {
   "cell_type": "markdown",
   "id": "207ba4cd-f2c3-4e6d-a27a-725e32ac92a0",
   "metadata": {},
   "source": [
    "### for-loop with range\n",
    "- 숫자를 1부터 10까지 출력하는 코드를 반복문 없이 작성해보겠습니다."
   ]
  },
  {
   "cell_type": "code",
   "execution_count": null,
   "id": "d5c2dd59-1a45-4a0a-a424-d84622ef804e",
   "metadata": {},
   "outputs": [],
   "source": []
  },
  {
   "cell_type": "markdown",
   "id": "22b8b362-c9c7-4693-ac94-283428da94ab",
   "metadata": {},
   "source": [
    "같은 코드에 출력하는 숫자만 바뀌었습니다.  \n",
    "이번에는 for문과 range를 사용해서 코드를 작성해보겠습니다.\n",
    "i는 현재 반복하는 횟수, range는 반복을 진행할 범위를 의미합니다."
   ]
  },
  {
   "cell_type": "code",
   "execution_count": null,
   "id": "14152157-28ac-45ad-a6b1-fc6a0d8fa42f",
   "metadata": {},
   "outputs": [],
   "source": []
  },
  {
   "cell_type": "markdown",
   "id": "ac2ad3dd-6c46-4fd1-b91e-4414de68aa25",
   "metadata": {},
   "source": [
    "### Quiz 1. 구구단 7단 출력\n",
    "for문을 사용해서 구구단 7단을 출력하는 함수를 작성해보세요."
   ]
  },
  {
   "cell_type": "code",
   "execution_count": null,
   "id": "30527ee6-3f90-4b15-bd48-a3be9a4c89d4",
   "metadata": {},
   "outputs": [],
   "source": []
  },
  {
   "cell_type": "markdown",
   "id": "355bc171-4a25-4801-81a1-f3756a50465f",
   "metadata": {},
   "source": [
    "## for loop with range 연습하기"
   ]
  },
  {
   "cell_type": "markdown",
   "id": "a454d7a9-4f61-4e7c-a538-3ef52182e9ee",
   "metadata": {},
   "source": [
    "range와 함께 for loop를 사용하는 방법을 연습해보겠습니다.  \n",
    "먼저 높이를 나타내는 변수인 height가 주어졌을 때,  \n",
    "층마다 *을 하나씩 늘려가면서 출력해보겠습니다."
   ]
  },
  {
   "cell_type": "code",
   "execution_count": null,
   "id": "cf309750-f685-4540-ba70-2b14b293d852",
   "metadata": {},
   "outputs": [],
   "source": []
  },
  {
   "cell_type": "markdown",
   "id": "da1c6f1f-85f3-483e-be68-b5f9b6c7642f",
   "metadata": {},
   "source": [
    "### Quiz 2. 역방향 트리 출력\n",
    "높이가 주어졌을 때, 역방향으로 트리가 출력되도록 구현해보세요."
   ]
  },
  {
   "cell_type": "code",
   "execution_count": 12,
   "id": "e834838b-6768-4544-a43c-a9d1afd0bf06",
   "metadata": {},
   "outputs": [],
   "source": [
    "height = 10"
   ]
  },
  {
   "cell_type": "code",
   "execution_count": 14,
   "id": "9fb9a1f5-89d5-402a-890a-1969455bace1",
   "metadata": {},
   "outputs": [
    {
     "name": "stdout",
     "output_type": "stream",
     "text": [
      "**********\n",
      "*********\n",
      "********\n",
      "*******\n",
      "******\n",
      "*****\n",
      "****\n",
      "***\n",
      "**\n",
      "*\n"
     ]
    }
   ],
   "source": []
  },
  {
   "cell_type": "markdown",
   "id": "a3845eff-4196-41dd-9c3c-2506ef9d7260",
   "metadata": {},
   "source": [
    "### Quiz 3. 좌우 대칭 피라미드 출력\n",
    "높이가 주어졌을 때, 좌우 대칭인 피라미드를 출력하도록 구현해보세요."
   ]
  },
  {
   "cell_type": "code",
   "execution_count": 17,
   "id": "b4bc3a7b-4997-4a0d-b312-db6135274923",
   "metadata": {},
   "outputs": [],
   "source": [
    "height = 10"
   ]
  },
  {
   "cell_type": "code",
   "execution_count": 18,
   "id": "49ba9dce-c65b-45ec-b2bd-c38a8c62a30e",
   "metadata": {},
   "outputs": [
    {
     "name": "stdout",
     "output_type": "stream",
     "text": [
      "         *\n",
      "        ***\n",
      "       *****\n",
      "      *******\n",
      "     *********\n",
      "    ***********\n",
      "   *************\n",
      "  ***************\n",
      " *****************\n",
      "*******************\n"
     ]
    }
   ],
   "source": []
  },
  {
   "cell_type": "markdown",
   "id": "097edf5f-12dc-4e46-b6e7-8e3b11ba4d90",
   "metadata": {},
   "source": [
    "### Quiz 4. 높이를 입력 받아서 다이아몬드 출력\n",
    "- 높이가 홀수 일 경우엔 가장 긴 라인이 한줄, 짝수일 경우엔 2줄이 됩니다.\n",
    "- if else문을 함께 사용해주세요"
   ]
  },
  {
   "cell_type": "code",
   "execution_count": 26,
   "id": "9ee517df-5b54-4ece-b275-8e16dd7ca0c3",
   "metadata": {},
   "outputs": [],
   "source": [
    "height = 10"
   ]
  },
  {
   "cell_type": "code",
   "execution_count": 23,
   "id": "c82d123a-a7cb-4b10-afcd-dcfc31dfbaa2",
   "metadata": {},
   "outputs": [
    {
     "name": "stdout",
     "output_type": "stream",
     "text": [
      "    *\n",
      "   ***\n",
      "  *****\n",
      " *******\n",
      "*********\n",
      "*********\n",
      " *******\n",
      "  *****\n",
      "   ***\n",
      "    *\n"
     ]
    }
   ],
   "source": []
  },
  {
   "cell_type": "code",
   "execution_count": 25,
   "id": "d8631b79-45ea-4ee1-b5b5-c56c8fa6e528",
   "metadata": {},
   "outputs": [],
   "source": [
    "height = 9"
   ]
  },
  {
   "cell_type": "code",
   "execution_count": 24,
   "id": "45b061f7-000e-44be-ac63-c7bd5d403376",
   "metadata": {},
   "outputs": [
    {
     "name": "stdout",
     "output_type": "stream",
     "text": [
      "    *\n",
      "   ***\n",
      "  *****\n",
      " *******\n",
      "*********\n",
      " *******\n",
      "  *****\n",
      "   ***\n",
      "    *\n"
     ]
    }
   ],
   "source": []
  },
  {
   "cell_type": "code",
   "execution_count": 43,
   "id": "2f7c1423-e41e-4441-a5ea-7f7eef6b9719",
   "metadata": {},
   "outputs": [
    {
     "data": {
      "text/plain": [
       "3"
      ]
     },
     "execution_count": 43,
     "metadata": {},
     "output_type": "execute_result"
    }
   ],
   "source": [
    "answer"
   ]
  },
  {
   "cell_type": "markdown",
   "id": "a1ed37e2-8b3e-47e2-89fc-08e2fbc7b3d0",
   "metadata": {},
   "source": [
    "## for문으로 리스트 순회하기\n",
    "- 이제 for문으로 리스트를 순회하면서 원소들을 하나하나 출력해보도록 하겠습니다.\n",
    "- 이전에 list는 인덱스로 접근할 수 있다고 배웠습니다.\n",
    "- 이제 배열의 길이만큼 반복을 돌면서 인덱스로 접근하면 우리가 원하는 원소를 읽어올 수 있습니다."
   ]
  },
  {
   "cell_type": "code",
   "execution_count": null,
   "id": "cb60800a-998c-4f56-8c1e-48ca8e7bb6f7",
   "metadata": {},
   "outputs": [],
   "source": []
  },
  {
   "cell_type": "markdown",
   "id": "d6655810-576f-4789-95e9-38792c34b57a",
   "metadata": {
    "tags": []
   },
   "source": [
    "### Quiz 5. 거스름돈 문제 반복문으로 구현하기 \n",
    "이전 if else 문에서 연습했던 연습문제를 for문으로 깔끔하게 표현할 수 있습니다.  \n",
    "\n",
    "Q. 물건을 하나 사고 50000원짜리 지폐를 한장 지불했습니다. 잔돈으로 받게될 지폐와 동전의 개수를 구하시오  \n",
    "거스름 돈 조건\n",
    "- 만원을 줄 수 있으면 만원을 줍니다.\n",
    "- 오천원을 줄 수 있으면 오천원을 줍니다.\n",
    "- 천원을 줄 수 있으면 천원을 줍니다.\n",
    "- 오백원을 줄 수 있으면 오백원을 줍니다.\n",
    "- 백원을 줄 수 있으면 백원을 줍니다.\n",
    "- 백원 이하는 고려하지 않습니다.\n",
    "- 지폐  하나와 동전 하나는 똑같이 개수 하나로 칩니다."
   ]
  },
  {
   "cell_type": "code",
   "execution_count": null,
   "id": "79688194-8600-4c90-adca-cbd66c8ac0d8",
   "metadata": {},
   "outputs": [],
   "source": []
  },
  {
   "cell_type": "markdown",
   "id": "a086b0a5-cf47-4c3b-81f1-88ba80db3a32",
   "metadata": {},
   "source": [
    "## for-loop을 이용한 기본 사용법\n",
    "\n",
    "지금까지는 range문을 이용해서 숫자를 가져오고, 이를 인덱스로 사용해서 리스트로부터 원소를 읽어왔습니다.  \n",
    "그런데 for문을 사용하여 좀 더 간단하게 원소들을 읽어올 수 있습니다.\n",
    "\n",
    "```python\n",
    "for 변수 in 리스트(또는 튜플, 문자열):\n",
    "    수행할 문장1\n",
    "    수행할 문장2\n",
    "```\n",
    "\n",
    "이렇게 리스트로부터 원소를 직접 읽어올 때에는 변수명 i, j와 같이 인덱스를 나타내는 변수명으로 짓지 않습니다."
   ]
  },
  {
   "cell_type": "code",
   "execution_count": null,
   "id": "f089c7fe-24df-42ac-8c8a-d42a3e49a70d",
   "metadata": {},
   "outputs": [],
   "source": []
  },
  {
   "cell_type": "markdown",
   "id": "7364c27a-9a3f-4cf4-ac3b-e3db9d8b51bc",
   "metadata": {},
   "source": [
    "### Quiz 6. 거스름돈 문제 반복문 구현\n",
    "\n",
    "이전에 for문과 인덱스를 이용해서 구현했던 거스름돈 문제를 리스트로부터 원소를 직접 읽어오는 식으로 변경해서 작성해보세요."
   ]
  },
  {
   "cell_type": "code",
   "execution_count": null,
   "id": "94b10ec1-f774-4d50-9b4d-20425938e108",
   "metadata": {},
   "outputs": [],
   "source": []
  },
  {
   "cell_type": "markdown",
   "id": "c6f3f5cb-740d-419e-a175-5b5905ab51c8",
   "metadata": {},
   "source": [
    "## continue와 break\n",
    "- 반복문을 실행할 때 특정 조건을 만났을 때는 이후의 로직을 수행하지 않고, 계속 진행하고 싶을 수도 있습니다. 이 때 continue를 사용합니다.\n",
    "- 반복문을 실행할 때 특정 조건을 만나면 반복을 멈추고 싶을 수 있습니다. 이 때 break를 사용합니다.\n",
    "- continue와 break는 반복문을 제어하는데에도 유용하고, 잘쓰면 코드가 간결해집니다. "
   ]
  },
  {
   "cell_type": "markdown",
   "id": "97d2ec34-e537-4190-bc48-3e32350d41c7",
   "metadata": {},
   "source": [
    "### continue\n",
    "- 예시) 수학 점수가 60점 이하인 학생 중에서 국어 점수도 60점 이하인 학생을 출력하시오"
   ]
  },
  {
   "cell_type": "code",
   "execution_count": null,
   "id": "220cbb89-9025-4eee-b592-957c521b45f1",
   "metadata": {},
   "outputs": [],
   "source": []
  },
  {
   "cell_type": "markdown",
   "id": "de6248f7-8d69-4058-b81f-0931b7a52417",
   "metadata": {},
   "source": [
    "### break\n",
    "- break문은 특정 조건이 완료되면 반복 시행 횟수가 더 남았다 하더라도 반복문을 종료하는 것입니다.\n",
    "- 퀴즈) 0부터 100 사이 숫자 중에 3으로 나눠서 나머지가 2가 되는 수 10개를 찾으시오"
   ]
  },
  {
   "cell_type": "code",
   "execution_count": null,
   "id": "d48a1633-c77e-44f2-b7a5-0a74e8a2267c",
   "metadata": {},
   "outputs": [],
   "source": []
  },
  {
   "cell_type": "markdown",
   "id": "edc70aa2-a9f2-4a8b-8bac-473679386cb2",
   "metadata": {},
   "source": [
    "### Quiz 7.\n",
    "- 0부터 1000 사이에 7로 나눠 나머지가 3이 되는 수 20개 찾으시오"
   ]
  },
  {
   "cell_type": "code",
   "execution_count": null,
   "id": "29b2570f-e665-4edb-adbc-ceeb941e6349",
   "metadata": {},
   "outputs": [],
   "source": []
  },
  {
   "cell_type": "markdown",
   "id": "2ad73caa-9c34-48b3-aece-d447364d5dcb",
   "metadata": {},
   "source": [
    "## 2중 for 문\n",
    "\n",
    "### 2중 for문 기본 사용법\n",
    "for문 안에서 for문을 실행할 수 있습니다.  \n",
    "2번 중첩하면 2중 for문, 3번 중첩하면 3중 for문이라고도 부릅니다.  \n",
    "```python\n",
    "for i in range(반복 횟수):\n",
    "    for j in range(반복 횟수):\n",
    "        반복하고자 하는 코드 \n",
    "```"
   ]
  },
  {
   "cell_type": "code",
   "execution_count": null,
   "id": "8a08927d-aa95-49d7-8406-d8a2f349343e",
   "metadata": {},
   "outputs": [],
   "source": []
  },
  {
   "cell_type": "markdown",
   "id": "8b24d0b2-ce85-4be9-b970-bb2701e8161b",
   "metadata": {},
   "source": [
    "2중 for문을 이용해서 구구단을 출력하는 코드를 작성해보겠습니다."
   ]
  },
  {
   "cell_type": "code",
   "execution_count": null,
   "id": "f1eda312-5a5e-4037-b364-d99544f887d2",
   "metadata": {},
   "outputs": [],
   "source": []
  },
  {
   "cell_type": "markdown",
   "id": "22104211-2c59-4366-a21f-35efb4f96262",
   "metadata": {},
   "source": [
    "### 2중 for문을 이용한 nested list 접근\n",
    "\n",
    "2중 for문을 이용하면 중첩되어 있는 list에 접근해서 값들을 읽어올 수 있습니다."
   ]
  },
  {
   "cell_type": "code",
   "execution_count": null,
   "id": "bccb06a8-eb72-4414-a36d-7fe20f509ce5",
   "metadata": {},
   "outputs": [],
   "source": []
  },
  {
   "cell_type": "markdown",
   "id": "7d5a8ced-5746-4c52-bfe2-386da4c6c4a6",
   "metadata": {},
   "source": [
    "## 심화 Quiz 원 그리기\n",
    "\n",
    "반지름의 길이가 주어지면 그에 해당하는 원을 출력하세요. 2중 for문과 if else문, 그리고 원의 방정식을 이용해보세요.  \n",
    "\n",
    "$$x^2+y^2=r^2$$"
   ]
  },
  {
   "cell_type": "code",
   "execution_count": null,
   "id": "107e581f-f4a1-4da4-bcee-5a0fea0b8d65",
   "metadata": {},
   "outputs": [],
   "source": []
  },
  {
   "cell_type": "markdown",
   "id": "602665f0-4615-4fdb-967d-40432284c633",
   "metadata": {},
   "source": [
    "## 정리\n",
    "\n",
    "이번 챕터에서는 python에서 반복문을 구현하는 가장 기본적인 방법인 for loop에 대해서 배워보았습니다.  \n",
    "for문만 하더라도 다양한 응용 방법이 있고, 자유자재로 사용하기가 매우 까다롭습니다.  \n",
    "퀴즈로 나온 문제들은 쉽게 풀 수 있을 정도로 숙달한 다음, 넘어가시기 바랍니다."
   ]
  },
  {
   "cell_type": "code",
   "execution_count": null,
   "id": "5f87add3-7fe5-44c4-b1d9-a4052fccfcd1",
   "metadata": {},
   "outputs": [],
   "source": []
  }
 ],
 "metadata": {
  "kernelspec": {
   "display_name": "Python 3 (ipykernel)",
   "language": "python",
   "name": "python3"
  },
  "language_info": {
   "codemirror_mode": {
    "name": "ipython",
    "version": 3
   },
   "file_extension": ".py",
   "mimetype": "text/x-python",
   "name": "python",
   "nbconvert_exporter": "python",
   "pygments_lexer": "ipython3",
   "version": "3.10.0"
  }
 },
 "nbformat": 4,
 "nbformat_minor": 5
}
