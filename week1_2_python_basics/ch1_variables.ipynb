{
 "cells": [
  {
   "cell_type": "markdown",
   "id": "38ed34e6",
   "metadata": {
    "tags": []
   },
   "source": [
    "# ch1. 변수\n",
    "\n",
    "변수(Variable)이란 프로그래밍에서 모든 값을 표현하는 가장 기본이 되는 값입니다. 숫자도 변수고, 문자열도 변수입니다.  \n",
    "이를 컴퓨터 공학적으로 표현하면 \"값을 메모리에 값을 할당하기 위한 공간\"이라고 표현합니다.  \n",
    "이름이 변수인 이유는 이 값을 수정할 수 있기 때문입니다.  \n",
    "이와 상반되게 수정할 수 없는 값은 상수(Constant)라고 표현합니다만, python 언어는 변수만 지원하므로 아직 신경쓰지 않아도 됩니다.\n",
    "\n",
    "Python에서 가장 기본적으로 사용되는 네 가지 변수 타입이 있습니다.\n",
    "\n",
    "- 정수형 변수 (int)\n",
    "- 실수형 변수 (float)\n",
    "- 문자열 변수 (str)\n",
    "- 논리형 변수 (bool)"
   ]
  },
  {
   "cell_type": "code",
   "execution_count": 1,
   "id": "900e0302-229e-497f-bb9d-93fc7fadd22d",
   "metadata": {},
   "outputs": [],
   "source": [
    "num = 10"
   ]
  },
  {
   "cell_type": "code",
   "execution_count": 3,
   "id": "590f6806-f087-490e-90e1-82a903c355e2",
   "metadata": {},
   "outputs": [
    {
     "data": {
      "text/plain": [
       "10"
      ]
     },
     "execution_count": 3,
     "metadata": {},
     "output_type": "execute_result"
    }
   ],
   "source": [
    "num"
   ]
  },
  {
   "cell_type": "code",
   "execution_count": 4,
   "id": "f761339b-92e4-4e3f-9376-1ffb4176f27e",
   "metadata": {},
   "outputs": [
    {
     "name": "stdout",
     "output_type": "stream",
     "text": [
      "10\n"
     ]
    }
   ],
   "source": [
    "print(num)"
   ]
  },
  {
   "cell_type": "markdown",
   "id": "31492036-a3d3-424f-8312-6a6c3e377320",
   "metadata": {
    "tags": []
   },
   "source": [
    "## 변수의 할당\n",
    "- 할당 연산자 \"=\"를 이용하여 변수를 할당합니다.\n",
    "- \"변수명 = 변수값\" 형태로 사용합니다.\n",
    "- 항상 변수명이 할당 연산자 왼쪽에 와야 합니다. "
   ]
  },
  {
   "cell_type": "code",
   "execution_count": 5,
   "id": "5699310c-504d-4703-a5b8-edbc81d5a929",
   "metadata": {},
   "outputs": [],
   "source": [
    "num_one = 10\n",
    "num_two = 1.5 \n",
    "str_one = \"hello\""
   ]
  },
  {
   "cell_type": "code",
   "execution_count": 8,
   "id": "080a25b0-5fb6-4b3e-a660-2fffd21ff8ed",
   "metadata": {},
   "outputs": [
    {
     "data": {
      "text/plain": [
       "10"
      ]
     },
     "execution_count": 8,
     "metadata": {},
     "output_type": "execute_result"
    }
   ],
   "source": [
    "num_one"
   ]
  },
  {
   "cell_type": "code",
   "execution_count": 9,
   "id": "4a471f88-48d9-46b4-b96c-b334f4a74729",
   "metadata": {},
   "outputs": [
    {
     "data": {
      "text/plain": [
       "int"
      ]
     },
     "execution_count": 9,
     "metadata": {},
     "output_type": "execute_result"
    }
   ],
   "source": [
    "type(num_one)"
   ]
  },
  {
   "cell_type": "code",
   "execution_count": 10,
   "id": "2872d9cc-21bc-46f0-ad3b-3ce451fcd758",
   "metadata": {},
   "outputs": [
    {
     "data": {
      "text/plain": [
       "1.5"
      ]
     },
     "execution_count": 10,
     "metadata": {},
     "output_type": "execute_result"
    }
   ],
   "source": [
    "num_two"
   ]
  },
  {
   "cell_type": "code",
   "execution_count": 12,
   "id": "7c1fa302-156b-43ed-a49a-0b40c09110ee",
   "metadata": {},
   "outputs": [
    {
     "data": {
      "text/plain": [
       "float"
      ]
     },
     "execution_count": 12,
     "metadata": {},
     "output_type": "execute_result"
    }
   ],
   "source": [
    "type(num_two)"
   ]
  },
  {
   "cell_type": "code",
   "execution_count": 13,
   "id": "e2afcee3-61cd-4d42-b1b9-8545f3766161",
   "metadata": {},
   "outputs": [
    {
     "data": {
      "text/plain": [
       "'hello'"
      ]
     },
     "execution_count": 13,
     "metadata": {},
     "output_type": "execute_result"
    }
   ],
   "source": [
    "str_one"
   ]
  },
  {
   "cell_type": "code",
   "execution_count": 14,
   "id": "15f19716-5aa4-43fe-9eb4-7c4367fc9a87",
   "metadata": {},
   "outputs": [
    {
     "data": {
      "text/plain": [
       "str"
      ]
     },
     "execution_count": 14,
     "metadata": {},
     "output_type": "execute_result"
    }
   ],
   "source": [
    "type(str_one)"
   ]
  },
  {
   "cell_type": "markdown",
   "id": "da42a70a-4aa9-4bd0-ae92-a24b0bb3e405",
   "metadata": {},
   "source": [
    "## 정수형 변수\n",
    "- int, integer라고 부릅니다. \n",
    "- 양의 정수, 음의 정수, 0를 나타냅니다."
   ]
  },
  {
   "cell_type": "code",
   "execution_count": 15,
   "id": "b67ab418",
   "metadata": {},
   "outputs": [],
   "source": [
    "a = 10\n",
    "b = 20\n",
    "c = 30"
   ]
  },
  {
   "cell_type": "code",
   "execution_count": 16,
   "id": "055998f8-16d6-47d3-a55f-480a0fe3bee1",
   "metadata": {},
   "outputs": [
    {
     "data": {
      "text/plain": [
       "10"
      ]
     },
     "execution_count": 16,
     "metadata": {},
     "output_type": "execute_result"
    }
   ],
   "source": [
    "a"
   ]
  },
  {
   "cell_type": "code",
   "execution_count": 17,
   "id": "c37fc88f-8253-4743-b76d-81031a2825ac",
   "metadata": {},
   "outputs": [
    {
     "data": {
      "text/plain": [
       "20"
      ]
     },
     "execution_count": 17,
     "metadata": {},
     "output_type": "execute_result"
    }
   ],
   "source": [
    "b"
   ]
  },
  {
   "cell_type": "code",
   "execution_count": 18,
   "id": "25ea6429-7ceb-4dfd-8f61-e3e98087be4e",
   "metadata": {},
   "outputs": [
    {
     "data": {
      "text/plain": [
       "30"
      ]
     },
     "execution_count": 18,
     "metadata": {},
     "output_type": "execute_result"
    }
   ],
   "source": [
    "c"
   ]
  },
  {
   "cell_type": "code",
   "execution_count": 22,
   "id": "8aa95303-93bb-4da0-8b06-dd6aba5d9073",
   "metadata": {},
   "outputs": [
    {
     "data": {
      "text/plain": [
       "int"
      ]
     },
     "execution_count": 22,
     "metadata": {},
     "output_type": "execute_result"
    }
   ],
   "source": [
    "type(a)"
   ]
  },
  {
   "cell_type": "code",
   "execution_count": 23,
   "id": "4b698b47-4f2d-4c2c-abd6-4021396131a7",
   "metadata": {},
   "outputs": [
    {
     "data": {
      "text/plain": [
       "int"
      ]
     },
     "execution_count": 23,
     "metadata": {},
     "output_type": "execute_result"
    }
   ],
   "source": [
    "type(b)"
   ]
  },
  {
   "cell_type": "code",
   "execution_count": 24,
   "id": "04f7d0db-4b4a-4c98-9553-7e34695cc0e0",
   "metadata": {},
   "outputs": [
    {
     "data": {
      "text/plain": [
       "int"
      ]
     },
     "execution_count": 24,
     "metadata": {},
     "output_type": "execute_result"
    }
   ],
   "source": [
    "type(c)"
   ]
  },
  {
   "cell_type": "code",
   "execution_count": 20,
   "id": "f84772dc-d257-4e18-801e-8bb98abdce38",
   "metadata": {},
   "outputs": [],
   "source": [
    "d = 2 ** 100"
   ]
  },
  {
   "cell_type": "code",
   "execution_count": 21,
   "id": "86257934-e94e-4c86-b155-9a2fb6dee136",
   "metadata": {},
   "outputs": [
    {
     "data": {
      "text/plain": [
       "1267650600228229401496703205376"
      ]
     },
     "execution_count": 21,
     "metadata": {},
     "output_type": "execute_result"
    }
   ],
   "source": [
    "d"
   ]
  },
  {
   "cell_type": "markdown",
   "id": "07aa6034-c6d1-460d-8fea-44ee0ff62049",
   "metadata": {},
   "source": [
    "### 산술 연산자\n",
    "- 더하기, 빼기, 곱하기, 나누기 등의 산술 연산을 의미합니다.\n",
    "- arithmatic(산술) operator(연산자) 라고도 합니다.\n",
    "\n",
    "|기호|연산|\n",
    "|-|-|\n",
    "|+|더하기|\n",
    "|-|빼기|\n",
    "|*|곱하기|\n",
    "|/|나누기|\n",
    "|//|실수 나누기|\n",
    "|%|나누고 남은 나머지|"
   ]
  },
  {
   "cell_type": "code",
   "execution_count": 28,
   "id": "73aefe45-cacf-40a8-8808-df9fc50f8720",
   "metadata": {},
   "outputs": [],
   "source": [
    "a = 10\n",
    "b = 20\n",
    "c = 30"
   ]
  },
  {
   "cell_type": "code",
   "execution_count": 29,
   "id": "37ee7df8-1da2-4994-b166-10a25e48f390",
   "metadata": {},
   "outputs": [
    {
     "data": {
      "text/plain": [
       "30"
      ]
     },
     "execution_count": 29,
     "metadata": {},
     "output_type": "execute_result"
    }
   ],
   "source": [
    "a + b"
   ]
  },
  {
   "cell_type": "code",
   "execution_count": 30,
   "id": "971bd07d-189f-4fc7-8f1d-e4a54683c94b",
   "metadata": {},
   "outputs": [
    {
     "data": {
      "text/plain": [
       "40"
      ]
     },
     "execution_count": 30,
     "metadata": {},
     "output_type": "execute_result"
    }
   ],
   "source": [
    "b + c - a"
   ]
  },
  {
   "cell_type": "code",
   "execution_count": 31,
   "id": "86db40f3-6c79-4227-914b-e80b61005cc6",
   "metadata": {},
   "outputs": [
    {
     "data": {
      "text/plain": [
       "200"
      ]
     },
     "execution_count": 31,
     "metadata": {},
     "output_type": "execute_result"
    }
   ],
   "source": [
    "a * b"
   ]
  },
  {
   "cell_type": "code",
   "execution_count": 32,
   "id": "707e2c66-768d-4443-9363-ce9bef3ceb4c",
   "metadata": {},
   "outputs": [
    {
     "data": {
      "text/plain": [
       "(3.0, float)"
      ]
     },
     "execution_count": 32,
     "metadata": {},
     "output_type": "execute_result"
    }
   ],
   "source": [
    "c / a, type(c / a)"
   ]
  },
  {
   "cell_type": "code",
   "execution_count": 33,
   "id": "0459b45c-01da-4662-aa1c-d805500335ef",
   "metadata": {},
   "outputs": [
    {
     "data": {
      "text/plain": [
       "0.625"
      ]
     },
     "execution_count": 33,
     "metadata": {},
     "output_type": "execute_result"
    }
   ],
   "source": [
    "5 / 8"
   ]
  },
  {
   "cell_type": "code",
   "execution_count": 43,
   "id": "fdc1bfd3-b4f6-475b-8e5a-bf0dc497ddc0",
   "metadata": {},
   "outputs": [],
   "source": [
    "a = 15\n",
    "b = 7"
   ]
  },
  {
   "cell_type": "code",
   "execution_count": 46,
   "id": "3bdee3fc-3f36-40ae-9b60-b9d0adc0ba93",
   "metadata": {},
   "outputs": [
    {
     "data": {
      "text/plain": [
       "(2, int)"
      ]
     },
     "execution_count": 46,
     "metadata": {},
     "output_type": "execute_result"
    }
   ],
   "source": [
    "a // b, type(a // b)"
   ]
  },
  {
   "cell_type": "code",
   "execution_count": 48,
   "id": "4b3aa7e1-4ad2-406a-8ee4-f8d15bafb5fd",
   "metadata": {},
   "outputs": [
    {
     "data": {
      "text/plain": [
       "(1, int)"
      ]
     },
     "execution_count": 48,
     "metadata": {},
     "output_type": "execute_result"
    }
   ],
   "source": [
    "# 15를 7로 나눠준 나머지\n",
    "a % b, type(a % b)"
   ]
  },
  {
   "cell_type": "markdown",
   "id": "23715969-ae38-4dfa-8624-6ed505e19fb4",
   "metadata": {},
   "source": [
    "### 할당 연산자\n",
    "- 할당 연산자를 사용하면 간결하게 표현이 가능합니다. \n",
    "\n",
    "|기호|연산|\n",
    "|----|----|\n",
    "|=|오른쪽 값을 왼쪽 값에 대입|\n",
    "|+=|오른쪽 값을 왼쪽 값에 더한 뒤, 대입|\n",
    "|-=|오른쪽 값을 왼쪽 값에 빼준 뒤, 대입|\n",
    "|*=|오른쪽 값을 왼쪽 값에 곱한 뒤, 대입|\n",
    "|%=|오른쪽 값을 왼쪽 값에 나눈 나머지를 대입|"
   ]
  },
  {
   "cell_type": "code",
   "execution_count": 34,
   "id": "9239dd8a-4efb-48ad-b26d-e33bc9eb6913",
   "metadata": {},
   "outputs": [],
   "source": [
    "price = 1000"
   ]
  },
  {
   "cell_type": "code",
   "execution_count": 35,
   "id": "eb5319e7-0524-4f4e-b158-130aaa7adc1c",
   "metadata": {},
   "outputs": [],
   "source": [
    "price += 200"
   ]
  },
  {
   "cell_type": "code",
   "execution_count": 36,
   "id": "b1e6353f-2300-460a-98b1-27a7b340b602",
   "metadata": {},
   "outputs": [
    {
     "data": {
      "text/plain": [
       "1200"
      ]
     },
     "execution_count": 36,
     "metadata": {},
     "output_type": "execute_result"
    }
   ],
   "source": [
    "price"
   ]
  },
  {
   "cell_type": "code",
   "execution_count": 37,
   "id": "73d75e81-e4b5-459c-9bbf-a7645ee4a823",
   "metadata": {},
   "outputs": [],
   "source": [
    "price = 500\n",
    "sale = 100"
   ]
  },
  {
   "cell_type": "code",
   "execution_count": 38,
   "id": "24664b66-4fda-4d4b-a27e-aaa251865452",
   "metadata": {},
   "outputs": [],
   "source": [
    "price -= sale"
   ]
  },
  {
   "cell_type": "code",
   "execution_count": 39,
   "id": "cc50b636-9ba7-4557-a6d6-e7a38ca351f4",
   "metadata": {},
   "outputs": [
    {
     "data": {
      "text/plain": [
       "400"
      ]
     },
     "execution_count": 39,
     "metadata": {},
     "output_type": "execute_result"
    }
   ],
   "source": [
    "price"
   ]
  },
  {
   "cell_type": "code",
   "execution_count": 40,
   "id": "0c3c7606-027f-4d9f-a01d-8bb8e0727eb7",
   "metadata": {},
   "outputs": [
    {
     "data": {
      "text/plain": [
       "10"
      ]
     },
     "execution_count": 40,
     "metadata": {},
     "output_type": "execute_result"
    }
   ],
   "source": [
    "int(\"10\")"
   ]
  },
  {
   "cell_type": "code",
   "execution_count": 41,
   "id": "613493a8-d143-4c55-862f-c559fefb0b47",
   "metadata": {},
   "outputs": [
    {
     "data": {
      "text/plain": [
       "1"
      ]
     },
     "execution_count": 41,
     "metadata": {},
     "output_type": "execute_result"
    }
   ],
   "source": [
    "int(1.5)"
   ]
  },
  {
   "cell_type": "markdown",
   "id": "f88fe8f8-df01-4d4d-bd07-dcfc7c2ef5bb",
   "metadata": {},
   "source": [
    "## 실수형 변수\n",
    "- float(floating point, 부동소수점)이라고 부릅니다.\n",
    "- 양과 음의 무한대를 표현할 수 있습니다."
   ]
  },
  {
   "cell_type": "code",
   "execution_count": 60,
   "id": "77017c76-9c06-4f95-a203-386e7710f1d4",
   "metadata": {},
   "outputs": [
    {
     "data": {
      "text/plain": [
       "(1.5, float)"
      ]
     },
     "execution_count": 60,
     "metadata": {},
     "output_type": "execute_result"
    }
   ],
   "source": [
    "a = 1.5\n",
    "a, type(a)"
   ]
  },
  {
   "cell_type": "code",
   "execution_count": 61,
   "id": "38d754d9-9879-4aa3-8d54-b1a06e9f1dfc",
   "metadata": {},
   "outputs": [],
   "source": [
    "b = 1 / 3"
   ]
  },
  {
   "cell_type": "code",
   "execution_count": 62,
   "id": "72cdf55e-0a98-4593-80a7-84f632674c4b",
   "metadata": {},
   "outputs": [
    {
     "data": {
      "text/plain": [
       "(0.3333333333333333, float)"
      ]
     },
     "execution_count": 62,
     "metadata": {},
     "output_type": "execute_result"
    }
   ],
   "source": [
    "b, type(b)"
   ]
  },
  {
   "cell_type": "code",
   "execution_count": 73,
   "id": "5acd9860-2a1e-4cc2-b5c9-3072ea3cec69",
   "metadata": {},
   "outputs": [],
   "source": [
    "min_num = float(\"-inf\")"
   ]
  },
  {
   "cell_type": "code",
   "execution_count": 75,
   "id": "67b11bc0-743f-4ad8-9a44-753f95f5db6e",
   "metadata": {},
   "outputs": [
    {
     "data": {
      "text/plain": [
       "True"
      ]
     },
     "execution_count": 75,
     "metadata": {},
     "output_type": "execute_result"
    }
   ],
   "source": [
    "-2**10000 > max_num"
   ]
  },
  {
   "cell_type": "code",
   "execution_count": 77,
   "id": "70692915-8611-45b6-a01f-8c1e222a5ba8",
   "metadata": {},
   "outputs": [
    {
     "data": {
      "text/plain": [
       "float"
      ]
     },
     "execution_count": 77,
     "metadata": {},
     "output_type": "execute_result"
    }
   ],
   "source": [
    "type(float(\"1.5\"))"
   ]
  },
  {
   "cell_type": "code",
   "execution_count": 80,
   "id": "1b7cfe28-e3cb-4eb0-9cd5-3c12c721412a",
   "metadata": {},
   "outputs": [],
   "source": [
    "num_a = float(10)"
   ]
  },
  {
   "cell_type": "code",
   "execution_count": 89,
   "id": "7bca2d4e-bcb0-45b1-913a-b077c6b51de6",
   "metadata": {},
   "outputs": [
    {
     "data": {
      "text/plain": [
       "float"
      ]
     },
     "execution_count": 89,
     "metadata": {},
     "output_type": "execute_result"
    }
   ],
   "source": [
    "type(num_a) "
   ]
  },
  {
   "cell_type": "code",
   "execution_count": 90,
   "id": "69844934-bef7-4969-973c-15832209616b",
   "metadata": {},
   "outputs": [
    {
     "data": {
      "text/plain": [
       "10.0"
      ]
     },
     "execution_count": 90,
     "metadata": {},
     "output_type": "execute_result"
    }
   ],
   "source": [
    "num_a"
   ]
  },
  {
   "cell_type": "code",
   "execution_count": 94,
   "id": "e595db15-d99c-4693-94e8-b9d553e51c00",
   "metadata": {},
   "outputs": [
    {
     "name": "stdout",
     "output_type": "stream",
     "text": [
      "<class 'float'> 10.0 -inf\n"
     ]
    }
   ],
   "source": [
    "print(type(num_a), num_a, min_num)"
   ]
  },
  {
   "cell_type": "code",
   "execution_count": 42,
   "id": "613efdf1-db8e-45bc-902e-a87a39c4a8c1",
   "metadata": {},
   "outputs": [
    {
     "data": {
      "text/plain": [
       "tuple"
      ]
     },
     "execution_count": 42,
     "metadata": {},
     "output_type": "execute_result"
    }
   ],
   "source": [
    "a = (10, 20, 30)\n",
    "type(a)"
   ]
  },
  {
   "cell_type": "code",
   "execution_count": 44,
   "id": "2efb0266-48a7-47e9-8105-5dfb0a25ce6f",
   "metadata": {},
   "outputs": [
    {
     "data": {
      "text/plain": [
       "10"
      ]
     },
     "execution_count": 44,
     "metadata": {},
     "output_type": "execute_result"
    }
   ],
   "source": [
    "a=10\n",
    "a"
   ]
  },
  {
   "cell_type": "code",
   "execution_count": 45,
   "id": "6492e205-af9b-4f5f-934a-348e362716c3",
   "metadata": {},
   "outputs": [
    {
     "data": {
      "text/plain": [
       "10"
      ]
     },
     "execution_count": 45,
     "metadata": {},
     "output_type": "execute_result"
    }
   ],
   "source": [
    "a"
   ]
  },
  {
   "cell_type": "markdown",
   "id": "1a2b8bf1-9210-4324-8864-a6be3cae5330",
   "metadata": {},
   "source": [
    "## 논리형 변수\n",
    "- True 인지 False인지를 나타내는 변수입니다.\n",
    "- bool(불리안)이라고 부릅니다.\n",
    "- 논리 연산자(ex. >, <, ==, !=)\n",
    "- 0과 1, 문자열로도 생성할 수 있습니다."
   ]
  },
  {
   "cell_type": "code",
   "execution_count": 46,
   "id": "4ee4eb9b-e665-4838-8ba5-ed444658a921",
   "metadata": {},
   "outputs": [],
   "source": [
    "a = True\n",
    "b = False "
   ]
  },
  {
   "cell_type": "code",
   "execution_count": 47,
   "id": "42bac646-32c5-486c-917f-246d511de750",
   "metadata": {},
   "outputs": [
    {
     "data": {
      "text/plain": [
       "(True, bool)"
      ]
     },
     "execution_count": 47,
     "metadata": {},
     "output_type": "execute_result"
    }
   ],
   "source": [
    "a, type(a)"
   ]
  },
  {
   "cell_type": "code",
   "execution_count": 48,
   "id": "9fd134bb-4361-49a1-bb7d-69e69526c524",
   "metadata": {},
   "outputs": [
    {
     "data": {
      "text/plain": [
       "(False, bool)"
      ]
     },
     "execution_count": 48,
     "metadata": {},
     "output_type": "execute_result"
    }
   ],
   "source": [
    "b, type(b)"
   ]
  },
  {
   "cell_type": "code",
   "execution_count": 49,
   "id": "448abc18-1acd-4b82-986e-807462dc54bd",
   "metadata": {},
   "outputs": [
    {
     "data": {
      "text/plain": [
       "False"
      ]
     },
     "execution_count": 49,
     "metadata": {},
     "output_type": "execute_result"
    }
   ],
   "source": [
    "bool(0)"
   ]
  },
  {
   "cell_type": "code",
   "execution_count": 50,
   "id": "a6d2a900-06f6-4a87-9093-4e774fe0c010",
   "metadata": {},
   "outputs": [
    {
     "data": {
      "text/plain": [
       "True"
      ]
     },
     "execution_count": 50,
     "metadata": {},
     "output_type": "execute_result"
    }
   ],
   "source": [
    "bool(1)"
   ]
  },
  {
   "cell_type": "code",
   "execution_count": 51,
   "id": "30541626-b2a3-4af9-8314-a0e923c9d445",
   "metadata": {},
   "outputs": [
    {
     "data": {
      "text/plain": [
       "True"
      ]
     },
     "execution_count": 51,
     "metadata": {},
     "output_type": "execute_result"
    }
   ],
   "source": [
    "bool(-1000)"
   ]
  },
  {
   "cell_type": "code",
   "execution_count": 52,
   "id": "51f7ab29-d416-4eb1-a1dc-c0f4adf3fe44",
   "metadata": {},
   "outputs": [
    {
     "data": {
      "text/plain": [
       "True"
      ]
     },
     "execution_count": 52,
     "metadata": {},
     "output_type": "execute_result"
    }
   ],
   "source": [
    "bool(\"true\")"
   ]
  },
  {
   "cell_type": "code",
   "execution_count": 53,
   "id": "2a22bc49-9974-4ee8-8c96-d6ebcd49de52",
   "metadata": {},
   "outputs": [
    {
     "data": {
      "text/plain": [
       "True"
      ]
     },
     "execution_count": 53,
     "metadata": {},
     "output_type": "execute_result"
    }
   ],
   "source": [
    "bool(\"False\")"
   ]
  },
  {
   "cell_type": "code",
   "execution_count": 54,
   "id": "0cd099d7-a16a-4e01-8d7f-c101af823c0d",
   "metadata": {},
   "outputs": [
    {
     "data": {
      "text/plain": [
       "False"
      ]
     },
     "execution_count": 54,
     "metadata": {},
     "output_type": "execute_result"
    }
   ],
   "source": [
    "bool(\"\")"
   ]
  },
  {
   "cell_type": "code",
   "execution_count": 55,
   "id": "4bcb176a-9373-4f7e-8098-ff10252d5ddd",
   "metadata": {},
   "outputs": [
    {
     "data": {
      "text/plain": [
       "False"
      ]
     },
     "execution_count": 55,
     "metadata": {},
     "output_type": "execute_result"
    }
   ],
   "source": [
    "bool()"
   ]
  },
  {
   "cell_type": "code",
   "execution_count": 56,
   "id": "07df733b-f089-4eea-b6b9-46e6920a2829",
   "metadata": {},
   "outputs": [
    {
     "data": {
      "text/plain": [
       "False"
      ]
     },
     "execution_count": 56,
     "metadata": {},
     "output_type": "execute_result"
    }
   ],
   "source": [
    "bool(\"\")"
   ]
  },
  {
   "cell_type": "code",
   "execution_count": 57,
   "id": "36605c93-162e-4602-9932-d5298cf056b6",
   "metadata": {},
   "outputs": [
    {
     "data": {
      "text/plain": [
       "False"
      ]
     },
     "execution_count": 57,
     "metadata": {},
     "output_type": "execute_result"
    }
   ],
   "source": [
    "bool(0)"
   ]
  },
  {
   "cell_type": "code",
   "execution_count": 58,
   "id": "5e28f840-e295-4f39-9b37-8bcb4e41c976",
   "metadata": {},
   "outputs": [],
   "source": [
    "a = 10\n",
    "b = 10"
   ]
  },
  {
   "cell_type": "code",
   "execution_count": 59,
   "id": "90df849e-c4fc-4de8-bf13-08c710f6ca59",
   "metadata": {},
   "outputs": [
    {
     "data": {
      "text/plain": [
       "False"
      ]
     },
     "execution_count": 59,
     "metadata": {},
     "output_type": "execute_result"
    }
   ],
   "source": [
    "a += 1\n",
    "a == b"
   ]
  },
  {
   "cell_type": "markdown",
   "id": "27cad6c6-dcdd-445a-b07a-1cd3cbb148d9",
   "metadata": {},
   "source": [
    "### 논리 연산자\n",
    "- logical operator라고도 부릅니다.\n",
    "- 논리 연산을 수행하여 bool 변수를 리턴합니다.\n",
    "\n",
    "|기호|연산|\n",
    "|----|----|\n",
    "|and|모두가 True여야 True 리턴, 하나라도 False면 False| \n",
    "|or|하나라도 True라면 True 리턴, 모두가 False여야 False 리턴|\n",
    "|not|True면 False를 리턴, False면 True를 리턴|"
   ]
  },
  {
   "cell_type": "code",
   "execution_count": 60,
   "id": "dd55d4ba-4352-4d45-98d5-91ff81882f11",
   "metadata": {},
   "outputs": [],
   "source": [
    "a = True\n",
    "b = False"
   ]
  },
  {
   "cell_type": "code",
   "execution_count": 61,
   "id": "ceb61dad-57d0-4148-95d7-13e4c17f0b25",
   "metadata": {},
   "outputs": [
    {
     "data": {
      "text/plain": [
       "False"
      ]
     },
     "execution_count": 61,
     "metadata": {},
     "output_type": "execute_result"
    }
   ],
   "source": [
    "a and b"
   ]
  },
  {
   "cell_type": "code",
   "execution_count": 62,
   "id": "dd09d8d8-4c23-4ca8-96ad-f6f31c5ab7d8",
   "metadata": {},
   "outputs": [
    {
     "data": {
      "text/plain": [
       "True"
      ]
     },
     "execution_count": 62,
     "metadata": {},
     "output_type": "execute_result"
    }
   ],
   "source": [
    "a or b"
   ]
  },
  {
   "cell_type": "code",
   "execution_count": 63,
   "id": "c7b54993-cedf-439c-b983-295377ab2e94",
   "metadata": {},
   "outputs": [
    {
     "data": {
      "text/plain": [
       "True"
      ]
     },
     "execution_count": 63,
     "metadata": {},
     "output_type": "execute_result"
    }
   ],
   "source": [
    "a and not b"
   ]
  },
  {
   "cell_type": "code",
   "execution_count": 64,
   "id": "48865a29-9a9d-485f-90c2-8ac63eee32e2",
   "metadata": {},
   "outputs": [
    {
     "data": {
      "text/plain": [
       "True"
      ]
     },
     "execution_count": 64,
     "metadata": {},
     "output_type": "execute_result"
    }
   ],
   "source": [
    "(a and not b) or (not a and not b)"
   ]
  },
  {
   "cell_type": "code",
   "execution_count": 66,
   "id": "148c07ad-e7cd-4336-aac4-c11c3d2fbbf8",
   "metadata": {},
   "outputs": [],
   "source": [
    "a = 10\n",
    "b = 20\n",
    "c = 30"
   ]
  },
  {
   "cell_type": "code",
   "execution_count": 67,
   "id": "707f5fa6-dba4-461c-a5f5-4c4b6be38cee",
   "metadata": {},
   "outputs": [
    {
     "data": {
      "text/plain": [
       "False"
      ]
     },
     "execution_count": 67,
     "metadata": {},
     "output_type": "execute_result"
    }
   ],
   "source": [
    "a == b"
   ]
  },
  {
   "cell_type": "markdown",
   "id": "c7da245b-6319-4d6e-aeca-b72a3cccb7bd",
   "metadata": {},
   "source": [
    "## 문자열 변수\n",
    "- str(string, 스트링)이라고 부릅니다.\n",
    "- \"\", '', ``, \"\"\"\"\"\"으로 정의할 수 있습니다. 일반적으로는 \"\"을 사용합니다. "
   ]
  },
  {
   "cell_type": "code",
   "execution_count": 83,
   "id": "bbd6ed97-1f7d-441b-a2c8-c941fbfaa595",
   "metadata": {},
   "outputs": [
    {
     "data": {
      "text/plain": [
       "('hello', str)"
      ]
     },
     "execution_count": 83,
     "metadata": {},
     "output_type": "execute_result"
    }
   ],
   "source": [
    "msg_one = \"hello\"\n",
    "msg_one, type(msg_one)"
   ]
  },
  {
   "cell_type": "code",
   "execution_count": 84,
   "id": "5e3b44c6-a739-4f12-b596-2c1fba4b68a9",
   "metadata": {},
   "outputs": [],
   "source": [
    "msg_two = 'world'"
   ]
  },
  {
   "cell_type": "code",
   "execution_count": 85,
   "id": "aa2e5a4c-d1e4-4206-967a-e93b304548a8",
   "metadata": {},
   "outputs": [
    {
     "data": {
      "text/plain": [
       "('world', str)"
      ]
     },
     "execution_count": 85,
     "metadata": {},
     "output_type": "execute_result"
    }
   ],
   "source": [
    "msg_two, type(msg_two)"
   ]
  },
  {
   "cell_type": "markdown",
   "id": "d513d952-b513-4be3-8534-ad46dc300f9b",
   "metadata": {},
   "source": [
    "문자열끼리는 서로 더할 수 있습니다."
   ]
  },
  {
   "cell_type": "code",
   "execution_count": 86,
   "id": "4291ceac-0320-4af6-a76b-2ce7c476a2dd",
   "metadata": {},
   "outputs": [
    {
     "data": {
      "text/plain": [
       "'helloworld'"
      ]
     },
     "execution_count": 86,
     "metadata": {},
     "output_type": "execute_result"
    }
   ],
   "source": [
    "msg_one + msg_two"
   ]
  },
  {
   "cell_type": "markdown",
   "id": "cdff2df3-68de-41f7-b958-3b722f7052af",
   "metadata": {},
   "source": [
    "뺄셈은 지원하지 않습니다. 에러 메세지가 나올텐데, 이런 에러 메세지를 직접 읽고 원인을 파악하는 연습이 중요합니다."
   ]
  },
  {
   "cell_type": "code",
   "execution_count": 88,
   "id": "b41707a2-c248-4136-b76a-f2c06b41366d",
   "metadata": {},
   "outputs": [
    {
     "ename": "TypeError",
     "evalue": "unsupported operand type(s) for -: 'str' and 'str'",
     "output_type": "error",
     "traceback": [
      "\u001b[0;31m---------------------------------------------------------------------------\u001b[0m",
      "\u001b[0;31mTypeError\u001b[0m                                 Traceback (most recent call last)",
      "Cell \u001b[0;32mIn[88], line 1\u001b[0m\n\u001b[0;32m----> 1\u001b[0m \u001b[43mmsg_one\u001b[49m\u001b[43m \u001b[49m\u001b[38;5;241;43m-\u001b[39;49m\u001b[43m \u001b[49m\u001b[43mmsg_two\u001b[49m\n",
      "\u001b[0;31mTypeError\u001b[0m: unsupported operand type(s) for -: 'str' and 'str'"
     ]
    }
   ],
   "source": [
    "msg_one - msg_two"
   ]
  },
  {
   "cell_type": "markdown",
   "id": "598ba884-cf0d-4227-9e9e-de4635fdc64e",
   "metadata": {},
   "source": [
    "역슬래쉬 문자 \"\\\"를 사용하면 여러 줄에 걸쳐서 긴 문자열을 보기 좋게 입력할 수 있습니다."
   ]
  },
  {
   "cell_type": "code",
   "execution_count": 92,
   "id": "543970b3-44ee-463d-8b85-c80b1328af0e",
   "metadata": {},
   "outputs": [],
   "source": [
    "msg_three = \"hello \"\\\n",
    "\"world\""
   ]
  },
  {
   "cell_type": "code",
   "execution_count": 93,
   "id": "d95e96ad-b55a-45ac-9490-6e72845e2daf",
   "metadata": {},
   "outputs": [
    {
     "data": {
      "text/plain": [
       "'hello world'"
      ]
     },
     "execution_count": 93,
     "metadata": {},
     "output_type": "execute_result"
    }
   ],
   "source": [
    "msg_three"
   ]
  },
  {
   "cell_type": "code",
   "execution_count": 96,
   "id": "779e9a6c-7376-4cf6-9350-ac0da2c3d2e0",
   "metadata": {},
   "outputs": [],
   "source": [
    "description = \"파이썬을 통해서 논리게이트를 구현하는 방법을 살펴보도록 하겠습니다. \"  \\\n",
    "              \"해당 포스팅은 퍼셉트론을 구현하기 위한 것이 아닌, 단순 논리회로를 구성하는 방법에 대한 코드입니다. \" \\\n",
    "              \"논리게이트에 대한 이해가 있으시다면, 코드 구현은 크게 어렵지 않으니, 아래 코드를 참고하시면 되겠습니다.\""
   ]
  },
  {
   "cell_type": "code",
   "execution_count": 97,
   "id": "f0f51480-1d58-4ecf-a40f-4525ed4eef88",
   "metadata": {},
   "outputs": [
    {
     "name": "stdout",
     "output_type": "stream",
     "text": [
      "파이썬을 통해서 논리게이트를 구현하는 방법을 살펴보도록 하겠습니다. 해당 포스팅은 퍼셉트론을 구현하기 위한 것이 아닌, 단순 논리회로를 구성하는 방법에 대한 코드입니다. 논리게이트에 대한 이해가 있으시다면, 코드 구현은 크게 어렵지 않으니, 아래 코드를 참고하시면 되겠습니다.\n"
     ]
    }
   ],
   "source": [
    "print(description)"
   ]
  },
  {
   "cell_type": "markdown",
   "id": "2bc8f714-5ccf-4907-a97d-7367c8e32122",
   "metadata": {},
   "source": [
    "보통 여러 줄에 걸쳐서 긴 문자열을 표현하고 싶을 때에는 따옴표를 3개 사용해서 그 안에 문단을 작성하기도 합니다."
   ]
  },
  {
   "cell_type": "code",
   "execution_count": 98,
   "id": "9ee83dbe-7dc9-4e64-b943-71a06044dc14",
   "metadata": {},
   "outputs": [],
   "source": [
    "sentence = \"\"\"\n",
    "오늘은 파이썬 코딩을 한 첫 날입니다.\n",
    "매우 즐겁습니다.\n",
    "강의가 아주 매끄럽습니다.\n",
    "\"\"\""
   ]
  },
  {
   "cell_type": "code",
   "execution_count": 99,
   "id": "05b8e844-a673-4040-8c7b-ec5fe6e8510a",
   "metadata": {},
   "outputs": [
    {
     "name": "stdout",
     "output_type": "stream",
     "text": [
      "\n",
      "오늘은 파이썬 코딩을 한 첫 날입니다.\n",
      "매우 즐겁습니다.\n",
      "강의가 아주 매끄럽습니다.\n",
      "\n"
     ]
    }
   ],
   "source": [
    "print(sentence)"
   ]
  },
  {
   "cell_type": "code",
   "execution_count": 100,
   "id": "b0c91f18-76d5-4cfc-9f13-f4ca0b246cba",
   "metadata": {},
   "outputs": [
    {
     "data": {
      "text/plain": [
       "'\\n오늘은 파이썬 코딩을 한 첫 날입니다.\\n매우 즐겁습니다.\\n강의가 아주 매끄럽습니다.\\n'"
      ]
     },
     "execution_count": 100,
     "metadata": {},
     "output_type": "execute_result"
    }
   ],
   "source": [
    "sentence"
   ]
  },
  {
   "cell_type": "markdown",
   "id": "3f24f9e1-a853-4074-8cd4-e0e0c477f3c0",
   "metadata": {},
   "source": [
    "위 문장에서 \"\\n\"이라는 문자가 보입니다. 이는 newline의 줄임말로 줄바꿈을 표현하는 문자입니다. 이렇게 역슬레쉬를 사용해서 특수한 문자열들을 구현해놓은 것들을 escape sequence라고 부릅니다."
   ]
  },
  {
   "cell_type": "code",
   "execution_count": 106,
   "id": "658b8430-0bc0-4848-8acd-6ac77c32e994",
   "metadata": {},
   "outputs": [],
   "source": [
    "multiline = \"hello\\nworld\""
   ]
  },
  {
   "cell_type": "code",
   "execution_count": 107,
   "id": "4ef143f6-8d7d-44a2-a193-d664a4440613",
   "metadata": {},
   "outputs": [
    {
     "name": "stdout",
     "output_type": "stream",
     "text": [
      "hello\n",
      "world\n"
     ]
    }
   ],
   "source": [
    "print(multiline)"
   ]
  },
  {
   "cell_type": "markdown",
   "id": "edcdfa1e-b1d2-4308-8315-18e77309a799",
   "metadata": {},
   "source": [
    "### Escape Sequence\n",
    "- 줄바꿈, 탭, 따옴표, 쌍따옴표 등 문자열 안에서 그 본래의 문자로 표현할 수 없는 문자들을 표현하기 위한 기호들입니다.  \n",
    "- print() 함수로 출력을 해보면 해당 기호들이 어떻게 출력되는지 확인할 수 있습니다.\n",
    "    - 줄바꿈: \\n\n",
    "    - 탭: \\t\n",
    "    - 쌍따옴표: \\\\\"\n",
    "    - 따옴표: \\\\'\n",
    "    - 역슬래쉬: \\\\\\\n",
    "- 만일 escape sequence 자체를 그대로 출력하고 싶을 때에는 앞에 역슬래쉬를 하나 더 붙여주면 됩니다."
   ]
  },
  {
   "cell_type": "code",
   "execution_count": 110,
   "id": "73d7e128-b90b-4307-b899-572333da8e6b",
   "metadata": {},
   "outputs": [],
   "source": [
    "synopsis = \"\"\"제목:\\t마더\n",
    "출연배우:\\t원빈\n",
    "관객수:\\t500만\n",
    "\"\"\""
   ]
  },
  {
   "cell_type": "code",
   "execution_count": 111,
   "id": "6546bc09-1305-4f94-b503-17120086e974",
   "metadata": {},
   "outputs": [
    {
     "name": "stdout",
     "output_type": "stream",
     "text": [
      "제목:\t마더\n",
      "출연배우:\t원빈\n",
      "관객수:\t500만\n",
      "\n"
     ]
    }
   ],
   "source": [
    "print(synopsis)"
   ]
  },
  {
   "cell_type": "code",
   "execution_count": 127,
   "id": "5c9c1ebc-c2ff-4fef-b14f-17d794b04d27",
   "metadata": {},
   "outputs": [],
   "source": [
    "msg = \"hello, I'm \\\"hyeongjun\\\"\""
   ]
  },
  {
   "cell_type": "code",
   "execution_count": 128,
   "id": "8a41e3b0-8fa2-4081-a752-b692649a92a9",
   "metadata": {},
   "outputs": [
    {
     "name": "stdout",
     "output_type": "stream",
     "text": [
      "hello, I'm \"hyeongjun\"\n"
     ]
    }
   ],
   "source": [
    "print(msg)"
   ]
  },
  {
   "cell_type": "code",
   "execution_count": 130,
   "id": "910fa5fd-0bc8-4e62-ac3e-b171e6e91dcd",
   "metadata": {},
   "outputs": [],
   "source": [
    "msg = 'bye bye my \\'friend\\''"
   ]
  },
  {
   "cell_type": "code",
   "execution_count": 131,
   "id": "d45c6498-e5b8-4a58-a849-1ec4eecb6922",
   "metadata": {},
   "outputs": [
    {
     "data": {
      "text/plain": [
       "\"bye bye my 'friend'\""
      ]
     },
     "execution_count": 131,
     "metadata": {},
     "output_type": "execute_result"
    }
   ],
   "source": [
    "msg"
   ]
  },
  {
   "cell_type": "code",
   "execution_count": 132,
   "id": "09d182cb-3e0f-409a-a8b5-ccf858ea1ea9",
   "metadata": {},
   "outputs": [
    {
     "name": "stdout",
     "output_type": "stream",
     "text": [
      "\\n는 줄바꿈 문자입니다.\n"
     ]
    }
   ],
   "source": [
    "msg = \"\\\\n는 줄바꿈 문자입니다.\"\n",
    "print(msg)"
   ]
  },
  {
   "cell_type": "markdown",
   "id": "98dc284f-4c78-41ab-81d7-71b4a1272314",
   "metadata": {},
   "source": [
    "### 문자열 포맷팅\n",
    "- 문자열 사이 사이에 변수를 넣고 싶을 때 사용합니다. \n",
    "- format 함수를 사용하는 방법과 f-string을 사용하는 방법이 있습니다."
   ]
  },
  {
   "cell_type": "code",
   "execution_count": 136,
   "id": "676b36bb-49d1-4853-b7d5-408afceef421",
   "metadata": {},
   "outputs": [],
   "source": [
    "name = \"피카츄\"\n",
    "level = 10"
   ]
  },
  {
   "cell_type": "code",
   "execution_count": 137,
   "id": "08c25258-2434-4a64-bc23-7ccf5736cfbf",
   "metadata": {},
   "outputs": [],
   "source": [
    "msg_format = \"name: {} level: {}\""
   ]
  },
  {
   "cell_type": "code",
   "execution_count": 138,
   "id": "9c23ba6e-13d7-436f-83a9-58651bf4a2dc",
   "metadata": {},
   "outputs": [
    {
     "name": "stdout",
     "output_type": "stream",
     "text": [
      "name: 피카츄 level: 10\n"
     ]
    }
   ],
   "source": [
    "print(msg_format.format(pikachu_name, pikachu_level))"
   ]
  },
  {
   "cell_type": "code",
   "execution_count": 139,
   "id": "7fbe0cc5-478e-44ad-91ec-071ecb3ea1fc",
   "metadata": {},
   "outputs": [],
   "source": [
    "msg_keyword_format = \"name: {name} level: {level}\""
   ]
  },
  {
   "cell_type": "code",
   "execution_count": 140,
   "id": "37905e8c-3ca5-4b36-9d66-0b7b65c0eb66",
   "metadata": {},
   "outputs": [
    {
     "data": {
      "text/plain": [
       "'name: 피카츄 level: 10'"
      ]
     },
     "execution_count": 140,
     "metadata": {},
     "output_type": "execute_result"
    }
   ],
   "source": [
    "msg_keyword_format.format(name=pikachu_name, level=pikachu_level)"
   ]
  },
  {
   "cell_type": "markdown",
   "id": "fb4463e1-c35f-4689-a283-7feeb3dc980b",
   "metadata": {},
   "source": [
    "위 두 방법도 가능하지만, 가장 많이 사용하는 포맷팅 기법은 f-string입니다.  \n",
    "문자열 맨 앞에 f를 붙여주고, 넣고자 하는 변수를 문자열 사이에 {}를 사용해서 넣어줍니다.  "
   ]
  },
  {
   "cell_type": "code",
   "execution_count": 141,
   "id": "2c2c7bf4-f6a9-4209-8214-847439aba01e",
   "metadata": {},
   "outputs": [
    {
     "name": "stdout",
     "output_type": "stream",
     "text": [
      "name: 피카츄 level: 10\n"
     ]
    }
   ],
   "source": [
    "print(f\"name: {pikachu_name} level: {pikachu_level}\")"
   ]
  },
  {
   "cell_type": "markdown",
   "id": "6f2b24ab-0661-4284-8d1a-dc80b7acceb8",
   "metadata": {},
   "source": [
    "### Quiz: formated 문자열을 활용해서 \"민수는 3살입니다.\" 출력하시오\n",
    "\n"
   ]
  },
  {
   "cell_type": "code",
   "execution_count": 143,
   "id": "facf5635-1822-42c4-853e-6fbbce663da6",
   "metadata": {},
   "outputs": [],
   "source": [
    "name = \"민수\"\n",
    "age = 3"
   ]
  },
  {
   "cell_type": "code",
   "execution_count": 144,
   "id": "61a7db63-3987-4e4c-a72d-03875c65cf3f",
   "metadata": {},
   "outputs": [
    {
     "name": "stdout",
     "output_type": "stream",
     "text": [
      "민수는 3살입니다.\n"
     ]
    }
   ],
   "source": [
    "print(f\"{name}는 {age}살입니다.\")"
   ]
  },
  {
   "cell_type": "markdown",
   "id": "debcafa6-fc69-4f87-99c0-7cd04ac55467",
   "metadata": {},
   "source": [
    "### 문자열 변수의 산술 연산\n",
    "- str() 함수를 이용하면 정수형, 실수형, 논리형 변수를 문자열로 변환할 수 있습니다.\n",
    "- 문자열 끼리는 \"+\" 산술 연산이 가능합니다.\n",
    "- 문자열 * N을 하면 해당 문자열을 N번 반복한 문자열이 됩니다.\n",
    "- 문자열로 변환할 경우, 문자열 변수와의 산술 연산이 가능합니다."
   ]
  },
  {
   "cell_type": "code",
   "execution_count": 145,
   "id": "b0a940ef-16b0-4de5-a69f-d581278159d0",
   "metadata": {},
   "outputs": [],
   "source": [
    "age = 20\n",
    "head = \"제 나이는 \"\n",
    "tail = \"살 입니다.\" "
   ]
  },
  {
   "cell_type": "code",
   "execution_count": 146,
   "id": "ddfd639e-3281-47de-ace0-9f27fed6c356",
   "metadata": {},
   "outputs": [
    {
     "data": {
      "text/plain": [
       "'제 나이는 살 입니다.'"
      ]
     },
     "execution_count": 146,
     "metadata": {},
     "output_type": "execute_result"
    }
   ],
   "source": [
    "head + tail"
   ]
  },
  {
   "cell_type": "code",
   "execution_count": 151,
   "id": "03b4af6f-fc18-4c50-ad80-6f77ad858501",
   "metadata": {},
   "outputs": [
    {
     "data": {
      "text/plain": [
       "'제 나이는 제 나이는 제 나이는 '"
      ]
     },
     "execution_count": 151,
     "metadata": {},
     "output_type": "execute_result"
    }
   ],
   "source": [
    "head * 3"
   ]
  },
  {
   "cell_type": "markdown",
   "id": "5940de20-ff24-4436-95cb-f97742240d87",
   "metadata": {},
   "source": [
    "문자열은 문자열끼리 더할 수 있지만, 숫자와는 더할 수 없습니다.  \n",
    "억지로 더할 경우 에러가 발생합니다."
   ]
  },
  {
   "cell_type": "code",
   "execution_count": 148,
   "id": "bb404f0f-fdce-413a-bfc1-9b2f9b2e48f2",
   "metadata": {},
   "outputs": [
    {
     "ename": "TypeError",
     "evalue": "can only concatenate str (not \"int\") to str",
     "output_type": "error",
     "traceback": [
      "\u001b[0;31m---------------------------------------------------------------------------\u001b[0m",
      "\u001b[0;31mTypeError\u001b[0m                                 Traceback (most recent call last)",
      "Cell \u001b[0;32mIn[148], line 1\u001b[0m\n\u001b[0;32m----> 1\u001b[0m \u001b[43mhead\u001b[49m\u001b[43m \u001b[49m\u001b[38;5;241;43m+\u001b[39;49m\u001b[43m \u001b[49m\u001b[43mage\u001b[49m \u001b[38;5;241m+\u001b[39m tail\n",
      "\u001b[0;31mTypeError\u001b[0m: can only concatenate str (not \"int\") to str"
     ]
    }
   ],
   "source": [
    "head + age + tail"
   ]
  },
  {
   "cell_type": "markdown",
   "id": "6c879274-b7e0-494d-a1ca-a6ec62eff214",
   "metadata": {},
   "source": [
    "이 경우, 숫자를 문자열로 바꿔준 다음 더해주면 해결할 수 있습니다."
   ]
  },
  {
   "cell_type": "code",
   "execution_count": 152,
   "id": "a3e644dc-604c-4809-9a5e-eaeb7a070026",
   "metadata": {},
   "outputs": [
    {
     "data": {
      "text/plain": [
       "'제 나이는 20살 입니다.'"
      ]
     },
     "execution_count": 152,
     "metadata": {},
     "output_type": "execute_result"
    }
   ],
   "source": [
    "head + str(age) + tail"
   ]
  },
  {
   "cell_type": "markdown",
   "id": "b89dce9e-e01b-4d2e-8b7f-80b54e7dc6a8",
   "metadata": {},
   "source": [
    "### 그 외에 유용한 문자열 연산\n",
    "- 대문자, 소문자 변환: upper, lower\n",
    "- 특정 문자열 대치: replace"
   ]
  },
  {
   "cell_type": "code",
   "execution_count": 153,
   "id": "710dff39-cbee-4c95-b5e0-c4ddda13c902",
   "metadata": {},
   "outputs": [],
   "source": [
    "msg = \"happy birthday\""
   ]
  },
  {
   "cell_type": "code",
   "execution_count": 154,
   "id": "ce334bab-66fe-4ade-b070-ca863c069873",
   "metadata": {},
   "outputs": [
    {
     "data": {
      "text/plain": [
       "'HAPPY BIRTHDAY'"
      ]
     },
     "execution_count": 154,
     "metadata": {},
     "output_type": "execute_result"
    }
   ],
   "source": [
    "msg.upper()"
   ]
  },
  {
   "cell_type": "code",
   "execution_count": 155,
   "id": "192d0192-8616-4553-951d-db49d178069e",
   "metadata": {},
   "outputs": [],
   "source": [
    "msg = \"Happy Birthday\""
   ]
  },
  {
   "cell_type": "code",
   "execution_count": 156,
   "id": "0487d272-3916-4060-aeae-773b7ca2d780",
   "metadata": {},
   "outputs": [
    {
     "data": {
      "text/plain": [
       "'happy birthday'"
      ]
     },
     "execution_count": 156,
     "metadata": {},
     "output_type": "execute_result"
    }
   ],
   "source": [
    "msg.lower()"
   ]
  },
  {
   "cell_type": "code",
   "execution_count": 157,
   "id": "48c65a8a-5ebf-4023-9c6c-7301e265bf9e",
   "metadata": {},
   "outputs": [
    {
     "data": {
      "text/plain": [
       "'Happy birthday'"
      ]
     },
     "execution_count": 157,
     "metadata": {},
     "output_type": "execute_result"
    }
   ],
   "source": [
    "msg  = \"happy birthday\"\n",
    "msg.capitalize()"
   ]
  },
  {
   "cell_type": "code",
   "execution_count": 158,
   "id": "2ec4e85e-05b1-49a7-8040-e2e0d0628c0f",
   "metadata": {},
   "outputs": [],
   "source": [
    "msg = \"hello world\""
   ]
  },
  {
   "cell_type": "code",
   "execution_count": 159,
   "id": "e486bf1b-9cc6-4c1f-ade9-93a456de5dc3",
   "metadata": {},
   "outputs": [],
   "source": [
    "replaced_msg = msg.replace(\"hello\", \"bye\")"
   ]
  },
  {
   "cell_type": "code",
   "execution_count": 160,
   "id": "5b2c578f-5575-4f23-9027-ae1a165a0319",
   "metadata": {},
   "outputs": [
    {
     "data": {
      "text/plain": [
       "'bye world'"
      ]
     },
     "execution_count": 160,
     "metadata": {},
     "output_type": "execute_result"
    }
   ],
   "source": [
    "replaced_msg"
   ]
  },
  {
   "cell_type": "code",
   "execution_count": 161,
   "id": "a3f7c9a5-aba3-4792-92ce-79844868b23d",
   "metadata": {},
   "outputs": [],
   "source": [
    "org_data = \"해리케인은 지난주 경기에서 골을 넣었습니다.\""
   ]
  },
  {
   "cell_type": "code",
   "execution_count": 163,
   "id": "b592dbed-fa13-4e1c-9870-ae937bd8128d",
   "metadata": {},
   "outputs": [],
   "source": [
    "replaced_data = org_data.replace(\"해리케인\", \"손흥민\")"
   ]
  },
  {
   "cell_type": "code",
   "execution_count": 165,
   "id": "def5dd53-d419-4aa7-8273-e7ee68ae7e7b",
   "metadata": {},
   "outputs": [
    {
     "data": {
      "text/plain": [
       "'손흥민은 지난주 경기에서 골을 넣었습니다.'"
      ]
     },
     "execution_count": 165,
     "metadata": {},
     "output_type": "execute_result"
    }
   ],
   "source": [
    "replaced_data"
   ]
  },
  {
   "cell_type": "markdown",
   "id": "8ffdbdcd-21c8-41c9-a5ad-8417d3f988b5",
   "metadata": {},
   "source": [
    "## 정리\n",
    "\n",
    "이번 챕터에서는 파이썬의 변수에 대해서 알아보았습니다. 변수는 모든 프로그래밍에서 가장 기초가 되는 개념입니다.  \n",
    "반드시 번수를 할당하고, 연산을 수행하는 과정을 이해하고, 반복해서 연습해보시기 바랍니다."
   ]
  },
  {
   "cell_type": "markdown",
   "id": "d8adab44-ea76-4aa7-9d70-17fc5b9cd18b",
   "metadata": {},
   "source": [
    "## 참고 자료\n",
    "- 공부하시다가 모르는 부분이 생기면 이 책을 참고하시면 좋습니다. https://wikidocs.net/13"
   ]
  },
  {
   "cell_type": "code",
   "execution_count": null,
   "id": "69c4566c-2dc7-4cae-af32-24a494a53ff3",
   "metadata": {},
   "outputs": [],
   "source": []
  }
 ],
 "metadata": {
  "kernelspec": {
   "display_name": "Python 3 (ipykernel)",
   "language": "python",
   "name": "python3"
  },
  "language_info": {
   "codemirror_mode": {
    "name": "ipython",
    "version": 3
   },
   "file_extension": ".py",
   "mimetype": "text/x-python",
   "name": "python",
   "nbconvert_exporter": "python",
   "pygments_lexer": "ipython3",
   "version": "3.10.0"
  }
 },
 "nbformat": 4,
 "nbformat_minor": 5
}
