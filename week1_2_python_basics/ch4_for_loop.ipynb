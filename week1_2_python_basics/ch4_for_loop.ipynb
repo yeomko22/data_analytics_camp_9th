{
 "cells": [
  {
   "cell_type": "markdown",
   "id": "d3be8230-d710-4125-8a78-6b2e85cd5ba3",
   "metadata": {},
   "source": [
    "# ch4. for loop \n",
    "\n",
    "앞선 시간에 변수, 리스트에 대해서 알아보았습니다.\n",
    "이제 이 여러 변수들을 다루는 프로그램을 짜기 위해 필수적인 반복문에 대해서 알아보겠습니다. \n",
    "\n",
    "python에서는 for과 while 문법을 제공합니다.\n",
    "보통 반복을 구현할 때는 for를 많이 사용하고, while은 무한 루프를 구현해야 하는 상황에서 사용합니다."
   ]
  },
  {
   "cell_type": "markdown",
   "id": "7b71769b-5475-49a9-a58b-d033dd73b243",
   "metadata": {},
   "source": [
    "## for loop\n",
    "- for문은 프로그래밍 언어에서 반복을 구현할 때 사용하는 가장 기본적인 문법입니다.\n",
    "- python에서는 크게 2가지 방법으로 for문을 사용할 수 있는데, 2가지 방법 모두 잘 익혀주시기 바랍니다."
   ]
  },
  {
   "cell_type": "markdown",
   "id": "207ba4cd-f2c3-4e6d-a27a-725e32ac92a0",
   "metadata": {},
   "source": [
    "### for-loop with range\n",
    "- 숫자를 1부터 10까지 출력하는 코드를 반복문 없이 작성해보겠습니다."
   ]
  },
  {
   "cell_type": "code",
   "execution_count": 1,
   "id": "c0b8d1bc-e95a-47f2-ab10-1f066d3ee7b5",
   "metadata": {},
   "outputs": [
    {
     "name": "stdout",
     "output_type": "stream",
     "text": [
      "1\n",
      "2\n",
      "3\n",
      "4\n",
      "5\n",
      "6\n",
      "7\n",
      "8\n",
      "9\n",
      "10\n"
     ]
    }
   ],
   "source": [
    "print(1)\n",
    "print(2)\n",
    "print(3)\n",
    "print(4)\n",
    "print(5)\n",
    "print(6)\n",
    "print(7)\n",
    "print(8)\n",
    "print(9)\n",
    "print(10)"
   ]
  },
  {
   "cell_type": "markdown",
   "id": "22b8b362-c9c7-4693-ac94-283428da94ab",
   "metadata": {},
   "source": [
    "같은 코드에 출력하는 숫자만 바뀌었습니다.  \n",
    "이번에는 for문과 range를 사용해서 코드를 작성해보겠습니다.\n",
    "i는 현재 반복하는 횟수, range는 반복을 진행할 범위를 의미합니다."
   ]
  },
  {
   "cell_type": "code",
   "execution_count": 2,
   "id": "0ed90ac2-2dfd-4065-8961-7b8eca7923db",
   "metadata": {},
   "outputs": [
    {
     "name": "stdout",
     "output_type": "stream",
     "text": [
      "0\n",
      "1\n",
      "2\n",
      "3\n",
      "4\n",
      "5\n",
      "6\n",
      "7\n",
      "8\n",
      "9\n"
     ]
    }
   ],
   "source": [
    "for i in range(10):\n",
    "    print(i)"
   ]
  },
  {
   "cell_type": "markdown",
   "id": "ac2ad3dd-6c46-4fd1-b91e-4414de68aa25",
   "metadata": {},
   "source": [
    "### Quiz 1. 구구단 7단 출력\n",
    "for문을 사용해서 구구단 7단을 출력하는 함수를 작성해보세요."
   ]
  },
  {
   "cell_type": "code",
   "execution_count": null,
   "id": "30527ee6-3f90-4b15-bd48-a3be9a4c89d4",
   "metadata": {},
   "outputs": [],
   "source": []
  },
  {
   "cell_type": "markdown",
   "id": "355bc171-4a25-4801-81a1-f3756a50465f",
   "metadata": {},
   "source": [
    "## for loop with range 연습하기"
   ]
  },
  {
   "cell_type": "markdown",
   "id": "a454d7a9-4f61-4e7c-a538-3ef52182e9ee",
   "metadata": {},
   "source": [
    "range와 함께 for loop를 사용하는 방법을 연습해보겠습니다.  \n",
    "먼저 높이를 나타내는 변수인 height가 주어졌을 때,  \n",
    "층마다 *을 하나씩 늘려가면서 출력해보겠습니다."
   ]
  },
  {
   "cell_type": "code",
   "execution_count": 10,
   "id": "017e6118-a318-46d0-9a6f-dccd0df11d7d",
   "metadata": {},
   "outputs": [
    {
     "name": "stdout",
     "output_type": "stream",
     "text": [
      "*\n",
      "**\n",
      "***\n",
      "****\n",
      "*****\n",
      "******\n",
      "*******\n",
      "********\n",
      "*********\n",
      "**********\n"
     ]
    }
   ],
   "source": [
    "height = 10\n",
    "for i in range(height):\n",
    "    print(\"*\" * (i + 1))"
   ]
  },
  {
   "cell_type": "markdown",
   "id": "da1c6f1f-85f3-483e-be68-b5f9b6c7642f",
   "metadata": {},
   "source": [
    "### Quiz 2. 역방향 트리 출력\n",
    "높이가 주어졌을 때, 역방향으로 트리가 출력되도록 구현해보세요."
   ]
  },
  {
   "cell_type": "code",
   "execution_count": 12,
   "id": "e834838b-6768-4544-a43c-a9d1afd0bf06",
   "metadata": {},
   "outputs": [],
   "source": [
    "height = 10"
   ]
  },
  {
   "cell_type": "code",
   "execution_count": 14,
   "id": "9fb9a1f5-89d5-402a-890a-1969455bace1",
   "metadata": {},
   "outputs": [
    {
     "name": "stdout",
     "output_type": "stream",
     "text": [
      "**********\n",
      "*********\n",
      "********\n",
      "*******\n",
      "******\n",
      "*****\n",
      "****\n",
      "***\n",
      "**\n",
      "*\n"
     ]
    }
   ],
   "source": []
  },
  {
   "cell_type": "markdown",
   "id": "a3845eff-4196-41dd-9c3c-2506ef9d7260",
   "metadata": {},
   "source": [
    "### Quiz 3. 좌우 대칭 피라미드 출력\n",
    "높이가 주어졌을 때, 좌우 대칭인 피라미드를 출력하도록 구현해보세요."
   ]
  },
  {
   "cell_type": "code",
   "execution_count": 17,
   "id": "b4bc3a7b-4997-4a0d-b312-db6135274923",
   "metadata": {},
   "outputs": [],
   "source": [
    "height = 10"
   ]
  },
  {
   "cell_type": "code",
   "execution_count": 18,
   "id": "49ba9dce-c65b-45ec-b2bd-c38a8c62a30e",
   "metadata": {},
   "outputs": [
    {
     "name": "stdout",
     "output_type": "stream",
     "text": [
      "         *\n",
      "        ***\n",
      "       *****\n",
      "      *******\n",
      "     *********\n",
      "    ***********\n",
      "   *************\n",
      "  ***************\n",
      " *****************\n",
      "*******************\n"
     ]
    }
   ],
   "source": []
  },
  {
   "cell_type": "markdown",
   "id": "097edf5f-12dc-4e46-b6e7-8e3b11ba4d90",
   "metadata": {},
   "source": [
    "### Quiz 4. 높이를 입력 받아서 다이아몬드 출력\n",
    "- 높이가 홀수 일 경우엔 가장 긴 라인이 한줄, 짝수일 경우엔 2줄이 됩니다.\n",
    "- if else문을 함께 사용해주세요"
   ]
  },
  {
   "cell_type": "code",
   "execution_count": 26,
   "id": "9ee517df-5b54-4ece-b275-8e16dd7ca0c3",
   "metadata": {},
   "outputs": [],
   "source": [
    "height = 10"
   ]
  },
  {
   "cell_type": "code",
   "execution_count": 23,
   "id": "c82d123a-a7cb-4b10-afcd-dcfc31dfbaa2",
   "metadata": {},
   "outputs": [
    {
     "name": "stdout",
     "output_type": "stream",
     "text": [
      "    *\n",
      "   ***\n",
      "  *****\n",
      " *******\n",
      "*********\n",
      "*********\n",
      " *******\n",
      "  *****\n",
      "   ***\n",
      "    *\n"
     ]
    }
   ],
   "source": []
  },
  {
   "cell_type": "code",
   "execution_count": 25,
   "id": "d8631b79-45ea-4ee1-b5b5-c56c8fa6e528",
   "metadata": {},
   "outputs": [],
   "source": [
    "height = 9"
   ]
  },
  {
   "cell_type": "code",
   "execution_count": 24,
   "id": "45b061f7-000e-44be-ac63-c7bd5d403376",
   "metadata": {},
   "outputs": [
    {
     "name": "stdout",
     "output_type": "stream",
     "text": [
      "    *\n",
      "   ***\n",
      "  *****\n",
      " *******\n",
      "*********\n",
      " *******\n",
      "  *****\n",
      "   ***\n",
      "    *\n"
     ]
    }
   ],
   "source": []
  },
  {
   "cell_type": "code",
   "execution_count": 43,
   "id": "2f7c1423-e41e-4441-a5ea-7f7eef6b9719",
   "metadata": {},
   "outputs": [
    {
     "data": {
      "text/plain": [
       "3"
      ]
     },
     "execution_count": 43,
     "metadata": {},
     "output_type": "execute_result"
    }
   ],
   "source": [
    "answer"
   ]
  },
  {
   "cell_type": "markdown",
   "id": "a1ed37e2-8b3e-47e2-89fc-08e2fbc7b3d0",
   "metadata": {},
   "source": [
    "## for문으로 리스트 순회하기\n",
    "- 이제 for문으로 리스트를 순회하면서 원소들을 하나하나 출력해보도록 하겠습니다.\n",
    "- 이전에 list는 인덱스로 접근할 수 있다고 배웠습니다.\n",
    "- 이제 배열의 길이만큼 반복을 돌면서 인덱스로 접근하면 우리가 원하는 원소를 읽어올 수 있습니다."
   ]
  },
  {
   "cell_type": "code",
   "execution_count": 44,
   "id": "a555984f-97e4-4e04-8a12-e5ca5e789a7c",
   "metadata": {},
   "outputs": [],
   "source": [
    "scores = [\n",
    "    [\"민수\", 100, 78],\n",
    "    [\"지혜\", 90, 56],\n",
    "    [\"두호\", 85, 90],\n",
    "]"
   ]
  },
  {
   "cell_type": "code",
   "execution_count": 45,
   "id": "5e09134b-4ff7-4243-95cb-0955fbb28728",
   "metadata": {},
   "outputs": [
    {
     "name": "stdout",
     "output_type": "stream",
     "text": [
      "['민수', 100, 78]\n",
      "['지혜', 90, 56]\n",
      "['두호', 85, 90]\n"
     ]
    }
   ],
   "source": [
    "for i in range(len(scores)):\n",
    "   print(scores[i]) "
   ]
  },
  {
   "cell_type": "markdown",
   "id": "d6655810-576f-4789-95e9-38792c34b57a",
   "metadata": {
    "tags": []
   },
   "source": [
    "### Quiz 5. 거스름돈 문제 반복문으로 구현하기 \n",
    "이전 if else 문에서 연습했던 연습문제를 for문으로 깔끔하게 표현할 수 있습니다.  \n",
    "\n",
    "Q. 물건을 하나 사고 50000원짜리 지폐를 한장 지불했습니다. 잔돈으로 받게될 지폐와 동전의 개수를 구하시오  \n",
    "거스름 돈 조건\n",
    "- 만원을 줄 수 있으면 만원을 줍니다.\n",
    "- 오천원을 줄 수 있으면 오천원을 줍니다.\n",
    "- 천원을 줄 수 있으면 천원을 줍니다.\n",
    "- 오백원을 줄 수 있으면 오백원을 줍니다.\n",
    "- 백원을 줄 수 있으면 백원을 줍니다.\n",
    "- 백원 이하는 고려하지 않습니다.\n",
    "- 지폐  하나와 동전 하나는 똑같이 개수 하나로 칩니다."
   ]
  },
  {
   "cell_type": "code",
   "execution_count": 40,
   "id": "a3b9700b-4a4f-4f1e-8852-4b9ddf02b6a0",
   "metadata": {},
   "outputs": [],
   "source": [
    "answer = 0\n",
    "change_units = [10000, 5000, 1000, 500, 100]\n",
    "pay = 50000\n",
    "price = 34500\n",
    "change = pay - price\n",
    "answer = 0"
   ]
  },
  {
   "cell_type": "code",
   "execution_count": 42,
   "id": "15145663-8e3d-498e-80e7-4f6124d1600c",
   "metadata": {},
   "outputs": [],
   "source": [
    "for i in range(len(change_units)):\n",
    "    unit = change_units[i]\n",
    "    coin = change // unit \n",
    "    answer += coin\n",
    "    change -= unit * coin"
   ]
  },
  {
   "cell_type": "markdown",
   "id": "a086b0a5-cf47-4c3b-81f1-88ba80db3a32",
   "metadata": {},
   "source": [
    "## for-loop을 이용한 기본 사용법\n",
    "\n",
    "지금까지는 range문을 이용해서 숫자를 가져오고, 이를 인덱스로 사용해서 리스트로부터 원소를 읽어왔습니다.  \n",
    "그런데 for문을 사용하여 좀 더 간단하게 원소들을 읽어올 수 있습니다.\n",
    "\n",
    "```python\n",
    "for 변수 in 리스트(또는 튜플, 문자열):\n",
    "    수행할 문장1\n",
    "    수행할 문장2\n",
    "```\n",
    "\n",
    "이렇게 리스트로부터 원소를 직접 읽어올 때에는 변수명 i, j와 같이 인덱스를 나타내는 변수명으로 짓지 않습니다."
   ]
  },
  {
   "cell_type": "code",
   "execution_count": 46,
   "id": "53b8eece-2e4c-4671-8181-ef5316e5aa29",
   "metadata": {},
   "outputs": [],
   "source": [
    "fruit_list = [\"apple\", \"banana\", \"cherry\"]"
   ]
  },
  {
   "cell_type": "code",
   "execution_count": 47,
   "id": "10c26a0b-d5ea-4112-8713-c721ca462b89",
   "metadata": {},
   "outputs": [
    {
     "name": "stdout",
     "output_type": "stream",
     "text": [
      "apple\n",
      "banana\n",
      "cherry\n"
     ]
    }
   ],
   "source": [
    "for fruit in fruit_list:\n",
    "    print(fruit)"
   ]
  },
  {
   "cell_type": "markdown",
   "id": "7364c27a-9a3f-4cf4-ac3b-e3db9d8b51bc",
   "metadata": {},
   "source": [
    "### Quiz 6. 거스름돈 문제 반복문 구현\n",
    "\n",
    "이전에 for문과 인덱스를 이용해서 구현했던 거스름돈 문제를 리스트로부터 원소를 직접 읽어오는 식으로 변경해서 작성해보세요."
   ]
  },
  {
   "cell_type": "code",
   "execution_count": 49,
   "id": "7d3ad410-0f00-4e25-8835-1078b167462b",
   "metadata": {},
   "outputs": [],
   "source": [
    "answer = 0\n",
    "change_units = [10000, 5000, 1000, 500, 100]\n",
    "pay = 50000\n",
    "price = 34500\n",
    "change = pay - price\n",
    "answer = 0"
   ]
  },
  {
   "cell_type": "code",
   "execution_count": 50,
   "id": "d5e8798a-94c7-4f1c-8993-09360710f621",
   "metadata": {},
   "outputs": [],
   "source": [
    "for unit in change_units:\n",
    "    coin = change // unit \n",
    "    answer += coin\n",
    "    change -= unit * coin"
   ]
  },
  {
   "cell_type": "code",
   "execution_count": 51,
   "id": "41d21f60-51bc-4bde-9ab3-17f8f6797dd8",
   "metadata": {},
   "outputs": [
    {
     "data": {
      "text/plain": [
       "3"
      ]
     },
     "execution_count": 51,
     "metadata": {},
     "output_type": "execute_result"
    }
   ],
   "source": [
    "answer"
   ]
  },
  {
   "cell_type": "markdown",
   "id": "c6f3f5cb-740d-419e-a175-5b5905ab51c8",
   "metadata": {},
   "source": [
    "## continue와 break\n",
    "- 반복문을 실행할 때 특정 조건을 만났을 때는 이후의 로직을 수행하지 않고, 계속 진행하고 싶을 수도 있습니다. 이 때 continue를 사용합니다.\n",
    "- 반복문을 실행할 때 특정 조건을 만나면 반복을 멈추고 싶을 수 있습니다. 이 때 break를 사용합니다.\n",
    "- continue와 break는 반복문을 제어하는데에도 유용하고, 잘쓰면 코드가 간결해집니다. "
   ]
  },
  {
   "cell_type": "markdown",
   "id": "97d2ec34-e537-4190-bc48-3e32350d41c7",
   "metadata": {},
   "source": [
    "### continue\n",
    "- 예시) 수학 점수가 60점 이하인 학생 중에서 국어 점수도 60점 이하인 학생을 출력하시오"
   ]
  },
  {
   "cell_type": "code",
   "execution_count": 63,
   "id": "fbe69e9e-adac-45e1-b18f-a708ea045abf",
   "metadata": {},
   "outputs": [],
   "source": [
    "# (이름, 수학 점수, 국어 점수)\n",
    "scores = [\n",
    "    (\"민수\", 75, 40),\n",
    "    (\"두호\", 40, 70),\n",
    "    (\"지혜\", 60, 80),\n",
    "    (\"강산\", 50, 60),\n",
    "]"
   ]
  },
  {
   "cell_type": "code",
   "execution_count": 64,
   "id": "812ae278-3863-481c-9a26-89d363aeb817",
   "metadata": {},
   "outputs": [
    {
     "name": "stdout",
     "output_type": "stream",
     "text": [
      "민수 통과!\n",
      "강산\n"
     ]
    }
   ],
   "source": [
    "for name, math_score, korean_score in scores:\n",
    "    if math_score > 60:\n",
    "        print(name, \"통과!\")\n",
    "        continue\n",
    "    if korean_score <= 60:\n",
    "        print(name)"
   ]
  },
  {
   "cell_type": "markdown",
   "id": "de6248f7-8d69-4058-b81f-0931b7a52417",
   "metadata": {},
   "source": [
    "### break\n",
    "- break문은 특정 조건이 완료되면 반복 시행 횟수가 더 남았다 하더라도 반복문을 종료하는 것입니다.\n",
    "- 퀴즈) 0부터 100 사이 숫자 중에 3으로 나눠서 나머지가 2가 되는 수 10개를 찾으시오"
   ]
  },
  {
   "cell_type": "code",
   "execution_count": 65,
   "id": "7a0f6e94-997c-42f6-9fd1-ea1c4a724f52",
   "metadata": {},
   "outputs": [],
   "source": [
    "answer = []\n",
    "for i in range(0, 101):\n",
    "    if i % 3 == 2:\n",
    "        answer.append(i)\n",
    "    if len(answer) == 10:\n",
    "        break"
   ]
  },
  {
   "cell_type": "code",
   "execution_count": 66,
   "id": "1b66ab57-5e84-4516-bc25-c84785b3b0b4",
   "metadata": {},
   "outputs": [
    {
     "data": {
      "text/plain": [
       "[2, 5, 8, 11, 14, 17, 20, 23, 26, 29]"
      ]
     },
     "execution_count": 66,
     "metadata": {},
     "output_type": "execute_result"
    }
   ],
   "source": [
    "answer"
   ]
  },
  {
   "cell_type": "markdown",
   "id": "edc70aa2-a9f2-4a8b-8bac-473679386cb2",
   "metadata": {},
   "source": [
    "### Quiz 7.\n",
    "- 0부터 1000 사이에 7로 나눠 나머지가 3이 되는 수 20개 찾으시오"
   ]
  },
  {
   "cell_type": "code",
   "execution_count": 67,
   "id": "ee52cc2f-7f20-4f07-97c9-ca99519b8170",
   "metadata": {},
   "outputs": [],
   "source": [
    "answer = []\n",
    "\n",
    "for i in range(0, 1001):\n",
    "    if i % 7 == 3:\n",
    "        answer.append(i)\n",
    "    if len(answer) == 20:\n",
    "        break"
   ]
  },
  {
   "cell_type": "code",
   "execution_count": 68,
   "id": "8c55dfcb-a57d-4a75-b1ec-6d9800659612",
   "metadata": {},
   "outputs": [
    {
     "name": "stdout",
     "output_type": "stream",
     "text": [
      "[3, 10, 17, 24, 31, 38, 45, 52, 59, 66, 73, 80, 87, 94, 101, 108, 115, 122, 129, 136]\n"
     ]
    }
   ],
   "source": [
    "print(answer)"
   ]
  },
  {
   "cell_type": "markdown",
   "id": "2ad73caa-9c34-48b3-aece-d447364d5dcb",
   "metadata": {},
   "source": [
    "## 2중 for 문\n",
    "\n",
    "### 2중 for문 기본 사용법\n",
    "for문 안에서 for문을 실행할 수 있습니다.  \n",
    "2번 중첩하면 2중 for문, 3번 중첩하면 3중 for문이라고도 부릅니다.  \n",
    "```python\n",
    "for i in range(반복 횟수):\n",
    "    for j in range(반복 횟수):\n",
    "        반복하고자 하는 코드 \n",
    "```"
   ]
  },
  {
   "cell_type": "code",
   "execution_count": 52,
   "id": "703ec48e-2181-4643-b224-afda554a084d",
   "metadata": {},
   "outputs": [
    {
     "name": "stdout",
     "output_type": "stream",
     "text": [
      "0 0\n",
      "0 1\n",
      "0 2\n",
      "1 0\n",
      "1 1\n",
      "1 2\n",
      "2 0\n",
      "2 1\n",
      "2 2\n"
     ]
    }
   ],
   "source": [
    "for i in range(3):\n",
    "    for j in range(3):\n",
    "        print(i, j)"
   ]
  },
  {
   "cell_type": "markdown",
   "id": "8b24d0b2-ce85-4be9-b970-bb2701e8161b",
   "metadata": {},
   "source": [
    "2중 for문을 이용해서 구구단을 출력하는 코드를 작성해보겠습니다."
   ]
  },
  {
   "cell_type": "code",
   "execution_count": 58,
   "id": "96c55238-a7d2-4a7b-9b5f-c5273618eefc",
   "metadata": {},
   "outputs": [
    {
     "name": "stdout",
     "output_type": "stream",
     "text": [
      "1 2 3 4 5 6 7 8 9 \n",
      "2 4 6 8 10 12 14 16 18 \n",
      "3 6 9 12 15 18 21 24 27 \n",
      "4 8 12 16 20 24 28 32 36 \n",
      "5 10 15 20 25 30 35 40 45 \n",
      "6 12 18 24 30 36 42 48 54 \n",
      "7 14 21 28 35 42 49 56 63 \n",
      "8 16 24 32 40 48 56 64 72 \n",
      "9 18 27 36 45 54 63 72 81 \n"
     ]
    }
   ],
   "source": [
    "for i in range(9):\n",
    "    for j in range(9):\n",
    "        print((i + 1) * (j + 1), end=\" \")\n",
    "    print(\"\")"
   ]
  },
  {
   "cell_type": "markdown",
   "id": "22104211-2c59-4366-a21f-35efb4f96262",
   "metadata": {},
   "source": [
    "### 2중 for문을 이용한 nested list 접근\n",
    "\n",
    "2중 for문을 이용하면 중첩되어 있는 list에 접근해서 값들을 읽어올 수 있습니다."
   ]
  },
  {
   "cell_type": "code",
   "execution_count": 69,
   "id": "51c5dba6-5076-4a27-a687-9b51ddb186c7",
   "metadata": {},
   "outputs": [],
   "source": [
    "nums = [\n",
    "    [1, 2, 3],\n",
    "    [4, 5, 6],\n",
    "    [7, 8, 9],\n",
    "    [10, 11, 12]\n",
    "]"
   ]
  },
  {
   "cell_type": "code",
   "execution_count": 72,
   "id": "5f418697-307c-459e-a01a-4efc42d88b49",
   "metadata": {},
   "outputs": [
    {
     "name": "stdout",
     "output_type": "stream",
     "text": [
      "1 2 3 \n",
      "4 5 6 \n",
      "7 8 9 \n",
      "10 11 12 \n"
     ]
    }
   ],
   "source": [
    "for i in range(len(nums)):\n",
    "    for j in range(len(nums[0])):\n",
    "        print(nums[i][j], end=\" \")\n",
    "    print(\"\")"
   ]
  },
  {
   "cell_type": "markdown",
   "id": "7d5a8ced-5746-4c52-bfe2-386da4c6c4a6",
   "metadata": {},
   "source": [
    "## 심화 Quiz 원 그리기\n",
    "\n",
    "반지름의 길이가 주어지면 그에 해당하는 원을 출력하세요. 2중 for문과 if else문, 그리고 원의 방정식을 이용해보세요.  \n",
    "\n",
    "$$x^2+y^2=r^2$$"
   ]
  },
  {
   "cell_type": "code",
   "execution_count": 77,
   "id": "5c44172d-652f-4706-ab6e-a1e2d1bae065",
   "metadata": {},
   "outputs": [
    {
     "name": "stdout",
     "output_type": "stream",
     "text": [
      "                    *                      \n",
      "            * * * * * * * * *              \n",
      "        * * * * * * * * * * * * *          \n",
      "      * * * * * * * * * * * * * * *        \n",
      "    * * * * * * * * * * * * * * * * *      \n",
      "    * * * * * * * * * * * * * * * * *      \n",
      "  * * * * * * * * * * * * * * * * * * *    \n",
      "  * * * * * * * * * * * * * * * * * * *    \n",
      "  * * * * * * * * * * * * * * * * * * *    \n",
      "  * * * * * * * * * * * * * * * * * * *    \n",
      "* * * * * * * * * * * * * * * * * * * * *  \n",
      "  * * * * * * * * * * * * * * * * * * *    \n",
      "  * * * * * * * * * * * * * * * * * * *    \n",
      "  * * * * * * * * * * * * * * * * * * *    \n",
      "  * * * * * * * * * * * * * * * * * * *    \n",
      "    * * * * * * * * * * * * * * * * *      \n",
      "    * * * * * * * * * * * * * * * * *      \n",
      "      * * * * * * * * * * * * * * *        \n",
      "        * * * * * * * * * * * * *          \n",
      "            * * * * * * * * *              \n",
      "                    *                      \n"
     ]
    }
   ],
   "source": [
    "radius = 10\n",
    "for y in range(-radius, radius + 1):\n",
    "    for x in range(-radius, radius + 1):\n",
    "        if x ** 2 + y**2 <= radius ** 2:\n",
    "            print(\"*\", end=\" \")\n",
    "        else:\n",
    "            print(\" \", end=\" \")\n",
    "    print(\" \")"
   ]
  },
  {
   "cell_type": "markdown",
   "id": "602665f0-4615-4fdb-967d-40432284c633",
   "metadata": {},
   "source": [
    "## 정리\n",
    "\n",
    "이번 챕터에서는 python에서 반복문을 구현하는 가장 기본적인 방법인 for loop에 대해서 배워보았습니다.  \n",
    "for문만 하더라도 다양한 응용 방법이 있고, 자유자재로 사용하기가 매우 까다롭습니다.  \n",
    "퀴즈로 나온 문제들은 쉽게 풀 수 있을 정도로 숙달한 다음, 넘어가시기 바랍니다."
   ]
  },
  {
   "cell_type": "code",
   "execution_count": null,
   "id": "5f87add3-7fe5-44c4-b1d9-a4052fccfcd1",
   "metadata": {},
   "outputs": [],
   "source": []
  }
 ],
 "metadata": {
  "kernelspec": {
   "display_name": "Python 3 (ipykernel)",
   "language": "python",
   "name": "python3"
  },
  "language_info": {
   "codemirror_mode": {
    "name": "ipython",
    "version": 3
   },
   "file_extension": ".py",
   "mimetype": "text/x-python",
   "name": "python",
   "nbconvert_exporter": "python",
   "pygments_lexer": "ipython3",
   "version": "3.10.0"
  }
 },
 "nbformat": 4,
 "nbformat_minor": 5
}
