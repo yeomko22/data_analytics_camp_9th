{
 "cells": [
  {
   "cell_type": "markdown",
   "id": "f52aa980-ce86-4ca0-bffd-3f604a132b33",
   "metadata": {},
   "source": [
    "# ch14. python connect\n",
    "이제 python에서 RDBMS를 사용하는 방법을 알아보겠습니다. 먼저 python에서 RDMBS를 사용하기 위한 패키지를 설치해야합니다. 종류는 여러가지가 있지만, 가장 대표적인 pymysql을 사용해보겠습니다. 이런 종류의 라이브러리들을 보통 DB driver라고 부릅니다."
   ]
  },
  {
   "cell_type": "markdown",
   "id": "5a45b66a-11a1-48ee-b6d2-e5ce5d779174",
   "metadata": {},
   "source": [
    "## pymysql을 이용해서 RDBMS 접속하기"
   ]
  },
  {
   "cell_type": "code",
   "execution_count": 4,
   "id": "98fdfdbf-5a68-416e-991a-7b54da00d598",
   "metadata": {},
   "outputs": [
    {
     "name": "stdout",
     "output_type": "stream",
     "text": [
      "Collecting pymysql\n",
      "  Downloading PyMySQL-1.1.1-py3-none-any.whl.metadata (4.4 kB)\n",
      "Downloading PyMySQL-1.1.1-py3-none-any.whl (44 kB)\n",
      "\u001b[2K   \u001b[38;2;114;156;31m━━━━━━━━━━━━━━━━━━━━━━━━━━━━━━━━━━━━━━━━\u001b[0m \u001b[32m45.0/45.0 kB\u001b[0m \u001b[31m2.2 MB/s\u001b[0m eta \u001b[36m0:00:00\u001b[0m\n",
      "\u001b[?25hInstalling collected packages: pymysql\n",
      "Successfully installed pymysql-1.1.1\n"
     ]
    }
   ],
   "source": [
    "!pip install pymysql"
   ]
  },
  {
   "cell_type": "markdown",
   "id": "bb8df15c-24c8-47c6-ac70-93d33e547b99",
   "metadata": {},
   "source": [
    "이제 pymysql로 DB에 접속해보겠습니다. 접속을 관리하는 conn (connection의 약자입니다. 보통 이렇게 줄여서 많이 사용합니다.) 객체를 만들어서 사용합니다."
   ]
  },
  {
   "cell_type": "code",
   "execution_count": null,
   "id": "3c703d34-8981-41ea-a502-982725546a72",
   "metadata": {},
   "outputs": [],
   "source": []
  },
  {
   "cell_type": "markdown",
   "id": "0fe6ffe0-b631-4330-b109-68c4270759a9",
   "metadata": {},
   "source": [
    "pymysql 라이브러리 안에 정의되어 있는 Connection 클래스로 만든 객체라는 소리입니다. "
   ]
  },
  {
   "cell_type": "markdown",
   "id": "0dbe4508-930b-42fa-9dbf-5b3f8a81c784",
   "metadata": {},
   "source": [
    "## Read 쿼리 날리기\n",
    "이제 이 conn으로 쿼리를 날려보겠습니다. 쿼리를 날리기 위해서는 Connection 클래스 안에 정의되어 있는 cursor를 사용해야 합니다.\n",
    "\n",
    "쿼리를 날리기 위해서는 먼저 SQL 문을 문자열로 만들어야 합니다. 그 다음, 마치 파일을 열고 데이터를 읽어오듯 cursor 객체를 만든 뒤에 execute 함수에 sql문을 파라미터로 전달해서 쿼리를 날리면 됩니다. 그 다음, fetchall을 이용해서 결과를 읽어오면 됩니다."
   ]
  },
  {
   "cell_type": "code",
   "execution_count": null,
   "id": "03eae977-6dd2-4d3a-96fc-605766da3ec4",
   "metadata": {},
   "outputs": [],
   "source": []
  },
  {
   "cell_type": "markdown",
   "id": "1295f2fd-81f5-4e3e-adfe-b8e4886df4e2",
   "metadata": {},
   "source": [
    "### 연습 문제\n",
    "- titanic 테이블에서 Pclass, Survived, Name, Age 컬럼을 Age 오름차순으로 10개만 읽어와서 print 문으로 출력해보세요."
   ]
  },
  {
   "cell_type": "code",
   "execution_count": null,
   "id": "4c5b42d7-a53a-4b09-a29b-1596719d9c19",
   "metadata": {},
   "outputs": [],
   "source": []
  },
  {
   "cell_type": "markdown",
   "id": "31bef4b6-ac5b-475f-873b-4195d40c511e",
   "metadata": {},
   "source": [
    "## Write 쿼리 날리기\n",
    "write 쿼리는 read 쿼리와 다르게 execute로 쿼리를 실행한 다음, commit을 해주어야 결과가 반영이 됩니다. 이를 온전히 이해하기 위해서는 transaction 개념을 이해해야 하는데, 일단은 넘어가고 데이터를 보호하기 위한 안전장치라고 생각하고 넘어갑시다.\n",
    "\n",
    "products 테이블에 새로운 레코드를 하나 추가해보겠습니다. 이 때, python for문을 사용해서 편하게 SQL문을 작성해보겠습니다."
   ]
  },
  {
   "cell_type": "code",
   "execution_count": null,
   "id": "8745e771-d889-4232-aa04-9e66b1184e22",
   "metadata": {},
   "outputs": [],
   "source": []
  },
  {
   "cell_type": "markdown",
   "id": "46db4530-74db-45a0-a6f3-366a925735a7",
   "metadata": {},
   "source": [
    "## 정리\n",
    "\n",
    "이번 챕터에서는 python 코드 상에서 RDBMS에 어떻게 접속하고, SQL문을 날릴 수 있는지 알아보았습니다. 앞으로 자주 사용하게 될 코드들이니 사용법을 잘 익혀놓으시기 바랍니다."
   ]
  },
  {
   "cell_type": "code",
   "execution_count": null,
   "id": "3d9c5ed5-40c3-49e9-9f89-8f5d6c100fe2",
   "metadata": {},
   "outputs": [],
   "source": []
  }
 ],
 "metadata": {
  "kernelspec": {
   "display_name": "Python 3 (ipykernel)",
   "language": "python",
   "name": "python3"
  },
  "language_info": {
   "codemirror_mode": {
    "name": "ipython",
    "version": 3
   },
   "file_extension": ".py",
   "mimetype": "text/x-python",
   "name": "python",
   "nbconvert_exporter": "python",
   "pygments_lexer": "ipython3",
   "version": "3.10.0"
  }
 },
 "nbformat": 4,
 "nbformat_minor": 5
}
