{
 "cells": [
  {
   "cell_type": "markdown",
   "id": "f52aa980-ce86-4ca0-bffd-3f604a132b33",
   "metadata": {},
   "source": [
    "# ch4_12 python connect\n",
    "이제 python에서 RDBMS를 사용하는 방법을 알아보겠습니다. 먼저 python에서 RDMBS를 사용하기 위한 패키지를 설치해야합니다. 종류는 여러가지가 있지만, 가장 대표적인 pymysql을 사용해보겠습니다. 이런 종류의 라이브러리들을 보통 DB driver라고 부릅니다."
   ]
  },
  {
   "cell_type": "markdown",
   "id": "5a45b66a-11a1-48ee-b6d2-e5ce5d779174",
   "metadata": {},
   "source": [
    "## pymysql을 이용해서 RDBMS 접속하기"
   ]
  },
  {
   "cell_type": "code",
   "execution_count": 1,
   "id": "98fdfdbf-5a68-416e-991a-7b54da00d598",
   "metadata": {},
   "outputs": [
    {
     "name": "stdout",
     "output_type": "stream",
     "text": [
      "Requirement already satisfied: pymysql in /Users/user/miniconda3/lib/python3.10/site-packages (1.0.3)\n"
     ]
    }
   ],
   "source": [
    "!pip install pymysql"
   ]
  },
  {
   "cell_type": "markdown",
   "id": "bb8df15c-24c8-47c6-ac70-93d33e547b99",
   "metadata": {},
   "source": [
    "이제 pymysql로 DB에 접속해보겠습니다. 접속을 관리하는 conn (connection의 약자입니다. 보통 이렇게 줄여서 많이 사용합니다.) 객체를 만들어서 사용합니다."
   ]
  },
  {
   "cell_type": "code",
   "execution_count": 47,
   "id": "709ef7e0-649c-451d-b49a-ce4a47697270",
   "metadata": {},
   "outputs": [],
   "source": [
    "import pymysql \n",
    "\n",
    "conn = pymysql.connect(\n",
    "    host=\"127.0.0.1\",\n",
    "    user=\"root\",\n",
    "    password=\"1234\",\n",
    "    database=\"olist\"\n",
    ")"
   ]
  },
  {
   "cell_type": "code",
   "execution_count": 48,
   "id": "abc5a908-e503-48b6-abfa-72f9ccd0b465",
   "metadata": {},
   "outputs": [
    {
     "data": {
      "text/plain": [
       "(<pymysql.connections.Connection at 0x1480f49a0>,\n",
       " pymysql.connections.Connection)"
      ]
     },
     "execution_count": 48,
     "metadata": {},
     "output_type": "execute_result"
    }
   ],
   "source": [
    "conn, type(conn)"
   ]
  },
  {
   "cell_type": "markdown",
   "id": "0fe6ffe0-b631-4330-b109-68c4270759a9",
   "metadata": {},
   "source": [
    "pymysql 라이브러리 안에 정의되어 있는 Connection 클래스로 만든 객체라는 소리입니다. "
   ]
  },
  {
   "cell_type": "markdown",
   "id": "0dbe4508-930b-42fa-9dbf-5b3f8a81c784",
   "metadata": {},
   "source": [
    "## Read 쿼리 날리기\n",
    "이제 이 conn으로 쿼리를 날려보겠습니다. 쿼리를 날리기 위해서는 Connection 클래스 안에 정의되어 있는 cursor를 사용해야 합니다.\n",
    "\n",
    "쿼리를 날리기 위해서는 먼저 SQL 문을 문자열로 만들어야 합니다. 그 다음, 마치 파일을 열고 데이터를 읽어오듯 cursor 객체를 만든 뒤에 execute 함수에 sql문을 파라미터로 전달해서 쿼리를 날리면 됩니다. 그 다음, fetchall을 이용해서 결과를 읽어오면 됩니다."
   ]
  },
  {
   "cell_type": "code",
   "execution_count": 49,
   "id": "1683aea7-7c05-4480-ac0e-2144e08be91d",
   "metadata": {},
   "outputs": [],
   "source": [
    "def read_all_items():\n",
    "    select_sql = \"SELECT * FROM items WHERE id=1\"\n",
    "    with conn.cursor() as cursor:\n",
    "        cursor.execute(select_sql)\n",
    "        result = cursor.fetchall()\n",
    "    return result"
   ]
  },
  {
   "cell_type": "code",
   "execution_count": 50,
   "id": "b3b5c140-8a89-45f6-9372-5af004f9b000",
   "metadata": {},
   "outputs": [
    {
     "ename": "ProgrammingError",
     "evalue": "(1146, \"Table 'olist.items' doesn't exist\")",
     "output_type": "error",
     "traceback": [
      "\u001b[0;31m---------------------------------------------------------------------------\u001b[0m",
      "\u001b[0;31mProgrammingError\u001b[0m                          Traceback (most recent call last)",
      "Cell \u001b[0;32mIn[50], line 1\u001b[0m\n\u001b[0;32m----> 1\u001b[0m records \u001b[38;5;241m=\u001b[39m \u001b[43mread_all_items\u001b[49m\u001b[43m(\u001b[49m\u001b[43m)\u001b[49m\n\u001b[1;32m      2\u001b[0m \u001b[38;5;28mprint\u001b[39m(records)\n",
      "Cell \u001b[0;32mIn[49], line 4\u001b[0m, in \u001b[0;36mread_all_items\u001b[0;34m()\u001b[0m\n\u001b[1;32m      2\u001b[0m select_sql \u001b[38;5;241m=\u001b[39m \u001b[38;5;124m\"\u001b[39m\u001b[38;5;124mSELECT * FROM items WHERE id=1\u001b[39m\u001b[38;5;124m\"\u001b[39m\n\u001b[1;32m      3\u001b[0m \u001b[38;5;28;01mwith\u001b[39;00m conn\u001b[38;5;241m.\u001b[39mcursor() \u001b[38;5;28;01mas\u001b[39;00m cursor:\n\u001b[0;32m----> 4\u001b[0m     \u001b[43mcursor\u001b[49m\u001b[38;5;241;43m.\u001b[39;49m\u001b[43mexecute\u001b[49m\u001b[43m(\u001b[49m\u001b[43mselect_sql\u001b[49m\u001b[43m)\u001b[49m\n\u001b[1;32m      5\u001b[0m     result \u001b[38;5;241m=\u001b[39m cursor\u001b[38;5;241m.\u001b[39mfetchall()\n\u001b[1;32m      6\u001b[0m \u001b[38;5;28;01mreturn\u001b[39;00m result\n",
      "File \u001b[0;32m~/miniconda3/lib/python3.10/site-packages/pymysql/cursors.py:158\u001b[0m, in \u001b[0;36mCursor.execute\u001b[0;34m(self, query, args)\u001b[0m\n\u001b[1;32m    154\u001b[0m     \u001b[38;5;28;01mpass\u001b[39;00m\n\u001b[1;32m    156\u001b[0m query \u001b[38;5;241m=\u001b[39m \u001b[38;5;28mself\u001b[39m\u001b[38;5;241m.\u001b[39mmogrify(query, args)\n\u001b[0;32m--> 158\u001b[0m result \u001b[38;5;241m=\u001b[39m \u001b[38;5;28;43mself\u001b[39;49m\u001b[38;5;241;43m.\u001b[39;49m\u001b[43m_query\u001b[49m\u001b[43m(\u001b[49m\u001b[43mquery\u001b[49m\u001b[43m)\u001b[49m\n\u001b[1;32m    159\u001b[0m \u001b[38;5;28mself\u001b[39m\u001b[38;5;241m.\u001b[39m_executed \u001b[38;5;241m=\u001b[39m query\n\u001b[1;32m    160\u001b[0m \u001b[38;5;28;01mreturn\u001b[39;00m result\n",
      "File \u001b[0;32m~/miniconda3/lib/python3.10/site-packages/pymysql/cursors.py:325\u001b[0m, in \u001b[0;36mCursor._query\u001b[0;34m(self, q)\u001b[0m\n\u001b[1;32m    323\u001b[0m conn \u001b[38;5;241m=\u001b[39m \u001b[38;5;28mself\u001b[39m\u001b[38;5;241m.\u001b[39m_get_db()\n\u001b[1;32m    324\u001b[0m \u001b[38;5;28mself\u001b[39m\u001b[38;5;241m.\u001b[39m_clear_result()\n\u001b[0;32m--> 325\u001b[0m \u001b[43mconn\u001b[49m\u001b[38;5;241;43m.\u001b[39;49m\u001b[43mquery\u001b[49m\u001b[43m(\u001b[49m\u001b[43mq\u001b[49m\u001b[43m)\u001b[49m\n\u001b[1;32m    326\u001b[0m \u001b[38;5;28mself\u001b[39m\u001b[38;5;241m.\u001b[39m_do_get_result()\n\u001b[1;32m    327\u001b[0m \u001b[38;5;28;01mreturn\u001b[39;00m \u001b[38;5;28mself\u001b[39m\u001b[38;5;241m.\u001b[39mrowcount\n",
      "File \u001b[0;32m~/miniconda3/lib/python3.10/site-packages/pymysql/connections.py:549\u001b[0m, in \u001b[0;36mConnection.query\u001b[0;34m(self, sql, unbuffered)\u001b[0m\n\u001b[1;32m    547\u001b[0m     sql \u001b[38;5;241m=\u001b[39m sql\u001b[38;5;241m.\u001b[39mencode(\u001b[38;5;28mself\u001b[39m\u001b[38;5;241m.\u001b[39mencoding, \u001b[38;5;124m\"\u001b[39m\u001b[38;5;124msurrogateescape\u001b[39m\u001b[38;5;124m\"\u001b[39m)\n\u001b[1;32m    548\u001b[0m \u001b[38;5;28mself\u001b[39m\u001b[38;5;241m.\u001b[39m_execute_command(COMMAND\u001b[38;5;241m.\u001b[39mCOM_QUERY, sql)\n\u001b[0;32m--> 549\u001b[0m \u001b[38;5;28mself\u001b[39m\u001b[38;5;241m.\u001b[39m_affected_rows \u001b[38;5;241m=\u001b[39m \u001b[38;5;28;43mself\u001b[39;49m\u001b[38;5;241;43m.\u001b[39;49m\u001b[43m_read_query_result\u001b[49m\u001b[43m(\u001b[49m\u001b[43munbuffered\u001b[49m\u001b[38;5;241;43m=\u001b[39;49m\u001b[43munbuffered\u001b[49m\u001b[43m)\u001b[49m\n\u001b[1;32m    550\u001b[0m \u001b[38;5;28;01mreturn\u001b[39;00m \u001b[38;5;28mself\u001b[39m\u001b[38;5;241m.\u001b[39m_affected_rows\n",
      "File \u001b[0;32m~/miniconda3/lib/python3.10/site-packages/pymysql/connections.py:779\u001b[0m, in \u001b[0;36mConnection._read_query_result\u001b[0;34m(self, unbuffered)\u001b[0m\n\u001b[1;32m    777\u001b[0m \u001b[38;5;28;01melse\u001b[39;00m:\n\u001b[1;32m    778\u001b[0m     result \u001b[38;5;241m=\u001b[39m MySQLResult(\u001b[38;5;28mself\u001b[39m)\n\u001b[0;32m--> 779\u001b[0m     \u001b[43mresult\u001b[49m\u001b[38;5;241;43m.\u001b[39;49m\u001b[43mread\u001b[49m\u001b[43m(\u001b[49m\u001b[43m)\u001b[49m\n\u001b[1;32m    780\u001b[0m \u001b[38;5;28mself\u001b[39m\u001b[38;5;241m.\u001b[39m_result \u001b[38;5;241m=\u001b[39m result\n\u001b[1;32m    781\u001b[0m \u001b[38;5;28;01mif\u001b[39;00m result\u001b[38;5;241m.\u001b[39mserver_status \u001b[38;5;129;01mis\u001b[39;00m \u001b[38;5;129;01mnot\u001b[39;00m \u001b[38;5;28;01mNone\u001b[39;00m:\n",
      "File \u001b[0;32m~/miniconda3/lib/python3.10/site-packages/pymysql/connections.py:1157\u001b[0m, in \u001b[0;36mMySQLResult.read\u001b[0;34m(self)\u001b[0m\n\u001b[1;32m   1155\u001b[0m \u001b[38;5;28;01mdef\u001b[39;00m \u001b[38;5;21mread\u001b[39m(\u001b[38;5;28mself\u001b[39m):\n\u001b[1;32m   1156\u001b[0m     \u001b[38;5;28;01mtry\u001b[39;00m:\n\u001b[0;32m-> 1157\u001b[0m         first_packet \u001b[38;5;241m=\u001b[39m \u001b[38;5;28;43mself\u001b[39;49m\u001b[38;5;241;43m.\u001b[39;49m\u001b[43mconnection\u001b[49m\u001b[38;5;241;43m.\u001b[39;49m\u001b[43m_read_packet\u001b[49m\u001b[43m(\u001b[49m\u001b[43m)\u001b[49m\n\u001b[1;32m   1159\u001b[0m         \u001b[38;5;28;01mif\u001b[39;00m first_packet\u001b[38;5;241m.\u001b[39mis_ok_packet():\n\u001b[1;32m   1160\u001b[0m             \u001b[38;5;28mself\u001b[39m\u001b[38;5;241m.\u001b[39m_read_ok_packet(first_packet)\n",
      "File \u001b[0;32m~/miniconda3/lib/python3.10/site-packages/pymysql/connections.py:729\u001b[0m, in \u001b[0;36mConnection._read_packet\u001b[0;34m(self, packet_type)\u001b[0m\n\u001b[1;32m    727\u001b[0m     \u001b[38;5;28;01mif\u001b[39;00m \u001b[38;5;28mself\u001b[39m\u001b[38;5;241m.\u001b[39m_result \u001b[38;5;129;01mis\u001b[39;00m \u001b[38;5;129;01mnot\u001b[39;00m \u001b[38;5;28;01mNone\u001b[39;00m \u001b[38;5;129;01mand\u001b[39;00m \u001b[38;5;28mself\u001b[39m\u001b[38;5;241m.\u001b[39m_result\u001b[38;5;241m.\u001b[39munbuffered_active \u001b[38;5;129;01mis\u001b[39;00m \u001b[38;5;28;01mTrue\u001b[39;00m:\n\u001b[1;32m    728\u001b[0m         \u001b[38;5;28mself\u001b[39m\u001b[38;5;241m.\u001b[39m_result\u001b[38;5;241m.\u001b[39munbuffered_active \u001b[38;5;241m=\u001b[39m \u001b[38;5;28;01mFalse\u001b[39;00m\n\u001b[0;32m--> 729\u001b[0m     \u001b[43mpacket\u001b[49m\u001b[38;5;241;43m.\u001b[39;49m\u001b[43mraise_for_error\u001b[49m\u001b[43m(\u001b[49m\u001b[43m)\u001b[49m\n\u001b[1;32m    730\u001b[0m \u001b[38;5;28;01mreturn\u001b[39;00m packet\n",
      "File \u001b[0;32m~/miniconda3/lib/python3.10/site-packages/pymysql/protocol.py:221\u001b[0m, in \u001b[0;36mMysqlPacket.raise_for_error\u001b[0;34m(self)\u001b[0m\n\u001b[1;32m    219\u001b[0m \u001b[38;5;28;01mif\u001b[39;00m DEBUG:\n\u001b[1;32m    220\u001b[0m     \u001b[38;5;28mprint\u001b[39m(\u001b[38;5;124m\"\u001b[39m\u001b[38;5;124merrno =\u001b[39m\u001b[38;5;124m\"\u001b[39m, errno)\n\u001b[0;32m--> 221\u001b[0m \u001b[43merr\u001b[49m\u001b[38;5;241;43m.\u001b[39;49m\u001b[43mraise_mysql_exception\u001b[49m\u001b[43m(\u001b[49m\u001b[38;5;28;43mself\u001b[39;49m\u001b[38;5;241;43m.\u001b[39;49m\u001b[43m_data\u001b[49m\u001b[43m)\u001b[49m\n",
      "File \u001b[0;32m~/miniconda3/lib/python3.10/site-packages/pymysql/err.py:143\u001b[0m, in \u001b[0;36mraise_mysql_exception\u001b[0;34m(data)\u001b[0m\n\u001b[1;32m    141\u001b[0m \u001b[38;5;28;01mif\u001b[39;00m errorclass \u001b[38;5;129;01mis\u001b[39;00m \u001b[38;5;28;01mNone\u001b[39;00m:\n\u001b[1;32m    142\u001b[0m     errorclass \u001b[38;5;241m=\u001b[39m InternalError \u001b[38;5;28;01mif\u001b[39;00m errno \u001b[38;5;241m<\u001b[39m \u001b[38;5;241m1000\u001b[39m \u001b[38;5;28;01melse\u001b[39;00m OperationalError\n\u001b[0;32m--> 143\u001b[0m \u001b[38;5;28;01mraise\u001b[39;00m errorclass(errno, errval)\n",
      "\u001b[0;31mProgrammingError\u001b[0m: (1146, \"Table 'olist.items' doesn't exist\")"
     ]
    }
   ],
   "source": [
    "records = read_all_items()\n",
    "print(records)"
   ]
  },
  {
   "cell_type": "markdown",
   "id": "1295f2fd-81f5-4e3e-adfe-b8e4886df4e2",
   "metadata": {},
   "source": [
    "### 연습 문제\n",
    "- titanic 테이블에서 Pclass, Survived, Name, Age 컬럼을 Age 오름차순으로 10개만 읽어와서 print 문으로 출력해보세요."
   ]
  },
  {
   "cell_type": "code",
   "execution_count": null,
   "id": "4c5b42d7-a53a-4b09-a29b-1596719d9c19",
   "metadata": {},
   "outputs": [],
   "source": []
  },
  {
   "cell_type": "markdown",
   "id": "31bef4b6-ac5b-475f-873b-4195d40c511e",
   "metadata": {},
   "source": [
    "## Write 쿼리 날리기\n",
    "write 쿼리는 read 쿼리와 다르게 execute로 쿼리를 실행한 다음, commit을 해주어야 결과가 반영이 됩니다. 이를 온전히 이해하기 위해서는 transaction 개념을 이해해야 하는데, 일단은 넘어가고 데이터를 보호하기 위한 안전장치라고 생각하고 넘어갑시다.\n",
    "\n",
    "products 테이블에 새로운 레코드를 하나 추가해보겠습니다. 이 때, python for문을 사용해서 편하게 SQL문을 작성해보겠습니다."
   ]
  },
  {
   "cell_type": "code",
   "execution_count": 16,
   "id": "1ae24fd2-bb86-400e-b226-54bec49a2fda",
   "metadata": {},
   "outputs": [],
   "source": [
    "new_products = [\n",
    "    (\"smash\", 68000, \"puma\"),\n",
    "    (\"spark\", 12200, \"puma\"),\n",
    "    (\"allstar\", 98000, \"converse\"),\n",
    "]"
   ]
  },
  {
   "cell_type": "code",
   "execution_count": 17,
   "id": "3b204eb5-e6b7-4cce-ae91-12eeeb0098ed",
   "metadata": {},
   "outputs": [],
   "source": [
    "def generate_insert_sql(new_products):\n",
    "    insert_sql = \"INSERT INTO items(name, price, brand) VALUES \"\n",
    "    for name, price, description in new_products:\n",
    "        insert_sql += f\"('{name}', {price}, '{description}'), \"\n",
    "    # 마지막에 붙은 , 떼주기\n",
    "    insert_sql = insert_sql[:-2]\n",
    "    return insert_sql"
   ]
  },
  {
   "cell_type": "code",
   "execution_count": 18,
   "id": "450510fb-ad7e-418c-ac1c-351bf349ea6e",
   "metadata": {},
   "outputs": [
    {
     "data": {
      "text/plain": [
       "\"INSERT INTO items(name, price, brand) VALUES ('smash', 68000, 'puma'), ('spark', 12200, 'puma'), ('allstar', 98000, 'converse')\""
      ]
     },
     "execution_count": 18,
     "metadata": {},
     "output_type": "execute_result"
    }
   ],
   "source": [
    "insert_sql = generate_insert_sql(new_products)\n",
    "insert_sql"
   ]
  },
  {
   "cell_type": "code",
   "execution_count": 23,
   "id": "310238c1-2843-4320-8ac0-d74f0482f260",
   "metadata": {},
   "outputs": [],
   "source": [
    "with conn.cursor() as cursor:\n",
    "    cursor.execute(insert_sql)\n",
    "    conn.commit()"
   ]
  },
  {
   "cell_type": "code",
   "execution_count": 24,
   "id": "1a519b05-1a57-4536-bcae-befc3c8198a4",
   "metadata": {},
   "outputs": [
    {
     "data": {
      "text/plain": [
       "((1, 'superstar', 23400, 'adidas'),\n",
       " (2, 'easyboost', 58250, 'adidas'),\n",
       " (3, 'airforce', 89000, 'nike'),\n",
       " (4, 'jordan', 45000, 'nike'),\n",
       " (5, 'airbreaker', 89000, 'newbalance'),\n",
       " (6, 'booster', 69800, 'newbalance'),\n",
       " (7, 'smash', 68000, 'puma'),\n",
       " (8, 'spark', 12200, 'puma'),\n",
       " (9, 'allstar', 98000, 'converse'),\n",
       " (10, 'smash', 68000, 'puma'),\n",
       " (11, 'spark', 12200, 'puma'),\n",
       " (12, 'allstar', 98000, 'converse'))"
      ]
     },
     "execution_count": 24,
     "metadata": {},
     "output_type": "execute_result"
    }
   ],
   "source": [
    "read_all_items()"
   ]
  },
  {
   "cell_type": "markdown",
   "id": "bc1a707e-e0cc-492a-a09b-df8fd54fb1a8",
   "metadata": {},
   "source": [
    "### 대량의 데이터 일괄 쓰기\n",
    "\n",
    "python 코드를 이용하여 CSV 파일을 읽어서 insert sql문을 작성한 다음, DB에 써줄 수 있었습니다. 그리고 여러 행에 걸쳐있는 데이터를 읽어와서 일괄적으로 insert를 수행할 수도 있습니다. 이를 이용해서 대량의 데이터를 CSV 라이브러리로 읽어와서 일정한 개수 단위로 끊어서 DB에 write를 할 수 있습니다. "
   ]
  },
  {
   "cell_type": "code",
   "execution_count": 43,
   "id": "961ee86b-ae9a-493f-9f02-188a42a7421d",
   "metadata": {},
   "outputs": [],
   "source": [
    "import csv\n",
    "from tqdm import tqdm\n",
    "\n",
    "def insert_multiple_values(insert_sql, values):\n",
    "    with conn.cursor() as cursor:\n",
    "        cursor.executemany(insert_sql, values)\n",
    "        conn.commit()\n",
    "\n",
    "def bulk_insert(csv_file_path, insert_sql, batch_size=1000):\n",
    "    with open(csv_file_path) as fr:\n",
    "        reader = csv.reader(fr)\n",
    "        next(reader)\n",
    "        buffer = []\n",
    "        for row in tqdm(reader):\n",
    "            buffer.append(tuple(row))\n",
    "            if len(buffer) == batch_size:\n",
    "                insert_multiple_values(\n",
    "                    insert_sql, buffer)\n",
    "                values = []\n",
    "        if values:\n",
    "            insert_multiple_values(insert_sql, buffer)"
   ]
  },
  {
   "cell_type": "code",
   "execution_count": 44,
   "id": "8bb94bf7-1e39-4598-99ab-1ab2319144a2",
   "metadata": {},
   "outputs": [
    {
     "name": "stderr",
     "output_type": "stream",
     "text": [
      "99441it [00:00, 917311.15it/s]\n"
     ]
    }
   ],
   "source": [
    "insert_sql = \"INSERT INTO customers(customer_id, customer_unique_id, customer_zip_code_prefix, customer_city, customer_state) VALUES (%s, %s, %s, %s, %s)\"\n",
    "bulk_insert(\"./data/olist/customers.csv\", insert_sql)"
   ]
  },
  {
   "cell_type": "code",
   "execution_count": 51,
   "id": "35a5627d-dae3-4df2-bf1d-9c7b8ac1cc1d",
   "metadata": {},
   "outputs": [
    {
     "name": "stdout",
     "output_type": "stream",
     "text": [
      "/Users/user/dev/data_analytics_camp_2023_share/week4_database\n"
     ]
    }
   ],
   "source": [
    "!pwd"
   ]
  },
  {
   "cell_type": "code",
   "execution_count": null,
   "id": "ef47f37b-aea7-4ce0-8bd4-0fcbdfed444b",
   "metadata": {},
   "outputs": [],
   "source": []
  }
 ],
 "metadata": {
  "kernelspec": {
   "display_name": "Python 3 (ipykernel)",
   "language": "python",
   "name": "python3"
  },
  "language_info": {
   "codemirror_mode": {
    "name": "ipython",
    "version": 3
   },
   "file_extension": ".py",
   "mimetype": "text/x-python",
   "name": "python",
   "nbconvert_exporter": "python",
   "pygments_lexer": "ipython3",
   "version": "3.10.0"
  }
 },
 "nbformat": 4,
 "nbformat_minor": 5
}
