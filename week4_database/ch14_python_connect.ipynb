{
 "cells": [
  {
   "cell_type": "markdown",
   "id": "f52aa980-ce86-4ca0-bffd-3f604a132b33",
   "metadata": {},
   "source": [
    "# ch14. python connect\n",
    "이제 python에서 RDBMS를 사용하는 방법을 알아보겠습니다. 먼저 python에서 RDMBS를 사용하기 위한 패키지를 설치해야합니다. 종류는 여러가지가 있지만, 가장 대표적인 pymysql을 사용해보겠습니다. 이런 종류의 라이브러리들을 보통 DB driver라고 부릅니다."
   ]
  },
  {
   "cell_type": "markdown",
   "id": "5a45b66a-11a1-48ee-b6d2-e5ce5d779174",
   "metadata": {},
   "source": [
    "## pymysql을 이용해서 RDBMS 접속하기"
   ]
  },
  {
   "cell_type": "code",
   "execution_count": 4,
   "id": "98fdfdbf-5a68-416e-991a-7b54da00d598",
   "metadata": {},
   "outputs": [
    {
     "name": "stdout",
     "output_type": "stream",
     "text": [
      "Collecting pymysql\n",
      "  Downloading PyMySQL-1.1.1-py3-none-any.whl.metadata (4.4 kB)\n",
      "Downloading PyMySQL-1.1.1-py3-none-any.whl (44 kB)\n",
      "\u001b[2K   \u001b[38;2;114;156;31m━━━━━━━━━━━━━━━━━━━━━━━━━━━━━━━━━━━━━━━━\u001b[0m \u001b[32m45.0/45.0 kB\u001b[0m \u001b[31m2.2 MB/s\u001b[0m eta \u001b[36m0:00:00\u001b[0m\n",
      "\u001b[?25hInstalling collected packages: pymysql\n",
      "Successfully installed pymysql-1.1.1\n"
     ]
    }
   ],
   "source": [
    "!pip install pymysql"
   ]
  },
  {
   "cell_type": "markdown",
   "id": "bb8df15c-24c8-47c6-ac70-93d33e547b99",
   "metadata": {},
   "source": [
    "이제 pymysql로 DB에 접속해보겠습니다. 접속을 관리하는 conn (connection의 약자입니다. 보통 이렇게 줄여서 많이 사용합니다.) 객체를 만들어서 사용합니다."
   ]
  },
  {
   "cell_type": "code",
   "execution_count": 1,
   "id": "709ef7e0-649c-451d-b49a-ce4a47697270",
   "metadata": {},
   "outputs": [],
   "source": [
    "import pymysql \n",
    "\n",
    "conn = pymysql.connect(\n",
    "    host=\"127.0.0.1\",\n",
    "    user=\"root\",\n",
    "    password=\"1234\",\n",
    "    database=\"mystore\"\n",
    ")"
   ]
  },
  {
   "cell_type": "code",
   "execution_count": 2,
   "id": "abc5a908-e503-48b6-abfa-72f9ccd0b465",
   "metadata": {},
   "outputs": [
    {
     "data": {
      "text/plain": [
       "(<pymysql.connections.Connection at 0x1069bd480>,\n",
       " pymysql.connections.Connection)"
      ]
     },
     "execution_count": 2,
     "metadata": {},
     "output_type": "execute_result"
    }
   ],
   "source": [
    "conn, type(conn)"
   ]
  },
  {
   "cell_type": "markdown",
   "id": "0fe6ffe0-b631-4330-b109-68c4270759a9",
   "metadata": {},
   "source": [
    "pymysql 라이브러리 안에 정의되어 있는 Connection 클래스로 만든 객체라는 소리입니다. "
   ]
  },
  {
   "cell_type": "markdown",
   "id": "0dbe4508-930b-42fa-9dbf-5b3f8a81c784",
   "metadata": {},
   "source": [
    "## Read 쿼리 날리기\n",
    "이제 이 conn으로 쿼리를 날려보겠습니다. 쿼리를 날리기 위해서는 Connection 클래스 안에 정의되어 있는 cursor를 사용해야 합니다.\n",
    "\n",
    "쿼리를 날리기 위해서는 먼저 SQL 문을 문자열로 만들어야 합니다. 그 다음, 마치 파일을 열고 데이터를 읽어오듯 cursor 객체를 만든 뒤에 execute 함수에 sql문을 파라미터로 전달해서 쿼리를 날리면 됩니다. 그 다음, fetchall을 이용해서 결과를 읽어오면 됩니다."
   ]
  },
  {
   "cell_type": "code",
   "execution_count": 3,
   "id": "1683aea7-7c05-4480-ac0e-2144e08be91d",
   "metadata": {},
   "outputs": [],
   "source": [
    "def read_all_items():\n",
    "    select_sql = \"SELECT * FROM products\"\n",
    "    with conn.cursor() as cursor:\n",
    "        cursor.execute(select_sql)\n",
    "        result = cursor.fetchall()\n",
    "    return result"
   ]
  },
  {
   "cell_type": "code",
   "execution_count": 4,
   "id": "b3b5c140-8a89-45f6-9372-5af004f9b000",
   "metadata": {},
   "outputs": [
    {
     "name": "stdout",
     "output_type": "stream",
     "text": [
      "((1, '검은색 모자', 3000, '야외 활동에 적합한 스포티한 모자'), (2, '와이드 청바지', 20000, '활동성을 고려한 편안한 청바지'), (3, '흰색 컨버스화', 5000, '편안하면서도 예쁜 운동화'), (4, '흰색 무지티', 5000, '가성비 좋은 흰색 무지티'), (5, '검은색 모자', 50000, '고급 브랜드의 야심찬 신상 모자'), (6, '노란색 원피스', 68000, '하늘하늘한 원피스'), (7, '하늘색 비니', 12200, '따뜻하고 산뜻한 비니'))\n"
     ]
    }
   ],
   "source": [
    "records = read_all_items()\n",
    "print(records)"
   ]
  },
  {
   "cell_type": "markdown",
   "id": "1295f2fd-81f5-4e3e-adfe-b8e4886df4e2",
   "metadata": {},
   "source": [
    "### 연습 문제\n",
    "- titanic 테이블에서 Pclass, Survived, Name, Age 컬럼을 Age 오름차순으로 10개만 읽어와서 print 문으로 출력해보세요."
   ]
  },
  {
   "cell_type": "code",
   "execution_count": null,
   "id": "4c5b42d7-a53a-4b09-a29b-1596719d9c19",
   "metadata": {},
   "outputs": [],
   "source": []
  },
  {
   "cell_type": "markdown",
   "id": "31bef4b6-ac5b-475f-873b-4195d40c511e",
   "metadata": {},
   "source": [
    "## Write 쿼리 날리기\n",
    "write 쿼리는 read 쿼리와 다르게 execute로 쿼리를 실행한 다음, commit을 해주어야 결과가 반영이 됩니다. 이를 온전히 이해하기 위해서는 transaction 개념을 이해해야 하는데, 일단은 넘어가고 데이터를 보호하기 위한 안전장치라고 생각하고 넘어갑시다.\n",
    "\n",
    "products 테이블에 새로운 레코드를 하나 추가해보겠습니다. 이 때, python for문을 사용해서 편하게 SQL문을 작성해보겠습니다."
   ]
  },
  {
   "cell_type": "code",
   "execution_count": 5,
   "id": "1ae24fd2-bb86-400e-b226-54bec49a2fda",
   "metadata": {},
   "outputs": [],
   "source": [
    "new_products = [\n",
    "    (\"노란색 원피스\", 68000, \"하늘하늘한 원피스\"),\n",
    "    (\"하늘색 비니\", 12200, \"따뜻하고 산뜻한 비니\"),\n",
    "]"
   ]
  },
  {
   "cell_type": "code",
   "execution_count": 6,
   "id": "3b204eb5-e6b7-4cce-ae91-12eeeb0098ed",
   "metadata": {},
   "outputs": [],
   "source": [
    "def generate_insert_sql(new_products):\n",
    "    insert_sql = \"INSERT INTO products(name, price, description) VALUES \"\n",
    "    for name, price, description in new_products:\n",
    "        insert_sql += f\"('{name}', {price}, '{description}'), \"\n",
    "    # 마지막에 붙은 , 떼주기\n",
    "    insert_sql = insert_sql[:-2]\n",
    "    return insert_sql"
   ]
  },
  {
   "cell_type": "code",
   "execution_count": 7,
   "id": "450510fb-ad7e-418c-ac1c-351bf349ea6e",
   "metadata": {},
   "outputs": [
    {
     "data": {
      "text/plain": [
       "\"INSERT INTO products(name, price, description) VALUES ('노란색 원피스', 68000, '하늘하늘한 원피스'), ('하늘색 비니', 12200, '따뜻하고 산뜻한 비니')\""
      ]
     },
     "execution_count": 7,
     "metadata": {},
     "output_type": "execute_result"
    }
   ],
   "source": [
    "insert_sql = generate_insert_sql(new_products)\n",
    "insert_sql"
   ]
  },
  {
   "cell_type": "code",
   "execution_count": 8,
   "id": "310238c1-2843-4320-8ac0-d74f0482f260",
   "metadata": {},
   "outputs": [],
   "source": [
    "with conn.cursor() as cursor:\n",
    "    cursor.execute(insert_sql)\n",
    "    conn.commit()"
   ]
  },
  {
   "cell_type": "code",
   "execution_count": 9,
   "id": "1a519b05-1a57-4536-bcae-befc3c8198a4",
   "metadata": {},
   "outputs": [
    {
     "data": {
      "text/plain": [
       "((1, '검은색 모자', 3000, '야외 활동에 적합한 스포티한 모자'),\n",
       " (2, '와이드 청바지', 20000, '활동성을 고려한 편안한 청바지'),\n",
       " (3, '흰색 컨버스화', 5000, '편안하면서도 예쁜 운동화'),\n",
       " (4, '흰색 무지티', 5000, '가성비 좋은 흰색 무지티'),\n",
       " (5, '검은색 모자', 50000, '고급 브랜드의 야심찬 신상 모자'),\n",
       " (6, '노란색 원피스', 68000, '하늘하늘한 원피스'),\n",
       " (7, '하늘색 비니', 12200, '따뜻하고 산뜻한 비니'),\n",
       " (10, '노란색 원피스', 68000, '하늘하늘한 원피스'),\n",
       " (11, '하늘색 비니', 12200, '따뜻하고 산뜻한 비니'))"
      ]
     },
     "execution_count": 9,
     "metadata": {},
     "output_type": "execute_result"
    }
   ],
   "source": [
    "read_all_items()"
   ]
  },
  {
   "cell_type": "markdown",
   "id": "46db4530-74db-45a0-a6f3-366a925735a7",
   "metadata": {},
   "source": [
    "## 정리\n",
    "\n",
    "이번 챕터에서는 python 코드 상에서 RDBMS에 어떻게 접속하고, SQL문을 날릴 수 있는지 알아보았습니다. 앞으로 자주 사용하게 될 코드들이니 사용법을 잘 익혀놓으시기 바랍니다."
   ]
  },
  {
   "cell_type": "code",
   "execution_count": null,
   "id": "3d9c5ed5-40c3-49e9-9f89-8f5d6c100fe2",
   "metadata": {},
   "outputs": [],
   "source": []
  }
 ],
 "metadata": {
  "kernelspec": {
   "display_name": "Python 3 (ipykernel)",
   "language": "python",
   "name": "python3"
  },
  "language_info": {
   "codemirror_mode": {
    "name": "ipython",
    "version": 3
   },
   "file_extension": ".py",
   "mimetype": "text/x-python",
   "name": "python",
   "nbconvert_exporter": "python",
   "pygments_lexer": "ipython3",
   "version": "3.10.0"
  }
 },
 "nbformat": 4,
 "nbformat_minor": 5
}
