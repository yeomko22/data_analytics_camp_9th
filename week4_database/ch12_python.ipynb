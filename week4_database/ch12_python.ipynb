{
 "cells": [
  {
   "cell_type": "code",
   "execution_count": 73,
   "id": "d789e05c-91f5-45ce-a7e7-4b46e5a06400",
   "metadata": {},
   "outputs": [],
   "source": [
    "import pymysql \n",
    "\n",
    "conn = pymysql.connect(\n",
    "    host=\"127.0.0.1\",\n",
    "    user=\"root\",\n",
    "    password=\"1234\",\n",
    "    database=\"olist\",\n",
    ")"
   ]
  },
  {
   "cell_type": "markdown",
   "id": "1eb21071-66f1-4dfe-b025-9268adc61ef8",
   "metadata": {},
   "source": [
    "## Read Query"
   ]
  },
  {
   "cell_type": "code",
   "execution_count": 21,
   "id": "7e14f5ea-3ae4-4664-bdcb-ec3e114b6369",
   "metadata": {},
   "outputs": [],
   "source": [
    "select_sql = \"SELECT * FROM reviews\"\n",
    "with conn.cursor() as cursor:\n",
    "    cursor.execute(select_sql)\n",
    "    result = cursor.fetchall()"
   ]
  },
  {
   "cell_type": "code",
   "execution_count": 22,
   "id": "a0514181-ea83-460b-91df-bd0d65c04688",
   "metadata": {},
   "outputs": [
    {
     "data": {
      "text/plain": [
       "((1, 1, 5),\n",
       " (2, 1, 4),\n",
       " (3, 1, 1),\n",
       " (4, 3, 2),\n",
       " (5, 3, 4),\n",
       " (6, 3, 3),\n",
       " (7, 4, 2),\n",
       " (8, 4, 3),\n",
       " (9, 4, 5),\n",
       " (10, 6, 5),\n",
       " (11, 6, 4),\n",
       " (12, 6, 1),\n",
       " (13, 6, 1))"
      ]
     },
     "execution_count": 22,
     "metadata": {},
     "output_type": "execute_result"
    }
   ],
   "source": [
    "result"
   ]
  },
  {
   "cell_type": "markdown",
   "id": "b43563e3-0db2-4aab-b005-c9cbbab6fcc6",
   "metadata": {},
   "source": [
    "## Write Query"
   ]
  },
  {
   "cell_type": "code",
   "execution_count": 20,
   "id": "a1c53883-c7e8-4767-a2ee-eda161b311a5",
   "metadata": {},
   "outputs": [],
   "source": [
    "insert_sql = \"INSERT INTO reviews(item_id, rating) VALUES (6, 1)\"\n",
    "with conn.cursor() as cursor:\n",
    "    cursor.execute(insert_sql)\n",
    "    conn.commit()"
   ]
  },
  {
   "cell_type": "markdown",
   "id": "c230428a-bc37-4026-8faa-08cd147babf5",
   "metadata": {},
   "source": [
    "## Bulk Write Query"
   ]
  },
  {
   "cell_type": "code",
   "execution_count": 52,
   "id": "cf445678-8306-4769-814e-f6f9a109f970",
   "metadata": {},
   "outputs": [],
   "source": [
    "insert_sql = \"INSERT INTO customers(customer_id, customer_unique_id, customer_zip_code_prefix, customer_city, customer_state) VALUES (%s, %s, %s, %s, %s)\""
   ]
  },
  {
   "cell_type": "code",
   "execution_count": 74,
   "id": "c1796b6a-37e3-4303-849c-3b4b0acba595",
   "metadata": {},
   "outputs": [],
   "source": [
    "import csv \n",
    "\n",
    "def _execute_insert(insert_sql, buffer):\n",
    "    with conn.cursor() as cursor:\n",
    "        cursor.executemany(insert_sql, buffer)\n",
    "        conn.commit()\n",
    "        \n",
    "def bulk_insert(data_file_path, insert_sql, batchsize=1000):\n",
    "    with open(data_file_path) as fr:\n",
    "        reader = csv.reader(fr)\n",
    "        buffer = []\n",
    "        for i, row in enumerate(reader):\n",
    "            row = [x if x else None for x in row]\n",
    "            if i == 0:\n",
    "                continue\n",
    "            buffer.append(row)\n",
    "            if len(buffer) == batchsize:\n",
    "                _execute_insert(insert_sql, buffer)\n",
    "                buffer = []\n",
    "        if buffer:\n",
    "            _execute_insert(insert_sql, buffer)"
   ]
  },
  {
   "cell_type": "code",
   "execution_count": 63,
   "id": "584e8041-a951-4fb0-87e3-1ab1b3e5abea",
   "metadata": {},
   "outputs": [],
   "source": [
    "insert_order_items_sql = \"INSERT INTO order_items(order_id, order_item_id, product_id, seller_id, shipping_limit_date, price, freight_value) VALUES(%s, %s, %s, %s, %s, %s, %s)\""
   ]
  },
  {
   "cell_type": "code",
   "execution_count": 44,
   "id": "2c17bf14-61ff-4e21-b2cf-d0f01ce49aa1",
   "metadata": {},
   "outputs": [],
   "source": [
    "bulk_insert(\"./data/olist/order_items.csv\", insert_order_items_sql)"
   ]
  },
  {
   "cell_type": "code",
   "execution_count": 52,
   "id": "b8fe67da-0879-419f-9a44-4b1fba988fe8",
   "metadata": {},
   "outputs": [],
   "source": [
    "insert_reviews_sql = \"INSERT INTO reviews(review_id, order_id, review_score, review_comment_title, review_comment_message, review_creation_date, review_answer_timestamp) VALUES(%s, %s, %s, %s, %s, %s, %s)\""
   ]
  },
  {
   "cell_type": "code",
   "execution_count": 53,
   "id": "cdb9ab4d-d52b-4b21-92f8-0f1c9f826885",
   "metadata": {},
   "outputs": [],
   "source": [
    "bulk_insert(\"./data/olist/reviews.csv\", insert_reviews_sql)"
   ]
  },
  {
   "cell_type": "code",
   "execution_count": 64,
   "id": "6d495fe4-16af-45c1-b0ad-a271e4c73bf5",
   "metadata": {},
   "outputs": [],
   "source": [
    "insert_orders_sql = \"INSERT INTO orders(order_id, customer_id, order_status, order_purchase_timestamp, order_approved_at, order_delivered_carrier_date, order_delivered_customer_date, order_estimated_delivery_date) VALUES(%s, %s, %s, %s, %s, %s, %s, %s)\""
   ]
  },
  {
   "cell_type": "code",
   "execution_count": 75,
   "id": "4427e64d-7e08-43b4-b610-71fbf3d0cc7e",
   "metadata": {},
   "outputs": [],
   "source": [
    "bulk_insert(\"./data/olist/orders.csv\", insert_orders_sql)"
   ]
  },
  {
   "cell_type": "code",
   "execution_count": 78,
   "id": "8bb077e2-6350-4525-b4f9-74785f9a1689",
   "metadata": {},
   "outputs": [],
   "source": [
    "insert_products_sql = \"INSERT INTO products(product_id, product_category_name, product_name_length, product_description_length, product_photos_qty, product_weight_g, product_length_cm, product_height_cm, product_width_cm) VALUES(%s, %s, %s, %s, %s, %s, %s, %s, %s)\""
   ]
  },
  {
   "cell_type": "code",
   "execution_count": 79,
   "id": "c246f14a-ea10-42d0-a0f7-418a05713032",
   "metadata": {},
   "outputs": [],
   "source": [
    "bulk_insert(\"./data/olist/products.csv\", insert_products_sql)"
   ]
  },
  {
   "cell_type": "code",
   "execution_count": 80,
   "id": "9b27a8c4-7810-42f4-b0cb-17bd5d9ea640",
   "metadata": {},
   "outputs": [],
   "source": [
    "insert_sellers_sql = \"INSERT INTO sellers(seller_id, seller_zip_code_prefix, seller_city, seller_state) VALUES(%s, %s, %s, %s)\""
   ]
  },
  {
   "cell_type": "code",
   "execution_count": 81,
   "id": "27680c61-f0a6-4dd9-a2fa-9d5c90d27a87",
   "metadata": {},
   "outputs": [],
   "source": [
    "bulk_insert(\"./data/olist/sellers.csv\", insert_sellers_sql)"
   ]
  },
  {
   "cell_type": "code",
   "execution_count": 82,
   "id": "bf986ba4-0112-41ac-b460-f7e5bf8b73e7",
   "metadata": {},
   "outputs": [],
   "source": [
    "category_name_translation_sql = \"INSERT INTO category_name_translation(product_category_name, product_category_name_english) VALUES(%s, %s)\""
   ]
  },
  {
   "cell_type": "code",
   "execution_count": 83,
   "id": "ea1998e7-591c-4040-a5b3-56cbcfa0912a",
   "metadata": {},
   "outputs": [],
   "source": [
    "bulk_insert(\"./data/olist/category_name_translation.csv\", category_name_translation_sql)"
   ]
  },
  {
   "cell_type": "code",
   "execution_count": 84,
   "id": "6467050a-458c-4a32-a2d7-9b5567985457",
   "metadata": {},
   "outputs": [],
   "source": [
    "order_payments_sql = \"INSERT INTO order_payments(order_id, payment_sequential, payment_type, payment_installments, payment_value) VALUES(%s, %s, %s, %s, %s)\""
   ]
  },
  {
   "cell_type": "code",
   "execution_count": 85,
   "id": "4e3cc838-56f4-4a64-b97a-0a735e283518",
   "metadata": {},
   "outputs": [],
   "source": [
    "bulk_insert(\"./data/olist/order_payments.csv\", order_payments_sql)"
   ]
  },
  {
   "cell_type": "code",
   "execution_count": 86,
   "id": "5d80b8b1-24a5-49a5-8cdd-aa083fa17b19",
   "metadata": {},
   "outputs": [],
   "source": [
    "conn.close()"
   ]
  },
  {
   "cell_type": "code",
   "execution_count": null,
   "id": "1eaac2e1-0ca3-4dc9-afa4-47fc09f66eb3",
   "metadata": {},
   "outputs": [],
   "source": []
  }
 ],
 "metadata": {
  "kernelspec": {
   "display_name": "Python 3 (ipykernel)",
   "language": "python",
   "name": "python3"
  },
  "language_info": {
   "codemirror_mode": {
    "name": "ipython",
    "version": 3
   },
   "file_extension": ".py",
   "mimetype": "text/x-python",
   "name": "python",
   "nbconvert_exporter": "python",
   "pygments_lexer": "ipython3",
   "version": "3.10.0"
  }
 },
 "nbformat": 4,
 "nbformat_minor": 5
}
