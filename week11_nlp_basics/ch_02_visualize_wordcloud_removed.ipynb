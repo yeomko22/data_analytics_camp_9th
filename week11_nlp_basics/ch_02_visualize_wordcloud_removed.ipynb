{
 "cells": [
  {
   "cell_type": "markdown",
   "id": "c46d453e-b0ec-4589-8c80-6fafaa3e8ecb",
   "metadata": {},
   "source": [
    "# ch 2. word cloud\n",
    "\n",
    "이전 챕터에서 2022년 한국 야구 데이터 셋을 토큰화 했습니다. 이번 챕터에서는 가장 기본적인 자연어 데이터 시각화 기법인 워드 클라우드에 대해서 알아보겠습니다. 워드 클라우드는 특정 단어와 함께 등장한 단어의 빈도 수를 집계해서, 어떤 단어가 연관되어 있는지를 시각적으로 표현하는 기법입니다."
   ]
  },
  {
   "cell_type": "code",
   "execution_count": null,
   "id": "2c56a60c-c4be-4362-b193-e5b738148912",
   "metadata": {},
   "outputs": [],
   "source": []
  },
  {
   "cell_type": "markdown",
   "id": "5c5b6f41-8f1c-49f0-9134-0ded9d493178",
   "metadata": {},
   "source": [
    "## 선수 이름 데이터 준비\n",
    "우리가 만들어보고 싶은 건 특정 선수 이름이 주어지면, 그 선수와 함께 언급되는 단어들을 시각적으로 보여주는 것입니다. 이를 위해서 먼저 토큰화 한 뉴스 기사 데이터에서 특정 선수가 언급되면, 함께 언급된 단어들의 빈도수를 세어 딕셔너리 형태로 만들어보겠습니다. \n",
    "\n",
    "먼저 기사에 선수 이름이 포함되었는지 여부를 판단하기 위해 크롤러 시간에 짰던 코드를 재사용합니다."
   ]
  },
  {
   "cell_type": "code",
   "execution_count": null,
   "id": "e4d9c480-1c9a-4398-8a1b-0e7a0ff29d0d",
   "metadata": {},
   "outputs": [],
   "source": []
  },
  {
   "cell_type": "markdown",
   "id": "086012bb-61e5-479c-97d7-0b2f10ffa8d2",
   "metadata": {},
   "source": [
    "## 기사 토큰화 환 데이터 셋 준비"
   ]
  },
  {
   "cell_type": "markdown",
   "id": "654ee517-69e5-42eb-804d-ead076d3f3e5",
   "metadata": {},
   "source": [
    "토큰화한 데이터 셋을 순회하며 특정 기사에 선수 이름이 포함되어 있을 경우, 함께 언급된 일반 명사, 고유 명사의 빈도수를 세어서 딕셔너리에 추가합니다."
   ]
  },
  {
   "cell_type": "code",
   "execution_count": null,
   "id": "4ef2cc8b-b014-4d7b-b97a-5a5063389b50",
   "metadata": {},
   "outputs": [],
   "source": []
  },
  {
   "cell_type": "markdown",
   "id": "23e6f2bb-f384-4172-8f1e-c11575e7c62f",
   "metadata": {},
   "source": [
    "### 동시 출현 빈도 집계\n",
    "특정 선수의 이름과 함께 등장한 명사를 defaultdict와 Counter를 이용해서 집계합니다."
   ]
  },
  {
   "cell_type": "code",
   "execution_count": null,
   "id": "2866de19-45c3-4c87-9bd4-d20226caa7ec",
   "metadata": {},
   "outputs": [],
   "source": []
  },
  {
   "cell_type": "markdown",
   "id": "8efab458-d63c-46f0-a485-e455ab91995a",
   "metadata": {},
   "source": [
    "## word cloud 시각화"
   ]
  },
  {
   "cell_type": "markdown",
   "id": "4a06bd1e-f54f-4185-8c34-b42653a73599",
   "metadata": {},
   "source": [
    "함께 등장하는 단어를 세었으니 이제 워드 클라우드를 만들어보겠습니다. 폰트 적용 부분은 아래 가이드를 읽어보고, 본인의 환경에 맞게 코드를 수정하면 됩니다.\n",
    "\n",
    "- [윈도우 폰트 적용 가이드](https://doitgrow.com/34#:~:text=%EC%9B%8C%EB%93%9C%ED%81%B4%EB%9D%BC%EC%9A%B0%EB%93%9C%EC%97%90%20%EC%82%AC%EC%9A%A9%ED%95%A0%20%ED%8F%B0%ED%8A%B8,%EA%B2%B0%EA%B3%BC%EB%A5%BC%20%ED%99%95%EC%9D%B8%ED%95%A0%20%EC%88%98%20%EC%9E%88%EC%8A%B5%EB%8B%88%EB%8B%A4.)\n",
    "- [맥 폰트 적용 가이드](https://business-analytics.tistory.com/3)"
   ]
  },
  {
   "cell_type": "code",
   "execution_count": null,
   "id": "84fcd0b9-eb56-4b71-ba2b-f1190a0b8122",
   "metadata": {},
   "outputs": [],
   "source": []
  },
  {
   "cell_type": "markdown",
   "id": "8ecdbe80-1245-43fe-b9e9-84d98cf0e0f6",
   "metadata": {},
   "source": [
    "## 정리\n",
    "이번 챕터에서는 자연어 데이터 시각화 하면 가장 먼저 떠오르는 워드 클라우드를 만들어 보았습니다. 사실 워드 클라우드는 직관적으로 의미를 전달하는 것이 어려워서 잘 사용되지 않습니다. 이어지는 챕터들에서 더 정교화 된 자연어처리 알고리즘들을 배워보겠습니다."
   ]
  },
  {
   "cell_type": "code",
   "execution_count": null,
   "id": "c580e73d-ab90-4213-87cc-b523d97e4940",
   "metadata": {},
   "outputs": [],
   "source": []
  }
 ],
 "metadata": {
  "kernelspec": {
   "display_name": "Python 3 (ipykernel)",
   "language": "python",
   "name": "python3"
  },
  "language_info": {
   "codemirror_mode": {
    "name": "ipython",
    "version": 3
   },
   "file_extension": ".py",
   "mimetype": "text/x-python",
   "name": "python",
   "nbconvert_exporter": "python",
   "pygments_lexer": "ipython3",
   "version": "3.10.8"
  }
 },
 "nbformat": 4,
 "nbformat_minor": 5
}
