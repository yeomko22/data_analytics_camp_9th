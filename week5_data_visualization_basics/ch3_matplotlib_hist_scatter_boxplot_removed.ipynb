{
 "cells": [
  {
   "cell_type": "markdown",
   "id": "a26a1da9-f4d6-4d69-8de5-9287748b5619",
   "metadata": {},
   "source": [
    "# ch2. matplotlib histogram, scatter plot, boxplot\n",
    "이번 챕터에서는 지난 챕터에 이어서 matplotlib을 이용하여 histogram, scatterplot, boxplot을 그리는 방법을 알아보겠습니다. 실제로 데이터 셋의 분포를 확인할 때 많이 사용하는 기법들이니, 잘 익히고 넘어갔으면 좋겠습니다."
   ]
  },
  {
   "cell_type": "markdown",
   "id": "d4cbc91e-cf78-427c-a61a-b75e8836c9a5",
   "metadata": {},
   "source": [
    "## matplotlib histogram\n",
    "### histogram 그리기\n",
    "히스토그램은 x축을 같은 크기의 여러 구간으로 나누고, 각 구간에 속하는 데이터 값의 개수를 y 축에 표시합니다. 주로 키나 몸무게 같은 연속형 확률 변수들을 히스토그램으로 많이 시각화 합니다."
   ]
  },
  {
   "cell_type": "code",
   "execution_count": null,
   "id": "48ccce98-7889-45a3-8923-7c664ee47a1e",
   "metadata": {},
   "outputs": [],
   "source": []
  },
  {
   "cell_type": "markdown",
   "id": "391a428d-ad33-44a9-af55-1abca0397ddf",
   "metadata": {
    "tags": []
   },
   "source": [
    "### histogram bins 설정\n",
    "구간을 나누는 bins를 직접 설정하여 더 잘게 나누거나 더 큰 단위로 뭉칠 수 있습니다."
   ]
  },
  {
   "cell_type": "code",
   "execution_count": null,
   "id": "83e870f2-7e11-4cb0-916c-6ab052d00e32",
   "metadata": {},
   "outputs": [],
   "source": []
  },
  {
   "cell_type": "markdown",
   "id": "a3bc7141-ce53-44b6-802e-32c316194183",
   "metadata": {},
   "source": [
    "### 여러 히스토그램 겹쳐서 그리기\n",
    "히스토그램을 이용해 다이아몬드의 가로, 세로, 높이 분포를 시각화 해보겠습니다.  "
   ]
  },
  {
   "cell_type": "code",
   "execution_count": null,
   "id": "b56835f5-8bb2-4c3e-9cee-3a5b87c14802",
   "metadata": {},
   "outputs": [],
   "source": []
  },
  {
   "cell_type": "markdown",
   "id": "6eae6d63-e4dc-4980-a852-d1b928faba2a",
   "metadata": {},
   "source": [
    "히스토그램을 이용해서 다이아몬드의 가로와 세로 길이는 거의 비슷한 분포를 띄지만, 높이는 분포가 다르다는 것을 확인할 수 있었습니다."
   ]
  },
  {
   "cell_type": "markdown",
   "id": "176a4e3b-f597-464b-a995-852d1072a3a3",
   "metadata": {},
   "source": [
    "## Scatterplot\n",
    "scatter plot은 서로 다른 두 연속형 확률 변수의 관계를 시각화 할 때 사용합니다. scatter plot을 이용해서 다이아몬드 가격과 상관관계가 있을 법한 요소들을 한번 그려보겠습니다. 산포도는 모든 데이터 샘플을 그리기 때문에 편의를 위해서 일부만 샘플링하여 그려보겠습니다."
   ]
  },
  {
   "cell_type": "code",
   "execution_count": null,
   "id": "b9ffafa1-6d92-4405-a3cf-3bb9f079c5bc",
   "metadata": {},
   "outputs": [],
   "source": []
  },
  {
   "cell_type": "markdown",
   "id": "275b16d0-04c8-4511-9604-335b781bebb3",
   "metadata": {},
   "source": [
    "scatter plot을 통해서 다이아몬드의 가격과 캐럿(무게) 사이에 뚜렷한 양의 상관관계가 있음을 확인할 수 있었습니다. 다음 챕터에서 다룰 seaborn을 이용하면 여러 변수 조합들에 대한 scatter plot을 손쉽게 그릴 수 있습니다."
   ]
  },
  {
   "cell_type": "markdown",
   "id": "42fc1c2e-3064-4c8d-a68e-ce70b02e5a96",
   "metadata": {},
   "source": [
    "## BoxPlot\n",
    "### boxplot 개념\n",
    "데이터의 분포를 파악할 때 요긴하게 사용되는 plot 중에 하나입니다. boxplot은 데이터 셋의 최대, 최소값, 중앙값, 전반적인 분포와 outlier의 분포를 확인하기 위해서 많이 사용됩니다. 개념을 설명드리기에 앞서서 한번 그려보겠습니다."
   ]
  },
  {
   "cell_type": "code",
   "execution_count": null,
   "id": "20962ac4-e52b-4de4-8599-1cd6021435a1",
   "metadata": {},
   "outputs": [],
   "source": []
  },
  {
   "cell_type": "markdown",
   "id": "5a9f4a44-e38c-4842-81fc-d216a0aa1330",
   "metadata": {},
   "source": [
    "가운데 박스가 그려져 있고, 위 아래로 선아 그어져 있습니다. 그리고 선 위쪽으로 원들이 보입니다."
   ]
  },
  {
   "attachments": {
    "8d00faa1-189f-4046-a836-680a78bba021.png": {
     "image/png": "[encoded data removed]"
    }
   },
   "cell_type": "markdown",
   "id": "452a25d4-cee0-41cc-9f8a-3098425b4c14",
   "metadata": {},
   "source": [
    "![스크린샷 2023-06-05 오후 3.29.17.png](attachment:8d00faa1-189f-4046-a836-680a78bba021.png)"
   ]
  },
  {
   "cell_type": "markdown",
   "id": "2b835e05-98fa-4b28-b9d4-8bbf1ca3f646",
   "metadata": {},
   "source": [
    "boxplot을 이해하기 위해서는 먼저 4분위수(quantile)를 이해해야 합니다. 4 분위 수란 데이터를 크기 순으로 정렬 한 뒤, 4등분을 나누어 25% 지점, 50% 지점, 75% 지점, 100% 지점에 해당하는 자료를 가져온 것입니다. 만일 5등분을 했다면 5분위수, 6등분을 했다면 6분위 수가 됩니다.\n",
    "\n",
    "boxplot 1분위 수부터 3분위 수까지 범위를 박스로 그려줍니다. 그리고 2분위 수, 중간 값은 노란색 선으로 표시해줍니다. 박스의 길이는 IQR이라고 부릅니다.\n",
    "\n",
    "$$IQR=Q3-Q1$$\n",
    "\n",
    "boxplot에서 박스 위아래로 그어진 선은 IQR을 이용해서 계산된 값입니다. 위쪽으로는 Q3 + 1.5 * IQR, 아래쪽으로는 Q1 - 1.5. IQR입니다. 이 최대 최솟값을 벗어나는 데이터는 outlier로 간주되어 원으로 표시됩니다.\n",
    "\n",
    "앞서 그린 다이아몬드 가격 boxplot을 다시 살펴보겠습니다. 다이아 가격은 대략 1000달러에서 5000 달러 사이에 분포하고 있고, 중간 값은 2000달러 정도입니다. 그리고 최대값 위쪽으로 outlier들이 집계되는 것으로 보아 다이아몬드 가격은 고가품일 수록 가격이 급격하게 늘어난다는걸 알 수 있습니다."
   ]
  },
  {
   "cell_type": "markdown",
   "id": "193e0eff-a900-435e-b41d-3fe11b8ac0c2",
   "metadata": {},
   "source": [
    "### boxplot 여러개 그리기\n",
    "하나의 그래프에 여러 boxplot을 그릴 수 있습니다. 이전에 bar, line chart를 그리는 방식이랑 약간 다릅니다."
   ]
  },
  {
   "cell_type": "code",
   "execution_count": null,
   "id": "47c9ab04-d5df-47ed-ba9f-7964938eeb74",
   "metadata": {},
   "outputs": [],
   "source": []
  },
  {
   "cell_type": "markdown",
   "id": "89b7c5dc-612e-4479-9308-757f7ea3c48d",
   "metadata": {},
   "source": [
    "히스토그램을 통해서 파악했던 것과 유사하게 x와 y 값은 분포가 비슷하고, z 값은 분포가 다르다는 것을 알 수 있습니다. 그리고 주로 최댓값보다 큰 outlier들이 존재하며, 최소값보다 작은 outlier로는 0값들이 있다는 것을 확인할 수 있습니다. 이를 통해 모델을 학습하기 전에 어떤 데이터를 전처리 해주어야 하는지 파악할 수 있습니다."
   ]
  },
  {
   "cell_type": "markdown",
   "id": "14e3d0e8-008a-423b-9edc-dbe045460469",
   "metadata": {},
   "source": [
    "### 가로로 boxplot 그리기\n",
    "vert 옵션을 적용하면 boxplot을 가로로 그릴 수도 있습니다."
   ]
  },
  {
   "cell_type": "code",
   "execution_count": null,
   "id": "80ac094e-a392-4330-8221-9278c0412545",
   "metadata": {},
   "outputs": [],
   "source": []
  },
  {
   "cell_type": "markdown",
   "id": "26464e71-8990-41d3-bc7b-959c1ef0b215",
   "metadata": {},
   "source": [
    "## 정리\n",
    "이번 챕터에서는 matplotlib의 histogram, scatter plot, boxplot의 사용법과 개념에 대해서 알아봤습니다. 실제로 데이터의 특징을 파악할 때 많이 사용되는 기법이기도 하고, 면접에 단골 질문으로 등장하는 것들입니다. 아래 질문들에 대한 답변을 스스로 한번 생각해보고 넘어가면 좋겠습니다.\n",
    "\n",
    "- histogram을 그려야하는 상황은 어떤 것들이 있을까요?\n",
    "- scatter plot을 통해 확인해야하는 요소들은 어떤 것이 있을까요?\n",
    "- boxplot을 구성하는 각 요소들을 설명해주세요\n",
    "- boxplot에서 box를 벗어나 표시되는 값들은 무엇이고, 어떻게 해야할까요?"
   ]
  },
  {
   "cell_type": "code",
   "execution_count": null,
   "id": "95d5224d-aaa4-413d-8d73-03928eecd205",
   "metadata": {},
   "outputs": [],
   "source": []
  }
 ],
 "metadata": {
  "kernelspec": {
   "display_name": "Python 3 (ipykernel)",
   "language": "python",
   "name": "python3"
  },
  "language_info": {
   "codemirror_mode": {
    "name": "ipython",
    "version": 3
   },
   "file_extension": ".py",
   "mimetype": "text/x-python",
   "name": "python",
   "nbconvert_exporter": "python",
   "pygments_lexer": "ipython3",
   "version": "3.10.8"
  }
 },
 "nbformat": 4,
 "nbformat_minor": 5
}
