{
 "cells": [
  {
   "cell_type": "markdown",
   "id": "7637cc94-5329-4d09-9d96-d872a42f6b7d",
   "metadata": {},
   "source": [
    "## Pandas\n",
    "\n",
    "pandas는 python에서 표 형식의 데이터를 다룰 때 많이 사용하는 라이브러리입니다. pandas를 이용해서 데이터 셋을 불러오고, 원하는 형태로 가공하고, 다시 파일 형태로 출력할 수도 있습니다. python을 이용한 데이터 분석 분야에서는 뗄레야 뗄 수 없는 라이브러리입니다.  \n",
    "\n",
    "이번 시간에는 가볍게 pandas 기본 사용법을 익혀보겠습니다. 자세한 사용법과 관련 개념들은 numpy & pandas 시간에 다뤄볼 예정입니다."
   ]
  },
  {
   "cell_type": "code",
   "execution_count": 1,
   "id": "4c68a77d-7b57-4e0d-9274-58d01bae64c7",
   "metadata": {},
   "outputs": [
    {
     "name": "stdout",
     "output_type": "stream",
     "text": [
      "Requirement already satisfied: pandas in /Users/user/miniconda3/lib/python3.10/site-packages (1.5.1)\n",
      "Requirement already satisfied: python-dateutil>=2.8.1 in /Users/user/miniconda3/lib/python3.10/site-packages (from pandas) (2.8.2)\n",
      "Requirement already satisfied: pytz>=2020.1 in /Users/user/miniconda3/lib/python3.10/site-packages (from pandas) (2022.7)\n",
      "Requirement already satisfied: numpy>=1.21.0 in /Users/user/miniconda3/lib/python3.10/site-packages (from pandas) (1.25.0)\n",
      "Requirement already satisfied: six>=1.5 in /Users/user/miniconda3/lib/python3.10/site-packages (from python-dateutil>=2.8.1->pandas) (1.16.0)\n",
      "\u001b[33mDEPRECATION: pytorch-lightning 1.8.3.post1 has a non-standard dependency specifier torch>=1.9.*. pip 24.0 will enforce this behaviour change. A possible replacement is to upgrade to a newer version of pytorch-lightning or contact the author to suggest that they release a version with a conforming dependency specifiers. Discussion can be found at https://github.com/pypa/pip/issues/12063\u001b[0m\u001b[33m\n",
      "\u001b[0m\u001b[33mDEPRECATION: mecab-python 0.996-ko-0.9.2 has a non-standard version number. pip 24.0 will enforce this behaviour change. A possible replacement is to upgrade to a newer version of mecab-python or contact the author to suggest that they release a version with a conforming version number. Discussion can be found at https://github.com/pypa/pip/issues/12063\u001b[0m\u001b[33m\n",
      "\u001b[0m\n",
      "\u001b[1m[\u001b[0m\u001b[34;49mnotice\u001b[0m\u001b[1;39;49m]\u001b[0m\u001b[39;49m A new release of pip is available: \u001b[0m\u001b[31;49m23.3.2\u001b[0m\u001b[39;49m -> \u001b[0m\u001b[32;49m24.1\u001b[0m\n",
      "\u001b[1m[\u001b[0m\u001b[34;49mnotice\u001b[0m\u001b[1;39;49m]\u001b[0m\u001b[39;49m To update, run: \u001b[0m\u001b[32;49mpip install --upgrade pip\u001b[0m\n"
     ]
    }
   ],
   "source": [
    "!pip install pandas"
   ]
  },
  {
   "cell_type": "markdown",
   "id": "39b12555-df5e-4776-be79-03078e5965f4",
   "metadata": {},
   "source": [
    "## Pandas DataFrame\n",
    "\n",
    "pandas에서 표 형태의 데이터를 다루는 데이터 타입을 dataframe이라고 부릅니다. dataframe을 직접 생성할 수도 있지만, 이미 만들어져 있는 csv 파일을 읽어오는 방식으로도 생성할 수 있습니다."
   ]
  },
  {
   "cell_type": "code",
   "execution_count": null,
   "id": "0b53edcb-4e2b-4f89-b0b8-a40d3032ad91",
   "metadata": {},
   "outputs": [],
   "source": []
  },
  {
   "cell_type": "markdown",
   "id": "f434eb0b-a314-44b7-9264-30dc585685d5",
   "metadata": {},
   "source": [
    "## dataframe 기본 정보 출력\n",
    "\n",
    "### df.info\n",
    "데이터 프레임이 어떤 컬럼들로 구성되어 있는지, 각 컬럼별 데이터 타입은 무엇인지 알 수 있습니다."
   ]
  },
  {
   "cell_type": "code",
   "execution_count": null,
   "id": "e684cb61-0167-4730-b635-2a36d3a61278",
   "metadata": {},
   "outputs": [],
   "source": []
  },
  {
   "cell_type": "markdown",
   "id": "5873f0eb-ef96-42db-84e6-b6a45a5daa9d",
   "metadata": {},
   "source": [
    "### df.describe\n",
    "\n",
    "각 컬럼별로 개수, 평균값, 표준편차, 4분위 수 등의 기초 통계량을 알 수 있습니다."
   ]
  },
  {
   "cell_type": "code",
   "execution_count": null,
   "id": "42b8f779-9beb-490d-85f5-1ffb23e1ea3a",
   "metadata": {},
   "outputs": [],
   "source": []
  },
  {
   "cell_type": "markdown",
   "id": "8006a9eb-43f5-4282-aa8e-bb6d376551d8",
   "metadata": {},
   "source": [
    "## dataframe 값 접근하기\n",
    "\n",
    "### column으로 접근\n",
    "먼저 컬럼명을 index 삼아서 접근할 수 있습니다."
   ]
  },
  {
   "cell_type": "code",
   "execution_count": null,
   "id": "7d6ea18c-60f5-491e-a375-202761d2a999",
   "metadata": {},
   "outputs": [],
   "source": []
  },
  {
   "cell_type": "markdown",
   "id": "081956ea-a279-43a9-880a-924d617ac728",
   "metadata": {},
   "source": [
    "컬럼명들의 list를 전달해서 여러 컬럼을 동시에 읽을 수도 있습니다."
   ]
  },
  {
   "cell_type": "code",
   "execution_count": null,
   "id": "ea22062d-ba33-4a74-9b29-e08a998eb746",
   "metadata": {},
   "outputs": [],
   "source": []
  },
  {
   "cell_type": "markdown",
   "id": "c86a457e-aef5-4c61-af33-bd38230b02bb",
   "metadata": {},
   "source": [
    "조건식을 걸어서 조건에 맞는 행들만 읽어올 수도 있습니다."
   ]
  },
  {
   "cell_type": "code",
   "execution_count": null,
   "id": "285c5df8-46be-4d56-aa8b-ba1899f82267",
   "metadata": {},
   "outputs": [],
   "source": []
  },
  {
   "cell_type": "markdown",
   "id": "4fc32125-2ead-4d42-9c99-e2e72bf48ea3",
   "metadata": {},
   "source": [
    "& 기호를 사용해서 여러 조건을 중첨시킬 수도 있습니다."
   ]
  },
  {
   "cell_type": "code",
   "execution_count": null,
   "id": "0cd7fc4f-9595-4e1c-a635-495162faef69",
   "metadata": {},
   "outputs": [],
   "source": []
  },
  {
   "cell_type": "markdown",
   "id": "afcf0a4a-8a1b-49aa-b714-c47a83affaed",
   "metadata": {},
   "source": [
    "### Row로 접근\n",
    "\n",
    "df.iloc 함수를 사용해서 i번째 행을 읽어올 수 있습니다."
   ]
  },
  {
   "cell_type": "code",
   "execution_count": null,
   "id": "1f0fb034-bbe9-472b-a7d4-b4bdc75d3603",
   "metadata": {},
   "outputs": [],
   "source": []
  },
  {
   "cell_type": "markdown",
   "id": "23022d42-20ca-4d4b-bc72-f2527241ada2",
   "metadata": {},
   "source": [
    "슬라이싱을 적용할 수도 있습니다."
   ]
  },
  {
   "cell_type": "code",
   "execution_count": null,
   "id": "8516cfee-326d-4ddd-b70d-8abda741efa1",
   "metadata": {},
   "outputs": [],
   "source": []
  },
  {
   "cell_type": "markdown",
   "id": "15b51ade-3653-49c5-b3ab-3fdf44945aef",
   "metadata": {},
   "source": [
    "iloc으로 가져온 데이터 프레임에 다시 컬럼명을 사용해서 접근할 수 있습니다."
   ]
  },
  {
   "cell_type": "code",
   "execution_count": null,
   "id": "3a42feee-23c7-45e5-b2dc-6175b1de2311",
   "metadata": {},
   "outputs": [],
   "source": []
  },
  {
   "cell_type": "markdown",
   "id": "261fe184-0775-4c28-a007-88118d977334",
   "metadata": {},
   "source": [
    "## 데이터 베이스로부터 데이터 읽어오기\n",
    "\n",
    "pandas를 이용해서 데이터베이스로부터 데이터를 읽어올 수도 있습니다. 읽어온 데이터를 곧바로 데이터 프레임으로 다룰 수 있어서 편리합니다."
   ]
  },
  {
   "cell_type": "code",
   "execution_count": null,
   "id": "cfd1946a-3a26-4d50-9e05-9170780475e3",
   "metadata": {},
   "outputs": [],
   "source": []
  },
  {
   "cell_type": "code",
   "execution_count": null,
   "id": "84d1d054-01ec-4798-a5ba-3c9c33a6bc16",
   "metadata": {},
   "outputs": [],
   "source": [
    "read_sql = \"\"\"\n",
    "SELECT\n",
    "\tDATE(orders.order_purchase_timestamp) AS dt,\n",
    "    SUM(payments.payment_value) AS daily_sales\n",
    "FROM\n",
    "\torders\n",
    "LEFT JOIN\n",
    "\tpayments\n",
    "ON\n",
    "\tpayments.order_id=orders.order_id\n",
    "WHERE\n",
    "\torder_purchase_timestamp >= '2017-01-01'\n",
    "    AND order_purchase_timestamp <= '2017-01-31'\n",
    "GROUP BY\n",
    "\tdt\n",
    "ORDER BY\n",
    "\tdt\n",
    "\"\"\""
   ]
  },
  {
   "cell_type": "code",
   "execution_count": null,
   "id": "92d151d1-31bc-4db5-8e0b-601c80563e80",
   "metadata": {},
   "outputs": [],
   "source": []
  },
  {
   "cell_type": "markdown",
   "id": "4db092de-efbc-4247-9563-54211773b8de",
   "metadata": {},
   "source": [
    "### 데이터 프레임을 이용해서 플랏 그리기\n",
    "\n",
    "pandas dataframe은 간단한 플랏을 그릴 수 있는 함수를 내장하고 있습니다. 가볍게 데이터를 시각화 할 때 많이 사용합니다."
   ]
  },
  {
   "cell_type": "code",
   "execution_count": null,
   "id": "c8e653bd-a065-40f5-842d-3b5e76b76bb3",
   "metadata": {},
   "outputs": [],
   "source": []
  },
  {
   "cell_type": "markdown",
   "id": "aeed6f8e-828e-401f-8ca1-075d897e8009",
   "metadata": {},
   "source": [
    "## 정리\n",
    "\n",
    "이상으로 아주 간단하게 pandas 라이브러리 사용법에 대해서 배워봤습니다. pandas는 세미 프로젝트 이후 따로 차근차근 배울 예정이니, 지금은 이렇게 사용하는구나~ 정도의 느낌만 익히고 넘어가도 충분합니다."
   ]
  },
  {
   "cell_type": "code",
   "execution_count": null,
   "id": "5f025b48-7f6e-47bc-8c0c-771dfb68121e",
   "metadata": {},
   "outputs": [],
   "source": []
  }
 ],
 "metadata": {
  "kernelspec": {
   "display_name": "Python 3 (ipykernel)",
   "language": "python",
   "name": "python3"
  },
  "language_info": {
   "codemirror_mode": {
    "name": "ipython",
    "version": 3
   },
   "file_extension": ".py",
   "mimetype": "text/x-python",
   "name": "python",
   "nbconvert_exporter": "python",
   "pygments_lexer": "ipython3",
   "version": "3.10.8"
  }
 },
 "nbformat": 4,
 "nbformat_minor": 5
}
