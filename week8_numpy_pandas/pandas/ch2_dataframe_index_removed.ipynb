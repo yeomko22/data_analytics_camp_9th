{
 "cells": [
  {
   "cell_type": "markdown",
   "id": "3a9caa75-cb46-4649-b335-3f1a3f344682",
   "metadata": {},
   "source": [
    "## ch2 pandas dataframe index\n",
    "이번 챕터에서는 본격적으로 여러 컬럼과 로우가 들어있는 테이블 데이터를 pandas dataframe을 사용하여 다뤄보겠습니다. 먼저 아래 링크로 들어가서 음악 스트리밍 서비스 spotify가 공개한 2019년 가장 많이 스트리밍 된 트랙 데이터 셋을 다운 받아서 data 폴더 아래에 위치시키겠습니다. 파일 이름이 길어서 \"spotify_2019.csv\"로 변경하겠습니다.\n",
    "\n",
    "데이터 셋: https://www.kaggle.com/datasets/prasertk/spotify-global-2019-moststreamed-tracks"
   ]
  },
  {
   "cell_type": "markdown",
   "id": "264a6483-8607-4264-acb4-814f18c846d0",
   "metadata": {},
   "source": [
    "### csv 파일로부터 dataframe 생성하기\n",
    "pd.read_csv 함수를 사용하면 csv 파일의 데이터를 읽어서 pandas dataframe을 생성합니다. 살펴보면 2019년 가장 많이 스트리밍 된 트랙 1714개에 대해서 아티스트, 스트리밍 횟수 등의 정보를 알려줍니다."
   ]
  },
  {
   "cell_type": "code",
   "execution_count": null,
   "id": "6b1672a9-0dda-45af-8577-8bc84536ab5c",
   "metadata": {},
   "outputs": [],
   "source": []
  },
  {
   "cell_type": "markdown",
   "id": "95121f33-1b66-4bc8-bf27-b86ba4e3e81b",
   "metadata": {},
   "source": [
    "### dataframe에 들어있는 값 일부 확인하기\n",
    "df를 그대로 출력해도 jupyter notebook 상에서는 데이터를 확인할 수 있다. df.head나 df.tail을 이용할 경우, 데이터 프레임의 맨 앞 행들 혹은 맨 마지막 행들을 확인할 수 있다."
   ]
  },
  {
   "cell_type": "code",
   "execution_count": null,
   "id": "2c9f5fad-2418-4cce-bb27-515b7889b5d6",
   "metadata": {},
   "outputs": [],
   "source": []
  },
  {
   "cell_type": "markdown",
   "id": "f95cffb7-3105-4d2b-a015-bb6016ffe9cc",
   "metadata": {},
   "source": [
    "### dataframe 기본 정보 확인하기\n",
    "pandas는 dataframe에 포함된 데이터들을 살펴보는데 편리한 기능들을 제공해줍니다. \n",
    "\n",
    "먼저 간단히 데이터 프레임에 행이 몇개고, 컬럼이 몇개인지를 알고 싶으면 df.shape를 사용합니다."
   ]
  },
  {
   "cell_type": "code",
   "execution_count": null,
   "id": "b93194d8-d7bc-48e6-b064-a2a4e3e2c218",
   "metadata": {},
   "outputs": [],
   "source": []
  },
  {
   "cell_type": "markdown",
   "id": "ce2d1058-afe1-413a-8028-ceab526c64f9",
   "metadata": {},
   "source": [
    "다음으로 df.info()를 사용하면 데이터 프레임에 어떤 컬럼들이 있고, 각각의 데이터 타입은 어떤지 알 수 있습니다."
   ]
  },
  {
   "cell_type": "code",
   "execution_count": null,
   "id": "249e3c40-a3f6-4a78-a7a5-1502f766cfbd",
   "metadata": {},
   "outputs": [],
   "source": []
  },
  {
   "cell_type": "markdown",
   "id": "40cedd23-e339-4883-b2fa-7a07a46598a8",
   "metadata": {},
   "source": [
    "다음으로 df.describe()를 이용하여 각 컬럼별로 최소값과 최대값, 평균, 분산 등 기초 통계량을 계산해보겠습니다. 이를 통해서 아주 기본적인 데이터 분석을 진행할 수 있습니다."
   ]
  },
  {
   "cell_type": "code",
   "execution_count": null,
   "id": "5229d68d-8a01-446e-aca9-f6839fba37f6",
   "metadata": {},
   "outputs": [],
   "source": []
  },
  {
   "cell_type": "markdown",
   "id": "6734cc2b-60f0-4fbf-8519-8c6351f1dc9c",
   "metadata": {},
   "source": [
    "### column 명으로 데이터 조회"
   ]
  },
  {
   "cell_type": "code",
   "execution_count": null,
   "id": "d971a676-f97c-4dbc-b51d-784f4f2ceefa",
   "metadata": {},
   "outputs": [],
   "source": []
  },
  {
   "cell_type": "markdown",
   "id": "a8f7d8d6-5382-4fa2-ad53-8b4ba39d4b7d",
   "metadata": {},
   "source": [
    "### dataframe iloc\n",
    "iloc은 integer location의 약자로, 정수 인덱스를 사용하여 특정 row와 column을 가져올 수 있습니다."
   ]
  },
  {
   "cell_type": "code",
   "execution_count": null,
   "id": "10da9b18-a08f-40dc-b7f7-824dce69b9d1",
   "metadata": {},
   "outputs": [],
   "source": []
  },
  {
   "cell_type": "markdown",
   "id": "32695c66-17ac-4586-a2d7-fa43ed87fa87",
   "metadata": {},
   "source": [
    "### 연습문제\n",
    "1. 현재 dataframe은 스트리밍 횟수를 기준으로 내림차순 정렬이 된 상태입니다. 스트리밍 횟수 순위가 10위부터 19위인 트랙들의 트랙 이름, 아티스트, 스트리밍 횟수를 가져오세요."
   ]
  },
  {
   "cell_type": "code",
   "execution_count": null,
   "id": "2be417b7-f183-4201-b780-7d350b45d666",
   "metadata": {},
   "outputs": [],
   "source": []
  },
  {
   "cell_type": "markdown",
   "id": "f614aa03-7248-4307-8c84-d8eae9e4ef36",
   "metadata": {},
   "source": [
    "2. 스트리밍 횟수의 평균, 분산, 표준 편차를 구해보세요. 분포를 파악할 수 있게 히스토그램을 그려보세요.\n"
   ]
  },
  {
   "cell_type": "code",
   "execution_count": null,
   "id": "03ead802-7213-4d1d-a541-68a7f6cabdb6",
   "metadata": {},
   "outputs": [],
   "source": []
  },
  {
   "cell_type": "markdown",
   "id": "810b8e67-d4ec-4ca2-a1ef-8ce886b23f41",
   "metadata": {},
   "source": [
    "3. 스트리밍 횟수 상위 20개 곡의 평균 템포와 에너지를 구해보세요. 마찬가지로 분포를 파악할 수 있게 히스토그램을 그려보세요."
   ]
  },
  {
   "cell_type": "code",
   "execution_count": null,
   "id": "873a5d31-0423-4fe5-b88b-ec53be5926f7",
   "metadata": {},
   "outputs": [],
   "source": []
  }
 ],
 "metadata": {
  "kernelspec": {
   "display_name": "Python 3 (ipykernel)",
   "language": "python",
   "name": "python3"
  },
  "language_info": {
   "codemirror_mode": {
    "name": "ipython",
    "version": 3
   },
   "file_extension": ".py",
   "mimetype": "text/x-python",
   "name": "python",
   "nbconvert_exporter": "python",
   "pygments_lexer": "ipython3",
   "version": "3.10.8"
  }
 },
 "nbformat": 4,
 "nbformat_minor": 5
}
