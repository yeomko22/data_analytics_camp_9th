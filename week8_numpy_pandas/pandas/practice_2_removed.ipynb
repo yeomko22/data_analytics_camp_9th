{
 "cells": [
  {
   "cell_type": "markdown",
   "id": "6e002488-8c12-468e-8ad3-17ea22b0caad",
   "metadata": {
    "tags": []
   },
   "source": [
    "## 복습\n",
    "다이아몬드 데이터 셋은 다이아몬드의 특징으로 가격을 예측하는 데이터 셋입니다. 이를 실습 목적에 맞게 가공하였습니다.\n",
    "- https://www.kaggle.com/datasets/shivam2503/diamonds\n",
    "\n",
    "각 컬럼에 대한 설명은 다음과 같습니다.\n",
    "\n",
    "- price: price in US dollars (\\$326--\\$18,823)\n",
    "- carat: weight of the diamond (0.2--5.01)\n",
    "- cut: quality of the cut (Fair, Good, Very Good, Premium, Ideal)\n",
    "- color: diamond colour, from J (worst) to D (best)\n",
    "- clarity: a measurement of how clear the diamond is (I1 (worst), SI2, SI1, VS2, VS1, VVS2, VVS1, IF (best))\n",
    "- x: length in mm (0--10.74)\n",
    "- y: width in mm (0--58.9)\n",
    "- z: depth in mm (0--31.8)\n",
    "- table: width of top of diamond relative to widest point (43--95)"
   ]
  },
  {
   "cell_type": "code",
   "execution_count": null,
   "id": "9493651c-7217-42c2-a99c-f649a0950c81",
   "metadata": {},
   "outputs": [],
   "source": []
  },
  {
   "cell_type": "markdown",
   "id": "242004db-01b5-4353-8186-d1f446839230",
   "metadata": {},
   "source": [
    "### 1. 데이터 프레임의 기본 정보를 파악해보세요.\n",
    "- 행과 열의 개수\n",
    "- 컬럼 이름과 데이터 타입\n",
    "- 각 컬럼별 기초 통계량"
   ]
  },
  {
   "cell_type": "code",
   "execution_count": null,
   "id": "ef7e0b47-0c3e-48a4-8ccd-89876d485305",
   "metadata": {},
   "outputs": [],
   "source": []
  },
  {
   "cell_type": "markdown",
   "id": "ef1b5dd3-155f-4cdf-9a5b-d3bcd76ccb76",
   "metadata": {},
   "source": [
    "### 2. 다이아몬드의 깊이를 나타내는 depth라는 파생 변수를 추가해보세요\n",
    "depth = z / mean(x, y) = 2 * z / (x + y)"
   ]
  },
  {
   "cell_type": "code",
   "execution_count": null,
   "id": "a885c535-837c-4ea0-9c70-1e7bc4192763",
   "metadata": {},
   "outputs": [],
   "source": []
  },
  {
   "cell_type": "markdown",
   "id": "5b28de8c-798d-4cc9-98e5-9b3769203bce",
   "metadata": {},
   "source": [
    "### 3. 결측치를 확인하고, 적절한 조치를 취하세요\n",
    "- 결측치가 너무 많고, 크게 중요하지 않다고 판단되는 컬럼 -> 제거\n",
    "- 결측치를 적절한 값으로 채워넣기 (자기 아이디어)"
   ]
  },
  {
   "cell_type": "code",
   "execution_count": null,
   "id": "9894a34d-6bf5-4720-a918-086681dd16cc",
   "metadata": {},
   "outputs": [],
   "source": []
  },
  {
   "cell_type": "markdown",
   "id": "6376b73a-97e5-474c-aa8e-ab3d45aa10c5",
   "metadata": {},
   "source": [
    "### 4. 카테고리형 컬럼들을 더미 변수화하고, 기존 컬럼은 삭제하세요."
   ]
  },
  {
   "cell_type": "code",
   "execution_count": null,
   "id": "48acf4e5-0188-4f8f-af29-9032c7a6c447",
   "metadata": {},
   "outputs": [],
   "source": []
  },
  {
   "cell_type": "markdown",
   "id": "e9d2a186-8a50-43f3-b25d-98818ebb22c7",
   "metadata": {},
   "source": [
    "### 5. 연속형 컬럼들은 scaler를 사용하여 적절한 범위로 조정하세요."
   ]
  },
  {
   "cell_type": "code",
   "execution_count": null,
   "id": "5be6de62-a954-4739-beba-6bd6d25ff814",
   "metadata": {},
   "outputs": [],
   "source": []
  }
 ],
 "metadata": {
  "kernelspec": {
   "display_name": "Python 3 (ipykernel)",
   "language": "python",
   "name": "python3"
  },
  "language_info": {
   "codemirror_mode": {
    "name": "ipython",
    "version": 3
   },
   "file_extension": ".py",
   "mimetype": "text/x-python",
   "name": "python",
   "nbconvert_exporter": "python",
   "pygments_lexer": "ipython3",
   "version": "3.10.8"
  }
 },
 "nbformat": 4,
 "nbformat_minor": 5
}
