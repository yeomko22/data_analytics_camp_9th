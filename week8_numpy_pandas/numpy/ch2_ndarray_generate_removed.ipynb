{
 "cells": [
  {
   "cell_type": "markdown",
   "id": "235b29cb-8894-43c8-b600-d5c2e654572c",
   "metadata": {},
   "source": [
    "# ch2. ndarray 생성하기 \n",
    "\n",
    "이번 챕터에서는 numpy에서 다차원 배열을 다루는 가장 기본인 ndarray를 직접 만들어보겠습니다.  \n",
    "그리고 ndarray의 기본 조작법을 배워보겠습니다."
   ]
  },
  {
   "cell_type": "markdown",
   "id": "d589cf9d-24cd-42c2-9e2b-bd7c01daf702",
   "metadata": {},
   "source": [
    "## ndarray 만들기"
   ]
  },
  {
   "cell_type": "markdown",
   "id": "9ced8815-c211-42a2-af08-1fae6b122900",
   "metadata": {},
   "source": [
    "### python list를 이용해서 ndarray 생성"
   ]
  },
  {
   "cell_type": "code",
   "execution_count": null,
   "id": "dc14ef1a-997c-467e-938f-9c00e0d1383d",
   "metadata": {},
   "outputs": [],
   "source": []
  },
  {
   "cell_type": "markdown",
   "id": "3a2f0793-5bcf-4b54-9207-cfe91768d0a9",
   "metadata": {},
   "source": [
    "### np.zeros\n",
    "0으로 채워진 ndarray 리턴"
   ]
  },
  {
   "cell_type": "code",
   "execution_count": null,
   "id": "2dfaa2c0-1a8c-426a-8800-5284b87d0243",
   "metadata": {},
   "outputs": [],
   "source": []
  },
  {
   "cell_type": "markdown",
   "id": "c5a1a981-e4cc-4b72-a6d4-2e864d7bd57a",
   "metadata": {},
   "source": [
    "### np.ones\n",
    "1로 채워진 ndarray 리턴"
   ]
  },
  {
   "cell_type": "code",
   "execution_count": null,
   "id": "be0e2c67-2855-445b-aec4-8ee2da8cb692",
   "metadata": {},
   "outputs": [],
   "source": []
  },
  {
   "cell_type": "markdown",
   "id": "08a012e4-8a02-498f-9429-e9f130666199",
   "metadata": {},
   "source": [
    "### np.full\n",
    "특정 값으로 채워진 ndarray 리턴"
   ]
  },
  {
   "cell_type": "code",
   "execution_count": null,
   "id": "4b618c0d-1b57-45b5-b7a0-0b34ed7a0190",
   "metadata": {},
   "outputs": [],
   "source": []
  },
  {
   "cell_type": "markdown",
   "id": "e8e4a1d7-32d7-443e-aa1c-200f75f639c2",
   "metadata": {},
   "source": [
    "### np.arange\n",
    "특정 간격으로 채워진 ndarray 생성"
   ]
  },
  {
   "cell_type": "code",
   "execution_count": null,
   "id": "75fa520d-700c-419f-9fa3-cffb28ec3b7d",
   "metadata": {},
   "outputs": [],
   "source": []
  },
  {
   "cell_type": "markdown",
   "id": "fb4b5540-8ed8-4ea8-aa19-d0bb295f6a2d",
   "metadata": {},
   "source": [
    "### 연습문제\n",
    "np.ones, np.zeros, np.fulls를 사용하여 아래 형태의 ndarray를 생성하시오."
   ]
  },
  {
   "cell_type": "code",
   "execution_count": null,
   "id": "4787a52e-c092-4b8b-86a5-6ddc0339e6a3",
   "metadata": {},
   "outputs": [],
   "source": []
  }
 ],
 "metadata": {
  "kernelspec": {
   "display_name": "Python 3 (ipykernel)",
   "language": "python",
   "name": "python3"
  },
  "language_info": {
   "codemirror_mode": {
    "name": "ipython",
    "version": 3
   },
   "file_extension": ".py",
   "mimetype": "text/x-python",
   "name": "python",
   "nbconvert_exporter": "python",
   "pygments_lexer": "ipython3",
   "version": "3.10.8"
  }
 },
 "nbformat": 4,
 "nbformat_minor": 5
}
