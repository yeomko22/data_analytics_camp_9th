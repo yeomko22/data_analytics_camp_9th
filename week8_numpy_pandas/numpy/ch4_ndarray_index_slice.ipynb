{
 "cells": [
  {
   "cell_type": "markdown",
   "id": "875deaa0-d3e5-40b5-ab5c-2bec6ed0fa27",
   "metadata": {},
   "source": [
    "# ch4. ndarray index & slice\n",
    "\n",
    "### ndarray index\n",
    "기본적으로 python list에서 index를 이용하여 접근하듯 다차원 배열의 각 원소들에 접근할 수 있습니다."
   ]
  },
  {
   "cell_type": "code",
   "execution_count": 2,
   "id": "b92396a3-3571-47a0-9b88-2ff22e724be2",
   "metadata": {},
   "outputs": [],
   "source": [
    "import numpy as np"
   ]
  },
  {
   "cell_type": "code",
   "execution_count": 3,
   "id": "83255084-b983-4622-bb77-61b30600d9bc",
   "metadata": {},
   "outputs": [
    {
     "data": {
      "text/plain": [
       "array([[[ 1,  2],\n",
       "        [ 3,  4]],\n",
       "\n",
       "       [[ 5,  6],\n",
       "        [ 7,  8]],\n",
       "\n",
       "       [[ 9, 10],\n",
       "        [11, 12]]])"
      ]
     },
     "execution_count": 3,
     "metadata": {},
     "output_type": "execute_result"
    }
   ],
   "source": [
    "a = np.arange(1, 13, 1).reshape([3, 2, 2])\n",
    "a"
   ]
  },
  {
   "cell_type": "code",
   "execution_count": 6,
   "id": "bf459d38-2bfd-401c-869f-fd77d4ca16a6",
   "metadata": {},
   "outputs": [
    {
     "data": {
      "text/plain": [
       "4"
      ]
     },
     "execution_count": 6,
     "metadata": {},
     "output_type": "execute_result"
    }
   ],
   "source": [
    "a[0][1][1]"
   ]
  },
  {
   "cell_type": "markdown",
   "id": "8b03614e-d107-4763-98d4-e7222e7ae8c9",
   "metadata": {},
   "source": [
    "인덱스로 접근해서 값을 업데이트 할 수도 있습니다."
   ]
  },
  {
   "cell_type": "code",
   "execution_count": 7,
   "id": "7dbc180b-3d8c-4ac6-b456-ce6af93ddd4a",
   "metadata": {},
   "outputs": [],
   "source": [
    "a[0][1][1] = 100"
   ]
  },
  {
   "cell_type": "code",
   "execution_count": 8,
   "id": "b51933dc-26af-42a0-84c5-c0660ed2efc3",
   "metadata": {},
   "outputs": [
    {
     "data": {
      "text/plain": [
       "array([[[  1,   2],\n",
       "        [  3, 100]],\n",
       "\n",
       "       [[  5,   6],\n",
       "        [  7,   8]],\n",
       "\n",
       "       [[  9,  10],\n",
       "        [ 11,  12]]])"
      ]
     },
     "execution_count": 8,
     "metadata": {},
     "output_type": "execute_result"
    }
   ],
   "source": [
    "a"
   ]
  },
  {
   "cell_type": "markdown",
   "id": "2a9519ba-f69b-402a-b762-cf5b33ea44fe",
   "metadata": {},
   "source": [
    "그리고 python과는 달리 인덱스 하나에 ,를 이어붙인 문법을 사용할 수 있습니다."
   ]
  },
  {
   "cell_type": "code",
   "execution_count": 9,
   "id": "721d358d-7aa7-4941-b825-149af06e4820",
   "metadata": {},
   "outputs": [
    {
     "data": {
      "text/plain": [
       "array([  3, 100])"
      ]
     },
     "execution_count": 9,
     "metadata": {},
     "output_type": "execute_result"
    }
   ],
   "source": [
    "a[0, 1]"
   ]
  },
  {
   "cell_type": "code",
   "execution_count": 10,
   "id": "d96bdce5-9a86-4132-bc9f-5a99729af392",
   "metadata": {},
   "outputs": [
    {
     "data": {
      "text/plain": [
       "100"
      ]
     },
     "execution_count": 10,
     "metadata": {},
     "output_type": "execute_result"
    }
   ],
   "source": [
    "a[0, 1, 1]"
   ]
  },
  {
   "cell_type": "code",
   "execution_count": 14,
   "id": "8ce782ea-472b-413d-b4b9-5afa253dc321",
   "metadata": {},
   "outputs": [
    {
     "data": {
      "text/plain": [
       "array([7, 8])"
      ]
     },
     "execution_count": 14,
     "metadata": {},
     "output_type": "execute_result"
    }
   ],
   "source": [
    "a[1, 1]"
   ]
  },
  {
   "cell_type": "markdown",
   "id": "b4156432-b7fe-4124-8b9d-95f05b4df9c8",
   "metadata": {},
   "source": [
    "### : 기호 사용해서 특정 축의 데이터 모두 선택하기\n",
    "ndarray index에 : 를 사용하면 해당 축의 모든 데이터를 선택하겠다는 의미입니다."
   ]
  },
  {
   "cell_type": "code",
   "execution_count": 25,
   "id": "1e58ef5f-3e26-4221-9811-9f6a9cb9bd02",
   "metadata": {},
   "outputs": [
    {
     "data": {
      "text/plain": [
       "array([[[ 1,  2],\n",
       "        [ 3,  4]],\n",
       "\n",
       "       [[ 5,  6],\n",
       "        [ 7,  8]],\n",
       "\n",
       "       [[ 9, 10],\n",
       "        [11, 12]]])"
      ]
     },
     "execution_count": 25,
     "metadata": {},
     "output_type": "execute_result"
    }
   ],
   "source": [
    "a = np.arange(1, 13, 1).reshape([3, 2, 2])\n",
    "a"
   ]
  },
  {
   "cell_type": "code",
   "execution_count": 32,
   "id": "07f369b1-2e6e-486a-a580-b1af6e96d395",
   "metadata": {},
   "outputs": [
    {
     "data": {
      "text/plain": [
       "6"
      ]
     },
     "execution_count": 32,
     "metadata": {},
     "output_type": "execute_result"
    }
   ],
   "source": [
    "# 6: 0, 1\n",
    "# 8: 1, 1\n",
    "a[1, 0, 1]"
   ]
  },
  {
   "cell_type": "code",
   "execution_count": 33,
   "id": "d0b7f979-42c5-4006-be24-289d5151755f",
   "metadata": {},
   "outputs": [
    {
     "data": {
      "text/plain": [
       "8"
      ]
     },
     "execution_count": 33,
     "metadata": {},
     "output_type": "execute_result"
    }
   ],
   "source": [
    "a[1, 1, 1]"
   ]
  },
  {
   "cell_type": "code",
   "execution_count": 34,
   "id": "34d33eac-5d58-4455-8e05-f18cc1ab5f61",
   "metadata": {},
   "outputs": [
    {
     "data": {
      "text/plain": [
       "array([6, 8])"
      ]
     },
     "execution_count": 34,
     "metadata": {},
     "output_type": "execute_result"
    }
   ],
   "source": [
    "a[1, :, 1]"
   ]
  },
  {
   "cell_type": "code",
   "execution_count": 17,
   "id": "8e49c051-13e5-4c0c-b7a8-e8d9c463de76",
   "metadata": {},
   "outputs": [
    {
     "data": {
      "text/plain": [
       "array([[ 3,  4],\n",
       "       [ 7,  8],\n",
       "       [11, 12]])"
      ]
     },
     "execution_count": 17,
     "metadata": {},
     "output_type": "execute_result"
    }
   ],
   "source": [
    "a[:, 1]"
   ]
  },
  {
   "cell_type": "code",
   "execution_count": 18,
   "id": "982f6e6d-15b1-4bad-ac9b-dd1bc4131bf6",
   "metadata": {},
   "outputs": [
    {
     "data": {
      "text/plain": [
       "array([ 4,  8, 12])"
      ]
     },
     "execution_count": 18,
     "metadata": {},
     "output_type": "execute_result"
    }
   ],
   "source": [
    "a[:, 1, 1]"
   ]
  },
  {
   "cell_type": "code",
   "execution_count": 21,
   "id": "955b76ee-6231-4751-beb6-481d6d455ff3",
   "metadata": {},
   "outputs": [
    {
     "data": {
      "text/plain": [
       "array([[5, 6],\n",
       "       [7, 8]])"
      ]
     },
     "execution_count": 21,
     "metadata": {},
     "output_type": "execute_result"
    }
   ],
   "source": [
    "a[1]"
   ]
  },
  {
   "cell_type": "code",
   "execution_count": 20,
   "id": "e91fa95c-9d2c-4d13-9342-11f15434e762",
   "metadata": {},
   "outputs": [
    {
     "data": {
      "text/plain": [
       "array([5, 7])"
      ]
     },
     "execution_count": 20,
     "metadata": {},
     "output_type": "execute_result"
    }
   ],
   "source": [
    "a[1, :, 0]"
   ]
  },
  {
   "cell_type": "code",
   "execution_count": 22,
   "id": "081c86bc-328f-4da3-80cb-025bb8c80f66",
   "metadata": {},
   "outputs": [
    {
     "data": {
      "text/plain": [
       "array([[[ 1,  2],\n",
       "        [ 3,  4]],\n",
       "\n",
       "       [[ 5,  6],\n",
       "        [ 7,  8]],\n",
       "\n",
       "       [[ 9, 10],\n",
       "        [11, 12]]])"
      ]
     },
     "execution_count": 22,
     "metadata": {},
     "output_type": "execute_result"
    }
   ],
   "source": [
    "a"
   ]
  },
  {
   "cell_type": "markdown",
   "id": "51972832-88f1-4957-a771-e48cb5bbb1bd",
   "metadata": {},
   "source": [
    "### 연습문제\n",
    "\n",
    "인덱스와 슬라이스를 이용해서 아래 출력을 구해보세요."
   ]
  },
  {
   "cell_type": "code",
   "execution_count": 37,
   "id": "b28ea4a1-a8ae-4bef-b0d9-688608d66475",
   "metadata": {},
   "outputs": [
    {
     "data": {
      "text/plain": [
       "array([[[ 1,  2,  3],\n",
       "        [ 4,  5,  6],\n",
       "        [ 7,  8,  9]],\n",
       "\n",
       "       [[10, 11, 12],\n",
       "        [13, 14, 15],\n",
       "        [16, 17, 18]],\n",
       "\n",
       "       [[19, 20, 21],\n",
       "        [22, 23, 24],\n",
       "        [25, 26, 27]]])"
      ]
     },
     "execution_count": 37,
     "metadata": {},
     "output_type": "execute_result"
    }
   ],
   "source": [
    "b = np.arange(1, 28, 1).reshape([3, 3, 3])\n",
    "b"
   ]
  },
  {
   "cell_type": "code",
   "execution_count": 53,
   "id": "a5d7892a-cd80-40e5-bd15-1ccc804fbe23",
   "metadata": {},
   "outputs": [
    {
     "data": {
      "text/plain": [
       "array([ 1, 10, 19])"
      ]
     },
     "execution_count": 53,
     "metadata": {},
     "output_type": "execute_result"
    }
   ],
   "source": [
    "b[:, 0, 0]"
   ]
  },
  {
   "cell_type": "code",
   "execution_count": 54,
   "id": "84f536e3-15b1-4131-921c-9a614c1200d1",
   "metadata": {},
   "outputs": [
    {
     "data": {
      "text/plain": [
       "array([2, 5, 8])"
      ]
     },
     "execution_count": 54,
     "metadata": {},
     "output_type": "execute_result"
    }
   ],
   "source": [
    "b[0, :, 1]"
   ]
  },
  {
   "cell_type": "code",
   "execution_count": 60,
   "id": "aa203791-8409-4261-b54b-789347ef699f",
   "metadata": {},
   "outputs": [
    {
     "data": {
      "text/plain": [
       "array([[1, 2, 3],\n",
       "       [4, 5, 6],\n",
       "       [7, 8, 9]])"
      ]
     },
     "execution_count": 60,
     "metadata": {},
     "output_type": "execute_result"
    }
   ],
   "source": [
    "b[0]"
   ]
  },
  {
   "cell_type": "code",
   "execution_count": 61,
   "id": "abfa5e78-d7db-4a7e-853a-dadb9680b71c",
   "metadata": {},
   "outputs": [
    {
     "data": {
      "text/plain": [
       "array([[1, 2, 3],\n",
       "       [4, 5, 6],\n",
       "       [7, 8, 9]])"
      ]
     },
     "execution_count": 61,
     "metadata": {},
     "output_type": "execute_result"
    }
   ],
   "source": [
    "b[0, :, :]"
   ]
  },
  {
   "cell_type": "code",
   "execution_count": 59,
   "id": "028cf685-4278-4778-8326-07309196c0bc",
   "metadata": {},
   "outputs": [
    {
     "data": {
      "text/plain": [
       "array([[ 4,  5,  6],\n",
       "       [13, 14, 15],\n",
       "       [22, 23, 24]])"
      ]
     },
     "execution_count": 59,
     "metadata": {},
     "output_type": "execute_result"
    }
   ],
   "source": [
    "b[:, 1, :]"
   ]
  },
  {
   "cell_type": "code",
   "execution_count": 56,
   "id": "3ebeb985-facd-4a51-9b9a-0908b4260312",
   "metadata": {},
   "outputs": [
    {
     "data": {
      "text/plain": [
       "array([[ 3,  6,  9],\n",
       "       [12, 15, 18],\n",
       "       [21, 24, 27]])"
      ]
     },
     "execution_count": 56,
     "metadata": {},
     "output_type": "execute_result"
    }
   ],
   "source": [
    "b[:, :, 2]"
   ]
  }
 ],
 "metadata": {
  "kernelspec": {
   "display_name": "Python 3 (ipykernel)",
   "language": "python",
   "name": "python3"
  },
  "language_info": {
   "codemirror_mode": {
    "name": "ipython",
    "version": 3
   },
   "file_extension": ".py",
   "mimetype": "text/x-python",
   "name": "python",
   "nbconvert_exporter": "python",
   "pygments_lexer": "ipython3",
   "version": "3.10.8"
  }
 },
 "nbformat": 4,
 "nbformat_minor": 5
}
